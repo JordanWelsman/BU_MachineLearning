{
 "cells": [
  {
   "cell_type": "markdown",
   "id": "b9b9ebcc",
   "metadata": {},
   "source": [
    "# Abstract\n",
    "# Introduction\n",
    "# Data Analysis\n",
    "## Missing Values\n",
    "## Duplicates\n",
    "## Dataset Discussion\n",
    "### Mean\n",
    "### Standard Error\n",
    "### Worst\n",
    "# Method\n",
    "## Data Processing\n",
    "## Classification Algorithms\n",
    "## Configuration & Tuning\n",
    "## Validation Method\n",
    "## Evaluation Metrics\n",
    "# Results & Discussion\n",
    "## Training times\n",
    "## Initial Insights\n",
    "## Future Work\n",
    "# Conclusion"
   ]
  },
  {
   "cell_type": "markdown",
   "id": "bf43e912",
   "metadata": {},
   "source": [
    "- Do not put code in report\n",
    "- Include class balance & missing value imputation methods\n",
    "- Number sections\n",
    "- Check cross-reference errors\n",
    "- Visualise class balance\n",
    "- Keep figures in relevant locations on report\n",
    "- State facts even whwn no action is needed\n",
    "- Describe shape and stats of detaset to reader\n",
    "- Use graphs and charts as well as tables\n",
    "- Put extensive information in appendix\n",
    "- Think about information flow and accompyaning visualisations\n",
    "- Primary & secondary objectives (Evaluate and select optimal feature selection method)\n",
    "- Think about using SMART objective\n",
    "- Think about other contexts for studies\n",
    "- Specify thresholds for success\n"
   ]
  },
  {
   "cell_type": "code",
   "execution_count": null,
   "id": "38d021a2",
   "metadata": {},
   "outputs": [],
   "source": []
  }
 ],
 "metadata": {
  "kernelspec": {
   "display_name": "Python 3 (ipykernel)",
   "language": "python",
   "name": "python3"
  },
  "language_info": {
   "codemirror_mode": {
    "name": "ipython",
    "version": 3
   },
   "file_extension": ".py",
   "mimetype": "text/x-python",
   "name": "python",
   "nbconvert_exporter": "python",
   "pygments_lexer": "ipython3",
   "version": "3.9.1"
  },
  "toc": {
   "base_numbering": 1,
   "nav_menu": {},
   "number_sections": true,
   "sideBar": true,
   "skip_h1_title": false,
   "title_cell": "Table of Contents",
   "title_sidebar": "Contents",
   "toc_cell": false,
   "toc_position": {},
   "toc_section_display": true,
   "toc_window_display": false
  }
 },
 "nbformat": 4,
 "nbformat_minor": 5
}
