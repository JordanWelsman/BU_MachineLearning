{
 "cells": [
  {
   "cell_type": "markdown",
   "id": "c5bfaeda",
   "metadata": {},
   "source": [
    "# Go hard or go home"
   ]
  },
  {
   "cell_type": "markdown",
   "id": "4712aa25",
   "metadata": {},
   "source": [
    "## Imports"
   ]
  },
  {
   "cell_type": "markdown",
   "id": "97f2f4c8",
   "metadata": {},
   "source": [
    "- Load\n",
    "- Drop duplicate rows\n",
    "- Convert 0 to NaN\n",
    "- Create 2 datasets\n",
    "- Drop rows\n",
    "- Drop columns\n",
    "- Split feature/class\n",
    "- Impute NaN\n",
    "- Rebuild datasets\n",
    "- Classify"
   ]
  },
  {
   "cell_type": "code",
   "execution_count": 1,
   "id": "ce7eb504",
   "metadata": {},
   "outputs": [],
   "source": [
    "# Module imports\n",
    "import numpy as np\n",
    "import pandas as pd\n",
    "import sklearn as sk\n",
    "import matplotlib as plt\n",
    "import seaborn as sns\n",
    "from time import time\n",
    "\n",
    "# Dataset imports\n",
    "from sklearn.model_selection import train_test_split\n",
    "\n",
    "# Imputation imports\n",
    "from sklearn.impute import KNNImputer\n",
    "\n",
    "# Classifier & Algorithm imports\n",
    "from sklearn.tree import DecisionTreeClassifier\n",
    "from sklearn.ensemble import RandomForestClassifier\n",
    "from sklearn.neighbors import KNeighborsClassifier\n",
    "from sklearn.neural_network import MLPClassifier\n",
    "\n",
    "from sklearn import tree\n",
    "from sklearn.model_selection import GridSearchCV\n",
    "from sklearn.metrics import fbeta_score, make_scorer\n",
    "from sklearn.metrics import accuracy_score\n",
    "from sklearn.metrics import precision_score\n",
    "from sklearn.metrics import recall_score\n",
    "from sklearn.metrics import f1_score\n",
    "\n",
    "# Validation imports\n",
    "from sklearn.model_selection import cross_validate\n",
    "from sklearn.model_selection import StratifiedKFold\n",
    "\n",
    "# Visualisation imports\n",
    "import graphviz\n",
    "from sklearn.metrics import ConfusionMatrixDisplay"
   ]
  },
  {
   "cell_type": "markdown",
   "id": "a9b74988",
   "metadata": {},
   "source": [
    "## Dataframes"
   ]
  },
  {
   "cell_type": "code",
   "execution_count": 2,
   "id": "14aa794f",
   "metadata": {},
   "outputs": [
    {
     "data": {
      "text/html": [
       "<div>\n",
       "<style scoped>\n",
       "    .dataframe tbody tr th:only-of-type {\n",
       "        vertical-align: middle;\n",
       "    }\n",
       "\n",
       "    .dataframe tbody tr th {\n",
       "        vertical-align: top;\n",
       "    }\n",
       "\n",
       "    .dataframe thead th {\n",
       "        text-align: right;\n",
       "    }\n",
       "</style>\n",
       "<table border=\"1\" class=\"dataframe\">\n",
       "  <thead>\n",
       "    <tr style=\"text-align: right;\">\n",
       "      <th></th>\n",
       "      <th>Age</th>\n",
       "      <th>Gender</th>\n",
       "      <th>Chest pain type</th>\n",
       "      <th>Resting blood pressure</th>\n",
       "      <th>Serum cholesterol</th>\n",
       "      <th>Fasting blood sugar</th>\n",
       "      <th>Resting electrocardiographic</th>\n",
       "      <th>Maximum heart rate</th>\n",
       "      <th>Exercise induced angina</th>\n",
       "      <th>ST depression</th>\n",
       "      <th>ST segment</th>\n",
       "      <th>Number of major vessels</th>\n",
       "      <th>Thal</th>\n",
       "      <th>class</th>\n",
       "    </tr>\n",
       "  </thead>\n",
       "  <tbody>\n",
       "    <tr>\n",
       "      <th>0</th>\n",
       "      <td>63.0</td>\n",
       "      <td>1.0</td>\n",
       "      <td>4.0</td>\n",
       "      <td>140.0</td>\n",
       "      <td>260.0</td>\n",
       "      <td>0.0</td>\n",
       "      <td>1.0</td>\n",
       "      <td>112.0</td>\n",
       "      <td>1.0</td>\n",
       "      <td>3.0</td>\n",
       "      <td>2.0</td>\n",
       "      <td>NaN</td>\n",
       "      <td>NaN</td>\n",
       "      <td>2</td>\n",
       "    </tr>\n",
       "    <tr>\n",
       "      <th>1</th>\n",
       "      <td>44.0</td>\n",
       "      <td>1.0</td>\n",
       "      <td>4.0</td>\n",
       "      <td>130.0</td>\n",
       "      <td>209.0</td>\n",
       "      <td>0.0</td>\n",
       "      <td>1.0</td>\n",
       "      <td>127.0</td>\n",
       "      <td>0.0</td>\n",
       "      <td>0.0</td>\n",
       "      <td>NaN</td>\n",
       "      <td>NaN</td>\n",
       "      <td>NaN</td>\n",
       "      <td>0</td>\n",
       "    </tr>\n",
       "    <tr>\n",
       "      <th>2</th>\n",
       "      <td>60.0</td>\n",
       "      <td>1.0</td>\n",
       "      <td>4.0</td>\n",
       "      <td>132.0</td>\n",
       "      <td>218.0</td>\n",
       "      <td>0.0</td>\n",
       "      <td>1.0</td>\n",
       "      <td>140.0</td>\n",
       "      <td>1.0</td>\n",
       "      <td>1.5</td>\n",
       "      <td>3.0</td>\n",
       "      <td>NaN</td>\n",
       "      <td>NaN</td>\n",
       "      <td>2</td>\n",
       "    </tr>\n",
       "    <tr>\n",
       "      <th>3</th>\n",
       "      <td>55.0</td>\n",
       "      <td>1.0</td>\n",
       "      <td>4.0</td>\n",
       "      <td>142.0</td>\n",
       "      <td>228.0</td>\n",
       "      <td>0.0</td>\n",
       "      <td>1.0</td>\n",
       "      <td>149.0</td>\n",
       "      <td>1.0</td>\n",
       "      <td>2.5</td>\n",
       "      <td>1.0</td>\n",
       "      <td>NaN</td>\n",
       "      <td>NaN</td>\n",
       "      <td>1</td>\n",
       "    </tr>\n",
       "    <tr>\n",
       "      <th>4</th>\n",
       "      <td>66.0</td>\n",
       "      <td>1.0</td>\n",
       "      <td>3.0</td>\n",
       "      <td>110.0</td>\n",
       "      <td>213.0</td>\n",
       "      <td>1.0</td>\n",
       "      <td>2.0</td>\n",
       "      <td>99.0</td>\n",
       "      <td>1.0</td>\n",
       "      <td>1.3</td>\n",
       "      <td>2.0</td>\n",
       "      <td>NaN</td>\n",
       "      <td>NaN</td>\n",
       "      <td>0</td>\n",
       "    </tr>\n",
       "  </tbody>\n",
       "</table>\n",
       "</div>"
      ],
      "text/plain": [
       "    Age  Gender  Chest pain type  Resting blood pressure  Serum cholesterol  \\\n",
       "0  63.0     1.0              4.0                   140.0              260.0   \n",
       "1  44.0     1.0              4.0                   130.0              209.0   \n",
       "2  60.0     1.0              4.0                   132.0              218.0   \n",
       "3  55.0     1.0              4.0                   142.0              228.0   \n",
       "4  66.0     1.0              3.0                   110.0              213.0   \n",
       "\n",
       "   Fasting blood sugar  Resting electrocardiographic  Maximum heart rate  \\\n",
       "0                  0.0                           1.0               112.0   \n",
       "1                  0.0                           1.0               127.0   \n",
       "2                  0.0                           1.0               140.0   \n",
       "3                  0.0                           1.0               149.0   \n",
       "4                  1.0                           2.0                99.0   \n",
       "\n",
       "   Exercise induced angina  ST depression  ST segment  \\\n",
       "0                      1.0            3.0         2.0   \n",
       "1                      0.0            0.0         NaN   \n",
       "2                      1.0            1.5         3.0   \n",
       "3                      1.0            2.5         1.0   \n",
       "4                      1.0            1.3         2.0   \n",
       "\n",
       "   Number of major vessels  Thal  class  \n",
       "0                      NaN   NaN      2  \n",
       "1                      NaN   NaN      0  \n",
       "2                      NaN   NaN      2  \n",
       "3                      NaN   NaN      1  \n",
       "4                      NaN   NaN      0  "
      ]
     },
     "execution_count": 2,
     "metadata": {},
     "output_type": "execute_result"
    }
   ],
   "source": [
    "# Full Dataset\n",
    "dataset_full = pd.read_csv('dataset/heart-disease.csv')\n",
    "dataset_full.head()"
   ]
  },
  {
   "cell_type": "code",
   "execution_count": 3,
   "id": "51ae5af4",
   "metadata": {},
   "outputs": [
    {
     "data": {
      "text/html": [
       "<div>\n",
       "<style scoped>\n",
       "    .dataframe tbody tr th:only-of-type {\n",
       "        vertical-align: middle;\n",
       "    }\n",
       "\n",
       "    .dataframe tbody tr th {\n",
       "        vertical-align: top;\n",
       "    }\n",
       "\n",
       "    .dataframe thead th {\n",
       "        text-align: right;\n",
       "    }\n",
       "</style>\n",
       "<table border=\"1\" class=\"dataframe\">\n",
       "  <thead>\n",
       "    <tr style=\"text-align: right;\">\n",
       "      <th></th>\n",
       "      <th>Age</th>\n",
       "      <th>Gender</th>\n",
       "      <th>Chest pain type</th>\n",
       "      <th>Resting blood pressure</th>\n",
       "      <th>Serum cholesterol</th>\n",
       "      <th>Fasting blood sugar</th>\n",
       "      <th>Resting electrocardiographic</th>\n",
       "      <th>Maximum heart rate</th>\n",
       "      <th>Exercise induced angina</th>\n",
       "      <th>ST depression</th>\n",
       "      <th>ST segment</th>\n",
       "      <th>Number of major vessels</th>\n",
       "      <th>Thal</th>\n",
       "      <th>class</th>\n",
       "    </tr>\n",
       "  </thead>\n",
       "  <tbody>\n",
       "    <tr>\n",
       "      <th>0</th>\n",
       "      <td>63.0</td>\n",
       "      <td>1.0</td>\n",
       "      <td>4.0</td>\n",
       "      <td>140.0</td>\n",
       "      <td>260.0</td>\n",
       "      <td>0.0</td>\n",
       "      <td>1.0</td>\n",
       "      <td>112.0</td>\n",
       "      <td>1.0</td>\n",
       "      <td>3.0</td>\n",
       "      <td>2.0</td>\n",
       "      <td>NaN</td>\n",
       "      <td>NaN</td>\n",
       "      <td>2</td>\n",
       "    </tr>\n",
       "    <tr>\n",
       "      <th>1</th>\n",
       "      <td>44.0</td>\n",
       "      <td>1.0</td>\n",
       "      <td>4.0</td>\n",
       "      <td>130.0</td>\n",
       "      <td>209.0</td>\n",
       "      <td>0.0</td>\n",
       "      <td>1.0</td>\n",
       "      <td>127.0</td>\n",
       "      <td>0.0</td>\n",
       "      <td>0.0</td>\n",
       "      <td>NaN</td>\n",
       "      <td>NaN</td>\n",
       "      <td>NaN</td>\n",
       "      <td>0</td>\n",
       "    </tr>\n",
       "    <tr>\n",
       "      <th>2</th>\n",
       "      <td>60.0</td>\n",
       "      <td>1.0</td>\n",
       "      <td>4.0</td>\n",
       "      <td>132.0</td>\n",
       "      <td>218.0</td>\n",
       "      <td>0.0</td>\n",
       "      <td>1.0</td>\n",
       "      <td>140.0</td>\n",
       "      <td>1.0</td>\n",
       "      <td>1.5</td>\n",
       "      <td>3.0</td>\n",
       "      <td>NaN</td>\n",
       "      <td>NaN</td>\n",
       "      <td>2</td>\n",
       "    </tr>\n",
       "    <tr>\n",
       "      <th>3</th>\n",
       "      <td>55.0</td>\n",
       "      <td>1.0</td>\n",
       "      <td>4.0</td>\n",
       "      <td>142.0</td>\n",
       "      <td>228.0</td>\n",
       "      <td>0.0</td>\n",
       "      <td>1.0</td>\n",
       "      <td>149.0</td>\n",
       "      <td>1.0</td>\n",
       "      <td>2.5</td>\n",
       "      <td>1.0</td>\n",
       "      <td>NaN</td>\n",
       "      <td>NaN</td>\n",
       "      <td>1</td>\n",
       "    </tr>\n",
       "    <tr>\n",
       "      <th>4</th>\n",
       "      <td>66.0</td>\n",
       "      <td>1.0</td>\n",
       "      <td>3.0</td>\n",
       "      <td>110.0</td>\n",
       "      <td>213.0</td>\n",
       "      <td>1.0</td>\n",
       "      <td>2.0</td>\n",
       "      <td>99.0</td>\n",
       "      <td>1.0</td>\n",
       "      <td>1.3</td>\n",
       "      <td>2.0</td>\n",
       "      <td>NaN</td>\n",
       "      <td>NaN</td>\n",
       "      <td>0</td>\n",
       "    </tr>\n",
       "  </tbody>\n",
       "</table>\n",
       "</div>"
      ],
      "text/plain": [
       "    Age  Gender  Chest pain type  Resting blood pressure  Serum cholesterol  \\\n",
       "0  63.0     1.0              4.0                   140.0              260.0   \n",
       "1  44.0     1.0              4.0                   130.0              209.0   \n",
       "2  60.0     1.0              4.0                   132.0              218.0   \n",
       "3  55.0     1.0              4.0                   142.0              228.0   \n",
       "4  66.0     1.0              3.0                   110.0              213.0   \n",
       "\n",
       "   Fasting blood sugar  Resting electrocardiographic  Maximum heart rate  \\\n",
       "0                  0.0                           1.0               112.0   \n",
       "1                  0.0                           1.0               127.0   \n",
       "2                  0.0                           1.0               140.0   \n",
       "3                  0.0                           1.0               149.0   \n",
       "4                  1.0                           2.0                99.0   \n",
       "\n",
       "   Exercise induced angina  ST depression  ST segment  \\\n",
       "0                      1.0            3.0         2.0   \n",
       "1                      0.0            0.0         NaN   \n",
       "2                      1.0            1.5         3.0   \n",
       "3                      1.0            2.5         1.0   \n",
       "4                      1.0            1.3         2.0   \n",
       "\n",
       "   Number of major vessels  Thal  class  \n",
       "0                      NaN   NaN      2  \n",
       "1                      NaN   NaN      0  \n",
       "2                      NaN   NaN      2  \n",
       "3                      NaN   NaN      1  \n",
       "4                      NaN   NaN      0  "
      ]
     },
     "execution_count": 3,
     "metadata": {},
     "output_type": "execute_result"
    }
   ],
   "source": [
    "# Edited Dataset\n",
    "dataset_edited = pd.read_csv('dataset/heart-disease.csv')\n",
    "# dataset_edited = dataset_edited.drop(['Thal', 'Number of major vessels'], axis=1) # DROP LATER\n",
    "dataset_edited.head()"
   ]
  },
  {
   "cell_type": "markdown",
   "id": "25dd8475",
   "metadata": {},
   "source": [
    "## Duplicate deletion"
   ]
  },
  {
   "cell_type": "code",
   "execution_count": 4,
   "id": "540ca27f",
   "metadata": {},
   "outputs": [
    {
     "name": "stdout",
     "output_type": "stream",
     "text": [
      "Number of rows before dropping duplicates: 920\n",
      "Number of rows after dropping duplicates: 918\n",
      "Number of rows before dropping duplicates: 920\n",
      "Number of rows after dropping duplicates: 918\n"
     ]
    }
   ],
   "source": [
    "# Removing duplicate rows\n",
    "print(\"Number of rows before dropping duplicates:\", dataset_full.shape[0])\n",
    "dataset_full.drop_duplicates(subset=None, keep='first', inplace=True)\n",
    "print(\"Number of rows after dropping duplicates:\", dataset_full.shape[0])\n",
    "\n",
    "print(\"Number of rows before dropping duplicates:\", dataset_edited.shape[0])\n",
    "dataset_edited.drop_duplicates(subset=None, keep='first', inplace=True)\n",
    "print(\"Number of rows after dropping duplicates:\", dataset_edited.shape[0])"
   ]
  },
  {
   "cell_type": "markdown",
   "id": "08b2bbdb",
   "metadata": {},
   "source": [
    "## Zero handling"
   ]
  },
  {
   "cell_type": "code",
   "execution_count": 5,
   "id": "4f78f3b2",
   "metadata": {},
   "outputs": [
    {
     "name": "stdout",
     "output_type": "stream",
     "text": [
      "Null values before zero purge:\n",
      " False    889\n",
      "True      29\n",
      "Name: Serum cholesterol, dtype: int64\n",
      "\n",
      "Null values after zero purge:\n",
      " False    717\n",
      "True     201\n",
      "Name: Serum cholesterol, dtype: int64\n"
     ]
    }
   ],
   "source": [
    "# Removing zero values from cholesterol\n",
    "print(\"Null values before zero purge:\\n\", dataset_full['Serum cholesterol'].isnull().value_counts())\n",
    "\n",
    "# Removing zero values and replacing with null for later imputation\n",
    "dataset_full['Serum cholesterol'] = dataset_full['Serum cholesterol'].replace(0, np.nan)\n",
    "dataset_edited['Serum cholesterol'] = dataset_edited['Serum cholesterol'].replace(0, np.nan)\n",
    "\n",
    "print(\"\\nNull values after zero purge:\\n\", dataset_full['Serum cholesterol'].isnull().value_counts())"
   ]
  },
  {
   "cell_type": "code",
   "execution_count": 6,
   "id": "5875d6e7",
   "metadata": {},
   "outputs": [
    {
     "name": "stdout",
     "output_type": "stream",
     "text": [
      "Precentage of dataset consisting of rows with X missing values:\n",
      "0    32.570806\n",
      "3    25.163399\n",
      "2    23.093682\n",
      "4     9.803922\n",
      "7     4.684096\n",
      "1     2.832244\n",
      "8     1.198257\n",
      "5     0.435730\n",
      "6     0.217865\n",
      "Name: Missing count, dtype: float64\n"
     ]
    },
    {
     "data": {
      "image/png": "[encoded data removed]",
      "text/plain": [
       "<Figure size 864x576 with 1 Axes>"
      ]
     },
     "metadata": {
      "needs_background": "light"
     },
     "output_type": "display_data"
    }
   ],
   "source": [
    "# Cool table\n",
    "dataset_full_missing = dataset_full\n",
    "dataset_full_missing['Missing count'] = dataset_full_missing.isnull().sum(axis=1)\n",
    "chart = dataset_full_missing['Missing count'].value_counts().plot(kind='bar', title='Quantity of rows with X number of missing values', figsize=(12, 8), rot=0)\n",
    "chart.set_xlabel(\"Quantity of rows\")\n",
    "chart.set_ylabel(\"Quantity of missing values (X)\")\n",
    "\n",
    "print(\"Precentage of dataset consisting of rows with X missing values:\")\n",
    "print(dataset_full_missing['Missing count'].value_counts(normalize=True) * 100)"
   ]
  },
  {
   "cell_type": "code",
   "execution_count": 7,
   "id": "0cd5d029",
   "metadata": {},
   "outputs": [
    {
     "name": "stdout",
     "output_type": "stream",
     "text": [
      "Full: 14\n",
      "Edited: 14\n"
     ]
    },
    {
     "data": {
      "text/html": [
       "<div>\n",
       "<style scoped>\n",
       "    .dataframe tbody tr th:only-of-type {\n",
       "        vertical-align: middle;\n",
       "    }\n",
       "\n",
       "    .dataframe tbody tr th {\n",
       "        vertical-align: top;\n",
       "    }\n",
       "\n",
       "    .dataframe thead th {\n",
       "        text-align: right;\n",
       "    }\n",
       "</style>\n",
       "<table border=\"1\" class=\"dataframe\">\n",
       "  <thead>\n",
       "    <tr style=\"text-align: right;\">\n",
       "      <th></th>\n",
       "      <th>Age</th>\n",
       "      <th>Gender</th>\n",
       "      <th>Chest pain type</th>\n",
       "      <th>Resting blood pressure</th>\n",
       "      <th>Serum cholesterol</th>\n",
       "      <th>Fasting blood sugar</th>\n",
       "      <th>Resting electrocardiographic</th>\n",
       "      <th>Maximum heart rate</th>\n",
       "      <th>Exercise induced angina</th>\n",
       "      <th>ST depression</th>\n",
       "      <th>ST segment</th>\n",
       "      <th>Number of major vessels</th>\n",
       "      <th>Thal</th>\n",
       "      <th>class</th>\n",
       "    </tr>\n",
       "  </thead>\n",
       "  <tbody>\n",
       "    <tr>\n",
       "      <th>0</th>\n",
       "      <td>63.0</td>\n",
       "      <td>1.0</td>\n",
       "      <td>4.0</td>\n",
       "      <td>140.0</td>\n",
       "      <td>260.0</td>\n",
       "      <td>0.0</td>\n",
       "      <td>1.0</td>\n",
       "      <td>112.0</td>\n",
       "      <td>1.0</td>\n",
       "      <td>3.0</td>\n",
       "      <td>2.0</td>\n",
       "      <td>NaN</td>\n",
       "      <td>NaN</td>\n",
       "      <td>2</td>\n",
       "    </tr>\n",
       "    <tr>\n",
       "      <th>1</th>\n",
       "      <td>44.0</td>\n",
       "      <td>1.0</td>\n",
       "      <td>4.0</td>\n",
       "      <td>130.0</td>\n",
       "      <td>209.0</td>\n",
       "      <td>0.0</td>\n",
       "      <td>1.0</td>\n",
       "      <td>127.0</td>\n",
       "      <td>0.0</td>\n",
       "      <td>0.0</td>\n",
       "      <td>NaN</td>\n",
       "      <td>NaN</td>\n",
       "      <td>NaN</td>\n",
       "      <td>0</td>\n",
       "    </tr>\n",
       "    <tr>\n",
       "      <th>2</th>\n",
       "      <td>60.0</td>\n",
       "      <td>1.0</td>\n",
       "      <td>4.0</td>\n",
       "      <td>132.0</td>\n",
       "      <td>218.0</td>\n",
       "      <td>0.0</td>\n",
       "      <td>1.0</td>\n",
       "      <td>140.0</td>\n",
       "      <td>1.0</td>\n",
       "      <td>1.5</td>\n",
       "      <td>3.0</td>\n",
       "      <td>NaN</td>\n",
       "      <td>NaN</td>\n",
       "      <td>2</td>\n",
       "    </tr>\n",
       "    <tr>\n",
       "      <th>3</th>\n",
       "      <td>55.0</td>\n",
       "      <td>1.0</td>\n",
       "      <td>4.0</td>\n",
       "      <td>142.0</td>\n",
       "      <td>228.0</td>\n",
       "      <td>0.0</td>\n",
       "      <td>1.0</td>\n",
       "      <td>149.0</td>\n",
       "      <td>1.0</td>\n",
       "      <td>2.5</td>\n",
       "      <td>1.0</td>\n",
       "      <td>NaN</td>\n",
       "      <td>NaN</td>\n",
       "      <td>1</td>\n",
       "    </tr>\n",
       "    <tr>\n",
       "      <th>4</th>\n",
       "      <td>66.0</td>\n",
       "      <td>1.0</td>\n",
       "      <td>3.0</td>\n",
       "      <td>110.0</td>\n",
       "      <td>213.0</td>\n",
       "      <td>1.0</td>\n",
       "      <td>2.0</td>\n",
       "      <td>99.0</td>\n",
       "      <td>1.0</td>\n",
       "      <td>1.3</td>\n",
       "      <td>2.0</td>\n",
       "      <td>NaN</td>\n",
       "      <td>NaN</td>\n",
       "      <td>0</td>\n",
       "    </tr>\n",
       "  </tbody>\n",
       "</table>\n",
       "</div>"
      ],
      "text/plain": [
       "    Age  Gender  Chest pain type  Resting blood pressure  Serum cholesterol  \\\n",
       "0  63.0     1.0              4.0                   140.0              260.0   \n",
       "1  44.0     1.0              4.0                   130.0              209.0   \n",
       "2  60.0     1.0              4.0                   132.0              218.0   \n",
       "3  55.0     1.0              4.0                   142.0              228.0   \n",
       "4  66.0     1.0              3.0                   110.0              213.0   \n",
       "\n",
       "   Fasting blood sugar  Resting electrocardiographic  Maximum heart rate  \\\n",
       "0                  0.0                           1.0               112.0   \n",
       "1                  0.0                           1.0               127.0   \n",
       "2                  0.0                           1.0               140.0   \n",
       "3                  0.0                           1.0               149.0   \n",
       "4                  1.0                           2.0                99.0   \n",
       "\n",
       "   Exercise induced angina  ST depression  ST segment  \\\n",
       "0                      1.0            3.0         2.0   \n",
       "1                      0.0            0.0         NaN   \n",
       "2                      1.0            1.5         3.0   \n",
       "3                      1.0            2.5         1.0   \n",
       "4                      1.0            1.3         2.0   \n",
       "\n",
       "   Number of major vessels  Thal  class  \n",
       "0                      NaN   NaN      2  \n",
       "1                      NaN   NaN      0  \n",
       "2                      NaN   NaN      2  \n",
       "3                      NaN   NaN      1  \n",
       "4                      NaN   NaN      0  "
      ]
     },
     "execution_count": 7,
     "metadata": {},
     "output_type": "execute_result"
    }
   ],
   "source": [
    "dataset_full = dataset_full.drop(columns=['Missing count'])\n",
    "print(\"Full:\", dataset_full.shape[1])\n",
    "print(\"Edited:\", dataset_edited.shape[1])\n",
    "dataset_full.head()"
   ]
  },
  {
   "cell_type": "code",
   "execution_count": 8,
   "id": "d75d787d",
   "metadata": {},
   "outputs": [
    {
     "name": "stdout",
     "output_type": "stream",
     "text": [
      "Rows before drop - full:  918\n",
      "Rows before drop - edited:  918\n",
      "Rows after drop - full:  858\n",
      "Rows after drop - edited:  858\n",
      "Percentage reduction in size:  6.535947712418306 %\n",
      "Full: 14\n",
      "Edit: 14\n"
     ]
    },
    {
     "data": {
      "image/png": "[encoded data removed]",
      "text/plain": [
       "<Figure size 864x576 with 1 Axes>"
      ]
     },
     "metadata": {
      "needs_background": "light"
     },
     "output_type": "display_data"
    }
   ],
   "source": [
    "# Deleting rows with 5 or more missing values\n",
    "df = dataset_full.shape[0]\n",
    "de = dataset_edited.shape[0]\n",
    "print(\"Rows before drop - full: \", df)\n",
    "print(\"Rows before drop - edited: \", de)\n",
    "\n",
    "dataset_full_dropped = dataset_full[dataset_full.isnull().sum(axis=1) < 5]\n",
    "dataset_edited_dropped = dataset_edited[dataset_edited.isnull().sum(axis=1) < 5]\n",
    "\n",
    "dfd = dataset_full_dropped.shape[0]\n",
    "dfe = dataset_edited_dropped.shape[0]\n",
    "print(\"Rows after drop - full: \", dfd)\n",
    "print(\"Rows after drop - edited: \", dfe)\n",
    "\n",
    "print(\"Percentage reduction in size: \", 100 - (dfd / df) * 100, \"%\")\n",
    "print(\"Full:\", dataset_full_dropped.shape[1])\n",
    "print(\"Edit:\", dataset_edited_dropped.shape[1])\n",
    "\n",
    "# Cool table\n",
    "dataset_full_missing = dataset_full_dropped.copy()\n",
    "dataset_full_missing['Missing count'] = dataset_full_missing.isnull().sum(axis=1)\n",
    "chart = dataset_full_missing['Missing count'].value_counts().plot(kind='bar', title='Quantity of rows with X number of missing values', figsize=(12, 8), rot=0)\n",
    "chart.set_xlabel(\"Quantity of rows\")\n",
    "chart.set_ylabel(\"Quantity of missing values (X)\")\n",
    "\n",
    "dataset_full = dataset_full_dropped\n",
    "# THEN DROPPING COLUMNS\n",
    "dataset_edited = dataset_edited_dropped.drop(['Thal', 'Number of major vessels'], axis=1)"
   ]
  },
  {
   "cell_type": "code",
   "execution_count": 9,
   "id": "93120f54",
   "metadata": {},
   "outputs": [
    {
     "name": "stdout",
     "output_type": "stream",
     "text": [
      "Full dataset: 858 rows. 14 columns.\n",
      "Edited dataset: 858 rows. 12 columns.\n"
     ]
    }
   ],
   "source": [
    "# Shapes of datasets\n",
    "print(\"Full dataset:\", dataset_full.shape[0], \"rows.\", dataset_full.shape[1], \"columns.\")\n",
    "print(\"Edited dataset:\", dataset_edited.shape[0], \"rows.\", dataset_edited.shape[1], \"columns.\")"
   ]
  },
  {
   "cell_type": "markdown",
   "id": "812a2707",
   "metadata": {},
   "source": [
    "## Feature importance & selection"
   ]
  },
  {
   "cell_type": "code",
   "execution_count": 10,
   "id": "b002dec3",
   "metadata": {},
   "outputs": [],
   "source": [
    "# Dropping all null values for feature importance\n",
    "dataset_dropna = dataset_full.dropna()\n",
    "\n",
    "# Splitting dataset into feature matrix and class labels\n",
    "X_dropna = dataset_dropna.iloc[:,:len(dataset_dropna.columns)-1]\n",
    "y_dropna = dataset_dropna.iloc[:,len(dataset_dropna.columns)-1]\n",
    "\n",
    "# Instantiating random forest classifier with default hyperparams\n",
    "random_forest = RandomForestClassifier(n_estimators=500, random_state=None)\n",
    "\n",
    "# 5-fold cross-validation (returns trained model)\n",
    "scores = cross_validate(random_forest, X_dropna, y_dropna, cv=10, return_estimator=True)\n",
    "\n",
    "# Retrieving trained model from first fold\n",
    "estimator = scores['estimator'][0]"
   ]
  },
  {
   "cell_type": "code",
   "execution_count": 11,
   "id": "78710f23",
   "metadata": {},
   "outputs": [],
   "source": [
    "# Creating a dataframe to hold the features and their importance\n",
    "f_importance = pd.DataFrame()\n",
    "f_importance['feature'] = dataset_dropna.columns[:13]\n",
    "f_importance['importance'] = estimator.feature_importances_\n",
    "\n",
    "f_importance = f_importance.sort_values(by='importance', ascending=True)"
   ]
  },
  {
   "cell_type": "code",
   "execution_count": 12,
   "id": "3717841e",
   "metadata": {},
   "outputs": [
    {
     "data": {
      "text/html": [
       "<div>\n",
       "<style scoped>\n",
       "    .dataframe tbody tr th:only-of-type {\n",
       "        vertical-align: middle;\n",
       "    }\n",
       "\n",
       "    .dataframe tbody tr th {\n",
       "        vertical-align: top;\n",
       "    }\n",
       "\n",
       "    .dataframe thead th {\n",
       "        text-align: right;\n",
       "    }\n",
       "</style>\n",
       "<table border=\"1\" class=\"dataframe\">\n",
       "  <thead>\n",
       "    <tr style=\"text-align: right;\">\n",
       "      <th></th>\n",
       "      <th>feature</th>\n",
       "      <th>importance</th>\n",
       "    </tr>\n",
       "  </thead>\n",
       "  <tbody>\n",
       "    <tr>\n",
       "      <th>5</th>\n",
       "      <td>Fasting blood sugar</td>\n",
       "      <td>1.765041</td>\n",
       "    </tr>\n",
       "    <tr>\n",
       "      <th>1</th>\n",
       "      <td>Gender</td>\n",
       "      <td>2.764322</td>\n",
       "    </tr>\n",
       "    <tr>\n",
       "      <th>6</th>\n",
       "      <td>Resting electrocardiographic</td>\n",
       "      <td>2.996869</td>\n",
       "    </tr>\n",
       "    <tr>\n",
       "      <th>10</th>\n",
       "      <td>ST segment</td>\n",
       "      <td>4.081706</td>\n",
       "    </tr>\n",
       "    <tr>\n",
       "      <th>8</th>\n",
       "      <td>Exercise induced angina</td>\n",
       "      <td>4.209237</td>\n",
       "    </tr>\n",
       "    <tr>\n",
       "      <th>2</th>\n",
       "      <td>Chest pain type</td>\n",
       "      <td>7.955612</td>\n",
       "    </tr>\n",
       "    <tr>\n",
       "      <th>12</th>\n",
       "      <td>Thal</td>\n",
       "      <td>8.305238</td>\n",
       "    </tr>\n",
       "    <tr>\n",
       "      <th>11</th>\n",
       "      <td>Number of major vessels</td>\n",
       "      <td>9.544508</td>\n",
       "    </tr>\n",
       "    <tr>\n",
       "      <th>3</th>\n",
       "      <td>Resting blood pressure</td>\n",
       "      <td>10.037574</td>\n",
       "    </tr>\n",
       "    <tr>\n",
       "      <th>0</th>\n",
       "      <td>Age</td>\n",
       "      <td>10.770893</td>\n",
       "    </tr>\n",
       "    <tr>\n",
       "      <th>4</th>\n",
       "      <td>Serum cholesterol</td>\n",
       "      <td>11.385293</td>\n",
       "    </tr>\n",
       "    <tr>\n",
       "      <th>9</th>\n",
       "      <td>ST depression</td>\n",
       "      <td>12.046629</td>\n",
       "    </tr>\n",
       "    <tr>\n",
       "      <th>7</th>\n",
       "      <td>Maximum heart rate</td>\n",
       "      <td>14.137080</td>\n",
       "    </tr>\n",
       "  </tbody>\n",
       "</table>\n",
       "</div>"
      ],
      "text/plain": [
       "                         feature  importance\n",
       "5            Fasting blood sugar    1.765041\n",
       "1                         Gender    2.764322\n",
       "6   Resting electrocardiographic    2.996869\n",
       "10                    ST segment    4.081706\n",
       "8        Exercise induced angina    4.209237\n",
       "2                Chest pain type    7.955612\n",
       "12                          Thal    8.305238\n",
       "11       Number of major vessels    9.544508\n",
       "3         Resting blood pressure   10.037574\n",
       "0                            Age   10.770893\n",
       "4              Serum cholesterol   11.385293\n",
       "9                  ST depression   12.046629\n",
       "7             Maximum heart rate   14.137080"
      ]
     },
     "execution_count": 12,
     "metadata": {},
     "output_type": "execute_result"
    }
   ],
   "source": [
    "# Scaling and printing table\n",
    "f_importance['importance'] = f_importance['importance'] * 100\n",
    "f_importance"
   ]
  },
  {
   "cell_type": "code",
   "execution_count": 13,
   "id": "d161fedd",
   "metadata": {},
   "outputs": [
    {
     "data": {
      "text/plain": [
       "Text(0, 0.5, 'Feature name')"
      ]
     },
     "execution_count": 13,
     "metadata": {},
     "output_type": "execute_result"
    },
    {
     "data": {
      "image/png": "[encoded data removed]",
      "text/plain": [
       "<Figure size 864x576 with 1 Axes>"
      ]
     },
     "metadata": {
      "needs_background": "light"
     },
     "output_type": "display_data"
    }
   ],
   "source": [
    "# Plotting graph representing feature importance\n",
    "ic = f_importance.plot(kind='barh',\n",
    "                  x='feature',\n",
    "                  y='importance',\n",
    "                  title=\"Graph reprensenting ranked feature importance computed with Random Forest\",\n",
    "                  figsize=(12,8))\n",
    "ic.set_xlabel(\"Importance level\")\n",
    "ic.set_ylabel(\"Feature name\")"
   ]
  },
  {
   "cell_type": "markdown",
   "id": "7319200b",
   "metadata": {},
   "source": [
    "### Features to drop\n",
    "Full dataset:\n",
    "- Fasting blood sugar (Unimportant & low correlation)\n",
    "- Gender (Unimportant)\n",
    "- Resting ECG (Unimportant & low correlation)\n",
    "\n",
    "Edited Dataset:\n",
    "- Fasting blood sugar (Unimportant & low correlation)\n",
    "- Gender (Unimportant)\n",
    "- Resting ECG (Unimportant & low correlation)\n",
    "- Number of major vesssels (lots of missing values)\n",
    "- Thal (lots of missing values)"
   ]
  },
  {
   "cell_type": "markdown",
   "id": "8c0b73d7",
   "metadata": {},
   "source": [
    "## Seperating class labels"
   ]
  },
  {
   "cell_type": "code",
   "execution_count": 14,
   "id": "5386a60d",
   "metadata": {},
   "outputs": [],
   "source": [
    "# Full set\n",
    "y_full = dataset_full.iloc[:,len(dataset_full.columns)-1]\n",
    "\n",
    "# Edited set\n",
    "y_edited = dataset_edited.iloc[:,len(dataset_edited.columns)-1]"
   ]
  },
  {
   "cell_type": "markdown",
   "id": "0ddbd324",
   "metadata": {},
   "source": [
    "## Data imputation"
   ]
  },
  {
   "cell_type": "code",
   "execution_count": 15,
   "id": "20e038af",
   "metadata": {},
   "outputs": [],
   "source": [
    "# Splitting full dataset between continuous and categorical data\n",
    "dataset_full_cont = dataset_full.filter(['Age', 'Resting blood pressure', 'Serum cholesterol', 'Maximum heart rate', 'ST depression', 'Number of major vessels', 'Thal'], axis=1)\n",
    "dataset_full_cat = dataset_full.filter(['Chest pain type', 'Exercise induced angina', 'ST segment'], axis=1)\n",
    "\n",
    "# Splitting edited dataset between continuous and categorical data\n",
    "dataset_edited_cont = dataset_full.filter(['Age', 'Resting blood pressure', 'Serum cholesterol', 'Maximum heart rate', 'ST depression'], axis=1)\n",
    "dataset_edited_cat = dataset_full.filter(['Chest pain type', 'Exercise induced angina', 'ST segment'], axis=1)\n",
    "\n",
    "# KNN Imputer for continuous data\n",
    "cont_imputer = KNNImputer(missing_values=np.nan, n_neighbors=3)\n",
    "\n",
    "# KNN Imputer for categorical data\n",
    "cat_imputer = KNNImputer(missing_values=np.nan, n_neighbors=1)\n",
    "\n",
    "# setting up column names for imputation\n",
    "full_cont_columns = ['Age', 'Resting blood pressure', 'Serum cholesterol', 'Maximum heart rate', 'ST depression', 'Number of major vessels', 'Thal']\n",
    "full_cat_columns = ['Chest pain type', 'Exercise induced angina', 'ST segment']\n",
    "\n",
    "edited_cont_columns = ['Age', 'Resting blood pressure', 'Serum cholesterol', 'Maximum heart rate', 'ST depression']\n",
    "edited_cat_columns = ['Chest pain type', 'Exercise induced angina', 'ST segment']\n",
    "\n",
    "# Imputing full continuous data using KNNImputer\n",
    "full_cont_imputed = pd.DataFrame(cont_imputer.fit_transform(dataset_full_cont), columns=full_cont_columns)\n",
    "\n",
    "# Imputing full categorical data using KNNImputer\n",
    "full_cat_imputed = pd.DataFrame(cat_imputer.fit_transform(dataset_full_cat), columns=full_cat_columns)\n",
    "\n",
    "# Imputing edited continuous data using KNNImputer\n",
    "edited_cont_imputed = pd.DataFrame(cont_imputer.fit_transform(dataset_edited_cont), columns=edited_cont_columns)\n",
    "\n",
    "# Imputing edited continuous data using KNNImputer\n",
    "edited_cat_imputed = pd.DataFrame(cat_imputer.fit_transform(dataset_edited_cat), columns=edited_cat_columns)\n",
    "\n",
    "# Reconstructing datasets\n",
    "dataset_full_imputed = pd.concat([full_cont_imputed, full_cat_imputed], axis=1)\n",
    "dataset_edited_imputed = pd.concat([edited_cont_imputed, edited_cat_imputed], axis=1)"
   ]
  },
  {
   "cell_type": "markdown",
   "id": "8955252f",
   "metadata": {},
   "source": [
    "## Dataset splitting"
   ]
  },
  {
   "cell_type": "code",
   "execution_count": 16,
   "id": "a45f594d",
   "metadata": {},
   "outputs": [],
   "source": [
    "test_size = 0.1\n",
    "\n",
    "# Full Dataset\n",
    "X_full = dataset_full_imputed.iloc[:,:len(dataset_full.columns)-1]\n",
    "X_full_train, X_full_test, y_full_train, y_full_test = train_test_split(X_full, y_full, test_size=test_size, stratify=y_full, random_state=1)"
   ]
  },
  {
   "cell_type": "code",
   "execution_count": 17,
   "id": "7eb40296",
   "metadata": {},
   "outputs": [],
   "source": [
    "# Edited dataset\n",
    "X_edited = dataset_edited_imputed.iloc[:,:len(dataset_edited.columns)-1]\n",
    "X_edited_train, X_edited_test, y_edited_train, y_edited_test = train_test_split(X_edited, y_edited, test_size=test_size, stratify=y_edited, random_state=1)"
   ]
  },
  {
   "cell_type": "code",
   "execution_count": 18,
   "id": "83cecd3e",
   "metadata": {
    "scrolled": false
   },
   "outputs": [
    {
     "data": {
      "text/html": [
       "<div>\n",
       "<style scoped>\n",
       "    .dataframe tbody tr th:only-of-type {\n",
       "        vertical-align: middle;\n",
       "    }\n",
       "\n",
       "    .dataframe tbody tr th {\n",
       "        vertical-align: top;\n",
       "    }\n",
       "\n",
       "    .dataframe thead th {\n",
       "        text-align: right;\n",
       "    }\n",
       "</style>\n",
       "<table border=\"1\" class=\"dataframe\">\n",
       "  <thead>\n",
       "    <tr style=\"text-align: right;\">\n",
       "      <th></th>\n",
       "      <th>Age</th>\n",
       "      <th>Resting blood pressure</th>\n",
       "      <th>Serum cholesterol</th>\n",
       "      <th>Maximum heart rate</th>\n",
       "      <th>ST depression</th>\n",
       "      <th>Number of major vessels</th>\n",
       "      <th>Thal</th>\n",
       "      <th>Chest pain type</th>\n",
       "      <th>Exercise induced angina</th>\n",
       "      <th>ST segment</th>\n",
       "    </tr>\n",
       "  </thead>\n",
       "  <tbody>\n",
       "    <tr>\n",
       "      <th>606</th>\n",
       "      <td>55.0</td>\n",
       "      <td>120.0</td>\n",
       "      <td>256.0</td>\n",
       "      <td>137.0</td>\n",
       "      <td>0.0</td>\n",
       "      <td>0.666667</td>\n",
       "      <td>7.000000</td>\n",
       "      <td>2.0</td>\n",
       "      <td>0.0</td>\n",
       "      <td>2.0</td>\n",
       "    </tr>\n",
       "    <tr>\n",
       "      <th>501</th>\n",
       "      <td>42.0</td>\n",
       "      <td>115.0</td>\n",
       "      <td>211.0</td>\n",
       "      <td>137.0</td>\n",
       "      <td>0.0</td>\n",
       "      <td>0.000000</td>\n",
       "      <td>6.666667</td>\n",
       "      <td>3.0</td>\n",
       "      <td>0.0</td>\n",
       "      <td>1.0</td>\n",
       "    </tr>\n",
       "    <tr>\n",
       "      <th>712</th>\n",
       "      <td>53.0</td>\n",
       "      <td>145.0</td>\n",
       "      <td>518.0</td>\n",
       "      <td>130.0</td>\n",
       "      <td>0.0</td>\n",
       "      <td>0.333333</td>\n",
       "      <td>5.333333</td>\n",
       "      <td>3.0</td>\n",
       "      <td>0.0</td>\n",
       "      <td>1.0</td>\n",
       "    </tr>\n",
       "    <tr>\n",
       "      <th>481</th>\n",
       "      <td>39.0</td>\n",
       "      <td>120.0</td>\n",
       "      <td>200.0</td>\n",
       "      <td>160.0</td>\n",
       "      <td>1.0</td>\n",
       "      <td>0.000000</td>\n",
       "      <td>5.333333</td>\n",
       "      <td>2.0</td>\n",
       "      <td>1.0</td>\n",
       "      <td>2.0</td>\n",
       "    </tr>\n",
       "    <tr>\n",
       "      <th>781</th>\n",
       "      <td>53.0</td>\n",
       "      <td>120.0</td>\n",
       "      <td>210.0</td>\n",
       "      <td>120.0</td>\n",
       "      <td>0.0</td>\n",
       "      <td>1.000000</td>\n",
       "      <td>7.000000</td>\n",
       "      <td>4.0</td>\n",
       "      <td>0.0</td>\n",
       "      <td>2.0</td>\n",
       "    </tr>\n",
       "    <tr>\n",
       "      <th>...</th>\n",
       "      <td>...</td>\n",
       "      <td>...</td>\n",
       "      <td>...</td>\n",
       "      <td>...</td>\n",
       "      <td>...</td>\n",
       "      <td>...</td>\n",
       "      <td>...</td>\n",
       "      <td>...</td>\n",
       "      <td>...</td>\n",
       "      <td>...</td>\n",
       "    </tr>\n",
       "    <tr>\n",
       "      <th>666</th>\n",
       "      <td>57.0</td>\n",
       "      <td>140.0</td>\n",
       "      <td>265.0</td>\n",
       "      <td>145.0</td>\n",
       "      <td>1.0</td>\n",
       "      <td>0.333333</td>\n",
       "      <td>4.000000</td>\n",
       "      <td>2.0</td>\n",
       "      <td>1.0</td>\n",
       "      <td>2.0</td>\n",
       "    </tr>\n",
       "    <tr>\n",
       "      <th>256</th>\n",
       "      <td>61.0</td>\n",
       "      <td>145.0</td>\n",
       "      <td>307.0</td>\n",
       "      <td>146.0</td>\n",
       "      <td>1.0</td>\n",
       "      <td>0.000000</td>\n",
       "      <td>7.000000</td>\n",
       "      <td>4.0</td>\n",
       "      <td>1.0</td>\n",
       "      <td>2.0</td>\n",
       "    </tr>\n",
       "    <tr>\n",
       "      <th>218</th>\n",
       "      <td>62.0</td>\n",
       "      <td>120.0</td>\n",
       "      <td>267.0</td>\n",
       "      <td>99.0</td>\n",
       "      <td>1.8</td>\n",
       "      <td>2.000000</td>\n",
       "      <td>7.000000</td>\n",
       "      <td>4.0</td>\n",
       "      <td>1.0</td>\n",
       "      <td>2.0</td>\n",
       "    </tr>\n",
       "    <tr>\n",
       "      <th>398</th>\n",
       "      <td>64.0</td>\n",
       "      <td>128.0</td>\n",
       "      <td>263.0</td>\n",
       "      <td>105.0</td>\n",
       "      <td>0.2</td>\n",
       "      <td>1.000000</td>\n",
       "      <td>7.000000</td>\n",
       "      <td>4.0</td>\n",
       "      <td>1.0</td>\n",
       "      <td>2.0</td>\n",
       "    </tr>\n",
       "    <tr>\n",
       "      <th>214</th>\n",
       "      <td>59.0</td>\n",
       "      <td>170.0</td>\n",
       "      <td>326.0</td>\n",
       "      <td>140.0</td>\n",
       "      <td>3.4</td>\n",
       "      <td>0.000000</td>\n",
       "      <td>7.000000</td>\n",
       "      <td>4.0</td>\n",
       "      <td>1.0</td>\n",
       "      <td>3.0</td>\n",
       "    </tr>\n",
       "  </tbody>\n",
       "</table>\n",
       "<p>772 rows × 10 columns</p>\n",
       "</div>"
      ],
      "text/plain": [
       "      Age  Resting blood pressure  Serum cholesterol  Maximum heart rate  \\\n",
       "606  55.0                   120.0              256.0               137.0   \n",
       "501  42.0                   115.0              211.0               137.0   \n",
       "712  53.0                   145.0              518.0               130.0   \n",
       "481  39.0                   120.0              200.0               160.0   \n",
       "781  53.0                   120.0              210.0               120.0   \n",
       "..    ...                     ...                ...                 ...   \n",
       "666  57.0                   140.0              265.0               145.0   \n",
       "256  61.0                   145.0              307.0               146.0   \n",
       "218  62.0                   120.0              267.0                99.0   \n",
       "398  64.0                   128.0              263.0               105.0   \n",
       "214  59.0                   170.0              326.0               140.0   \n",
       "\n",
       "     ST depression  Number of major vessels      Thal  Chest pain type  \\\n",
       "606            0.0                 0.666667  7.000000              2.0   \n",
       "501            0.0                 0.000000  6.666667              3.0   \n",
       "712            0.0                 0.333333  5.333333              3.0   \n",
       "481            1.0                 0.000000  5.333333              2.0   \n",
       "781            0.0                 1.000000  7.000000              4.0   \n",
       "..             ...                      ...       ...              ...   \n",
       "666            1.0                 0.333333  4.000000              2.0   \n",
       "256            1.0                 0.000000  7.000000              4.0   \n",
       "218            1.8                 2.000000  7.000000              4.0   \n",
       "398            0.2                 1.000000  7.000000              4.0   \n",
       "214            3.4                 0.000000  7.000000              4.0   \n",
       "\n",
       "     Exercise induced angina  ST segment  \n",
       "606                      0.0         2.0  \n",
       "501                      0.0         1.0  \n",
       "712                      0.0         1.0  \n",
       "481                      1.0         2.0  \n",
       "781                      0.0         2.0  \n",
       "..                       ...         ...  \n",
       "666                      1.0         2.0  \n",
       "256                      1.0         2.0  \n",
       "218                      1.0         2.0  \n",
       "398                      1.0         2.0  \n",
       "214                      1.0         3.0  \n",
       "\n",
       "[772 rows x 10 columns]"
      ]
     },
     "execution_count": 18,
     "metadata": {},
     "output_type": "execute_result"
    }
   ],
   "source": [
    "X_full_train"
   ]
  },
  {
   "cell_type": "code",
   "execution_count": 19,
   "id": "04700e3f",
   "metadata": {},
   "outputs": [
    {
     "data": {
      "text/html": [
       "<div>\n",
       "<style scoped>\n",
       "    .dataframe tbody tr th:only-of-type {\n",
       "        vertical-align: middle;\n",
       "    }\n",
       "\n",
       "    .dataframe tbody tr th {\n",
       "        vertical-align: top;\n",
       "    }\n",
       "\n",
       "    .dataframe thead th {\n",
       "        text-align: right;\n",
       "    }\n",
       "</style>\n",
       "<table border=\"1\" class=\"dataframe\">\n",
       "  <thead>\n",
       "    <tr style=\"text-align: right;\">\n",
       "      <th></th>\n",
       "      <th>Age</th>\n",
       "      <th>Resting blood pressure</th>\n",
       "      <th>Serum cholesterol</th>\n",
       "      <th>Maximum heart rate</th>\n",
       "      <th>ST depression</th>\n",
       "      <th>Chest pain type</th>\n",
       "      <th>Exercise induced angina</th>\n",
       "      <th>ST segment</th>\n",
       "    </tr>\n",
       "  </thead>\n",
       "  <tbody>\n",
       "    <tr>\n",
       "      <th>606</th>\n",
       "      <td>55.0</td>\n",
       "      <td>120.0</td>\n",
       "      <td>256.0</td>\n",
       "      <td>137.0</td>\n",
       "      <td>0.0</td>\n",
       "      <td>2.0</td>\n",
       "      <td>0.0</td>\n",
       "      <td>2.0</td>\n",
       "    </tr>\n",
       "    <tr>\n",
       "      <th>501</th>\n",
       "      <td>42.0</td>\n",
       "      <td>115.0</td>\n",
       "      <td>211.0</td>\n",
       "      <td>137.0</td>\n",
       "      <td>0.0</td>\n",
       "      <td>3.0</td>\n",
       "      <td>0.0</td>\n",
       "      <td>1.0</td>\n",
       "    </tr>\n",
       "    <tr>\n",
       "      <th>712</th>\n",
       "      <td>53.0</td>\n",
       "      <td>145.0</td>\n",
       "      <td>518.0</td>\n",
       "      <td>130.0</td>\n",
       "      <td>0.0</td>\n",
       "      <td>3.0</td>\n",
       "      <td>0.0</td>\n",
       "      <td>1.0</td>\n",
       "    </tr>\n",
       "    <tr>\n",
       "      <th>481</th>\n",
       "      <td>39.0</td>\n",
       "      <td>120.0</td>\n",
       "      <td>200.0</td>\n",
       "      <td>160.0</td>\n",
       "      <td>1.0</td>\n",
       "      <td>2.0</td>\n",
       "      <td>1.0</td>\n",
       "      <td>2.0</td>\n",
       "    </tr>\n",
       "    <tr>\n",
       "      <th>781</th>\n",
       "      <td>53.0</td>\n",
       "      <td>120.0</td>\n",
       "      <td>210.0</td>\n",
       "      <td>120.0</td>\n",
       "      <td>0.0</td>\n",
       "      <td>4.0</td>\n",
       "      <td>0.0</td>\n",
       "      <td>2.0</td>\n",
       "    </tr>\n",
       "    <tr>\n",
       "      <th>...</th>\n",
       "      <td>...</td>\n",
       "      <td>...</td>\n",
       "      <td>...</td>\n",
       "      <td>...</td>\n",
       "      <td>...</td>\n",
       "      <td>...</td>\n",
       "      <td>...</td>\n",
       "      <td>...</td>\n",
       "    </tr>\n",
       "    <tr>\n",
       "      <th>666</th>\n",
       "      <td>57.0</td>\n",
       "      <td>140.0</td>\n",
       "      <td>265.0</td>\n",
       "      <td>145.0</td>\n",
       "      <td>1.0</td>\n",
       "      <td>2.0</td>\n",
       "      <td>1.0</td>\n",
       "      <td>2.0</td>\n",
       "    </tr>\n",
       "    <tr>\n",
       "      <th>256</th>\n",
       "      <td>61.0</td>\n",
       "      <td>145.0</td>\n",
       "      <td>307.0</td>\n",
       "      <td>146.0</td>\n",
       "      <td>1.0</td>\n",
       "      <td>4.0</td>\n",
       "      <td>1.0</td>\n",
       "      <td>2.0</td>\n",
       "    </tr>\n",
       "    <tr>\n",
       "      <th>218</th>\n",
       "      <td>62.0</td>\n",
       "      <td>120.0</td>\n",
       "      <td>267.0</td>\n",
       "      <td>99.0</td>\n",
       "      <td>1.8</td>\n",
       "      <td>4.0</td>\n",
       "      <td>1.0</td>\n",
       "      <td>2.0</td>\n",
       "    </tr>\n",
       "    <tr>\n",
       "      <th>398</th>\n",
       "      <td>64.0</td>\n",
       "      <td>128.0</td>\n",
       "      <td>263.0</td>\n",
       "      <td>105.0</td>\n",
       "      <td>0.2</td>\n",
       "      <td>4.0</td>\n",
       "      <td>1.0</td>\n",
       "      <td>2.0</td>\n",
       "    </tr>\n",
       "    <tr>\n",
       "      <th>214</th>\n",
       "      <td>59.0</td>\n",
       "      <td>170.0</td>\n",
       "      <td>326.0</td>\n",
       "      <td>140.0</td>\n",
       "      <td>3.4</td>\n",
       "      <td>4.0</td>\n",
       "      <td>1.0</td>\n",
       "      <td>3.0</td>\n",
       "    </tr>\n",
       "  </tbody>\n",
       "</table>\n",
       "<p>772 rows × 8 columns</p>\n",
       "</div>"
      ],
      "text/plain": [
       "      Age  Resting blood pressure  Serum cholesterol  Maximum heart rate  \\\n",
       "606  55.0                   120.0              256.0               137.0   \n",
       "501  42.0                   115.0              211.0               137.0   \n",
       "712  53.0                   145.0              518.0               130.0   \n",
       "481  39.0                   120.0              200.0               160.0   \n",
       "781  53.0                   120.0              210.0               120.0   \n",
       "..    ...                     ...                ...                 ...   \n",
       "666  57.0                   140.0              265.0               145.0   \n",
       "256  61.0                   145.0              307.0               146.0   \n",
       "218  62.0                   120.0              267.0                99.0   \n",
       "398  64.0                   128.0              263.0               105.0   \n",
       "214  59.0                   170.0              326.0               140.0   \n",
       "\n",
       "     ST depression  Chest pain type  Exercise induced angina  ST segment  \n",
       "606            0.0              2.0                      0.0         2.0  \n",
       "501            0.0              3.0                      0.0         1.0  \n",
       "712            0.0              3.0                      0.0         1.0  \n",
       "481            1.0              2.0                      1.0         2.0  \n",
       "781            0.0              4.0                      0.0         2.0  \n",
       "..             ...              ...                      ...         ...  \n",
       "666            1.0              2.0                      1.0         2.0  \n",
       "256            1.0              4.0                      1.0         2.0  \n",
       "218            1.8              4.0                      1.0         2.0  \n",
       "398            0.2              4.0                      1.0         2.0  \n",
       "214            3.4              4.0                      1.0         3.0  \n",
       "\n",
       "[772 rows x 8 columns]"
      ]
     },
     "execution_count": 19,
     "metadata": {},
     "output_type": "execute_result"
    }
   ],
   "source": [
    "X_edited_train"
   ]
  },
  {
   "cell_type": "markdown",
   "id": "943b721a",
   "metadata": {},
   "source": [
    "## Class scaling"
   ]
  },
  {
   "cell_type": "markdown",
   "id": "b9869f3b",
   "metadata": {},
   "source": [
    "## Validation Functions"
   ]
  },
  {
   "cell_type": "code",
   "execution_count": 20,
   "id": "c29e0596",
   "metadata": {},
   "outputs": [],
   "source": [
    "# Define Stratified 10-fold cross-val\n",
    "cv_method = StratifiedKFold(n_splits=10)\n",
    "\n",
    "# Dictionary of scoring metrics, defined from sklearn.metrics\n",
    "scoring = {\n",
    "    'accuracy': make_scorer(accuracy_score),\n",
    "    'prec_macro': make_scorer(precision_score, average='macro', zero_division=0),\n",
    "    'rec_macro': make_scorer(recall_score, average='macro', zero_division=0),\n",
    "    'f1_weighted': make_scorer(f1_score, average='weighted', zero_division=0)\n",
    "}\n",
    "\n",
    "# Utility function to report best scores\n",
    "def report(results, rank_metric='score', n_top=3):\n",
    "    \"\"\"\n",
    "    Utility function to report best scores.\n",
    "    :param results: the cv_results_ data structure from the optimisation algorithm\n",
    "    :param rank_metric: name of the metric to report results for\n",
    "    :param n_top: the number of top results to report\n",
    "    \"\"\"\n",
    "    print(\"\\nModels ranked according to\", rank_metric)\n",
    "    for i in range(1, n_top + 1):\n",
    "        candidates = np.flatnonzero(results[\"rank_test_\" + rank_metric] == i)\n",
    "        for candidate in candidates:\n",
    "            print(\"Model with rank: {0}\".format(i))\n",
    "            print(\"Mean validation score: {0:.2f} (+/- {1:.2f})\".format(\n",
    "                  results[\"mean_test_\" + rank_metric][candidate],\n",
    "                  results[\"std_test_\" + rank_metric][candidate]*2))\n",
    "            print(\"Params: {0}\".format(results['params'][candidate]))\n",
    "            print(\"\")"
   ]
  },
  {
   "cell_type": "markdown",
   "id": "f4c70fb0",
   "metadata": {},
   "source": [
    "## Classifiers"
   ]
  },
  {
   "cell_type": "markdown",
   "id": "9c46fb55",
   "metadata": {},
   "source": [
    "### Decision Tree (CART)"
   ]
  },
  {
   "cell_type": "code",
   "execution_count": 50,
   "id": "2f25bc78",
   "metadata": {
    "scrolled": true
   },
   "outputs": [
    {
     "name": "stdout",
     "output_type": "stream",
     "text": [
      "Fitting 10 folds for each of 60 candidates, totalling 600 fits\n",
      "[CV 1/10] END criterion=gini, max_depth=6, min_samples_split=2, splitter=best; accuracy: (train=0.720, test=0.590) f1_weighted: (train=0.713, test=0.568) prec_macro: (train=0.724, test=0.416) rec_macro: (train=0.545, test=0.393) total time=   0.0s\n",
      "[CV 2/10] END criterion=gini, max_depth=6, min_samples_split=2, splitter=best; accuracy: (train=0.725, test=0.615) f1_weighted: (train=0.717, test=0.595) prec_macro: (train=0.686, test=0.409) rec_macro: (train=0.558, test=0.409) total time=   0.0s\n",
      "[CV 3/10] END criterion=gini, max_depth=6, min_samples_split=2, splitter=best; accuracy: (train=0.724, test=0.532) f1_weighted: (train=0.711, test=0.529) prec_macro: (train=0.751, test=0.348) rec_macro: (train=0.538, test=0.355) total time=   0.0s\n",
      "[CV 4/10] END criterion=gini, max_depth=6, min_samples_split=2, splitter=best; accuracy: (train=0.718, test=0.584) f1_weighted: (train=0.713, test=0.557) prec_macro: (train=0.761, test=0.319) rec_macro: (train=0.558, test=0.345) total time=   0.0s\n",
      "[CV 5/10] END criterion=gini, max_depth=6, min_samples_split=2, splitter=best; accuracy: (train=0.721, test=0.481) f1_weighted: (train=0.711, test=0.457) prec_macro: (train=0.714, test=0.305) rec_macro: (train=0.549, test=0.261) total time=   0.0s\n",
      "[CV 6/10] END criterion=gini, max_depth=6, min_samples_split=2, splitter=best; accuracy: (train=0.711, test=0.506) f1_weighted: (train=0.713, test=0.485) prec_macro: (train=0.636, test=0.291) rec_macro: (train=0.585, test=0.296) total time=   0.0s\n",
      "[CV 7/10] END criterion=gini, max_depth=6, min_samples_split=2, splitter=best; accuracy: (train=0.721, test=0.597) f1_weighted: (train=0.716, test=0.587) prec_macro: (train=0.732, test=0.702) rec_macro: (train=0.587, test=0.490) total time=   0.0s\n",
      "[CV 8/10] END criterion=gini, max_depth=6, min_samples_split=2, splitter=best; accuracy: (train=0.711, test=0.584) f1_weighted: (train=0.706, test=0.587) prec_macro: (train=0.698, test=0.387) rec_macro: (train=0.572, test=0.397) total time=   0.0s\n",
      "[CV 9/10] END criterion=gini, max_depth=6, min_samples_split=2, splitter=best; accuracy: (train=0.719, test=0.506) f1_weighted: (train=0.712, test=0.477) prec_macro: (train=0.717, test=0.260) rec_macro: (train=0.578, test=0.293) total time=   0.0s\n",
      "[CV 10/10] END criterion=gini, max_depth=6, min_samples_split=2, splitter=best; accuracy: (train=0.731, test=0.506) f1_weighted: (train=0.725, test=0.503) prec_macro: (train=0.735, test=0.317) rec_macro: (train=0.600, test=0.325) total time=   0.0s\n",
      "[CV 1/10] END criterion=gini, max_depth=6, min_samples_split=2, splitter=random; accuracy: (train=0.671, test=0.487) f1_weighted: (train=0.642, test=0.449) prec_macro: (train=0.726, test=0.229) rec_macro: (train=0.449, test=0.260) total time=   0.0s\n",
      "[CV 2/10] END criterion=gini, max_depth=6, min_samples_split=2, splitter=random; accuracy: (train=0.653, test=0.564) f1_weighted: (train=0.640, test=0.541) prec_macro: (train=0.655, test=0.281) rec_macro: (train=0.487, test=0.304) total time=   0.0s\n",
      "[CV 3/10] END criterion=gini, max_depth=6, min_samples_split=2, splitter=random; accuracy: (train=0.662, test=0.506) f1_weighted: (train=0.650, test=0.481) prec_macro: (train=0.596, test=0.241) rec_macro: (train=0.501, test=0.271) total time=   0.0s\n",
      "[CV 4/10] END criterion=gini, max_depth=6, min_samples_split=2, splitter=random; accuracy: (train=0.653, test=0.610) f1_weighted: (train=0.636, test=0.593) prec_macro: (train=0.642, test=0.389) rec_macro: (train=0.457, test=0.389) total time=   0.0s\n",
      "[CV 5/10] END criterion=gini, max_depth=6, min_samples_split=2, splitter=random; accuracy: (train=0.659, test=0.506) f1_weighted: (train=0.632, test=0.470) prec_macro: (train=0.681, test=0.255) rec_macro: (train=0.438, test=0.281) total time=   0.0s\n",
      "[CV 6/10] END criterion=gini, max_depth=6, min_samples_split=2, splitter=random; accuracy: (train=0.671, test=0.571) f1_weighted: (train=0.638, test=0.500) prec_macro: (train=0.767, test=0.223) rec_macro: (train=0.454, test=0.290) total time=   0.0s\n",
      "[CV 7/10] END criterion=gini, max_depth=6, min_samples_split=2, splitter=random; accuracy: (train=0.672, test=0.545) f1_weighted: (train=0.652, test=0.510) prec_macro: (train=0.630, test=0.300) rec_macro: (train=0.477, test=0.327) total time=   0.0s\n",
      "[CV 8/10] END criterion=gini, max_depth=6, min_samples_split=2, splitter=random; accuracy: (train=0.672, test=0.506) f1_weighted: (train=0.657, test=0.474) prec_macro: (train=0.652, test=0.261) rec_macro: (train=0.499, test=0.283) total time=   0.0s\n",
      "[CV 9/10] END criterion=gini, max_depth=6, min_samples_split=2, splitter=random; accuracy: (train=0.679, test=0.584) f1_weighted: (train=0.668, test=0.564) prec_macro: (train=0.627, test=0.407) rec_macro: (train=0.487, test=0.370) total time=   0.0s\n",
      "[CV 10/10] END criterion=gini, max_depth=6, min_samples_split=2, splitter=random; accuracy: (train=0.658, test=0.558) f1_weighted: (train=0.635, test=0.518) prec_macro: (train=0.676, test=0.292) rec_macro: (train=0.479, test=0.316) total time=   0.0s\n",
      "[CV 1/10] END criterion=gini, max_depth=6, min_samples_split=3, splitter=best; accuracy: (train=0.716, test=0.615) f1_weighted: (train=0.707, test=0.589) prec_macro: (train=0.720, test=0.432) rec_macro: (train=0.531, test=0.404) total time=   0.0s\n",
      "[CV 2/10] END criterion=gini, max_depth=6, min_samples_split=3, splitter=best; accuracy: (train=0.722, test=0.615) f1_weighted: (train=0.713, test=0.595) prec_macro: (train=0.683, test=0.409) rec_macro: (train=0.553, test=0.409) total time=   0.0s\n",
      "[CV 3/10] END criterion=gini, max_depth=6, min_samples_split=3, splitter=best; accuracy: (train=0.724, test=0.506) f1_weighted: (train=0.711, test=0.506) prec_macro: (train=0.750, test=0.333) rec_macro: (train=0.538, test=0.341) total time=   0.0s\n",
      "[CV 4/10] END criterion=gini, max_depth=6, min_samples_split=3, splitter=best; accuracy: (train=0.715, test=0.597) f1_weighted: (train=0.709, test=0.564) prec_macro: (train=0.759, test=0.329) rec_macro: (train=0.554, test=0.368) total time=   0.0s\n",
      "[CV 5/10] END criterion=gini, max_depth=6, min_samples_split=3, splitter=best; accuracy: (train=0.721, test=0.481) f1_weighted: (train=0.710, test=0.457) prec_macro: (train=0.714, test=0.305) rec_macro: (train=0.549, test=0.261) total time=   0.0s\n",
      "[CV 6/10] END criterion=gini, max_depth=6, min_samples_split=3, splitter=best; accuracy: (train=0.706, test=0.494) f1_weighted: (train=0.709, test=0.477) prec_macro: (train=0.632, test=0.289) rec_macro: (train=0.581, test=0.290) total time=   0.0s\n",
      "[CV 7/10] END criterion=gini, max_depth=6, min_samples_split=3, splitter=best; accuracy: (train=0.719, test=0.597) f1_weighted: (train=0.714, test=0.584) prec_macro: (train=0.723, test=0.703) rec_macro: (train=0.578, test=0.490) total time=   0.0s\n",
      "[CV 8/10] END criterion=gini, max_depth=6, min_samples_split=3, splitter=best; accuracy: (train=0.706, test=0.558) f1_weighted: (train=0.701, test=0.569) prec_macro: (train=0.694, test=0.379) rec_macro: (train=0.558, test=0.385) total time=   0.0s\n",
      "[CV 9/10] END criterion=gini, max_depth=6, min_samples_split=3, splitter=best; accuracy: (train=0.717, test=0.506) f1_weighted: (train=0.709, test=0.477) prec_macro: (train=0.715, test=0.260) rec_macro: (train=0.575, test=0.293) total time=   0.0s\n",
      "[CV 10/10] END criterion=gini, max_depth=6, min_samples_split=3, splitter=best; accuracy: (train=0.731, test=0.506) f1_weighted: (train=0.726, test=0.503) prec_macro: (train=0.737, test=0.317) rec_macro: (train=0.601, test=0.325) total time=   0.0s\n",
      "[CV 1/10] END criterion=gini, max_depth=6, min_samples_split=3, splitter=random; accuracy: (train=0.654, test=0.577) f1_weighted: (train=0.638, test=0.556) prec_macro: (train=0.679, test=0.357) rec_macro: (train=0.453, test=0.371) total time=   0.0s\n",
      "[CV 2/10] END criterion=gini, max_depth=6, min_samples_split=3, splitter=random; accuracy: (train=0.671, test=0.538) f1_weighted: (train=0.656, test=0.505) prec_macro: (train=0.706, test=0.295) rec_macro: (train=0.502, test=0.306) total time=   0.0s\n",
      "[CV 3/10] END criterion=gini, max_depth=6, min_samples_split=3, splitter=random; accuracy: (train=0.645, test=0.584) f1_weighted: (train=0.604, test=0.525) prec_macro: (train=0.753, test=0.243) rec_macro: (train=0.409, test=0.305) total time=   0.0s\n",
      "[CV 4/10] END criterion=gini, max_depth=6, min_samples_split=3, splitter=random; accuracy: (train=0.655, test=0.610) f1_weighted: (train=0.635, test=0.561) prec_macro: (train=0.688, test=0.321) rec_macro: (train=0.449, test=0.336) total time=   0.0s\n",
      "[CV 5/10] END criterion=gini, max_depth=6, min_samples_split=3, splitter=random; accuracy: (train=0.678, test=0.597) f1_weighted: (train=0.654, test=0.591) prec_macro: (train=0.714, test=0.462) rec_macro: (train=0.453, test=0.426) total time=   0.0s\n",
      "[CV 6/10] END criterion=gini, max_depth=6, min_samples_split=3, splitter=random; accuracy: (train=0.652, test=0.545) f1_weighted: (train=0.628, test=0.484) prec_macro: (train=0.635, test=0.219) rec_macro: (train=0.454, test=0.273) total time=   0.0s\n",
      "[CV 7/10] END criterion=gini, max_depth=6, min_samples_split=3, splitter=random; accuracy: (train=0.673, test=0.519) f1_weighted: (train=0.656, test=0.488) prec_macro: (train=0.686, test=0.326) rec_macro: (train=0.471, test=0.318) total time=   0.0s\n",
      "[CV 8/10] END criterion=gini, max_depth=6, min_samples_split=3, splitter=random; accuracy: (train=0.653, test=0.558) f1_weighted: (train=0.632, test=0.542) prec_macro: (train=0.648, test=0.357) rec_macro: (train=0.446, test=0.352) total time=   0.0s\n",
      "[CV 9/10] END criterion=gini, max_depth=6, min_samples_split=3, splitter=random; accuracy: (train=0.645, test=0.532) f1_weighted: (train=0.606, test=0.486) prec_macro: (train=0.517, test=0.283) rec_macro: (train=0.392, test=0.295) total time=   0.0s\n",
      "[CV 10/10] END criterion=gini, max_depth=6, min_samples_split=3, splitter=random; accuracy: (train=0.666, test=0.532) f1_weighted: (train=0.652, test=0.525) prec_macro: (train=0.675, test=0.325) rec_macro: (train=0.476, test=0.337) total time=   0.0s\n",
      "[CV 1/10] END criterion=gini, max_depth=6, min_samples_split=4, splitter=best; accuracy: (train=0.712, test=0.615) f1_weighted: (train=0.701, test=0.589) prec_macro: (train=0.716, test=0.432) rec_macro: (train=0.518, test=0.404) total time=   0.0s\n",
      "[CV 2/10] END criterion=gini, max_depth=6, min_samples_split=4, splitter=best; accuracy: (train=0.720, test=0.603) f1_weighted: (train=0.712, test=0.573) prec_macro: (train=0.681, test=0.388) rec_macro: (train=0.551, test=0.384) total time=   0.0s\n",
      "[CV 3/10] END criterion=gini, max_depth=6, min_samples_split=4, splitter=best; accuracy: (train=0.724, test=0.506) f1_weighted: (train=0.712, test=0.507) prec_macro: (train=0.751, test=0.333) rec_macro: (train=0.540, test=0.341) total time=   0.0s\n",
      "[CV 4/10] END criterion=gini, max_depth=6, min_samples_split=4, splitter=best; accuracy: (train=0.709, test=0.584) f1_weighted: (train=0.702, test=0.546) prec_macro: (train=0.749, test=0.308) rec_macro: (train=0.537, test=0.345) total time=   0.0s\n",
      "[CV 5/10] END criterion=gini, max_depth=6, min_samples_split=4, splitter=best; accuracy: (train=0.718, test=0.481) f1_weighted: (train=0.708, test=0.455) prec_macro: (train=0.714, test=0.302) rec_macro: (train=0.548, test=0.261) total time=   0.0s\n"
     ]
    },
    {
     "name": "stdout",
     "output_type": "stream",
     "text": [
      "[CV 6/10] END criterion=gini, max_depth=6, min_samples_split=4, splitter=best; accuracy: (train=0.705, test=0.481) f1_weighted: (train=0.708, test=0.465) prec_macro: (train=0.633, test=0.289) rec_macro: (train=0.581, test=0.285) total time=   0.0s\n",
      "[CV 7/10] END criterion=gini, max_depth=6, min_samples_split=4, splitter=best; accuracy: (train=0.715, test=0.597) f1_weighted: (train=0.711, test=0.587) prec_macro: (train=0.709, test=0.702) rec_macro: (train=0.581, test=0.490) total time=   0.0s\n",
      "[CV 8/10] END criterion=gini, max_depth=6, min_samples_split=4, splitter=best; accuracy: (train=0.705, test=0.558) f1_weighted: (train=0.699, test=0.569) prec_macro: (train=0.691, test=0.379) rec_macro: (train=0.555, test=0.385) total time=   0.0s\n",
      "[CV 9/10] END criterion=gini, max_depth=6, min_samples_split=4, splitter=best; accuracy: (train=0.715, test=0.506) f1_weighted: (train=0.708, test=0.477) prec_macro: (train=0.713, test=0.260) rec_macro: (train=0.574, test=0.293) total time=   0.0s\n",
      "[CV 10/10] END criterion=gini, max_depth=6, min_samples_split=4, splitter=best; accuracy: (train=0.729, test=0.494) f1_weighted: (train=0.723, test=0.492) prec_macro: (train=0.734, test=0.312) rec_macro: (train=0.588, test=0.319) total time=   0.0s\n",
      "[CV 1/10] END criterion=gini, max_depth=6, min_samples_split=4, splitter=random; accuracy: (train=0.667, test=0.487) f1_weighted: (train=0.649, test=0.462) prec_macro: (train=0.680, test=0.249) rec_macro: (train=0.456, test=0.269) total time=   0.0s\n",
      "[CV 2/10] END criterion=gini, max_depth=6, min_samples_split=4, splitter=random; accuracy: (train=0.673, test=0.603) f1_weighted: (train=0.651, test=0.575) prec_macro: (train=0.723, test=0.354) rec_macro: (train=0.454, test=0.360) total time=   0.0s\n",
      "[CV 3/10] END criterion=gini, max_depth=6, min_samples_split=4, splitter=random; accuracy: (train=0.643, test=0.584) f1_weighted: (train=0.598, test=0.523) prec_macro: (train=0.693, test=0.243) rec_macro: (train=0.400, test=0.302) total time=   0.0s\n",
      "[CV 4/10] END criterion=gini, max_depth=6, min_samples_split=4, splitter=random; accuracy: (train=0.652, test=0.649) f1_weighted: (train=0.635, test=0.612) prec_macro: (train=0.673, test=0.366) rec_macro: (train=0.456, test=0.372) total time=   0.0s\n",
      "[CV 5/10] END criterion=gini, max_depth=6, min_samples_split=4, splitter=random; accuracy: (train=0.681, test=0.519) f1_weighted: (train=0.659, test=0.509) prec_macro: (train=0.696, test=0.371) rec_macro: (train=0.518, test=0.339) total time=   0.0s\n",
      "[CV 6/10] END criterion=gini, max_depth=6, min_samples_split=4, splitter=random; accuracy: (train=0.683, test=0.545) f1_weighted: (train=0.665, test=0.519) prec_macro: (train=0.599, test=0.280) rec_macro: (train=0.469, test=0.315) total time=   0.0s\n",
      "[CV 7/10] END criterion=gini, max_depth=6, min_samples_split=4, splitter=random; accuracy: (train=0.662, test=0.558) f1_weighted: (train=0.633, test=0.514) prec_macro: (train=0.651, test=0.361) rec_macro: (train=0.460, test=0.316) total time=   0.0s\n",
      "[CV 8/10] END criterion=gini, max_depth=6, min_samples_split=4, splitter=random; accuracy: (train=0.656, test=0.532) f1_weighted: (train=0.626, test=0.483) prec_macro: (train=0.723, test=0.233) rec_macro: (train=0.419, test=0.288) total time=   0.0s\n",
      "[CV 9/10] END criterion=gini, max_depth=6, min_samples_split=4, splitter=random; accuracy: (train=0.655, test=0.558) f1_weighted: (train=0.614, test=0.494) prec_macro: (train=0.545, test=0.226) rec_macro: (train=0.396, test=0.293) total time=   0.0s\n",
      "[CV 10/10] END criterion=gini, max_depth=6, min_samples_split=4, splitter=random; accuracy: (train=0.643, test=0.597) f1_weighted: (train=0.618, test=0.578) prec_macro: (train=0.574, test=0.379) rec_macro: (train=0.454, test=0.372) total time=   0.0s\n",
      "[CV 1/10] END criterion=gini, max_depth=7, min_samples_split=2, splitter=best; accuracy: (train=0.767, test=0.615) f1_weighted: (train=0.759, test=0.586) prec_macro: (train=0.771, test=0.470) rec_macro: (train=0.593, test=0.401) total time=   0.0s\n",
      "[CV 2/10] END criterion=gini, max_depth=7, min_samples_split=2, splitter=best; accuracy: (train=0.793, test=0.538) f1_weighted: (train=0.787, test=0.518) prec_macro: (train=0.796, test=0.280) rec_macro: (train=0.650, test=0.306) total time=   0.0s\n",
      "[CV 3/10] END criterion=gini, max_depth=7, min_samples_split=2, splitter=best; accuracy: (train=0.768, test=0.545) f1_weighted: (train=0.757, test=0.526) prec_macro: (train=0.820, test=0.368) rec_macro: (train=0.587, test=0.358) total time=   0.0s\n",
      "[CV 4/10] END criterion=gini, max_depth=7, min_samples_split=2, splitter=best; accuracy: (train=0.768, test=0.571) f1_weighted: (train=0.762, test=0.536) prec_macro: (train=0.820, test=0.292) rec_macro: (train=0.612, test=0.320) total time=   0.0s\n",
      "[CV 5/10] END criterion=gini, max_depth=7, min_samples_split=2, splitter=best; accuracy: (train=0.794, test=0.455) f1_weighted: (train=0.792, test=0.426) prec_macro: (train=0.789, test=0.267) rec_macro: (train=0.693, test=0.318) total time=   0.0s\n",
      "[CV 6/10] END criterion=gini, max_depth=7, min_samples_split=2, splitter=best; accuracy: (train=0.771, test=0.571) f1_weighted: (train=0.769, test=0.543) prec_macro: (train=0.750, test=0.326) rec_macro: (train=0.641, test=0.323) total time=   0.0s\n",
      "[CV 7/10] END criterion=gini, max_depth=7, min_samples_split=2, splitter=best; accuracy: (train=0.780, test=0.558) f1_weighted: (train=0.775, test=0.549) prec_macro: (train=0.735, test=0.442) rec_macro: (train=0.662, test=0.408) total time=   0.0s\n",
      "[CV 8/10] END criterion=gini, max_depth=7, min_samples_split=2, splitter=best; accuracy: (train=0.770, test=0.584) f1_weighted: (train=0.767, test=0.586) prec_macro: (train=0.762, test=0.397) rec_macro: (train=0.646, test=0.384) total time=   0.0s\n",
      "[CV 9/10] END criterion=gini, max_depth=7, min_samples_split=2, splitter=best; accuracy: (train=0.764, test=0.519) f1_weighted: (train=0.756, test=0.482) prec_macro: (train=0.788, test=0.269) rec_macro: (train=0.607, test=0.289) total time=   0.0s\n",
      "[CV 10/10] END criterion=gini, max_depth=7, min_samples_split=2, splitter=best; accuracy: (train=0.793, test=0.481) f1_weighted: (train=0.789, test=0.495) prec_macro: (train=0.788, test=0.320) rec_macro: (train=0.694, test=0.317) total time=   0.0s\n",
      "[CV 1/10] END criterion=gini, max_depth=7, min_samples_split=2, splitter=random; accuracy: (train=0.703, test=0.564) f1_weighted: (train=0.694, test=0.547) prec_macro: (train=0.698, test=0.433) rec_macro: (train=0.544, test=0.396) total time=   0.0s\n",
      "[CV 2/10] END criterion=gini, max_depth=7, min_samples_split=2, splitter=random; accuracy: (train=0.731, test=0.513) f1_weighted: (train=0.726, test=0.511) prec_macro: (train=0.740, test=0.318) rec_macro: (train=0.607, test=0.341) total time=   0.0s\n",
      "[CV 3/10] END criterion=gini, max_depth=7, min_samples_split=2, splitter=random; accuracy: (train=0.702, test=0.558) f1_weighted: (train=0.690, test=0.551) prec_macro: (train=0.708, test=0.338) rec_macro: (train=0.526, test=0.337) total time=   0.0s\n",
      "[CV 4/10] END criterion=gini, max_depth=7, min_samples_split=2, splitter=random; accuracy: (train=0.702, test=0.623) f1_weighted: (train=0.696, test=0.604) prec_macro: (train=0.749, test=0.361) rec_macro: (train=0.560, test=0.366) total time=   0.0s\n",
      "[CV 5/10] END criterion=gini, max_depth=7, min_samples_split=2, splitter=random; accuracy: (train=0.712, test=0.468) f1_weighted: (train=0.691, test=0.448) prec_macro: (train=0.775, test=0.344) rec_macro: (train=0.505, test=0.277) total time=   0.0s\n",
      "[CV 6/10] END criterion=gini, max_depth=7, min_samples_split=2, splitter=random; accuracy: (train=0.704, test=0.610) f1_weighted: (train=0.693, test=0.574) prec_macro: (train=0.715, test=0.519) rec_macro: (train=0.560, test=0.370) total time=   0.0s\n",
      "[CV 7/10] END criterion=gini, max_depth=7, min_samples_split=2, splitter=random; accuracy: (train=0.706, test=0.519) f1_weighted: (train=0.688, test=0.469) prec_macro: (train=0.750, test=0.301) rec_macro: (train=0.505, test=0.275) total time=   0.0s\n",
      "[CV 8/10] END criterion=gini, max_depth=7, min_samples_split=2, splitter=random; accuracy: (train=0.709, test=0.481) f1_weighted: (train=0.701, test=0.454) prec_macro: (train=0.689, test=0.233) rec_macro: (train=0.571, test=0.258) total time=   0.0s\n",
      "[CV 9/10] END criterion=gini, max_depth=7, min_samples_split=2, splitter=random; accuracy: (train=0.706, test=0.532) f1_weighted: (train=0.689, test=0.491) prec_macro: (train=0.747, test=0.371) rec_macro: (train=0.526, test=0.301) total time=   0.0s\n",
      "[CV 10/10] END criterion=gini, max_depth=7, min_samples_split=2, splitter=random; accuracy: (train=0.704, test=0.558) f1_weighted: (train=0.688, test=0.546) prec_macro: (train=0.703, test=0.332) rec_macro: (train=0.526, test=0.335) total time=   0.0s\n",
      "[CV 1/10] END criterion=gini, max_depth=7, min_samples_split=3, splitter=best; accuracy: (train=0.761, test=0.603) f1_weighted: (train=0.751, test=0.577) prec_macro: (train=0.767, test=0.468) rec_macro: (train=0.579, test=0.399) total time=   0.0s\n",
      "[CV 2/10] END criterion=gini, max_depth=7, min_samples_split=3, splitter=best; accuracy: (train=0.787, test=0.564) f1_weighted: (train=0.780, test=0.542) prec_macro: (train=0.776, test=0.384) rec_macro: (train=0.627, test=0.340) total time=   0.0s\n",
      "[CV 3/10] END criterion=gini, max_depth=7, min_samples_split=3, splitter=best; accuracy: (train=0.765, test=0.571) f1_weighted: (train=0.753, test=0.552) prec_macro: (train=0.817, test=0.373) rec_macro: (train=0.582, test=0.373) total time=   0.0s\n"
     ]
    },
    {
     "name": "stdout",
     "output_type": "stream",
     "text": [
      "[CV 4/10] END criterion=gini, max_depth=7, min_samples_split=3, splitter=best; accuracy: (train=0.761, test=0.584) f1_weighted: (train=0.753, test=0.542) prec_macro: (train=0.814, test=0.310) rec_macro: (train=0.601, test=0.342) total time=   0.0s\n",
      "[CV 5/10] END criterion=gini, max_depth=7, min_samples_split=3, splitter=best; accuracy: (train=0.793, test=0.468) f1_weighted: (train=0.790, test=0.445) prec_macro: (train=0.788, test=0.278) rec_macro: (train=0.682, test=0.327) total time=   0.0s\n",
      "[CV 6/10] END criterion=gini, max_depth=7, min_samples_split=3, splitter=best; accuracy: (train=0.767, test=0.545) f1_weighted: (train=0.764, test=0.513) prec_macro: (train=0.748, test=0.271) rec_macro: (train=0.635, test=0.292) total time=   0.0s\n",
      "[CV 7/10] END criterion=gini, max_depth=7, min_samples_split=3, splitter=best; accuracy: (train=0.780, test=0.545) f1_weighted: (train=0.776, test=0.540) prec_macro: (train=0.734, test=0.429) rec_macro: (train=0.662, test=0.399) total time=   0.0s\n",
      "[CV 8/10] END criterion=gini, max_depth=7, min_samples_split=3, splitter=best; accuracy: (train=0.761, test=0.571) f1_weighted: (train=0.757, test=0.577) prec_macro: (train=0.753, test=0.394) rec_macro: (train=0.619, test=0.378) total time=   0.0s\n",
      "[CV 9/10] END criterion=gini, max_depth=7, min_samples_split=3, splitter=best; accuracy: (train=0.758, test=0.519) f1_weighted: (train=0.750, test=0.482) prec_macro: (train=0.783, test=0.269) rec_macro: (train=0.598, test=0.289) total time=   0.0s\n",
      "[CV 10/10] END criterion=gini, max_depth=7, min_samples_split=3, splitter=best; accuracy: (train=0.791, test=0.481) f1_weighted: (train=0.787, test=0.495) prec_macro: (train=0.786, test=0.320) rec_macro: (train=0.692, test=0.317) total time=   0.0s\n",
      "[CV 1/10] END criterion=gini, max_depth=7, min_samples_split=3, splitter=random; accuracy: (train=0.712, test=0.577) f1_weighted: (train=0.693, test=0.543) prec_macro: (train=0.722, test=0.504) rec_macro: (train=0.495, test=0.355) total time=   0.0s\n",
      "[CV 2/10] END criterion=gini, max_depth=7, min_samples_split=3, splitter=random; accuracy: (train=0.687, test=0.577) f1_weighted: (train=0.663, test=0.519) prec_macro: (train=0.697, test=0.283) rec_macro: (train=0.503, test=0.321) total time=   0.0s\n",
      "[CV 3/10] END criterion=gini, max_depth=7, min_samples_split=3, splitter=random; accuracy: (train=0.715, test=0.623) f1_weighted: (train=0.707, test=0.603) prec_macro: (train=0.725, test=0.410) rec_macro: (train=0.590, test=0.388) total time=   0.0s\n",
      "[CV 4/10] END criterion=gini, max_depth=7, min_samples_split=3, splitter=random; accuracy: (train=0.694, test=0.675) f1_weighted: (train=0.672, test=0.638) prec_macro: (train=0.741, test=0.466) rec_macro: (train=0.479, test=0.475) total time=   0.0s\n",
      "[CV 5/10] END criterion=gini, max_depth=7, min_samples_split=3, splitter=random; accuracy: (train=0.727, test=0.519) f1_weighted: (train=0.711, test=0.506) prec_macro: (train=0.783, test=0.313) rec_macro: (train=0.548, test=0.306) total time=   0.0s\n",
      "[CV 6/10] END criterion=gini, max_depth=7, min_samples_split=3, splitter=random; accuracy: (train=0.715, test=0.571) f1_weighted: (train=0.708, test=0.550) prec_macro: (train=0.673, test=0.367) rec_macro: (train=0.575, test=0.353) total time=   0.0s\n",
      "[CV 7/10] END criterion=gini, max_depth=7, min_samples_split=3, splitter=random; accuracy: (train=0.719, test=0.584) f1_weighted: (train=0.704, test=0.545) prec_macro: (train=0.721, test=0.430) rec_macro: (train=0.563, test=0.354) total time=   0.0s\n",
      "[CV 8/10] END criterion=gini, max_depth=7, min_samples_split=3, splitter=random; accuracy: (train=0.702, test=0.571) f1_weighted: (train=0.680, test=0.516) prec_macro: (train=0.755, test=0.276) rec_macro: (train=0.527, test=0.302) total time=   0.0s\n",
      "[CV 9/10] END criterion=gini, max_depth=7, min_samples_split=3, splitter=random; accuracy: (train=0.725, test=0.545) f1_weighted: (train=0.715, test=0.515) prec_macro: (train=0.742, test=0.268) rec_macro: (train=0.566, test=0.297) total time=   0.0s\n",
      "[CV 10/10] END criterion=gini, max_depth=7, min_samples_split=3, splitter=random; accuracy: (train=0.692, test=0.506) f1_weighted: (train=0.679, test=0.489) prec_macro: (train=0.702, test=0.314) rec_macro: (train=0.502, test=0.318) total time=   0.0s\n",
      "[CV 1/10] END criterion=gini, max_depth=7, min_samples_split=4, splitter=best; accuracy: (train=0.755, test=0.577) f1_weighted: (train=0.744, test=0.553) prec_macro: (train=0.759, test=0.445) rec_macro: (train=0.563, test=0.384) total time=   0.0s\n",
      "[CV 2/10] END criterion=gini, max_depth=7, min_samples_split=4, splitter=best; accuracy: (train=0.781, test=0.538) f1_weighted: (train=0.775, test=0.520) prec_macro: (train=0.770, test=0.370) rec_macro: (train=0.622, test=0.322) total time=   0.0s\n",
      "[CV 3/10] END criterion=gini, max_depth=7, min_samples_split=4, splitter=best; accuracy: (train=0.761, test=0.545) f1_weighted: (train=0.748, test=0.522) prec_macro: (train=0.812, test=0.358) rec_macro: (train=0.574, test=0.355) total time=   0.0s\n",
      "[CV 4/10] END criterion=gini, max_depth=7, min_samples_split=4, splitter=best; accuracy: (train=0.753, test=0.571) f1_weighted: (train=0.744, test=0.526) prec_macro: (train=0.778, test=0.295) rec_macro: (train=0.590, test=0.320) total time=   0.0s\n",
      "[CV 5/10] END criterion=gini, max_depth=7, min_samples_split=4, splitter=best; accuracy: (train=0.786, test=0.442) f1_weighted: (train=0.783, test=0.422) prec_macro: (train=0.782, test=0.298) rec_macro: (train=0.675, test=0.312) total time=   0.0s\n",
      "[CV 6/10] END criterion=gini, max_depth=7, min_samples_split=4, splitter=best; accuracy: (train=0.764, test=0.545) f1_weighted: (train=0.762, test=0.524) prec_macro: (train=0.724, test=0.315) rec_macro: (train=0.624, test=0.312) total time=   0.0s\n",
      "[CV 7/10] END criterion=gini, max_depth=7, min_samples_split=4, splitter=best; accuracy: (train=0.771, test=0.584) f1_weighted: (train=0.766, test=0.587) prec_macro: (train=0.715, test=0.581) rec_macro: (train=0.651, test=0.517) total time=   0.0s\n",
      "[CV 8/10] END criterion=gini, max_depth=7, min_samples_split=4, splitter=best; accuracy: (train=0.758, test=0.545) f1_weighted: (train=0.754, test=0.544) prec_macro: (train=0.748, test=0.345) rec_macro: (train=0.613, test=0.333) total time=   0.0s\n",
      "[CV 9/10] END criterion=gini, max_depth=7, min_samples_split=4, splitter=best; accuracy: (train=0.755, test=0.519) f1_weighted: (train=0.747, test=0.482) prec_macro: (train=0.780, test=0.269) rec_macro: (train=0.595, test=0.289) total time=   0.0s\n",
      "[CV 10/10] END criterion=gini, max_depth=7, min_samples_split=4, splitter=best; accuracy: (train=0.787, test=0.494) f1_weighted: (train=0.784, test=0.502) prec_macro: (train=0.799, test=0.337) rec_macro: (train=0.681, test=0.342) total time=   0.0s\n",
      "[CV 1/10] END criterion=gini, max_depth=7, min_samples_split=4, splitter=random; accuracy: (train=0.679, test=0.564) f1_weighted: (train=0.646, test=0.514) prec_macro: (train=0.751, test=0.319) rec_macro: (train=0.454, test=0.319) total time=   0.0s\n",
      "[CV 2/10] END criterion=gini, max_depth=7, min_samples_split=4, splitter=random; accuracy: (train=0.693, test=0.590) f1_weighted: (train=0.677, test=0.574) prec_macro: (train=0.712, test=0.377) rec_macro: (train=0.496, test=0.381) total time=   0.0s\n",
      "[CV 3/10] END criterion=gini, max_depth=7, min_samples_split=4, splitter=random; accuracy: (train=0.696, test=0.558) f1_weighted: (train=0.677, test=0.526) prec_macro: (train=0.754, test=0.313) rec_macro: (train=0.487, test=0.320) total time=   0.0s\n",
      "[CV 4/10] END criterion=gini, max_depth=7, min_samples_split=4, splitter=random; accuracy: (train=0.696, test=0.597) f1_weighted: (train=0.674, test=0.542) prec_macro: (train=0.741, test=0.316) rec_macro: (train=0.481, test=0.329) total time=   0.0s\n",
      "[CV 5/10] END criterion=gini, max_depth=7, min_samples_split=4, splitter=random; accuracy: (train=0.678, test=0.481) f1_weighted: (train=0.653, test=0.475) prec_macro: (train=0.706, test=0.345) rec_macro: (train=0.465, test=0.280) total time=   0.0s\n",
      "[CV 6/10] END criterion=gini, max_depth=7, min_samples_split=4, splitter=random; accuracy: (train=0.694, test=0.545) f1_weighted: (train=0.679, test=0.527) prec_macro: (train=0.683, test=0.425) rec_macro: (train=0.534, test=0.358) total time=   0.0s\n",
      "[CV 7/10] END criterion=gini, max_depth=7, min_samples_split=4, splitter=random; accuracy: (train=0.705, test=0.481) f1_weighted: (train=0.677, test=0.441) prec_macro: (train=0.737, test=0.263) rec_macro: (train=0.471, test=0.265) total time=   0.0s\n",
      "[CV 8/10] END criterion=gini, max_depth=7, min_samples_split=4, splitter=random; accuracy: (train=0.698, test=0.481) f1_weighted: (train=0.683, test=0.453) prec_macro: (train=0.725, test=0.242) rec_macro: (train=0.517, test=0.269) total time=   0.0s\n",
      "[CV 9/10] END criterion=gini, max_depth=7, min_samples_split=4, splitter=random; accuracy: (train=0.709, test=0.571) f1_weighted: (train=0.696, test=0.551) prec_macro: (train=0.696, test=0.421) rec_macro: (train=0.522, test=0.358) total time=   0.0s\n",
      "[CV 10/10] END criterion=gini, max_depth=7, min_samples_split=4, splitter=random; accuracy: (train=0.709, test=0.571) f1_weighted: (train=0.696, test=0.545) prec_macro: (train=0.730, test=0.351) rec_macro: (train=0.527, test=0.360) total time=   0.0s\n",
      "[CV 1/10] END criterion=gini, max_depth=8, min_samples_split=2, splitter=best; accuracy: (train=0.814, test=0.615) f1_weighted: (train=0.814, test=0.602) prec_macro: (train=0.769, test=0.492) rec_macro: (train=0.732, test=0.431) total time=   0.0s\n",
      "[CV 2/10] END criterion=gini, max_depth=8, min_samples_split=2, splitter=best; accuracy: (train=0.844, test=0.513) f1_weighted: (train=0.842, test=0.510) prec_macro: (train=0.886, test=0.364) rec_macro: (train=0.729, test=0.330) total time=   0.0s\n",
      "[CV 3/10] END criterion=gini, max_depth=8, min_samples_split=2, splitter=best; accuracy: (train=0.817, test=0.545) f1_weighted: (train=0.811, test=0.543) prec_macro: (train=0.841, test=0.394) rec_macro: (train=0.681, test=0.397) total time=   0.0s\n"
     ]
    },
    {
     "name": "stdout",
     "output_type": "stream",
     "text": [
      "[CV 4/10] END criterion=gini, max_depth=8, min_samples_split=2, splitter=best; accuracy: (train=0.804, test=0.545) f1_weighted: (train=0.798, test=0.502) prec_macro: (train=0.836, test=0.290) rec_macro: (train=0.665, test=0.316) total time=   0.0s\n",
      "[CV 5/10] END criterion=gini, max_depth=8, min_samples_split=2, splitter=best; accuracy: (train=0.845, test=0.429) f1_weighted: (train=0.842, test=0.422) prec_macro: (train=0.840, test=0.283) rec_macro: (train=0.750, test=0.320) total time=   0.0s\n",
      "[CV 6/10] END criterion=gini, max_depth=8, min_samples_split=2, splitter=best; accuracy: (train=0.826, test=0.571) f1_weighted: (train=0.823, test=0.543) prec_macro: (train=0.836, test=0.342) rec_macro: (train=0.705, test=0.326) total time=   0.0s\n",
      "[CV 7/10] END criterion=gini, max_depth=8, min_samples_split=2, splitter=best; accuracy: (train=0.846, test=0.571) f1_weighted: (train=0.843, test=0.567) prec_macro: (train=0.853, test=0.652) rec_macro: (train=0.757, test=0.492) total time=   0.0s\n",
      "[CV 8/10] END criterion=gini, max_depth=8, min_samples_split=2, splitter=best; accuracy: (train=0.814, test=0.558) f1_weighted: (train=0.809, test=0.538) prec_macro: (train=0.824, test=0.338) rec_macro: (train=0.692, test=0.339) total time=   0.0s\n",
      "[CV 9/10] END criterion=gini, max_depth=8, min_samples_split=2, splitter=best; accuracy: (train=0.824, test=0.481) f1_weighted: (train=0.821, test=0.465) prec_macro: (train=0.824, test=0.272) rec_macro: (train=0.732, test=0.278) total time=   0.0s\n",
      "[CV 10/10] END criterion=gini, max_depth=8, min_samples_split=2, splitter=best; accuracy: (train=0.862, test=0.532) f1_weighted: (train=0.860, test=0.532) prec_macro: (train=0.873, test=0.348) rec_macro: (train=0.793, test=0.356) total time=   0.0s\n",
      "[CV 1/10] END criterion=gini, max_depth=8, min_samples_split=2, splitter=random; accuracy: (train=0.754, test=0.551) f1_weighted: (train=0.748, test=0.537) prec_macro: (train=0.776, test=0.325) rec_macro: (train=0.606, test=0.340) total time=   0.0s\n",
      "[CV 2/10] END criterion=gini, max_depth=8, min_samples_split=2, splitter=random; accuracy: (train=0.762, test=0.564) f1_weighted: (train=0.756, test=0.545) prec_macro: (train=0.780, test=0.316) rec_macro: (train=0.648, test=0.340) total time=   0.0s\n",
      "[CV 3/10] END criterion=gini, max_depth=8, min_samples_split=2, splitter=random; accuracy: (train=0.745, test=0.506) f1_weighted: (train=0.726, test=0.476) prec_macro: (train=0.765, test=0.289) rec_macro: (train=0.552, test=0.305) total time=   0.0s\n",
      "[CV 4/10] END criterion=gini, max_depth=8, min_samples_split=2, splitter=random; accuracy: (train=0.757, test=0.636) f1_weighted: (train=0.750, test=0.597) prec_macro: (train=0.820, test=0.357) rec_macro: (train=0.619, test=0.361) total time=   0.0s\n",
      "[CV 5/10] END criterion=gini, max_depth=8, min_samples_split=2, splitter=random; accuracy: (train=0.801, test=0.494) f1_weighted: (train=0.795, test=0.481) prec_macro: (train=0.832, test=0.287) rec_macro: (train=0.665, test=0.289) total time=   0.0s\n",
      "[CV 6/10] END criterion=gini, max_depth=8, min_samples_split=2, splitter=random; accuracy: (train=0.755, test=0.519) f1_weighted: (train=0.751, test=0.482) prec_macro: (train=0.731, test=0.280) rec_macro: (train=0.642, test=0.281) total time=   0.0s\n",
      "[CV 7/10] END criterion=gini, max_depth=8, min_samples_split=2, splitter=random; accuracy: (train=0.765, test=0.545) f1_weighted: (train=0.758, test=0.528) prec_macro: (train=0.793, test=0.460) rec_macro: (train=0.614, test=0.340) total time=   0.0s\n",
      "[CV 8/10] END criterion=gini, max_depth=8, min_samples_split=2, splitter=random; accuracy: (train=0.717, test=0.519) f1_weighted: (train=0.700, test=0.488) prec_macro: (train=0.751, test=0.267) rec_macro: (train=0.534, test=0.289) total time=   0.0s\n",
      "[CV 9/10] END criterion=gini, max_depth=8, min_samples_split=2, splitter=random; accuracy: (train=0.755, test=0.519) f1_weighted: (train=0.748, test=0.483) prec_macro: (train=0.791, test=0.268) rec_macro: (train=0.630, test=0.305) total time=   0.0s\n",
      "[CV 10/10] END criterion=gini, max_depth=8, min_samples_split=2, splitter=random; accuracy: (train=0.742, test=0.571) f1_weighted: (train=0.731, test=0.555) prec_macro: (train=0.816, test=0.358) rec_macro: (train=0.574, test=0.357) total time=   0.0s\n",
      "[CV 1/10] END criterion=gini, max_depth=8, min_samples_split=3, splitter=best; accuracy: (train=0.800, test=0.564) f1_weighted: (train=0.798, test=0.556) prec_macro: (train=0.744, test=0.415) rec_macro: (train=0.688, test=0.405) total time=   0.0s\n",
      "[CV 2/10] END criterion=gini, max_depth=8, min_samples_split=3, splitter=best; accuracy: (train=0.831, test=0.538) f1_weighted: (train=0.827, test=0.529) prec_macro: (train=0.867, test=0.382) rec_macro: (train=0.684, test=0.345) total time=   0.0s\n",
      "[CV 3/10] END criterion=gini, max_depth=8, min_samples_split=3, splitter=best; accuracy: (train=0.806, test=0.571) f1_weighted: (train=0.798, test=0.570) prec_macro: (train=0.832, test=0.413) rec_macro: (train=0.658, test=0.414) total time=   0.0s\n",
      "[CV 4/10] END criterion=gini, max_depth=8, min_samples_split=3, splitter=best; accuracy: (train=0.791, test=0.558) f1_weighted: (train=0.784, test=0.519) prec_macro: (train=0.823, test=0.299) rec_macro: (train=0.640, test=0.312) total time=   0.0s\n",
      "[CV 5/10] END criterion=gini, max_depth=8, min_samples_split=3, splitter=best; accuracy: (train=0.842, test=0.442) f1_weighted: (train=0.840, test=0.432) prec_macro: (train=0.831, test=0.277) rec_macro: (train=0.756, test=0.329) total time=   0.0s\n",
      "[CV 6/10] END criterion=gini, max_depth=8, min_samples_split=3, splitter=best; accuracy: (train=0.820, test=0.584) f1_weighted: (train=0.817, test=0.559) prec_macro: (train=0.833, test=0.408) rec_macro: (train=0.695, test=0.348) total time=   0.0s\n",
      "[CV 7/10] END criterion=gini, max_depth=8, min_samples_split=3, splitter=best; accuracy: (train=0.843, test=0.584) f1_weighted: (train=0.840, test=0.578) prec_macro: (train=0.851, test=0.668) rec_macro: (train=0.753, test=0.501) total time=   0.0s\n",
      "[CV 8/10] END criterion=gini, max_depth=8, min_samples_split=3, splitter=best; accuracy: (train=0.803, test=0.532) f1_weighted: (train=0.796, test=0.529) prec_macro: (train=0.811, test=0.339) rec_macro: (train=0.668, test=0.328) total time=   0.0s\n",
      "[CV 9/10] END criterion=gini, max_depth=8, min_samples_split=3, splitter=best; accuracy: (train=0.817, test=0.481) f1_weighted: (train=0.813, test=0.467) prec_macro: (train=0.819, test=0.274) rec_macro: (train=0.720, test=0.278) total time=   0.0s\n",
      "[CV 10/10] END criterion=gini, max_depth=8, min_samples_split=3, splitter=best; accuracy: (train=0.856, test=0.545) f1_weighted: (train=0.853, test=0.540) prec_macro: (train=0.868, test=0.381) rec_macro: (train=0.774, test=0.398) total time=   0.0s\n",
      "[CV 1/10] END criterion=gini, max_depth=8, min_samples_split=3, splitter=random; accuracy: (train=0.759, test=0.577) f1_weighted: (train=0.752, test=0.561) prec_macro: (train=0.811, test=0.524) rec_macro: (train=0.632, test=0.422) total time=   0.0s\n",
      "[CV 2/10] END criterion=gini, max_depth=8, min_samples_split=3, splitter=random; accuracy: (train=0.742, test=0.526) f1_weighted: (train=0.727, test=0.488) prec_macro: (train=0.797, test=0.263) rec_macro: (train=0.597, test=0.287) total time=   0.0s\n",
      "[CV 3/10] END criterion=gini, max_depth=8, min_samples_split=3, splitter=random; accuracy: (train=0.747, test=0.584) f1_weighted: (train=0.736, test=0.547) prec_macro: (train=0.764, test=0.317) rec_macro: (train=0.584, test=0.315) total time=   0.0s\n",
      "[CV 4/10] END criterion=gini, max_depth=8, min_samples_split=3, splitter=random; accuracy: (train=0.742, test=0.481) f1_weighted: (train=0.734, test=0.487) prec_macro: (train=0.783, test=0.295) rec_macro: (train=0.584, test=0.288) total time=   0.0s\n",
      "[CV 5/10] END criterion=gini, max_depth=8, min_samples_split=3, splitter=random; accuracy: (train=0.738, test=0.558) f1_weighted: (train=0.723, test=0.540) prec_macro: (train=0.747, test=0.337) rec_macro: (train=0.541, test=0.351) total time=   0.0s\n",
      "[CV 6/10] END criterion=gini, max_depth=8, min_samples_split=3, splitter=random; accuracy: (train=0.758, test=0.558) f1_weighted: (train=0.757, test=0.533) prec_macro: (train=0.759, test=0.330) rec_macro: (train=0.638, test=0.328) total time=   0.0s\n",
      "[CV 7/10] END criterion=gini, max_depth=8, min_samples_split=3, splitter=random; accuracy: (train=0.761, test=0.481) f1_weighted: (train=0.752, test=0.449) prec_macro: (train=0.799, test=0.230) rec_macro: (train=0.598, test=0.255) total time=   0.0s\n",
      "[CV 8/10] END criterion=gini, max_depth=8, min_samples_split=3, splitter=random; accuracy: (train=0.750, test=0.558) f1_weighted: (train=0.743, test=0.541) prec_macro: (train=0.793, test=0.386) rec_macro: (train=0.607, test=0.356) total time=   0.0s\n",
      "[CV 9/10] END criterion=gini, max_depth=8, min_samples_split=3, splitter=random; accuracy: (train=0.755, test=0.532) f1_weighted: (train=0.738, test=0.513) prec_macro: (train=0.788, test=0.324) rec_macro: (train=0.553, test=0.321) total time=   0.0s\n",
      "[CV 10/10] END criterion=gini, max_depth=8, min_samples_split=3, splitter=random; accuracy: (train=0.771, test=0.506) f1_weighted: (train=0.765, test=0.485) prec_macro: (train=0.774, test=0.281) rec_macro: (train=0.637, test=0.316) total time=   0.0s\n",
      "[CV 1/10] END criterion=gini, max_depth=8, min_samples_split=4, splitter=best; accuracy: (train=0.791, test=0.615) f1_weighted: (train=0.788, test=0.598) prec_macro: (train=0.725, test=0.472) rec_macro: (train=0.664, test=0.431) total time=   0.0s\n",
      "[CV 2/10] END criterion=gini, max_depth=8, min_samples_split=4, splitter=best; accuracy: (train=0.820, test=0.526) f1_weighted: (train=0.816, test=0.517) prec_macro: (train=0.858, test=0.374) rec_macro: (train=0.674, test=0.336) total time=   0.0s\n"
     ]
    },
    {
     "name": "stdout",
     "output_type": "stream",
     "text": [
      "[CV 3/10] END criterion=gini, max_depth=8, min_samples_split=4, splitter=best; accuracy: (train=0.794, test=0.532) f1_weighted: (train=0.785, test=0.524) prec_macro: (train=0.818, test=0.389) rec_macro: (train=0.636, test=0.388) total time=   0.0s\n",
      "[CV 4/10] END criterion=gini, max_depth=8, min_samples_split=4, splitter=best; accuracy: (train=0.781, test=0.558) f1_weighted: (train=0.773, test=0.517) prec_macro: (train=0.789, test=0.294) rec_macro: (train=0.626, test=0.315) total time=   0.0s\n",
      "[CV 5/10] END criterion=gini, max_depth=8, min_samples_split=4, splitter=best; accuracy: (train=0.826, test=0.442) f1_weighted: (train=0.823, test=0.423) prec_macro: (train=0.822, test=0.287) rec_macro: (train=0.722, test=0.326) total time=   0.0s\n",
      "[CV 6/10] END criterion=gini, max_depth=8, min_samples_split=4, splitter=best; accuracy: (train=0.806, test=0.584) f1_weighted: (train=0.801, test=0.558) prec_macro: (train=0.790, test=0.359) rec_macro: (train=0.664, test=0.345) total time=   0.0s\n",
      "[CV 7/10] END criterion=gini, max_depth=8, min_samples_split=4, splitter=best; accuracy: (train=0.832, test=0.597) f1_weighted: (train=0.827, test=0.599) prec_macro: (train=0.837, test=0.675) rec_macro: (train=0.722, test=0.523) total time=   0.0s\n",
      "[CV 8/10] END criterion=gini, max_depth=8, min_samples_split=4, splitter=best; accuracy: (train=0.791, test=0.584) f1_weighted: (train=0.783, test=0.577) prec_macro: (train=0.798, test=0.386) rec_macro: (train=0.646, test=0.384) total time=   0.0s\n",
      "[CV 9/10] END criterion=gini, max_depth=8, min_samples_split=4, splitter=best; accuracy: (train=0.810, test=0.494) f1_weighted: (train=0.806, test=0.480) prec_macro: (train=0.808, test=0.279) rec_macro: (train=0.705, test=0.284) total time=   0.0s\n",
      "[CV 10/10] END criterion=gini, max_depth=8, min_samples_split=4, splitter=best; accuracy: (train=0.842, test=0.545) f1_weighted: (train=0.837, test=0.538) prec_macro: (train=0.855, test=0.375) rec_macro: (train=0.758, test=0.378) total time=   0.0s\n",
      "[CV 1/10] END criterion=gini, max_depth=8, min_samples_split=4, splitter=random; accuracy: (train=0.732, test=0.577) f1_weighted: (train=0.718, test=0.551) prec_macro: (train=0.766, test=0.420) rec_macro: (train=0.536, test=0.374) total time=   0.0s\n",
      "[CV 2/10] END criterion=gini, max_depth=8, min_samples_split=4, splitter=random; accuracy: (train=0.746, test=0.500) f1_weighted: (train=0.739, test=0.490) prec_macro: (train=0.761, test=0.266) rec_macro: (train=0.615, test=0.278) total time=   0.0s\n",
      "[CV 3/10] END criterion=gini, max_depth=8, min_samples_split=4, splitter=random; accuracy: (train=0.748, test=0.610) f1_weighted: (train=0.730, test=0.581) prec_macro: (train=0.771, test=0.534) rec_macro: (train=0.560, test=0.471) total time=   0.0s\n",
      "[CV 4/10] END criterion=gini, max_depth=8, min_samples_split=4, splitter=random; accuracy: (train=0.753, test=0.545) f1_weighted: (train=0.742, test=0.525) prec_macro: (train=0.782, test=0.296) rec_macro: (train=0.593, test=0.322) total time=   0.0s\n",
      "[CV 5/10] END criterion=gini, max_depth=8, min_samples_split=4, splitter=random; accuracy: (train=0.754, test=0.468) f1_weighted: (train=0.741, test=0.458) prec_macro: (train=0.765, test=0.282) rec_macro: (train=0.576, test=0.268) total time=   0.0s\n",
      "[CV 6/10] END criterion=gini, max_depth=8, min_samples_split=4, splitter=random; accuracy: (train=0.729, test=0.545) f1_weighted: (train=0.717, test=0.504) prec_macro: (train=0.728, test=0.357) rec_macro: (train=0.541, test=0.306) total time=   0.0s\n",
      "[CV 7/10] END criterion=gini, max_depth=8, min_samples_split=4, splitter=random; accuracy: (train=0.718, test=0.468) f1_weighted: (train=0.701, test=0.443) prec_macro: (train=0.726, test=0.424) rec_macro: (train=0.541, test=0.350) total time=   0.0s\n",
      "[CV 8/10] END criterion=gini, max_depth=8, min_samples_split=4, splitter=random; accuracy: (train=0.747, test=0.545) f1_weighted: (train=0.735, test=0.531) prec_macro: (train=0.748, test=0.338) rec_macro: (train=0.571, test=0.337) total time=   0.0s\n",
      "[CV 9/10] END criterion=gini, max_depth=8, min_samples_split=4, splitter=random; accuracy: (train=0.727, test=0.571) f1_weighted: (train=0.719, test=0.547) prec_macro: (train=0.733, test=0.396) rec_macro: (train=0.544, test=0.348) total time=   0.0s\n",
      "[CV 10/10] END criterion=gini, max_depth=8, min_samples_split=4, splitter=random; accuracy: (train=0.722, test=0.558) f1_weighted: (train=0.706, test=0.542) prec_macro: (train=0.740, test=0.333) rec_macro: (train=0.529, test=0.345) total time=   0.0s\n",
      "[CV 1/10] END criterion=gini, max_depth=9, min_samples_split=2, splitter=best; accuracy: (train=0.846, test=0.590) f1_weighted: (train=0.843, test=0.560) prec_macro: (train=0.827, test=0.422) rec_macro: (train=0.747, test=0.358) total time=   0.0s\n",
      "[CV 2/10] END criterion=gini, max_depth=9, min_samples_split=2, splitter=best; accuracy: (train=0.882, test=0.526) f1_weighted: (train=0.880, test=0.521) prec_macro: (train=0.893, test=0.411) rec_macro: (train=0.820, test=0.352) total time=   0.0s\n",
      "[CV 3/10] END criterion=gini, max_depth=9, min_samples_split=2, splitter=best; accuracy: (train=0.863, test=0.506) f1_weighted: (train=0.858, test=0.500) prec_macro: (train=0.896, test=0.369) rec_macro: (train=0.739, test=0.363) total time=   0.0s\n",
      "[CV 4/10] END criterion=gini, max_depth=9, min_samples_split=2, splitter=best; accuracy: (train=0.836, test=0.558) f1_weighted: (train=0.833, test=0.524) prec_macro: (train=0.887, test=0.300) rec_macro: (train=0.705, test=0.317) total time=   0.0s\n",
      "[CV 5/10] END criterion=gini, max_depth=9, min_samples_split=2, splitter=best; accuracy: (train=0.886, test=0.429) f1_weighted: (train=0.886, test=0.433) prec_macro: (train=0.886, test=0.289) rec_macro: (train=0.828, test=0.337) total time=   0.0s\n",
      "[CV 6/10] END criterion=gini, max_depth=9, min_samples_split=2, splitter=best; accuracy: (train=0.882, test=0.506) f1_weighted: (train=0.881, test=0.482) prec_macro: (train=0.894, test=0.277) rec_macro: (train=0.789, test=0.296) total time=   0.0s\n",
      "[CV 7/10] END criterion=gini, max_depth=9, min_samples_split=2, splitter=best; accuracy: (train=0.888, test=0.571) f1_weighted: (train=0.886, test=0.573) prec_macro: (train=0.907, test=0.565) rec_macro: (train=0.810, test=0.521) total time=   0.0s\n",
      "[CV 8/10] END criterion=gini, max_depth=9, min_samples_split=2, splitter=best; accuracy: (train=0.856, test=0.519) f1_weighted: (train=0.854, test=0.513) prec_macro: (train=0.851, test=0.326) rec_macro: (train=0.754, test=0.328) total time=   0.0s\n",
      "[CV 9/10] END criterion=gini, max_depth=9, min_samples_split=2, splitter=best; accuracy: (train=0.885, test=0.455) f1_weighted: (train=0.884, test=0.436) prec_macro: (train=0.902, test=0.235) rec_macro: (train=0.847, test=0.250) total time=   0.0s\n",
      "[CV 10/10] END criterion=gini, max_depth=9, min_samples_split=2, splitter=best; accuracy: (train=0.906, test=0.532) f1_weighted: (train=0.906, test=0.532) prec_macro: (train=0.915, test=0.380) rec_macro: (train=0.868, test=0.392) total time=   0.0s\n",
      "[CV 1/10] END criterion=gini, max_depth=9, min_samples_split=2, splitter=random; accuracy: (train=0.820, test=0.551) f1_weighted: (train=0.816, test=0.516) prec_macro: (train=0.864, test=0.379) rec_macro: (train=0.707, test=0.346) total time=   0.0s\n",
      "[CV 2/10] END criterion=gini, max_depth=9, min_samples_split=2, splitter=random; accuracy: (train=0.808, test=0.603) f1_weighted: (train=0.806, test=0.578) prec_macro: (train=0.799, test=0.391) rec_macro: (train=0.719, test=0.363) total time=   0.0s\n",
      "[CV 3/10] END criterion=gini, max_depth=9, min_samples_split=2, splitter=random; accuracy: (train=0.830, test=0.390) f1_weighted: (train=0.826, test=0.381) prec_macro: (train=0.796, test=0.255) rec_macro: (train=0.713, test=0.309) total time=   0.0s\n",
      "[CV 4/10] END criterion=gini, max_depth=9, min_samples_split=2, splitter=random; accuracy: (train=0.797, test=0.597) f1_weighted: (train=0.792, test=0.548) prec_macro: (train=0.838, test=0.288) rec_macro: (train=0.657, test=0.324) total time=   0.0s\n",
      "[CV 5/10] END criterion=gini, max_depth=9, min_samples_split=2, splitter=random; accuracy: (train=0.820, test=0.558) f1_weighted: (train=0.817, test=0.557) prec_macro: (train=0.819, test=0.396) rec_macro: (train=0.728, test=0.419) total time=   0.0s\n",
      "[CV 6/10] END criterion=gini, max_depth=9, min_samples_split=2, splitter=random; accuracy: (train=0.797, test=0.532) f1_weighted: (train=0.794, test=0.500) prec_macro: (train=0.824, test=0.320) rec_macro: (train=0.684, test=0.310) total time=   0.0s\n",
      "[CV 7/10] END criterion=gini, max_depth=9, min_samples_split=2, splitter=random; accuracy: (train=0.816, test=0.481) f1_weighted: (train=0.811, test=0.463) prec_macro: (train=0.859, test=0.292) rec_macro: (train=0.686, test=0.281) total time=   0.0s\n",
      "[CV 8/10] END criterion=gini, max_depth=9, min_samples_split=2, splitter=random; accuracy: (train=0.800, test=0.429) f1_weighted: (train=0.793, test=0.423) prec_macro: (train=0.811, test=0.237) rec_macro: (train=0.659, test=0.249) total time=   0.0s\n",
      "[CV 9/10] END criterion=gini, max_depth=9, min_samples_split=2, splitter=random; accuracy: (train=0.771, test=0.545) f1_weighted: (train=0.764, test=0.489) prec_macro: (train=0.796, test=0.265) rec_macro: (train=0.623, test=0.290) total time=   0.0s\n",
      "[CV 10/10] END criterion=gini, max_depth=9, min_samples_split=2, splitter=random; accuracy: (train=0.804, test=0.468) f1_weighted: (train=0.800, test=0.470) prec_macro: (train=0.813, test=0.335) rec_macro: (train=0.688, test=0.301) total time=   0.0s\n",
      "[CV 1/10] END criterion=gini, max_depth=9, min_samples_split=3, splitter=best; accuracy: (train=0.827, test=0.603) f1_weighted: (train=0.823, test=0.570) prec_macro: (train=0.799, test=0.440) rec_macro: (train=0.699, test=0.363) total time=   0.0s\n",
      "[CV 2/10] END criterion=gini, max_depth=9, min_samples_split=3, splitter=best; accuracy: (train=0.863, test=0.487) f1_weighted: (train=0.860, test=0.474) prec_macro: (train=0.865, test=0.262) rec_macro: (train=0.760, test=0.293) total time=   0.0s\n",
      "[CV 3/10] END criterion=gini, max_depth=9, min_samples_split=3, splitter=best; accuracy: (train=0.847, test=0.519) f1_weighted: (train=0.841, test=0.512) prec_macro: (train=0.885, test=0.398) rec_macro: (train=0.705, test=0.372) total time=   0.0s\n"
     ]
    },
    {
     "name": "stdout",
     "output_type": "stream",
     "text": [
      "[CV 4/10] END criterion=gini, max_depth=9, min_samples_split=3, splitter=best; accuracy: (train=0.817, test=0.571) f1_weighted: (train=0.811, test=0.527) prec_macro: (train=0.870, test=0.299) rec_macro: (train=0.671, test=0.320) total time=   0.0s\n",
      "[CV 5/10] END criterion=gini, max_depth=9, min_samples_split=3, splitter=best; accuracy: (train=0.878, test=0.468) f1_weighted: (train=0.877, test=0.463) prec_macro: (train=0.880, test=0.356) rec_macro: (train=0.806, test=0.360) total time=   0.0s\n",
      "[CV 6/10] END criterion=gini, max_depth=9, min_samples_split=3, splitter=best; accuracy: (train=0.872, test=0.558) f1_weighted: (train=0.871, test=0.535) prec_macro: (train=0.887, test=0.342) rec_macro: (train=0.771, test=0.341) total time=   0.0s\n",
      "[CV 7/10] END criterion=gini, max_depth=9, min_samples_split=3, splitter=best; accuracy: (train=0.879, test=0.558) f1_weighted: (train=0.876, test=0.559) prec_macro: (train=0.896, test=0.629) rec_macro: (train=0.792, test=0.499) total time=   0.0s\n",
      "[CV 8/10] END criterion=gini, max_depth=9, min_samples_split=3, splitter=best; accuracy: (train=0.840, test=0.532) f1_weighted: (train=0.836, test=0.523) prec_macro: (train=0.836, test=0.329) rec_macro: (train=0.711, test=0.321) total time=   0.0s\n",
      "[CV 9/10] END criterion=gini, max_depth=9, min_samples_split=3, splitter=best; accuracy: (train=0.876, test=0.481) f1_weighted: (train=0.875, test=0.453) prec_macro: (train=0.891, test=0.241) rec_macro: (train=0.815, test=0.265) total time=   0.0s\n",
      "[CV 10/10] END criterion=gini, max_depth=9, min_samples_split=3, splitter=best; accuracy: (train=0.889, test=0.545) f1_weighted: (train=0.888, test=0.540) prec_macro: (train=0.899, test=0.392) rec_macro: (train=0.826, test=0.394) total time=   0.0s\n",
      "[CV 1/10] END criterion=gini, max_depth=9, min_samples_split=3, splitter=random; accuracy: (train=0.787, test=0.513) f1_weighted: (train=0.781, test=0.501) prec_macro: (train=0.786, test=0.329) rec_macro: (train=0.672, test=0.319) total time=   0.0s\n",
      "[CV 2/10] END criterion=gini, max_depth=9, min_samples_split=3, splitter=random; accuracy: (train=0.761, test=0.500) f1_weighted: (train=0.751, test=0.461) prec_macro: (train=0.817, test=0.267) rec_macro: (train=0.626, test=0.263) total time=   0.0s\n",
      "[CV 3/10] END criterion=gini, max_depth=9, min_samples_split=3, splitter=random; accuracy: (train=0.800, test=0.558) f1_weighted: (train=0.795, test=0.545) prec_macro: (train=0.823, test=0.343) rec_macro: (train=0.680, test=0.340) total time=   0.0s\n",
      "[CV 4/10] END criterion=gini, max_depth=9, min_samples_split=3, splitter=random; accuracy: (train=0.781, test=0.558) f1_weighted: (train=0.774, test=0.523) prec_macro: (train=0.828, test=0.318) rec_macro: (train=0.635, test=0.317) total time=   0.0s\n",
      "[CV 5/10] END criterion=gini, max_depth=9, min_samples_split=3, splitter=random; accuracy: (train=0.783, test=0.481) f1_weighted: (train=0.771, test=0.477) prec_macro: (train=0.773, test=0.315) rec_macro: (train=0.630, test=0.310) total time=   0.0s\n",
      "[CV 6/10] END criterion=gini, max_depth=9, min_samples_split=3, splitter=random; accuracy: (train=0.803, test=0.558) f1_weighted: (train=0.797, test=0.540) prec_macro: (train=0.813, test=0.406) rec_macro: (train=0.659, test=0.350) total time=   0.0s\n",
      "[CV 7/10] END criterion=gini, max_depth=9, min_samples_split=3, splitter=random; accuracy: (train=0.788, test=0.455) f1_weighted: (train=0.776, test=0.441) prec_macro: (train=0.802, test=0.337) rec_macro: (train=0.599, test=0.273) total time=   0.0s\n",
      "[CV 8/10] END criterion=gini, max_depth=9, min_samples_split=3, splitter=random; accuracy: (train=0.813, test=0.494) f1_weighted: (train=0.809, test=0.454) prec_macro: (train=0.801, test=0.239) rec_macro: (train=0.715, test=0.264) total time=   0.0s\n",
      "[CV 9/10] END criterion=gini, max_depth=9, min_samples_split=3, splitter=random; accuracy: (train=0.787, test=0.558) f1_weighted: (train=0.780, test=0.539) prec_macro: (train=0.804, test=0.322) rec_macro: (train=0.630, test=0.323) total time=   0.0s\n",
      "[CV 10/10] END criterion=gini, max_depth=9, min_samples_split=3, splitter=random; accuracy: (train=0.816, test=0.468) f1_weighted: (train=0.811, test=0.467) prec_macro: (train=0.846, test=0.275) rec_macro: (train=0.694, test=0.285) total time=   0.0s\n",
      "[CV 1/10] END criterion=gini, max_depth=9, min_samples_split=4, splitter=best; accuracy: (train=0.814, test=0.551) f1_weighted: (train=0.808, test=0.532) prec_macro: (train=0.777, test=0.401) rec_macro: (train=0.665, test=0.354) total time=   0.0s\n",
      "[CV 2/10] END criterion=gini, max_depth=9, min_samples_split=4, splitter=best; accuracy: (train=0.844, test=0.474) f1_weighted: (train=0.840, test=0.450) prec_macro: (train=0.846, test=0.237) rec_macro: (train=0.723, test=0.271) total time=   0.0s\n",
      "[CV 3/10] END criterion=gini, max_depth=9, min_samples_split=4, splitter=best; accuracy: (train=0.832, test=0.506) f1_weighted: (train=0.824, test=0.489) prec_macro: (train=0.867, test=0.368) rec_macro: (train=0.684, test=0.344) total time=   0.0s\n",
      "[CV 4/10] END criterion=gini, max_depth=9, min_samples_split=4, splitter=best; accuracy: (train=0.806, test=0.571) f1_weighted: (train=0.798, test=0.530) prec_macro: (train=0.858, test=0.311) rec_macro: (train=0.647, test=0.323) total time=   0.0s\n",
      "[CV 5/10] END criterion=gini, max_depth=9, min_samples_split=4, splitter=best; accuracy: (train=0.859, test=0.442) f1_weighted: (train=0.858, test=0.428) prec_macro: (train=0.851, test=0.301) rec_macro: (train=0.793, test=0.342) total time=   0.0s\n",
      "[CV 6/10] END criterion=gini, max_depth=9, min_samples_split=4, splitter=best; accuracy: (train=0.850, test=0.571) f1_weighted: (train=0.847, test=0.547) prec_macro: (train=0.838, test=0.353) rec_macro: (train=0.719, test=0.350) total time=   0.0s\n",
      "[CV 7/10] END criterion=gini, max_depth=9, min_samples_split=4, splitter=best; accuracy: (train=0.866, test=0.558) f1_weighted: (train=0.862, test=0.554) prec_macro: (train=0.866, test=0.430) rec_macro: (train=0.765, test=0.408) total time=   0.0s\n",
      "[CV 8/10] END criterion=gini, max_depth=9, min_samples_split=4, splitter=best; accuracy: (train=0.827, test=0.532) f1_weighted: (train=0.823, test=0.535) prec_macro: (train=0.820, test=0.355) rec_macro: (train=0.694, test=0.351) total time=   0.0s\n",
      "[CV 9/10] END criterion=gini, max_depth=9, min_samples_split=4, splitter=best; accuracy: (train=0.860, test=0.455) f1_weighted: (train=0.859, test=0.433) prec_macro: (train=0.867, test=0.238) rec_macro: (train=0.791, test=0.250) total time=   0.0s\n",
      "[CV 10/10] END criterion=gini, max_depth=9, min_samples_split=4, splitter=best; accuracy: (train=0.873, test=0.545) f1_weighted: (train=0.871, test=0.545) prec_macro: (train=0.873, test=0.372) rec_macro: (train=0.822, test=0.378) total time=   0.0s\n",
      "[CV 1/10] END criterion=gini, max_depth=9, min_samples_split=4, splitter=random; accuracy: (train=0.784, test=0.449) f1_weighted: (train=0.778, test=0.434) prec_macro: (train=0.790, test=0.248) rec_macro: (train=0.658, test=0.270) total time=   0.0s\n",
      "[CV 2/10] END criterion=gini, max_depth=9, min_samples_split=4, splitter=random; accuracy: (train=0.782, test=0.615) f1_weighted: (train=0.776, test=0.601) prec_macro: (train=0.809, test=0.407) rec_macro: (train=0.644, test=0.404) total time=   0.0s\n",
      "[CV 3/10] END criterion=gini, max_depth=9, min_samples_split=4, splitter=random; accuracy: (train=0.763, test=0.532) f1_weighted: (train=0.754, test=0.534) prec_macro: (train=0.782, test=0.348) rec_macro: (train=0.607, test=0.345) total time=   0.0s\n",
      "[CV 4/10] END criterion=gini, max_depth=9, min_samples_split=4, splitter=random; accuracy: (train=0.812, test=0.558) f1_weighted: (train=0.807, test=0.536) prec_macro: (train=0.810, test=0.484) rec_macro: (train=0.698, test=0.398) total time=   0.0s\n",
      "[CV 5/10] END criterion=gini, max_depth=9, min_samples_split=4, splitter=random; accuracy: (train=0.770, test=0.519) f1_weighted: (train=0.759, test=0.492) prec_macro: (train=0.771, test=0.326) rec_macro: (train=0.623, test=0.287) total time=   0.0s\n",
      "[CV 6/10] END criterion=gini, max_depth=9, min_samples_split=4, splitter=random; accuracy: (train=0.787, test=0.584) f1_weighted: (train=0.782, test=0.560) prec_macro: (train=0.764, test=0.404) rec_macro: (train=0.659, test=0.348) total time=   0.0s\n",
      "[CV 7/10] END criterion=gini, max_depth=9, min_samples_split=4, splitter=random; accuracy: (train=0.773, test=0.455) f1_weighted: (train=0.768, test=0.434) prec_macro: (train=0.758, test=0.223) rec_macro: (train=0.632, test=0.244) total time=   0.0s\n"
     ]
    },
    {
     "name": "stdout",
     "output_type": "stream",
     "text": [
      "[CV 8/10] END criterion=gini, max_depth=9, min_samples_split=4, splitter=random; accuracy: (train=0.770, test=0.532) f1_weighted: (train=0.760, test=0.521) prec_macro: (train=0.786, test=0.310) rec_macro: (train=0.597, test=0.315) total time=   0.0s\n",
      "[CV 9/10] END criterion=gini, max_depth=9, min_samples_split=4, splitter=random; accuracy: (train=0.812, test=0.506) f1_weighted: (train=0.804, test=0.502) prec_macro: (train=0.834, test=0.295) rec_macro: (train=0.664, test=0.293) total time=   0.0s\n",
      "[CV 10/10] END criterion=gini, max_depth=9, min_samples_split=4, splitter=random; accuracy: (train=0.788, test=0.506) f1_weighted: (train=0.781, test=0.499) prec_macro: (train=0.815, test=0.303) rec_macro: (train=0.641, test=0.303) total time=   0.0s\n",
      "[CV 1/10] END criterion=gini, max_depth=10, min_samples_split=2, splitter=best; accuracy: (train=0.886, test=0.641) f1_weighted: (train=0.884, test=0.622) prec_macro: (train=0.901, test=0.500) rec_macro: (train=0.783, test=0.436) total time=   0.0s\n",
      "[CV 2/10] END criterion=gini, max_depth=10, min_samples_split=2, splitter=best; accuracy: (train=0.922, test=0.500) f1_weighted: (train=0.922, test=0.503) prec_macro: (train=0.938, test=0.317) rec_macro: (train=0.884, test=0.302) total time=   0.0s\n",
      "[CV 3/10] END criterion=gini, max_depth=10, min_samples_split=2, splitter=best; accuracy: (train=0.908, test=0.532) f1_weighted: (train=0.907, test=0.528) prec_macro: (train=0.915, test=0.365) rec_macro: (train=0.825, test=0.377) total time=   0.0s\n",
      "[CV 4/10] END criterion=gini, max_depth=10, min_samples_split=2, splitter=best; accuracy: (train=0.871, test=0.558) f1_weighted: (train=0.868, test=0.529) prec_macro: (train=0.880, test=0.308) rec_macro: (train=0.772, test=0.345) total time=   0.0s\n",
      "[CV 5/10] END criterion=gini, max_depth=10, min_samples_split=2, splitter=best; accuracy: (train=0.927, test=0.416) f1_weighted: (train=0.926, test=0.406) prec_macro: (train=0.935, test=0.287) rec_macro: (train=0.870, test=0.331) total time=   0.0s\n",
      "[CV 6/10] END criterion=gini, max_depth=10, min_samples_split=2, splitter=best; accuracy: (train=0.917, test=0.519) f1_weighted: (train=0.916, test=0.495) prec_macro: (train=0.921, test=0.303) rec_macro: (train=0.851, test=0.302) total time=   0.0s\n",
      "[CV 7/10] END criterion=gini, max_depth=10, min_samples_split=2, splitter=best; accuracy: (train=0.929, test=0.584) f1_weighted: (train=0.928, test=0.585) prec_macro: (train=0.938, test=0.662) rec_macro: (train=0.868, test=0.527) total time=   0.0s\n",
      "[CV 8/10] END criterion=gini, max_depth=10, min_samples_split=2, splitter=best; accuracy: (train=0.888, test=0.519) f1_weighted: (train=0.886, test=0.518) prec_macro: (train=0.878, test=0.329) rec_macro: (train=0.801, test=0.328) total time=   0.0s\n",
      "[CV 9/10] END criterion=gini, max_depth=10, min_samples_split=2, splitter=best; accuracy: (train=0.927, test=0.468) f1_weighted: (train=0.926, test=0.456) prec_macro: (train=0.954, test=0.294) rec_macro: (train=0.886, test=0.282) total time=   0.0s\n",
      "[CV 10/10] END criterion=gini, max_depth=10, min_samples_split=2, splitter=best; accuracy: (train=0.931, test=0.545) f1_weighted: (train=0.931, test=0.545) prec_macro: (train=0.952, test=0.386) rec_macro: (train=0.892, test=0.401) total time=   0.0s\n",
      "[CV 1/10] END criterion=gini, max_depth=10, min_samples_split=2, splitter=random; accuracy: (train=0.873, test=0.462) f1_weighted: (train=0.873, test=0.444) prec_macro: (train=0.890, test=0.236) rec_macro: (train=0.799, test=0.248) total time=   0.0s\n",
      "[CV 2/10] END criterion=gini, max_depth=10, min_samples_split=2, splitter=random; accuracy: (train=0.863, test=0.564) f1_weighted: (train=0.862, test=0.565) prec_macro: (train=0.846, test=0.354) rec_macro: (train=0.803, test=0.356) total time=   0.0s\n",
      "[CV 3/10] END criterion=gini, max_depth=10, min_samples_split=2, splitter=random; accuracy: (train=0.863, test=0.584) f1_weighted: (train=0.863, test=0.588) prec_macro: (train=0.895, test=0.444) rec_macro: (train=0.773, test=0.412) total time=   0.0s\n",
      "[CV 4/10] END criterion=gini, max_depth=10, min_samples_split=2, splitter=random; accuracy: (train=0.889, test=0.494) f1_weighted: (train=0.889, test=0.484) prec_macro: (train=0.862, test=0.295) rec_macro: (train=0.826, test=0.302) total time=   0.0s\n",
      "[CV 5/10] END criterion=gini, max_depth=10, min_samples_split=2, splitter=random; accuracy: (train=0.869, test=0.519) f1_weighted: (train=0.868, test=0.501) prec_macro: (train=0.871, test=0.324) rec_macro: (train=0.783, test=0.322) total time=   0.0s\n",
      "[CV 6/10] END criterion=gini, max_depth=10, min_samples_split=2, splitter=random; accuracy: (train=0.873, test=0.545) f1_weighted: (train=0.875, test=0.541) prec_macro: (train=0.907, test=0.395) rec_macro: (train=0.811, test=0.377) total time=   0.0s\n",
      "[CV 7/10] END criterion=gini, max_depth=10, min_samples_split=2, splitter=random; accuracy: (train=0.829, test=0.429) f1_weighted: (train=0.825, test=0.409) prec_macro: (train=0.832, test=0.239) rec_macro: (train=0.716, test=0.242) total time=   0.0s\n",
      "[CV 8/10] END criterion=gini, max_depth=10, min_samples_split=2, splitter=random; accuracy: (train=0.849, test=0.494) f1_weighted: (train=0.848, test=0.500) prec_macro: (train=0.866, test=0.333) rec_macro: (train=0.777, test=0.320) total time=   0.0s\n",
      "[CV 9/10] END criterion=gini, max_depth=10, min_samples_split=2, splitter=random; accuracy: (train=0.843, test=0.390) f1_weighted: (train=0.840, test=0.403) prec_macro: (train=0.902, test=0.238) rec_macro: (train=0.721, test=0.215) total time=   0.0s\n",
      "[CV 10/10] END criterion=gini, max_depth=10, min_samples_split=2, splitter=random; accuracy: (train=0.846, test=0.455) f1_weighted: (train=0.845, test=0.447) prec_macro: (train=0.880, test=0.274) rec_macro: (train=0.751, test=0.247) total time=   0.0s\n",
      "[CV 1/10] END criterion=gini, max_depth=10, min_samples_split=3, splitter=best; accuracy: (train=0.865, test=0.615) f1_weighted: (train=0.860, test=0.595) prec_macro: (train=0.881, test=0.436) rec_macro: (train=0.727, test=0.402) total time=   0.0s\n",
      "[CV 2/10] END criterion=gini, max_depth=10, min_samples_split=3, splitter=best; accuracy: (train=0.890, test=0.526) f1_weighted: (train=0.888, test=0.522) prec_macro: (train=0.900, test=0.373) rec_macro: (train=0.796, test=0.349) total time=   0.0s\n",
      "[CV 3/10] END criterion=gini, max_depth=10, min_samples_split=3, splitter=best; accuracy: (train=0.883, test=0.519) f1_weighted: (train=0.879, test=0.515) prec_macro: (train=0.903, test=0.387) rec_macro: (train=0.752, test=0.385) total time=   0.0s\n",
      "[CV 4/10] END criterion=gini, max_depth=10, min_samples_split=3, splitter=best; accuracy: (train=0.846, test=0.558) f1_weighted: (train=0.842, test=0.525) prec_macro: (train=0.857, test=0.304) rec_macro: (train=0.732, test=0.328) total time=   0.0s\n",
      "[CV 5/10] END criterion=gini, max_depth=10, min_samples_split=3, splitter=best; accuracy: (train=0.909, test=0.468) f1_weighted: (train=0.908, test=0.454) prec_macro: (train=0.912, test=0.305) rec_macro: (train=0.858, test=0.357) total time=   0.0s\n",
      "[CV 6/10] END criterion=gini, max_depth=10, min_samples_split=3, splitter=best; accuracy: (train=0.896, test=0.545) f1_weighted: (train=0.894, test=0.518) prec_macro: (train=0.905, test=0.300) rec_macro: (train=0.806, test=0.333) total time=   0.0s\n",
      "[CV 7/10] END criterion=gini, max_depth=10, min_samples_split=3, splitter=best; accuracy: (train=0.905, test=0.571) f1_weighted: (train=0.903, test=0.567) prec_macro: (train=0.923, test=0.633) rec_macro: (train=0.831, test=0.505) total time=   0.0s\n",
      "[CV 8/10] END criterion=gini, max_depth=10, min_samples_split=3, splitter=best; accuracy: (train=0.863, test=0.519) f1_weighted: (train=0.859, test=0.515) prec_macro: (train=0.865, test=0.325) rec_macro: (train=0.742, test=0.328) total time=   0.0s\n",
      "[CV 9/10] END criterion=gini, max_depth=10, min_samples_split=3, splitter=best; accuracy: (train=0.912, test=0.481) f1_weighted: (train=0.911, test=0.455) prec_macro: (train=0.941, test=0.259) rec_macro: (train=0.858, test=0.278) total time=   0.0s\n",
      "[CV 10/10] END criterion=gini, max_depth=10, min_samples_split=3, splitter=best; accuracy: (train=0.909, test=0.532) f1_weighted: (train=0.908, test=0.530) prec_macro: (train=0.932, test=0.364) rec_macro: (train=0.845, test=0.375) total time=   0.0s\n",
      "[CV 1/10] END criterion=gini, max_depth=10, min_samples_split=3, splitter=random; accuracy: (train=0.818, test=0.564) f1_weighted: (train=0.809, test=0.525) prec_macro: (train=0.856, test=0.329) rec_macro: (train=0.652, test=0.326) total time=   0.0s\n",
      "[CV 2/10] END criterion=gini, max_depth=10, min_samples_split=3, splitter=random; accuracy: (train=0.831, test=0.474) f1_weighted: (train=0.830, test=0.456) prec_macro: (train=0.856, test=0.240) rec_macro: (train=0.744, test=0.258) total time=   0.0s\n",
      "[CV 3/10] END criterion=gini, max_depth=10, min_samples_split=3, splitter=random; accuracy: (train=0.829, test=0.584) f1_weighted: (train=0.823, test=0.567) prec_macro: (train=0.865, test=0.451) rec_macro: (train=0.706, test=0.395) total time=   0.0s\n",
      "[CV 4/10] END criterion=gini, max_depth=10, min_samples_split=3, splitter=random; accuracy: (train=0.823, test=0.597) f1_weighted: (train=0.818, test=0.572) prec_macro: (train=0.861, test=0.396) rec_macro: (train=0.696, test=0.378) total time=   0.0s\n",
      "[CV 5/10] END criterion=gini, max_depth=10, min_samples_split=3, splitter=random; accuracy: (train=0.832, test=0.455) f1_weighted: (train=0.825, test=0.438) prec_macro: (train=0.885, test=0.297) rec_macro: (train=0.711, test=0.277) total time=   0.0s\n"
     ]
    },
    {
     "name": "stdout",
     "output_type": "stream",
     "text": [
      "[CV 6/10] END criterion=gini, max_depth=10, min_samples_split=3, splitter=random; accuracy: (train=0.860, test=0.623) f1_weighted: (train=0.857, test=0.611) prec_macro: (train=0.884, test=0.438) rec_macro: (train=0.753, test=0.388) total time=   0.0s\n",
      "[CV 7/10] END criterion=gini, max_depth=10, min_samples_split=3, splitter=random; accuracy: (train=0.833, test=0.494) f1_weighted: (train=0.830, test=0.488) prec_macro: (train=0.844, test=0.282) rec_macro: (train=0.724, test=0.287) total time=   0.0s\n",
      "[CV 8/10] END criterion=gini, max_depth=10, min_samples_split=3, splitter=random; accuracy: (train=0.829, test=0.571) f1_weighted: (train=0.824, test=0.552) prec_macro: (train=0.831, test=0.359) rec_macro: (train=0.688, test=0.352) total time=   0.0s\n",
      "[CV 9/10] END criterion=gini, max_depth=10, min_samples_split=3, splitter=random; accuracy: (train=0.866, test=0.597) f1_weighted: (train=0.864, test=0.569) prec_macro: (train=0.895, test=0.367) rec_macro: (train=0.784, test=0.353) total time=   0.0s\n",
      "[CV 10/10] END criterion=gini, max_depth=10, min_samples_split=3, splitter=random; accuracy: (train=0.850, test=0.519) f1_weighted: (train=0.846, test=0.507) prec_macro: (train=0.867, test=0.321) rec_macro: (train=0.721, test=0.331) total time=   0.0s\n",
      "[CV 1/10] END criterion=gini, max_depth=10, min_samples_split=4, splitter=best; accuracy: (train=0.850, test=0.603) f1_weighted: (train=0.844, test=0.582) prec_macro: (train=0.865, test=0.404) rec_macro: (train=0.698, test=0.396) total time=   0.0s\n",
      "[CV 2/10] END criterion=gini, max_depth=10, min_samples_split=4, splitter=best; accuracy: (train=0.870, test=0.513) f1_weighted: (train=0.867, test=0.486) prec_macro: (train=0.881, test=0.268) rec_macro: (train=0.754, test=0.308) total time=   0.0s\n",
      "[CV 3/10] END criterion=gini, max_depth=10, min_samples_split=4, splitter=best; accuracy: (train=0.863, test=0.519) f1_weighted: (train=0.859, test=0.519) prec_macro: (train=0.887, test=0.370) rec_macro: (train=0.732, test=0.372) total time=   0.0s\n",
      "[CV 4/10] END criterion=gini, max_depth=10, min_samples_split=4, splitter=best; accuracy: (train=0.830, test=0.571) f1_weighted: (train=0.825, test=0.531) prec_macro: (train=0.842, test=0.306) rec_macro: (train=0.701, test=0.334) total time=   0.0s\n",
      "[CV 5/10] END criterion=gini, max_depth=10, min_samples_split=4, splitter=best; accuracy: (train=0.883, test=0.468) f1_weighted: (train=0.882, test=0.445) prec_macro: (train=0.895, test=0.309) rec_macro: (train=0.815, test=0.357) total time=   0.0s\n",
      "[CV 6/10] END criterion=gini, max_depth=10, min_samples_split=4, splitter=best; accuracy: (train=0.873, test=0.571) f1_weighted: (train=0.870, test=0.550) prec_macro: (train=0.857, test=0.371) rec_macro: (train=0.750, test=0.364) total time=   0.0s\n",
      "[CV 7/10] END criterion=gini, max_depth=10, min_samples_split=4, splitter=best; accuracy: (train=0.889, test=0.571) f1_weighted: (train=0.886, test=0.562) prec_macro: (train=0.895, test=0.430) rec_macro: (train=0.793, test=0.414) total time=   0.0s\n",
      "[CV 8/10] END criterion=gini, max_depth=10, min_samples_split=4, splitter=best; accuracy: (train=0.845, test=0.532) f1_weighted: (train=0.840, test=0.532) prec_macro: (train=0.838, test=0.352) rec_macro: (train=0.724, test=0.351) total time=   0.0s\n",
      "[CV 9/10] END criterion=gini, max_depth=10, min_samples_split=4, splitter=best; accuracy: (train=0.891, test=0.468) f1_weighted: (train=0.889, test=0.448) prec_macro: (train=0.912, test=0.256) rec_macro: (train=0.819, test=0.269) total time=   0.0s\n",
      "[CV 10/10] END criterion=gini, max_depth=10, min_samples_split=4, splitter=best; accuracy: (train=0.886, test=0.506) f1_weighted: (train=0.884, test=0.507) prec_macro: (train=0.896, test=0.351) rec_macro: (train=0.829, test=0.345) total time=   0.0s\n",
      "[CV 1/10] END criterion=gini, max_depth=10, min_samples_split=4, splitter=random; accuracy: (train=0.823, test=0.513) f1_weighted: (train=0.817, test=0.479) prec_macro: (train=0.824, test=0.272) rec_macro: (train=0.684, test=0.301) total time=   0.0s\n",
      "[CV 2/10] END criterion=gini, max_depth=10, min_samples_split=4, splitter=random; accuracy: (train=0.791, test=0.551) f1_weighted: (train=0.783, test=0.529) prec_macro: (train=0.790, test=0.323) rec_macro: (train=0.653, test=0.323) total time=   0.0s\n",
      "[CV 3/10] END criterion=gini, max_depth=10, min_samples_split=4, splitter=random; accuracy: (train=0.791, test=0.532) f1_weighted: (train=0.781, test=0.512) prec_macro: (train=0.816, test=0.353) rec_macro: (train=0.616, test=0.306) total time=   0.0s\n",
      "[CV 4/10] END criterion=gini, max_depth=10, min_samples_split=4, splitter=random; accuracy: (train=0.816, test=0.481) f1_weighted: (train=0.809, test=0.461) prec_macro: (train=0.828, test=0.252) rec_macro: (train=0.670, test=0.271) total time=   0.0s\n",
      "[CV 5/10] END criterion=gini, max_depth=10, min_samples_split=4, splitter=random; accuracy: (train=0.827, test=0.506) f1_weighted: (train=0.822, test=0.500) prec_macro: (train=0.817, test=0.319) rec_macro: (train=0.701, test=0.327) total time=   0.0s\n",
      "[CV 6/10] END criterion=gini, max_depth=10, min_samples_split=4, splitter=random; accuracy: (train=0.839, test=0.558) f1_weighted: (train=0.837, test=0.534) prec_macro: (train=0.854, test=0.344) rec_macro: (train=0.739, test=0.341) total time=   0.0s\n",
      "[CV 7/10] END criterion=gini, max_depth=10, min_samples_split=4, splitter=random; accuracy: (train=0.793, test=0.455) f1_weighted: (train=0.788, test=0.447) prec_macro: (train=0.743, test=0.292) rec_macro: (train=0.685, test=0.313) total time=   0.0s\n",
      "[CV 8/10] END criterion=gini, max_depth=10, min_samples_split=4, splitter=random; accuracy: (train=0.790, test=0.481) f1_weighted: (train=0.782, test=0.460) prec_macro: (train=0.795, test=0.248) rec_macro: (train=0.667, test=0.265) total time=   0.0s\n",
      "[CV 9/10] END criterion=gini, max_depth=10, min_samples_split=4, splitter=random; accuracy: (train=0.787, test=0.506) f1_weighted: (train=0.778, test=0.480) prec_macro: (train=0.833, test=0.310) rec_macro: (train=0.627, test=0.293) total time=   0.0s\n",
      "[CV 10/10] END criterion=gini, max_depth=10, min_samples_split=4, splitter=random; accuracy: (train=0.780, test=0.429) f1_weighted: (train=0.777, test=0.436) prec_macro: (train=0.753, test=0.324) rec_macro: (train=0.651, test=0.290) total time=   0.0s\n",
      "[CV 1/10] END criterion=entropy, max_depth=6, min_samples_split=2, splitter=best; accuracy: (train=0.695, test=0.538) f1_weighted: (train=0.677, test=0.512) prec_macro: (train=0.704, test=0.466) rec_macro: (train=0.527, test=0.360) total time=   0.0s\n",
      "[CV 2/10] END criterion=entropy, max_depth=6, min_samples_split=2, splitter=best; accuracy: (train=0.723, test=0.577) f1_weighted: (train=0.711, test=0.551) prec_macro: (train=0.759, test=0.328) rec_macro: (train=0.557, test=0.332) total time=   0.0s\n",
      "[CV 3/10] END criterion=entropy, max_depth=6, min_samples_split=2, splitter=best; accuracy: (train=0.676, test=0.416) f1_weighted: (train=0.646, test=0.369) prec_macro: (train=0.739, test=0.177) rec_macro: (train=0.458, test=0.211) total time=   0.0s\n",
      "[CV 4/10] END criterion=entropy, max_depth=6, min_samples_split=2, splitter=best; accuracy: (train=0.715, test=0.623) f1_weighted: (train=0.706, test=0.601) prec_macro: (train=0.745, test=0.440) rec_macro: (train=0.540, test=0.415) total time=   0.0s\n",
      "[CV 5/10] END criterion=entropy, max_depth=6, min_samples_split=2, splitter=best; accuracy: (train=0.714, test=0.558) f1_weighted: (train=0.701, test=0.551) prec_macro: (train=0.727, test=0.397) rec_macro: (train=0.522, test=0.395) total time=   0.0s\n",
      "[CV 6/10] END criterion=entropy, max_depth=6, min_samples_split=2, splitter=best; accuracy: (train=0.694, test=0.519) f1_weighted: (train=0.685, test=0.489) prec_macro: (train=0.674, test=0.286) rec_macro: (train=0.562, test=0.299) total time=   0.0s\n",
      "[CV 7/10] END criterion=entropy, max_depth=6, min_samples_split=2, splitter=best; accuracy: (train=0.706, test=0.519) f1_weighted: (train=0.691, test=0.469) prec_macro: (train=0.739, test=0.452) rec_macro: (train=0.542, test=0.393) total time=   0.0s\n",
      "[CV 8/10] END criterion=entropy, max_depth=6, min_samples_split=2, splitter=best; accuracy: (train=0.692, test=0.506) f1_weighted: (train=0.666, test=0.469) prec_macro: (train=0.740, test=0.269) rec_macro: (train=0.485, test=0.299) total time=   0.0s\n",
      "[CV 9/10] END criterion=entropy, max_depth=6, min_samples_split=2, splitter=best; accuracy: (train=0.711, test=0.545) f1_weighted: (train=0.693, test=0.495) prec_macro: (train=0.707, test=0.270) rec_macro: (train=0.504, test=0.310) total time=   0.0s\n",
      "[CV 10/10] END criterion=entropy, max_depth=6, min_samples_split=2, splitter=best; accuracy: (train=0.698, test=0.571) f1_weighted: (train=0.674, test=0.545) prec_macro: (train=0.768, test=0.398) rec_macro: (train=0.479, test=0.357) total time=   0.0s\n",
      "[CV 1/10] END criterion=entropy, max_depth=6, min_samples_split=2, splitter=random; accuracy: (train=0.648, test=0.500) f1_weighted: (train=0.621, test=0.462) prec_macro: (train=0.708, test=0.261) rec_macro: (train=0.427, test=0.282) total time=   0.0s\n",
      "[CV 2/10] END criterion=entropy, max_depth=6, min_samples_split=2, splitter=random; accuracy: (train=0.650, test=0.500) f1_weighted: (train=0.613, test=0.447) prec_macro: (train=0.662, test=0.205) rec_macro: (train=0.425, test=0.250) total time=   0.0s\n",
      "[CV 3/10] END criterion=entropy, max_depth=6, min_samples_split=2, splitter=random; accuracy: (train=0.656, test=0.545) f1_weighted: (train=0.637, test=0.522) prec_macro: (train=0.694, test=0.304) rec_macro: (train=0.475, test=0.320) total time=   0.0s\n",
      "[CV 4/10] END criterion=entropy, max_depth=6, min_samples_split=2, splitter=random; accuracy: (train=0.649, test=0.597) f1_weighted: (train=0.629, test=0.563) prec_macro: (train=0.694, test=0.302) rec_macro: (train=0.434, test=0.336) total time=   0.0s\n",
      "[CV 5/10] END criterion=entropy, max_depth=6, min_samples_split=2, splitter=random; accuracy: (train=0.665, test=0.532) f1_weighted: (train=0.638, test=0.500) prec_macro: (train=0.696, test=0.316) rec_macro: (train=0.441, test=0.306) total time=   0.0s\n",
      "[CV 6/10] END criterion=entropy, max_depth=6, min_samples_split=2, splitter=random; accuracy: (train=0.656, test=0.597) f1_weighted: (train=0.635, test=0.576) prec_macro: (train=0.469, test=0.375) rec_macro: (train=0.432, test=0.370) total time=   0.0s\n"
     ]
    },
    {
     "name": "stdout",
     "output_type": "stream",
     "text": [
      "[CV 7/10] END criterion=entropy, max_depth=6, min_samples_split=2, splitter=random; accuracy: (train=0.658, test=0.558) f1_weighted: (train=0.640, test=0.546) prec_macro: (train=0.685, test=0.354) rec_macro: (train=0.472, test=0.362) total time=   0.0s\n",
      "[CV 8/10] END criterion=entropy, max_depth=6, min_samples_split=2, splitter=random; accuracy: (train=0.646, test=0.584) f1_weighted: (train=0.627, test=0.568) prec_macro: (train=0.661, test=0.373) rec_macro: (train=0.452, test=0.367) total time=   0.0s\n",
      "[CV 9/10] END criterion=entropy, max_depth=6, min_samples_split=2, splitter=random; accuracy: (train=0.672, test=0.571) f1_weighted: (train=0.653, test=0.549) prec_macro: (train=0.669, test=0.361) rec_macro: (train=0.467, test=0.345) total time=   0.0s\n",
      "[CV 10/10] END criterion=entropy, max_depth=6, min_samples_split=2, splitter=random; accuracy: (train=0.679, test=0.649) f1_weighted: (train=0.661, test=0.630) prec_macro: (train=0.693, test=0.461) rec_macro: (train=0.485, test=0.444) total time=   0.0s\n",
      "[CV 1/10] END criterion=entropy, max_depth=6, min_samples_split=3, splitter=best; accuracy: (train=0.693, test=0.538) f1_weighted: (train=0.676, test=0.512) prec_macro: (train=0.704, test=0.466) rec_macro: (train=0.528, test=0.360) total time=   0.0s\n",
      "[CV 2/10] END criterion=entropy, max_depth=6, min_samples_split=3, splitter=best; accuracy: (train=0.723, test=0.577) f1_weighted: (train=0.711, test=0.551) prec_macro: (train=0.759, test=0.328) rec_macro: (train=0.557, test=0.332) total time=   0.0s\n",
      "[CV 3/10] END criterion=entropy, max_depth=6, min_samples_split=3, splitter=best; accuracy: (train=0.676, test=0.416) f1_weighted: (train=0.646, test=0.369) prec_macro: (train=0.739, test=0.177) rec_macro: (train=0.450, test=0.211) total time=   0.0s\n",
      "[CV 4/10] END criterion=entropy, max_depth=6, min_samples_split=3, splitter=best; accuracy: (train=0.714, test=0.623) f1_weighted: (train=0.704, test=0.601) prec_macro: (train=0.744, test=0.440) rec_macro: (train=0.539, test=0.415) total time=   0.0s\n",
      "[CV 5/10] END criterion=entropy, max_depth=6, min_samples_split=3, splitter=best; accuracy: (train=0.711, test=0.545) f1_weighted: (train=0.695, test=0.535) prec_macro: (train=0.725, test=0.376) rec_macro: (train=0.507, test=0.386) total time=   0.0s\n",
      "[CV 6/10] END criterion=entropy, max_depth=6, min_samples_split=3, splitter=best; accuracy: (train=0.689, test=0.519) f1_weighted: (train=0.680, test=0.489) prec_macro: (train=0.695, test=0.286) rec_macro: (train=0.547, test=0.299) total time=   0.0s\n",
      "[CV 7/10] END criterion=entropy, max_depth=6, min_samples_split=3, splitter=best; accuracy: (train=0.705, test=0.494) f1_weighted: (train=0.689, test=0.445) prec_macro: (train=0.742, test=0.434) rec_macro: (train=0.532, test=0.378) total time=   0.0s\n",
      "[CV 8/10] END criterion=entropy, max_depth=6, min_samples_split=3, splitter=best; accuracy: (train=0.689, test=0.494) f1_weighted: (train=0.664, test=0.458) prec_macro: (train=0.737, test=0.262) rec_macro: (train=0.482, test=0.294) total time=   0.0s\n",
      "[CV 9/10] END criterion=entropy, max_depth=6, min_samples_split=3, splitter=best; accuracy: (train=0.708, test=0.545) f1_weighted: (train=0.689, test=0.497) prec_macro: (train=0.703, test=0.277) rec_macro: (train=0.499, test=0.310) total time=   0.0s\n",
      "[CV 10/10] END criterion=entropy, max_depth=6, min_samples_split=3, splitter=best; accuracy: (train=0.696, test=0.584) f1_weighted: (train=0.672, test=0.555) prec_macro: (train=0.767, test=0.402) rec_macro: (train=0.477, test=0.363) total time=   0.0s\n",
      "[CV 1/10] END criterion=entropy, max_depth=6, min_samples_split=3, splitter=random; accuracy: (train=0.648, test=0.526) f1_weighted: (train=0.612, test=0.474) prec_macro: (train=0.586, test=0.305) rec_macro: (train=0.413, test=0.287) total time=   0.0s\n",
      "[CV 2/10] END criterion=entropy, max_depth=6, min_samples_split=3, splitter=random; accuracy: (train=0.659, test=0.551) f1_weighted: (train=0.637, test=0.536) prec_macro: (train=0.662, test=0.349) rec_macro: (train=0.466, test=0.320) total time=   0.0s\n",
      "[CV 3/10] END criterion=entropy, max_depth=6, min_samples_split=3, splitter=random; accuracy: (train=0.637, test=0.571) f1_weighted: (train=0.610, test=0.550) prec_macro: (train=0.724, test=0.311) rec_macro: (train=0.409, test=0.346) total time=   0.0s\n",
      "[CV 4/10] END criterion=entropy, max_depth=6, min_samples_split=3, splitter=random; accuracy: (train=0.647, test=0.558) f1_weighted: (train=0.632, test=0.530) prec_macro: (train=0.665, test=0.278) rec_macro: (train=0.471, test=0.298) total time=   0.0s\n",
      "[CV 5/10] END criterion=entropy, max_depth=6, min_samples_split=3, splitter=random; accuracy: (train=0.663, test=0.506) f1_weighted: (train=0.640, test=0.489) prec_macro: (train=0.685, test=0.318) rec_macro: (train=0.457, test=0.291) total time=   0.0s\n",
      "[CV 6/10] END criterion=entropy, max_depth=6, min_samples_split=3, splitter=random; accuracy: (train=0.665, test=0.532) f1_weighted: (train=0.652, test=0.501) prec_macro: (train=0.628, test=0.269) rec_macro: (train=0.528, test=0.287) total time=   0.0s\n",
      "[CV 7/10] END criterion=entropy, max_depth=6, min_samples_split=3, splitter=random; accuracy: (train=0.656, test=0.506) f1_weighted: (train=0.612, test=0.460) prec_macro: (train=0.740, test=0.253) rec_macro: (train=0.394, test=0.277) total time=   0.0s\n",
      "[CV 8/10] END criterion=entropy, max_depth=6, min_samples_split=3, splitter=random; accuracy: (train=0.652, test=0.571) f1_weighted: (train=0.624, test=0.545) prec_macro: (train=0.521, test=0.415) rec_macro: (train=0.411, test=0.362) total time=   0.0s\n",
      "[CV 9/10] END criterion=entropy, max_depth=6, min_samples_split=3, splitter=random; accuracy: (train=0.658, test=0.532) f1_weighted: (train=0.629, test=0.479) prec_macro: (train=0.636, test=0.310) rec_macro: (train=0.451, test=0.295) total time=   0.0s\n",
      "[CV 10/10] END criterion=entropy, max_depth=6, min_samples_split=3, splitter=random; accuracy: (train=0.647, test=0.558) f1_weighted: (train=0.607, test=0.498) prec_macro: (train=0.812, test=0.234) rec_macro: (train=0.419, test=0.300) total time=   0.0s\n",
      "[CV 1/10] END criterion=entropy, max_depth=6, min_samples_split=4, splitter=best; accuracy: (train=0.689, test=0.538) f1_weighted: (train=0.671, test=0.512) prec_macro: (train=0.691, test=0.466) rec_macro: (train=0.505, test=0.360) total time=   0.0s\n",
      "[CV 2/10] END criterion=entropy, max_depth=6, min_samples_split=4, splitter=best; accuracy: (train=0.722, test=0.564) f1_weighted: (train=0.710, test=0.541) prec_macro: (train=0.756, test=0.323) rec_macro: (train=0.556, test=0.323) total time=   0.0s\n",
      "[CV 3/10] END criterion=entropy, max_depth=6, min_samples_split=4, splitter=best; accuracy: (train=0.672, test=0.429) f1_weighted: (train=0.639, test=0.377) prec_macro: (train=0.738, test=0.181) rec_macro: (train=0.437, test=0.217) total time=   0.0s\n",
      "[CV 4/10] END criterion=entropy, max_depth=6, min_samples_split=4, splitter=best; accuracy: (train=0.709, test=0.623) f1_weighted: (train=0.699, test=0.601) prec_macro: (train=0.737, test=0.440) rec_macro: (train=0.524, test=0.415) total time=   0.0s\n",
      "[CV 5/10] END criterion=entropy, max_depth=6, min_samples_split=4, splitter=best; accuracy: (train=0.709, test=0.532) f1_weighted: (train=0.694, test=0.522) prec_macro: (train=0.721, test=0.365) rec_macro: (train=0.506, test=0.361) total time=   0.0s\n",
      "[CV 6/10] END criterion=entropy, max_depth=6, min_samples_split=4, splitter=best; accuracy: (train=0.688, test=0.519) f1_weighted: (train=0.679, test=0.489) prec_macro: (train=0.666, test=0.286) rec_macro: (train=0.557, test=0.299) total time=   0.0s\n",
      "[CV 7/10] END criterion=entropy, max_depth=6, min_samples_split=4, splitter=best; accuracy: (train=0.702, test=0.481) f1_weighted: (train=0.686, test=0.428) prec_macro: (train=0.735, test=0.234) rec_macro: (train=0.529, test=0.278) total time=   0.0s\n",
      "[CV 8/10] END criterion=entropy, max_depth=6, min_samples_split=4, splitter=best; accuracy: (train=0.688, test=0.506) f1_weighted: (train=0.660, test=0.469) prec_macro: (train=0.727, test=0.269) rec_macro: (train=0.470, test=0.299) total time=   0.0s\n",
      "[CV 9/10] END criterion=entropy, max_depth=6, min_samples_split=4, splitter=best; accuracy: (train=0.705, test=0.545) f1_weighted: (train=0.685, test=0.498) prec_macro: (train=0.678, test=0.277) rec_macro: (train=0.487, test=0.310) total time=   0.0s\n",
      "[CV 10/10] END criterion=entropy, max_depth=6, min_samples_split=4, splitter=best; accuracy: (train=0.695, test=0.584) f1_weighted: (train=0.671, test=0.555) prec_macro: (train=0.765, test=0.402) rec_macro: (train=0.476, test=0.363) total time=   0.0s\n",
      "[CV 1/10] END criterion=entropy, max_depth=6, min_samples_split=4, splitter=random; accuracy: (train=0.663, test=0.474) f1_weighted: (train=0.646, test=0.444) prec_macro: (train=0.697, test=0.262) rec_macro: (train=0.461, test=0.257) total time=   0.0s\n",
      "[CV 2/10] END criterion=entropy, max_depth=6, min_samples_split=4, splitter=random; accuracy: (train=0.643, test=0.590) f1_weighted: (train=0.602, test=0.559) prec_macro: (train=0.692, test=0.420) rec_macro: (train=0.420, test=0.395) total time=   0.0s\n",
      "[CV 3/10] END criterion=entropy, max_depth=6, min_samples_split=4, splitter=random; accuracy: (train=0.655, test=0.597) f1_weighted: (train=0.622, test=0.551) prec_macro: (train=0.657, test=0.285) rec_macro: (train=0.446, test=0.327) total time=   0.0s\n",
      "[CV 4/10] END criterion=entropy, max_depth=6, min_samples_split=4, splitter=random; accuracy: (train=0.662, test=0.584) f1_weighted: (train=0.639, test=0.554) prec_macro: (train=0.497, test=0.338) rec_macro: (train=0.448, test=0.356) total time=   0.0s\n",
      "[CV 5/10] END criterion=entropy, max_depth=6, min_samples_split=4, splitter=random; accuracy: (train=0.656, test=0.532) f1_weighted: (train=0.624, test=0.500) prec_macro: (train=0.629, test=0.328) rec_macro: (train=0.441, test=0.320) total time=   0.0s\n",
      "[CV 6/10] END criterion=entropy, max_depth=6, min_samples_split=4, splitter=random; accuracy: (train=0.637, test=0.545) f1_weighted: (train=0.612, test=0.493) prec_macro: (train=0.637, test=0.226) rec_macro: (train=0.430, test=0.279) total time=   0.0s\n",
      "[CV 7/10] END criterion=entropy, max_depth=6, min_samples_split=4, splitter=random; accuracy: (train=0.658, test=0.506) f1_weighted: (train=0.626, test=0.471) prec_macro: (train=0.685, test=0.272) rec_macro: (train=0.424, test=0.286) total time=   0.0s\n",
      "[CV 8/10] END criterion=entropy, max_depth=6, min_samples_split=4, splitter=random; accuracy: (train=0.653, test=0.571) f1_weighted: (train=0.625, test=0.537) prec_macro: (train=0.693, test=0.286) rec_macro: (train=0.423, test=0.315) total time=   0.0s\n",
      "[CV 9/10] END criterion=entropy, max_depth=6, min_samples_split=4, splitter=random; accuracy: (train=0.642, test=0.532) f1_weighted: (train=0.607, test=0.504) prec_macro: (train=0.576, test=0.483) rec_macro: (train=0.407, test=0.311) total time=   0.0s\n",
      "[CV 10/10] END criterion=entropy, max_depth=6, min_samples_split=4, splitter=random; accuracy: (train=0.629, test=0.532) f1_weighted: (train=0.591, test=0.478) prec_macro: (train=0.701, test=0.276) rec_macro: (train=0.394, test=0.294) total time=   0.0s\n"
     ]
    },
    {
     "name": "stdout",
     "output_type": "stream",
     "text": [
      "[CV 1/10] END criterion=entropy, max_depth=7, min_samples_split=2, splitter=best; accuracy: (train=0.769, test=0.551) f1_weighted: (train=0.763, test=0.539) prec_macro: (train=0.800, test=0.533) rec_macro: (train=0.631, test=0.391) total time=   0.0s\n",
      "[CV 2/10] END criterion=entropy, max_depth=7, min_samples_split=2, splitter=best; accuracy: (train=0.775, test=0.526) f1_weighted: (train=0.771, test=0.511) prec_macro: (train=0.827, test=0.338) rec_macro: (train=0.653, test=0.289) total time=   0.0s\n",
      "[CV 3/10] END criterion=entropy, max_depth=7, min_samples_split=2, splitter=best; accuracy: (train=0.737, test=0.377) f1_weighted: (train=0.718, test=0.367) prec_macro: (train=0.829, test=0.372) rec_macro: (train=0.528, test=0.216) total time=   0.0s\n",
      "[CV 4/10] END criterion=entropy, max_depth=7, min_samples_split=2, splitter=best; accuracy: (train=0.755, test=0.610) f1_weighted: (train=0.750, test=0.587) prec_macro: (train=0.770, test=0.388) rec_macro: (train=0.609, test=0.393) total time=   0.0s\n",
      "[CV 5/10] END criterion=entropy, max_depth=7, min_samples_split=2, splitter=best; accuracy: (train=0.786, test=0.545) f1_weighted: (train=0.777, test=0.548) prec_macro: (train=0.782, test=0.396) rec_macro: (train=0.618, test=0.399) total time=   0.0s\n",
      "[CV 6/10] END criterion=entropy, max_depth=7, min_samples_split=2, splitter=best; accuracy: (train=0.753, test=0.545) f1_weighted: (train=0.746, test=0.514) prec_macro: (train=0.780, test=0.342) rec_macro: (train=0.628, test=0.319) total time=   0.0s\n",
      "[CV 7/10] END criterion=entropy, max_depth=7, min_samples_split=2, splitter=best; accuracy: (train=0.770, test=0.532) f1_weighted: (train=0.764, test=0.503) prec_macro: (train=0.791, test=0.475) rec_macro: (train=0.635, test=0.408) total time=   0.0s\n",
      "[CV 8/10] END criterion=entropy, max_depth=7, min_samples_split=2, splitter=best; accuracy: (train=0.744, test=0.416) f1_weighted: (train=0.724, test=0.385) prec_macro: (train=0.750, test=0.181) rec_macro: (train=0.590, test=0.203) total time=   0.0s\n",
      "[CV 9/10] END criterion=entropy, max_depth=7, min_samples_split=2, splitter=best; accuracy: (train=0.764, test=0.481) f1_weighted: (train=0.753, test=0.445) prec_macro: (train=0.757, test=0.239) rec_macro: (train=0.613, test=0.275) total time=   0.0s\n",
      "[CV 10/10] END criterion=entropy, max_depth=7, min_samples_split=2, splitter=best; accuracy: (train=0.748, test=0.545) f1_weighted: (train=0.739, test=0.527) prec_macro: (train=0.757, test=0.363) rec_macro: (train=0.608, test=0.340) total time=   0.0s\n",
      "[CV 1/10] END criterion=entropy, max_depth=7, min_samples_split=2, splitter=random; accuracy: (train=0.718, test=0.513) f1_weighted: (train=0.713, test=0.489) prec_macro: (train=0.753, test=0.440) rec_macro: (train=0.598, test=0.335) total time=   0.0s\n",
      "[CV 2/10] END criterion=entropy, max_depth=7, min_samples_split=2, splitter=random; accuracy: (train=0.695, test=0.603) f1_weighted: (train=0.677, test=0.569) prec_macro: (train=0.652, test=0.390) rec_macro: (train=0.563, test=0.343) total time=   0.0s\n",
      "[CV 3/10] END criterion=entropy, max_depth=7, min_samples_split=2, splitter=random; accuracy: (train=0.718, test=0.532) f1_weighted: (train=0.713, test=0.529) prec_macro: (train=0.712, test=0.461) rec_macro: (train=0.593, test=0.464) total time=   0.0s\n",
      "[CV 4/10] END criterion=entropy, max_depth=7, min_samples_split=2, splitter=random; accuracy: (train=0.679, test=0.610) f1_weighted: (train=0.658, test=0.573) prec_macro: (train=0.728, test=0.419) rec_macro: (train=0.491, test=0.373) total time=   0.0s\n",
      "[CV 5/10] END criterion=entropy, max_depth=7, min_samples_split=2, splitter=random; accuracy: (train=0.694, test=0.494) f1_weighted: (train=0.675, test=0.451) prec_macro: (train=0.748, test=0.215) rec_macro: (train=0.512, test=0.262) total time=   0.0s\n",
      "[CV 6/10] END criterion=entropy, max_depth=7, min_samples_split=2, splitter=random; accuracy: (train=0.698, test=0.558) f1_weighted: (train=0.687, test=0.533) prec_macro: (train=0.708, test=0.335) rec_macro: (train=0.544, test=0.341) total time=   0.0s\n",
      "[CV 7/10] END criterion=entropy, max_depth=7, min_samples_split=2, splitter=random; accuracy: (train=0.714, test=0.429) f1_weighted: (train=0.698, test=0.394) prec_macro: (train=0.764, test=0.237) rec_macro: (train=0.526, test=0.229) total time=   0.0s\n",
      "[CV 8/10] END criterion=entropy, max_depth=7, min_samples_split=2, splitter=random; accuracy: (train=0.695, test=0.571) f1_weighted: (train=0.685, test=0.550) prec_macro: (train=0.637, test=0.338) rec_macro: (train=0.532, test=0.345) total time=   0.0s\n",
      "[CV 9/10] END criterion=entropy, max_depth=7, min_samples_split=2, splitter=random; accuracy: (train=0.708, test=0.545) f1_weighted: (train=0.695, test=0.506) prec_macro: (train=0.674, test=0.355) rec_macro: (train=0.521, test=0.324) total time=   0.0s\n",
      "[CV 10/10] END criterion=entropy, max_depth=7, min_samples_split=2, splitter=random; accuracy: (train=0.747, test=0.532) f1_weighted: (train=0.737, test=0.500) prec_macro: (train=0.786, test=0.366) rec_macro: (train=0.602, test=0.311) total time=   0.0s\n",
      "[CV 1/10] END criterion=entropy, max_depth=7, min_samples_split=3, splitter=best; accuracy: (train=0.768, test=0.551) f1_weighted: (train=0.761, test=0.534) prec_macro: (train=0.800, test=0.343) rec_macro: (train=0.630, test=0.346) total time=   0.0s\n",
      "[CV 2/10] END criterion=entropy, max_depth=7, min_samples_split=3, splitter=best; accuracy: (train=0.777, test=0.538) f1_weighted: (train=0.773, test=0.530) prec_macro: (train=0.829, test=0.357) rec_macro: (train=0.648, test=0.328) total time=   0.0s\n",
      "[CV 3/10] END criterion=entropy, max_depth=7, min_samples_split=3, splitter=best; accuracy: (train=0.732, test=0.403) f1_weighted: (train=0.712, test=0.391) prec_macro: (train=0.824, test=0.386) rec_macro: (train=0.514, test=0.231) total time=   0.0s\n",
      "[CV 4/10] END criterion=entropy, max_depth=7, min_samples_split=3, splitter=best; accuracy: (train=0.753, test=0.610) f1_weighted: (train=0.746, test=0.587) prec_macro: (train=0.769, test=0.395) rec_macro: (train=0.598, test=0.406) total time=   0.0s\n",
      "[CV 5/10] END criterion=entropy, max_depth=7, min_samples_split=3, splitter=best; accuracy: (train=0.781, test=0.519) f1_weighted: (train=0.771, test=0.515) prec_macro: (train=0.779, test=0.366) rec_macro: (train=0.604, test=0.385) total time=   0.0s\n",
      "[CV 6/10] END criterion=entropy, max_depth=7, min_samples_split=3, splitter=best; accuracy: (train=0.747, test=0.532) f1_weighted: (train=0.739, test=0.497) prec_macro: (train=0.777, test=0.306) rec_macro: (train=0.619, test=0.294) total time=   0.0s\n",
      "[CV 7/10] END criterion=entropy, max_depth=7, min_samples_split=3, splitter=best; accuracy: (train=0.767, test=0.558) f1_weighted: (train=0.761, test=0.521) prec_macro: (train=0.789, test=0.493) rec_macro: (train=0.623, test=0.433) total time=   0.0s\n",
      "[CV 8/10] END criterion=entropy, max_depth=7, min_samples_split=3, splitter=best; accuracy: (train=0.740, test=0.429) f1_weighted: (train=0.720, test=0.398) prec_macro: (train=0.742, test=0.202) rec_macro: (train=0.577, test=0.225) total time=   0.0s\n",
      "[CV 9/10] END criterion=entropy, max_depth=7, min_samples_split=3, splitter=best; accuracy: (train=0.757, test=0.481) f1_weighted: (train=0.744, test=0.444) prec_macro: (train=0.745, test=0.241) rec_macro: (train=0.595, test=0.275) total time=   0.0s\n",
      "[CV 10/10] END criterion=entropy, max_depth=7, min_samples_split=3, splitter=best; accuracy: (train=0.744, test=0.545) f1_weighted: (train=0.733, test=0.527) prec_macro: (train=0.749, test=0.363) rec_macro: (train=0.593, test=0.340) total time=   0.0s\n",
      "[CV 1/10] END criterion=entropy, max_depth=7, min_samples_split=3, splitter=random; accuracy: (train=0.710, test=0.500) f1_weighted: (train=0.690, test=0.453) prec_macro: (train=0.760, test=0.210) rec_macro: (train=0.537, test=0.259) total time=   0.0s\n",
      "[CV 2/10] END criterion=entropy, max_depth=7, min_samples_split=3, splitter=random; accuracy: (train=0.702, test=0.551) f1_weighted: (train=0.689, test=0.530) prec_macro: (train=0.713, test=0.353) rec_macro: (train=0.527, test=0.347) total time=   0.0s\n",
      "[CV 3/10] END criterion=entropy, max_depth=7, min_samples_split=3, splitter=random; accuracy: (train=0.702, test=0.571) f1_weighted: (train=0.680, test=0.550) prec_macro: (train=0.729, test=0.393) rec_macro: (train=0.508, test=0.357) total time=   0.0s\n",
      "[CV 4/10] END criterion=entropy, max_depth=7, min_samples_split=3, splitter=random; accuracy: (train=0.711, test=0.610) f1_weighted: (train=0.700, test=0.582) prec_macro: (train=0.667, test=0.356) rec_macro: (train=0.558, test=0.390) total time=   0.0s\n",
      "[CV 5/10] END criterion=entropy, max_depth=7, min_samples_split=3, splitter=random; accuracy: (train=0.705, test=0.545) f1_weighted: (train=0.680, test=0.529) prec_macro: (train=0.733, test=0.372) rec_macro: (train=0.491, test=0.364) total time=   0.0s\n",
      "[CV 6/10] END criterion=entropy, max_depth=7, min_samples_split=3, splitter=random; accuracy: (train=0.702, test=0.519) f1_weighted: (train=0.688, test=0.506) prec_macro: (train=0.718, test=0.315) rec_macro: (train=0.555, test=0.313) total time=   0.0s\n",
      "[CV 7/10] END criterion=entropy, max_depth=7, min_samples_split=3, splitter=random; accuracy: (train=0.701, test=0.506) f1_weighted: (train=0.678, test=0.471) prec_macro: (train=0.734, test=0.301) rec_macro: (train=0.492, test=0.290) total time=   0.0s\n",
      "[CV 8/10] END criterion=entropy, max_depth=7, min_samples_split=3, splitter=random; accuracy: (train=0.701, test=0.597) f1_weighted: (train=0.682, test=0.561) prec_macro: (train=0.648, test=0.421) rec_macro: (train=0.520, test=0.360) total time=   0.0s\n",
      "[CV 9/10] END criterion=entropy, max_depth=7, min_samples_split=3, splitter=random; accuracy: (train=0.708, test=0.481) f1_weighted: (train=0.696, test=0.440) prec_macro: (train=0.696, test=0.207) rec_macro: (train=0.545, test=0.249) total time=   0.0s\n",
      "[CV 10/10] END criterion=entropy, max_depth=7, min_samples_split=3, splitter=random; accuracy: (train=0.702, test=0.597) f1_weighted: (train=0.682, test=0.571) prec_macro: (train=0.722, test=0.502) rec_macro: (train=0.500, test=0.366) total time=   0.0s\n",
      "[CV 1/10] END criterion=entropy, max_depth=7, min_samples_split=4, splitter=best; accuracy: (train=0.758, test=0.564) f1_weighted: (train=0.750, test=0.556) prec_macro: (train=0.768, test=0.556) rec_macro: (train=0.601, test=0.413) total time=   0.0s\n",
      "[CV 2/10] END criterion=entropy, max_depth=7, min_samples_split=4, splitter=best; accuracy: (train=0.769, test=0.538) f1_weighted: (train=0.765, test=0.522) prec_macro: (train=0.817, test=0.356) rec_macro: (train=0.633, test=0.312) total time=   0.0s\n"
     ]
    },
    {
     "name": "stdout",
     "output_type": "stream",
     "text": [
      "[CV 3/10] END criterion=entropy, max_depth=7, min_samples_split=4, splitter=best; accuracy: (train=0.727, test=0.390) f1_weighted: (train=0.704, test=0.377) prec_macro: (train=0.821, test=0.376) rec_macro: (train=0.498, test=0.222) total time=   0.0s\n",
      "[CV 4/10] END criterion=entropy, max_depth=7, min_samples_split=4, splitter=best; accuracy: (train=0.744, test=0.623) f1_weighted: (train=0.738, test=0.599) prec_macro: (train=0.723, test=0.415) rec_macro: (train=0.586, test=0.415) total time=   0.0s\n",
      "[CV 5/10] END criterion=entropy, max_depth=7, min_samples_split=4, splitter=best; accuracy: (train=0.778, test=0.532) f1_weighted: (train=0.768, test=0.527) prec_macro: (train=0.776, test=0.372) rec_macro: (train=0.602, test=0.391) total time=   0.0s\n",
      "[CV 6/10] END criterion=entropy, max_depth=7, min_samples_split=4, splitter=best; accuracy: (train=0.738, test=0.532) f1_weighted: (train=0.730, test=0.499) prec_macro: (train=0.763, test=0.308) rec_macro: (train=0.604, test=0.294) total time=   0.0s\n",
      "[CV 7/10] END criterion=entropy, max_depth=7, min_samples_split=4, splitter=best; accuracy: (train=0.757, test=0.506) f1_weighted: (train=0.749, test=0.473) prec_macro: (train=0.769, test=0.266) rec_macro: (train=0.597, test=0.299) total time=   0.0s\n",
      "[CV 8/10] END criterion=entropy, max_depth=7, min_samples_split=4, splitter=best; accuracy: (train=0.734, test=0.429) f1_weighted: (train=0.714, test=0.394) prec_macro: (train=0.725, test=0.196) rec_macro: (train=0.570, test=0.225) total time=   0.0s\n",
      "[CV 9/10] END criterion=entropy, max_depth=7, min_samples_split=4, splitter=best; accuracy: (train=0.750, test=0.481) f1_weighted: (train=0.734, test=0.451) prec_macro: (train=0.716, test=0.243) rec_macro: (train=0.575, test=0.275) total time=   0.0s\n",
      "[CV 10/10] END criterion=entropy, max_depth=7, min_samples_split=4, splitter=best; accuracy: (train=0.737, test=0.545) f1_weighted: (train=0.726, test=0.527) prec_macro: (train=0.736, test=0.363) rec_macro: (train=0.587, test=0.340) total time=   0.0s\n",
      "[CV 1/10] END criterion=entropy, max_depth=7, min_samples_split=4, splitter=random; accuracy: (train=0.674, test=0.551) f1_weighted: (train=0.655, test=0.529) prec_macro: (train=0.706, test=0.487) rec_macro: (train=0.476, test=0.360) total time=   0.0s\n",
      "[CV 2/10] END criterion=entropy, max_depth=7, min_samples_split=4, splitter=random; accuracy: (train=0.699, test=0.564) f1_weighted: (train=0.677, test=0.517) prec_macro: (train=0.723, test=0.436) rec_macro: (train=0.499, test=0.360) total time=   0.0s\n",
      "[CV 3/10] END criterion=entropy, max_depth=7, min_samples_split=4, splitter=random; accuracy: (train=0.692, test=0.545) f1_weighted: (train=0.676, test=0.536) prec_macro: (train=0.719, test=0.633) rec_macro: (train=0.501, test=0.418) total time=   0.0s\n",
      "[CV 4/10] END criterion=entropy, max_depth=7, min_samples_split=4, splitter=random; accuracy: (train=0.685, test=0.545) f1_weighted: (train=0.662, test=0.515) prec_macro: (train=0.724, test=0.266) rec_macro: (train=0.469, test=0.289) total time=   0.0s\n",
      "[CV 5/10] END criterion=entropy, max_depth=7, min_samples_split=4, splitter=random; accuracy: (train=0.712, test=0.545) f1_weighted: (train=0.694, test=0.517) prec_macro: (train=0.722, test=0.363) rec_macro: (train=0.519, test=0.318) total time=   0.0s\n",
      "[CV 6/10] END criterion=entropy, max_depth=7, min_samples_split=4, splitter=random; accuracy: (train=0.698, test=0.623) f1_weighted: (train=0.678, test=0.585) prec_macro: (train=0.708, test=0.528) rec_macro: (train=0.486, test=0.368) total time=   0.0s\n",
      "[CV 7/10] END criterion=entropy, max_depth=7, min_samples_split=4, splitter=random; accuracy: (train=0.706, test=0.481) f1_weighted: (train=0.683, test=0.444) prec_macro: (train=0.746, test=0.324) rec_macro: (train=0.486, test=0.271) total time=   0.0s\n",
      "[CV 8/10] END criterion=entropy, max_depth=7, min_samples_split=4, splitter=random; accuracy: (train=0.704, test=0.455) f1_weighted: (train=0.688, test=0.450) prec_macro: (train=0.771, test=0.258) rec_macro: (train=0.504, test=0.254) total time=   0.0s\n",
      "[CV 9/10] END criterion=entropy, max_depth=7, min_samples_split=4, splitter=random; accuracy: (train=0.692, test=0.481) f1_weighted: (train=0.672, test=0.459) prec_macro: (train=0.681, test=0.235) rec_macro: (train=0.508, test=0.258) total time=   0.0s\n",
      "[CV 10/10] END criterion=entropy, max_depth=7, min_samples_split=4, splitter=random; accuracy: (train=0.706, test=0.610) f1_weighted: (train=0.684, test=0.575) prec_macro: (train=0.669, test=0.319) rec_macro: (train=0.522, test=0.358) total time=   0.0s\n",
      "[CV 1/10] END criterion=entropy, max_depth=8, min_samples_split=2, splitter=best; accuracy: (train=0.834, test=0.513) f1_weighted: (train=0.830, test=0.500) prec_macro: (train=0.853, test=0.486) rec_macro: (train=0.723, test=0.364) total time=   0.0s\n",
      "[CV 2/10] END criterion=entropy, max_depth=8, min_samples_split=2, splitter=best; accuracy: (train=0.834, test=0.564) f1_weighted: (train=0.831, test=0.560) prec_macro: (train=0.820, test=0.351) rec_macro: (train=0.730, test=0.345) total time=   0.0s\n",
      "[CV 3/10] END criterion=entropy, max_depth=8, min_samples_split=2, splitter=best; accuracy: (train=0.791, test=0.429) f1_weighted: (train=0.784, test=0.414) prec_macro: (train=0.816, test=0.284) rec_macro: (train=0.644, test=0.275) total time=   0.0s\n",
      "[CV 4/10] END criterion=entropy, max_depth=8, min_samples_split=2, splitter=best; accuracy: (train=0.829, test=0.545) f1_weighted: (train=0.828, test=0.524) prec_macro: (train=0.824, test=0.334) rec_macro: (train=0.748, test=0.336) total time=   0.0s\n",
      "[CV 5/10] END criterion=entropy, max_depth=8, min_samples_split=2, splitter=best; accuracy: (train=0.850, test=0.532) f1_weighted: (train=0.846, test=0.533) prec_macro: (train=0.836, test=0.387) rec_macro: (train=0.750, test=0.371) total time=   0.0s\n",
      "[CV 6/10] END criterion=entropy, max_depth=8, min_samples_split=2, splitter=best; accuracy: (train=0.804, test=0.506) f1_weighted: (train=0.799, test=0.480) prec_macro: (train=0.830, test=0.300) rec_macro: (train=0.694, test=0.283) total time=   0.0s\n",
      "[CV 7/10] END criterion=entropy, max_depth=8, min_samples_split=2, splitter=best; accuracy: (train=0.835, test=0.455) f1_weighted: (train=0.831, test=0.444) prec_macro: (train=0.848, test=0.324) rec_macro: (train=0.744, test=0.374) total time=   0.0s\n",
      "[CV 8/10] END criterion=entropy, max_depth=8, min_samples_split=2, splitter=best; accuracy: (train=0.813, test=0.416) f1_weighted: (train=0.806, test=0.394) prec_macro: (train=0.788, test=0.219) rec_macro: (train=0.678, test=0.240) total time=   0.0s\n",
      "[CV 9/10] END criterion=entropy, max_depth=8, min_samples_split=2, splitter=best; accuracy: (train=0.827, test=0.532) f1_weighted: (train=0.824, test=0.512) prec_macro: (train=0.796, test=0.289) rec_macro: (train=0.714, test=0.304) total time=   0.0s\n",
      "[CV 10/10] END criterion=entropy, max_depth=8, min_samples_split=2, splitter=best; accuracy: (train=0.813, test=0.519) f1_weighted: (train=0.807, test=0.504) prec_macro: (train=0.805, test=0.353) rec_macro: (train=0.697, test=0.331) total time=   0.0s\n",
      "[CV 1/10] END criterion=entropy, max_depth=8, min_samples_split=2, splitter=random; accuracy: (train=0.787, test=0.538) f1_weighted: (train=0.784, test=0.515) prec_macro: (train=0.825, test=0.360) rec_macro: (train=0.680, test=0.315) total time=   0.0s\n",
      "[CV 2/10] END criterion=entropy, max_depth=8, min_samples_split=2, splitter=random; accuracy: (train=0.748, test=0.564) f1_weighted: (train=0.740, test=0.532) prec_macro: (train=0.819, test=0.278) rec_macro: (train=0.600, test=0.310) total time=   0.0s\n",
      "[CV 3/10] END criterion=entropy, max_depth=8, min_samples_split=2, splitter=random; accuracy: (train=0.744, test=0.571) f1_weighted: (train=0.736, test=0.565) prec_macro: (train=0.742, test=0.634) rec_macro: (train=0.605, test=0.492) total time=   0.0s\n",
      "[CV 4/10] END criterion=entropy, max_depth=8, min_samples_split=2, splitter=random; accuracy: (train=0.768, test=0.545) f1_weighted: (train=0.756, test=0.531) prec_macro: (train=0.792, test=0.398) rec_macro: (train=0.591, test=0.344) total time=   0.0s\n",
      "[CV 5/10] END criterion=entropy, max_depth=8, min_samples_split=2, splitter=random; accuracy: (train=0.770, test=0.532) f1_weighted: (train=0.764, test=0.525) prec_macro: (train=0.781, test=0.345) rec_macro: (train=0.641, test=0.358) total time=   0.0s\n",
      "[CV 6/10] END criterion=entropy, max_depth=8, min_samples_split=2, splitter=random; accuracy: (train=0.790, test=0.506) f1_weighted: (train=0.788, test=0.489) prec_macro: (train=0.805, test=0.330) rec_macro: (train=0.678, test=0.305) total time=   0.0s\n",
      "[CV 7/10] END criterion=entropy, max_depth=8, min_samples_split=2, splitter=random; accuracy: (train=0.794, test=0.481) f1_weighted: (train=0.792, test=0.467) prec_macro: (train=0.734, test=0.302) rec_macro: (train=0.741, test=0.311) total time=   0.0s\n",
      "[CV 8/10] END criterion=entropy, max_depth=8, min_samples_split=2, splitter=random; accuracy: (train=0.784, test=0.506) f1_weighted: (train=0.782, test=0.503) prec_macro: (train=0.801, test=0.300) rec_macro: (train=0.690, test=0.306) total time=   0.0s\n",
      "[CV 9/10] END criterion=entropy, max_depth=8, min_samples_split=2, splitter=random; accuracy: (train=0.767, test=0.481) f1_weighted: (train=0.761, test=0.459) prec_macro: (train=0.788, test=0.259) rec_macro: (train=0.639, test=0.279) total time=   0.0s\n",
      "[CV 10/10] END criterion=entropy, max_depth=8, min_samples_split=2, splitter=random; accuracy: (train=0.773, test=0.481) f1_weighted: (train=0.768, test=0.462) prec_macro: (train=0.765, test=0.243) rec_macro: (train=0.690, test=0.261) total time=   0.0s\n",
      "[CV 1/10] END criterion=entropy, max_depth=8, min_samples_split=3, splitter=best; accuracy: (train=0.824, test=0.513) f1_weighted: (train=0.820, test=0.496) prec_macro: (train=0.844, test=0.311) rec_macro: (train=0.702, test=0.323) total time=   0.0s\n",
      "[CV 2/10] END criterion=entropy, max_depth=8, min_samples_split=3, splitter=best; accuracy: (train=0.831, test=0.551) f1_weighted: (train=0.828, test=0.547) prec_macro: (train=0.815, test=0.335) rec_macro: (train=0.720, test=0.320) total time=   0.0s\n",
      "[CV 3/10] END criterion=entropy, max_depth=8, min_samples_split=3, splitter=best; accuracy: (train=0.786, test=0.403) f1_weighted: (train=0.777, test=0.395) prec_macro: (train=0.811, test=0.277) rec_macro: (train=0.635, test=0.263) total time=   0.0s\n",
      "[CV 4/10] END criterion=entropy, max_depth=8, min_samples_split=3, splitter=best; accuracy: (train=0.820, test=0.558) f1_weighted: (train=0.819, test=0.538) prec_macro: (train=0.817, test=0.370) rec_macro: (train=0.728, test=0.361) total time=   0.0s\n"
     ]
    },
    {
     "name": "stdout",
     "output_type": "stream",
     "text": [
      "[CV 5/10] END criterion=entropy, max_depth=8, min_samples_split=3, splitter=best; accuracy: (train=0.845, test=0.519) f1_weighted: (train=0.840, test=0.518) prec_macro: (train=0.830, test=0.362) rec_macro: (train=0.733, test=0.363) total time=   0.0s\n",
      "[CV 6/10] END criterion=entropy, max_depth=8, min_samples_split=3, splitter=best; accuracy: (train=0.794, test=0.519) f1_weighted: (train=0.787, test=0.490) prec_macro: (train=0.818, test=0.290) rec_macro: (train=0.663, test=0.288) total time=   0.0s\n",
      "[CV 7/10] END criterion=entropy, max_depth=8, min_samples_split=3, splitter=best; accuracy: (train=0.829, test=0.455) f1_weighted: (train=0.824, test=0.447) prec_macro: (train=0.836, test=0.443) rec_macro: (train=0.715, test=0.358) total time=   0.0s\n",
      "[CV 8/10] END criterion=entropy, max_depth=8, min_samples_split=3, splitter=best; accuracy: (train=0.801, test=0.429) f1_weighted: (train=0.789, test=0.398) prec_macro: (train=0.787, test=0.220) rec_macro: (train=0.639, test=0.245) total time=   0.0s\n",
      "[CV 9/10] END criterion=entropy, max_depth=8, min_samples_split=3, splitter=best; accuracy: (train=0.816, test=0.506) f1_weighted: (train=0.810, test=0.494) prec_macro: (train=0.772, test=0.281) rec_macro: (train=0.681, test=0.293) total time=   0.0s\n",
      "[CV 10/10] END criterion=entropy, max_depth=8, min_samples_split=3, splitter=best; accuracy: (train=0.804, test=0.506) f1_weighted: (train=0.795, test=0.483) prec_macro: (train=0.796, test=0.312) rec_macro: (train=0.661, test=0.302) total time=   0.0s\n",
      "[CV 1/10] END criterion=entropy, max_depth=8, min_samples_split=3, splitter=random; accuracy: (train=0.754, test=0.538) f1_weighted: (train=0.742, test=0.531) prec_macro: (train=0.779, test=0.528) rec_macro: (train=0.570, test=0.379) total time=   0.0s\n",
      "[CV 2/10] END criterion=entropy, max_depth=8, min_samples_split=3, splitter=random; accuracy: (train=0.736, test=0.564) f1_weighted: (train=0.729, test=0.551) prec_macro: (train=0.772, test=0.369) rec_macro: (train=0.603, test=0.362) total time=   0.0s\n",
      "[CV 3/10] END criterion=entropy, max_depth=8, min_samples_split=3, splitter=random; accuracy: (train=0.755, test=0.636) f1_weighted: (train=0.742, test=0.620) prec_macro: (train=0.799, test=0.442) rec_macro: (train=0.573, test=0.416) total time=   0.0s\n",
      "[CV 4/10] END criterion=entropy, max_depth=8, min_samples_split=3, splitter=random; accuracy: (train=0.755, test=0.571) f1_weighted: (train=0.742, test=0.547) prec_macro: (train=0.816, test=0.323) rec_macro: (train=0.567, test=0.356) total time=   0.0s\n",
      "[CV 5/10] END criterion=entropy, max_depth=8, min_samples_split=3, splitter=random; accuracy: (train=0.742, test=0.494) f1_weighted: (train=0.735, test=0.490) prec_macro: (train=0.758, test=0.325) rec_macro: (train=0.584, test=0.323) total time=   0.0s\n",
      "[CV 6/10] END criterion=entropy, max_depth=8, min_samples_split=3, splitter=random; accuracy: (train=0.740, test=0.545) f1_weighted: (train=0.720, test=0.517) prec_macro: (train=0.762, test=0.277) rec_macro: (train=0.551, test=0.308) total time=   0.0s\n",
      "[CV 7/10] END criterion=entropy, max_depth=8, min_samples_split=3, splitter=random; accuracy: (train=0.734, test=0.558) f1_weighted: (train=0.723, test=0.513) prec_macro: (train=0.784, test=0.278) rec_macro: (train=0.558, test=0.319) total time=   0.0s\n",
      "[CV 8/10] END criterion=entropy, max_depth=8, min_samples_split=3, splitter=random; accuracy: (train=0.760, test=0.481) f1_weighted: (train=0.754, test=0.455) prec_macro: (train=0.794, test=0.222) rec_macro: (train=0.609, test=0.252) total time=   0.0s\n",
      "[CV 9/10] END criterion=entropy, max_depth=8, min_samples_split=3, splitter=random; accuracy: (train=0.764, test=0.545) f1_weighted: (train=0.755, test=0.514) prec_macro: (train=0.800, test=0.287) rec_macro: (train=0.617, test=0.300) total time=   0.0s\n",
      "[CV 10/10] END criterion=entropy, max_depth=8, min_samples_split=3, splitter=random; accuracy: (train=0.765, test=0.532) f1_weighted: (train=0.760, test=0.506) prec_macro: (train=0.757, test=0.300) rec_macro: (train=0.630, test=0.329) total time=   0.0s\n",
      "[CV 1/10] END criterion=entropy, max_depth=8, min_samples_split=4, splitter=best; accuracy: (train=0.814, test=0.526) f1_weighted: (train=0.808, test=0.513) prec_macro: (train=0.817, test=0.500) rec_macro: (train=0.680, test=0.373) total time=   0.0s\n",
      "[CV 2/10] END criterion=entropy, max_depth=8, min_samples_split=4, splitter=best; accuracy: (train=0.821, test=0.564) f1_weighted: (train=0.818, test=0.558) prec_macro: (train=0.799, test=0.347) rec_macro: (train=0.700, test=0.342) total time=   0.0s\n",
      "[CV 3/10] END criterion=entropy, max_depth=8, min_samples_split=4, splitter=best; accuracy: (train=0.771, test=0.429) f1_weighted: (train=0.759, test=0.414) prec_macro: (train=0.821, test=0.300) rec_macro: (train=0.582, test=0.275) total time=   0.0s\n",
      "[CV 4/10] END criterion=entropy, max_depth=8, min_samples_split=4, splitter=best; accuracy: (train=0.807, test=0.584) f1_weighted: (train=0.805, test=0.565) prec_macro: (train=0.802, test=0.374) rec_macro: (train=0.706, test=0.375) total time=   0.0s\n",
      "[CV 5/10] END criterion=entropy, max_depth=8, min_samples_split=4, splitter=best; accuracy: (train=0.836, test=0.519) f1_weighted: (train=0.831, test=0.522) prec_macro: (train=0.824, test=0.366) rec_macro: (train=0.727, test=0.363) total time=   0.0s\n",
      "[CV 6/10] END criterion=entropy, max_depth=8, min_samples_split=4, splitter=best; accuracy: (train=0.778, test=0.506) f1_weighted: (train=0.771, test=0.479) prec_macro: (train=0.799, test=0.283) rec_macro: (train=0.639, test=0.283) total time=   0.0s\n",
      "[CV 7/10] END criterion=entropy, max_depth=8, min_samples_split=4, splitter=best; accuracy: (train=0.814, test=0.481) f1_weighted: (train=0.809, test=0.464) prec_macro: (train=0.813, test=0.373) rec_macro: (train=0.693, test=0.402) total time=   0.0s\n",
      "[CV 8/10] END criterion=entropy, max_depth=8, min_samples_split=4, splitter=best; accuracy: (train=0.790, test=0.416) f1_weighted: (train=0.776, test=0.391) prec_macro: (train=0.766, test=0.216) rec_macro: (train=0.618, test=0.240) total time=   0.0s\n",
      "[CV 9/10] END criterion=entropy, max_depth=8, min_samples_split=4, splitter=best; accuracy: (train=0.806, test=0.506) f1_weighted: (train=0.799, test=0.485) prec_macro: (train=0.744, test=0.282) rec_macro: (train=0.656, test=0.293) total time=   0.0s\n",
      "[CV 10/10] END criterion=entropy, max_depth=8, min_samples_split=4, splitter=best; accuracy: (train=0.793, test=0.494) f1_weighted: (train=0.784, test=0.476) prec_macro: (train=0.780, test=0.308) rec_macro: (train=0.652, test=0.296) total time=   0.0s\n",
      "[CV 1/10] END criterion=entropy, max_depth=8, min_samples_split=4, splitter=random; accuracy: (train=0.744, test=0.551) f1_weighted: (train=0.737, test=0.511) prec_macro: (train=0.768, test=0.281) rec_macro: (train=0.608, test=0.308) total time=   0.0s\n",
      "[CV 2/10] END criterion=entropy, max_depth=8, min_samples_split=4, splitter=random; accuracy: (train=0.729, test=0.462) f1_weighted: (train=0.719, test=0.449) prec_macro: (train=0.724, test=0.284) rec_macro: (train=0.574, test=0.279) total time=   0.0s\n",
      "[CV 3/10] END criterion=entropy, max_depth=8, min_samples_split=4, splitter=random; accuracy: (train=0.724, test=0.519) f1_weighted: (train=0.708, test=0.520) prec_macro: (train=0.735, test=0.353) rec_macro: (train=0.549, test=0.322) total time=   0.0s\n",
      "[CV 4/10] END criterion=entropy, max_depth=8, min_samples_split=4, splitter=random; accuracy: (train=0.737, test=0.649) f1_weighted: (train=0.729, test=0.641) prec_macro: (train=0.744, test=0.419) rec_macro: (train=0.573, test=0.419) total time=   0.0s\n",
      "[CV 5/10] END criterion=entropy, max_depth=8, min_samples_split=4, splitter=random; accuracy: (train=0.741, test=0.442) f1_weighted: (train=0.732, test=0.446) prec_macro: (train=0.721, test=0.319) rec_macro: (train=0.573, test=0.276) total time=   0.0s\n",
      "[CV 6/10] END criterion=entropy, max_depth=8, min_samples_split=4, splitter=random; accuracy: (train=0.745, test=0.584) f1_weighted: (train=0.739, test=0.562) prec_macro: (train=0.774, test=0.520) rec_macro: (train=0.622, test=0.367) total time=   0.0s\n",
      "[CV 7/10] END criterion=entropy, max_depth=8, min_samples_split=4, splitter=random; accuracy: (train=0.747, test=0.468) f1_weighted: (train=0.735, test=0.446) prec_macro: (train=0.728, test=0.321) rec_macro: (train=0.606, test=0.269) total time=   0.0s\n",
      "[CV 8/10] END criterion=entropy, max_depth=8, min_samples_split=4, splitter=random; accuracy: (train=0.753, test=0.545) f1_weighted: (train=0.745, test=0.548) prec_macro: (train=0.739, test=0.449) rec_macro: (train=0.626, test=0.454) total time=   0.0s\n",
      "[CV 9/10] END criterion=entropy, max_depth=8, min_samples_split=4, splitter=random; accuracy: (train=0.704, test=0.494) f1_weighted: (train=0.679, test=0.457) prec_macro: (train=0.735, test=0.304) rec_macro: (train=0.501, test=0.274) total time=   0.0s\n",
      "[CV 10/10] END criterion=entropy, max_depth=8, min_samples_split=4, splitter=random; accuracy: (train=0.735, test=0.558) f1_weighted: (train=0.724, test=0.553) prec_macro: (train=0.684, test=0.355) rec_macro: (train=0.591, test=0.351) total time=   0.0s\n",
      "[CV 1/10] END criterion=entropy, max_depth=9, min_samples_split=2, splitter=best; accuracy: (train=0.908, test=0.564) f1_weighted: (train=0.907, test=0.550) prec_macro: (train=0.915, test=0.450) rec_macro: (train=0.849, test=0.432) total time=   0.0s\n",
      "[CV 2/10] END criterion=entropy, max_depth=9, min_samples_split=2, splitter=best; accuracy: (train=0.888, test=0.526) f1_weighted: (train=0.885, test=0.521) prec_macro: (train=0.905, test=0.353) rec_macro: (train=0.805, test=0.336) total time=   0.0s\n",
      "[CV 3/10] END criterion=entropy, max_depth=9, min_samples_split=2, splitter=best; accuracy: (train=0.850, test=0.468) f1_weighted: (train=0.849, test=0.472) prec_macro: (train=0.871, test=0.334) rec_macro: (train=0.742, test=0.317) total time=   0.0s\n",
      "[CV 4/10] END criterion=entropy, max_depth=9, min_samples_split=2, splitter=best; accuracy: (train=0.899, test=0.519) f1_weighted: (train=0.899, test=0.514) prec_macro: (train=0.887, test=0.369) rec_macro: (train=0.857, test=0.357) total time=   0.0s\n",
      "[CV 5/10] END criterion=entropy, max_depth=9, min_samples_split=2, splitter=best; accuracy: (train=0.891, test=0.481) f1_weighted: (train=0.889, test=0.487) prec_macro: (train=0.887, test=0.346) rec_macro: (train=0.820, test=0.332) total time=   0.0s\n"
     ]
    },
    {
     "name": "stdout",
     "output_type": "stream",
     "text": [
      "[CV 6/10] END criterion=entropy, max_depth=9, min_samples_split=2, splitter=best; accuracy: (train=0.852, test=0.558) f1_weighted: (train=0.849, test=0.538) prec_macro: (train=0.856, test=0.397) rec_macro: (train=0.772, test=0.341) total time=   0.0s\n",
      "[CV 7/10] END criterion=entropy, max_depth=9, min_samples_split=2, splitter=best; accuracy: (train=0.894, test=0.416) f1_weighted: (train=0.892, test=0.406) prec_macro: (train=0.908, test=0.319) rec_macro: (train=0.827, test=0.327) total time=   0.0s\n",
      "[CV 8/10] END criterion=entropy, max_depth=9, min_samples_split=2, splitter=best; accuracy: (train=0.873, test=0.455) f1_weighted: (train=0.871, test=0.441) prec_macro: (train=0.853, test=0.275) rec_macro: (train=0.787, test=0.257) total time=   0.0s\n",
      "[CV 9/10] END criterion=entropy, max_depth=9, min_samples_split=2, splitter=best; accuracy: (train=0.891, test=0.468) f1_weighted: (train=0.888, test=0.447) prec_macro: (train=0.900, test=0.253) rec_macro: (train=0.789, test=0.253) total time=   0.0s\n",
      "[CV 10/10] END criterion=entropy, max_depth=9, min_samples_split=2, splitter=best; accuracy: (train=0.858, test=0.506) f1_weighted: (train=0.855, test=0.497) prec_macro: (train=0.869, test=0.314) rec_macro: (train=0.799, test=0.328) total time=   0.0s\n",
      "[CV 1/10] END criterion=entropy, max_depth=9, min_samples_split=2, splitter=random; accuracy: (train=0.844, test=0.513) f1_weighted: (train=0.841, test=0.481) prec_macro: (train=0.869, test=0.246) rec_macro: (train=0.739, test=0.277) total time=   0.0s\n",
      "[CV 2/10] END criterion=entropy, max_depth=9, min_samples_split=2, splitter=random; accuracy: (train=0.837, test=0.513) f1_weighted: (train=0.834, test=0.500) prec_macro: (train=0.863, test=0.282) rec_macro: (train=0.804, test=0.294) total time=   0.0s\n",
      "[CV 3/10] END criterion=entropy, max_depth=9, min_samples_split=2, splitter=random; accuracy: (train=0.842, test=0.519) f1_weighted: (train=0.840, test=0.501) prec_macro: (train=0.862, test=0.295) rec_macro: (train=0.761, test=0.351) total time=   0.0s\n",
      "[CV 4/10] END criterion=entropy, max_depth=9, min_samples_split=2, splitter=random; accuracy: (train=0.800, test=0.519) f1_weighted: (train=0.795, test=0.514) prec_macro: (train=0.838, test=0.299) rec_macro: (train=0.681, test=0.297) total time=   0.0s\n",
      "[CV 5/10] END criterion=entropy, max_depth=9, min_samples_split=2, splitter=random; accuracy: (train=0.801, test=0.506) f1_weighted: (train=0.795, test=0.486) prec_macro: (train=0.823, test=0.292) rec_macro: (train=0.690, test=0.278) total time=   0.0s\n",
      "[CV 6/10] END criterion=entropy, max_depth=9, min_samples_split=2, splitter=random; accuracy: (train=0.836, test=0.494) f1_weighted: (train=0.835, test=0.490) prec_macro: (train=0.836, test=0.343) rec_macro: (train=0.750, test=0.332) total time=   0.0s\n",
      "[CV 7/10] END criterion=entropy, max_depth=9, min_samples_split=2, splitter=random; accuracy: (train=0.791, test=0.416) f1_weighted: (train=0.786, test=0.399) prec_macro: (train=0.796, test=0.241) rec_macro: (train=0.677, test=0.246) total time=   0.0s\n",
      "[CV 8/10] END criterion=entropy, max_depth=9, min_samples_split=2, splitter=random; accuracy: (train=0.800, test=0.506) f1_weighted: (train=0.793, test=0.495) prec_macro: (train=0.823, test=0.273) rec_macro: (train=0.654, test=0.293) total time=   0.0s\n",
      "[CV 9/10] END criterion=entropy, max_depth=9, min_samples_split=2, splitter=random; accuracy: (train=0.823, test=0.545) f1_weighted: (train=0.818, test=0.520) prec_macro: (train=0.853, test=0.494) rec_macro: (train=0.714, test=0.408) total time=   0.0s\n",
      "[CV 10/10] END criterion=entropy, max_depth=9, min_samples_split=2, splitter=random; accuracy: (train=0.814, test=0.494) f1_weighted: (train=0.810, test=0.480) prec_macro: (train=0.827, test=0.310) rec_macro: (train=0.743, test=0.312) total time=   0.0s\n",
      "[CV 1/10] END criterion=entropy, max_depth=9, min_samples_split=3, splitter=best; accuracy: (train=0.893, test=0.551) f1_weighted: (train=0.892, test=0.542) prec_macro: (train=0.898, test=0.440) rec_macro: (train=0.815, test=0.410) total time=   0.0s\n",
      "[CV 2/10] END criterion=entropy, max_depth=9, min_samples_split=3, splitter=best; accuracy: (train=0.882, test=0.487) f1_weighted: (train=0.879, test=0.480) prec_macro: (train=0.899, test=0.324) rec_macro: (train=0.789, test=0.313) total time=   0.0s\n",
      "[CV 3/10] END criterion=entropy, max_depth=9, min_samples_split=3, splitter=best; accuracy: (train=0.840, test=0.442) f1_weighted: (train=0.837, test=0.445) prec_macro: (train=0.857, test=0.301) rec_macro: (train=0.713, test=0.293) total time=   0.0s\n",
      "[CV 4/10] END criterion=entropy, max_depth=9, min_samples_split=3, splitter=best; accuracy: (train=0.885, test=0.468) f1_weighted: (train=0.884, test=0.453) prec_macro: (train=0.870, test=0.300) rec_macro: (train=0.822, test=0.292) total time=   0.0s\n",
      "[CV 5/10] END criterion=entropy, max_depth=9, min_samples_split=3, splitter=best; accuracy: (train=0.881, test=0.481) f1_weighted: (train=0.878, test=0.485) prec_macro: (train=0.892, test=0.337) rec_macro: (train=0.778, test=0.329) total time=   0.0s\n",
      "[CV 6/10] END criterion=entropy, max_depth=9, min_samples_split=3, splitter=best; accuracy: (train=0.836, test=0.532) f1_weighted: (train=0.831, test=0.517) prec_macro: (train=0.839, test=0.355) rec_macro: (train=0.736, test=0.330) total time=   0.0s\n",
      "[CV 7/10] END criterion=entropy, max_depth=9, min_samples_split=3, splitter=best; accuracy: (train=0.885, test=0.416) f1_weighted: (train=0.882, test=0.411) prec_macro: (train=0.900, test=0.428) rec_macro: (train=0.787, test=0.330) total time=   0.0s\n",
      "[CV 8/10] END criterion=entropy, max_depth=9, min_samples_split=3, splitter=best; accuracy: (train=0.856, test=0.403) f1_weighted: (train=0.852, test=0.388) prec_macro: (train=0.839, test=0.224) rec_macro: (train=0.742, test=0.227) total time=   0.0s\n",
      "[CV 9/10] END criterion=entropy, max_depth=9, min_samples_split=3, splitter=best; accuracy: (train=0.863, test=0.442) f1_weighted: (train=0.857, test=0.421) prec_macro: (train=0.865, test=0.245) rec_macro: (train=0.718, test=0.241) total time=   0.0s\n",
      "[CV 10/10] END criterion=entropy, max_depth=9, min_samples_split=3, splitter=best; accuracy: (train=0.836, test=0.494) f1_weighted: (train=0.832, test=0.483) prec_macro: (train=0.843, test=0.296) rec_macro: (train=0.733, test=0.303) total time=   0.0s\n",
      "[CV 1/10] END criterion=entropy, max_depth=9, min_samples_split=3, splitter=random; accuracy: (train=0.834, test=0.538) f1_weighted: (train=0.830, test=0.525) prec_macro: (train=0.840, test=0.401) rec_macro: (train=0.719, test=0.401) total time=   0.0s\n",
      "[CV 2/10] END criterion=entropy, max_depth=9, min_samples_split=3, splitter=random; accuracy: (train=0.782, test=0.551) f1_weighted: (train=0.777, test=0.525) prec_macro: (train=0.834, test=0.289) rec_macro: (train=0.659, test=0.315) total time=   0.0s\n",
      "[CV 3/10] END criterion=entropy, max_depth=9, min_samples_split=3, splitter=random; accuracy: (train=0.794, test=0.519) f1_weighted: (train=0.787, test=0.490) prec_macro: (train=0.844, test=0.290) rec_macro: (train=0.653, test=0.287) total time=   0.0s\n",
      "[CV 4/10] END criterion=entropy, max_depth=9, min_samples_split=3, splitter=random; accuracy: (train=0.786, test=0.545) f1_weighted: (train=0.782, test=0.527) prec_macro: (train=0.833, test=0.473) rec_macro: (train=0.626, test=0.494) total time=   0.0s\n",
      "[CV 5/10] END criterion=entropy, max_depth=9, min_samples_split=3, splitter=random; accuracy: (train=0.862, test=0.468) f1_weighted: (train=0.860, test=0.482) prec_macro: (train=0.868, test=0.316) rec_macro: (train=0.771, test=0.318) total time=   0.0s\n",
      "[CV 6/10] END criterion=entropy, max_depth=9, min_samples_split=3, splitter=random; accuracy: (train=0.801, test=0.532) f1_weighted: (train=0.798, test=0.502) prec_macro: (train=0.785, test=0.287) rec_macro: (train=0.695, test=0.297) total time=   0.0s\n",
      "[CV 7/10] END criterion=entropy, max_depth=9, min_samples_split=3, splitter=random; accuracy: (train=0.796, test=0.519) f1_weighted: (train=0.787, test=0.476) prec_macro: (train=0.833, test=0.241) rec_macro: (train=0.649, test=0.275) total time=   0.0s\n",
      "[CV 8/10] END criterion=entropy, max_depth=9, min_samples_split=3, splitter=random; accuracy: (train=0.804, test=0.558) f1_weighted: (train=0.801, test=0.540) prec_macro: (train=0.813, test=0.349) rec_macro: (train=0.705, test=0.339) total time=   0.0s\n",
      "[CV 9/10] END criterion=entropy, max_depth=9, min_samples_split=3, splitter=random; accuracy: (train=0.812, test=0.481) f1_weighted: (train=0.806, test=0.466) prec_macro: (train=0.787, test=0.271) rec_macro: (train=0.688, test=0.271) total time=   0.0s\n",
      "[CV 10/10] END criterion=entropy, max_depth=9, min_samples_split=3, splitter=random; accuracy: (train=0.812, test=0.506) f1_weighted: (train=0.806, test=0.494) prec_macro: (train=0.837, test=0.304) rec_macro: (train=0.698, test=0.302) total time=   0.0s\n",
      "[CV 1/10] END criterion=entropy, max_depth=9, min_samples_split=4, splitter=best; accuracy: (train=0.873, test=0.551) f1_weighted: (train=0.870, test=0.543) prec_macro: (train=0.873, test=0.464) rec_macro: (train=0.772, test=0.437) total time=   0.0s\n",
      "[CV 2/10] END criterion=entropy, max_depth=9, min_samples_split=4, splitter=best; accuracy: (train=0.866, test=0.513) f1_weighted: (train=0.863, test=0.503) prec_macro: (train=0.879, test=0.328) rec_macro: (train=0.765, test=0.324) total time=   0.0s\n",
      "[CV 3/10] END criterion=entropy, max_depth=9, min_samples_split=4, splitter=best; accuracy: (train=0.823, test=0.455) f1_weighted: (train=0.818, test=0.450) prec_macro: (train=0.820, test=0.297) rec_macro: (train=0.677, test=0.279) total time=   0.0s\n",
      "[CV 4/10] END criterion=entropy, max_depth=9, min_samples_split=4, splitter=best; accuracy: (train=0.866, test=0.506) f1_weighted: (train=0.865, test=0.493) prec_macro: (train=0.846, test=0.347) rec_macro: (train=0.790, test=0.332) total time=   0.0s\n",
      "[CV 5/10] END criterion=entropy, max_depth=9, min_samples_split=4, splitter=best; accuracy: (train=0.866, test=0.481) f1_weighted: (train=0.863, test=0.481) prec_macro: (train=0.848, test=0.332) rec_macro: (train=0.766, test=0.329) total time=   0.0s\n",
      "[CV 6/10] END criterion=entropy, max_depth=9, min_samples_split=4, splitter=best; accuracy: (train=0.813, test=0.506) f1_weighted: (train=0.808, test=0.491) prec_macro: (train=0.806, test=0.301) rec_macro: (train=0.696, test=0.299) total time=   0.0s\n"
     ]
    },
    {
     "name": "stdout",
     "output_type": "stream",
     "text": [
      "[CV 7/10] END criterion=entropy, max_depth=9, min_samples_split=4, splitter=best; accuracy: (train=0.865, test=0.390) f1_weighted: (train=0.861, test=0.380) prec_macro: (train=0.854, test=0.219) rec_macro: (train=0.758, test=0.234) total time=   0.0s\n",
      "[CV 8/10] END criterion=entropy, max_depth=9, min_samples_split=4, splitter=best; accuracy: (train=0.842, test=0.442) f1_weighted: (train=0.838, test=0.427) prec_macro: (train=0.819, test=0.266) rec_macro: (train=0.726, test=0.251) total time=   0.0s\n",
      "[CV 9/10] END criterion=entropy, max_depth=9, min_samples_split=4, splitter=best; accuracy: (train=0.850, test=0.468) f1_weighted: (train=0.842, test=0.451) prec_macro: (train=0.830, test=0.283) rec_macro: (train=0.689, test=0.269) total time=   0.0s\n",
      "[CV 10/10] END criterion=entropy, max_depth=9, min_samples_split=4, splitter=best; accuracy: (train=0.823, test=0.519) f1_weighted: (train=0.819, test=0.502) prec_macro: (train=0.826, test=0.315) rec_macro: (train=0.713, test=0.317) total time=   0.0s\n",
      "[CV 1/10] END criterion=entropy, max_depth=9, min_samples_split=4, splitter=random; accuracy: (train=0.782, test=0.462) f1_weighted: (train=0.773, test=0.444) prec_macro: (train=0.782, test=0.310) rec_macro: (train=0.636, test=0.310) total time=   0.0s\n",
      "[CV 2/10] END criterion=entropy, max_depth=9, min_samples_split=4, splitter=random; accuracy: (train=0.755, test=0.603) f1_weighted: (train=0.744, test=0.587) prec_macro: (train=0.790, test=0.378) rec_macro: (train=0.577, test=0.387) total time=   0.0s\n",
      "[CV 3/10] END criterion=entropy, max_depth=9, min_samples_split=4, splitter=random; accuracy: (train=0.806, test=0.545) f1_weighted: (train=0.802, test=0.544) prec_macro: (train=0.821, test=0.537) rec_macro: (train=0.676, test=0.436) total time=   0.0s\n",
      "[CV 4/10] END criterion=entropy, max_depth=9, min_samples_split=4, splitter=random; accuracy: (train=0.787, test=0.571) f1_weighted: (train=0.781, test=0.566) prec_macro: (train=0.783, test=0.440) rec_macro: (train=0.642, test=0.433) total time=   0.0s\n",
      "[CV 5/10] END criterion=entropy, max_depth=9, min_samples_split=4, splitter=random; accuracy: (train=0.791, test=0.390) f1_weighted: (train=0.784, test=0.395) prec_macro: (train=0.801, test=0.223) rec_macro: (train=0.654, test=0.222) total time=   0.0s\n",
      "[CV 6/10] END criterion=entropy, max_depth=9, min_samples_split=4, splitter=random; accuracy: (train=0.801, test=0.571) f1_weighted: (train=0.793, test=0.540) prec_macro: (train=0.805, test=0.351) rec_macro: (train=0.657, test=0.337) total time=   0.0s\n",
      "[CV 7/10] END criterion=entropy, max_depth=9, min_samples_split=4, splitter=random; accuracy: (train=0.777, test=0.506) f1_weighted: (train=0.770, test=0.471) prec_macro: (train=0.759, test=0.258) rec_macro: (train=0.650, test=0.296) total time=   0.0s\n",
      "[CV 8/10] END criterion=entropy, max_depth=9, min_samples_split=4, splitter=random; accuracy: (train=0.786, test=0.545) f1_weighted: (train=0.773, test=0.532) prec_macro: (train=0.828, test=0.362) rec_macro: (train=0.621, test=0.360) total time=   0.0s\n",
      "[CV 9/10] END criterion=entropy, max_depth=9, min_samples_split=4, splitter=random; accuracy: (train=0.776, test=0.481) f1_weighted: (train=0.769, test=0.468) prec_macro: (train=0.725, test=0.292) rec_macro: (train=0.638, test=0.295) total time=   0.0s\n",
      "[CV 10/10] END criterion=entropy, max_depth=9, min_samples_split=4, splitter=random; accuracy: (train=0.796, test=0.494) f1_weighted: (train=0.789, test=0.474) prec_macro: (train=0.804, test=0.276) rec_macro: (train=0.653, test=0.287) total time=   0.0s\n",
      "[CV 1/10] END criterion=entropy, max_depth=10, min_samples_split=2, splitter=best; accuracy: (train=0.958, test=0.551) f1_weighted: (train=0.958, test=0.540) prec_macro: (train=0.962, test=0.416) rec_macro: (train=0.946, test=0.410) total time=   0.0s\n",
      "[CV 2/10] END criterion=entropy, max_depth=10, min_samples_split=2, splitter=best; accuracy: (train=0.944, test=0.564) f1_weighted: (train=0.944, test=0.563) prec_macro: (train=0.955, test=0.360) rec_macro: (train=0.900, test=0.356) total time=   0.0s\n",
      "[CV 3/10] END criterion=entropy, max_depth=10, min_samples_split=2, splitter=best; accuracy: (train=0.894, test=0.442) f1_weighted: (train=0.893, test=0.449) prec_macro: (train=0.903, test=0.311) rec_macro: (train=0.816, test=0.320) total time=   0.0s\n",
      "[CV 4/10] END criterion=entropy, max_depth=10, min_samples_split=2, splitter=best; accuracy: (train=0.941, test=0.494) f1_weighted: (train=0.941, test=0.467) prec_macro: (train=0.951, test=0.286) rec_macro: (train=0.917, test=0.280) total time=   0.0s\n",
      "[CV 5/10] END criterion=entropy, max_depth=10, min_samples_split=2, splitter=best; accuracy: (train=0.941, test=0.429) f1_weighted: (train=0.941, test=0.444) prec_macro: (train=0.953, test=0.320) rec_macro: (train=0.910, test=0.290) total time=   0.0s\n",
      "[CV 6/10] END criterion=entropy, max_depth=10, min_samples_split=2, splitter=best; accuracy: (train=0.896, test=0.519) f1_weighted: (train=0.896, test=0.514) prec_macro: (train=0.870, test=0.341) rec_macro: (train=0.884, test=0.324) total time=   0.0s\n",
      "[CV 7/10] END criterion=entropy, max_depth=10, min_samples_split=2, splitter=best; accuracy: (train=0.940, test=0.377) f1_weighted: (train=0.939, test=0.381) prec_macro: (train=0.941, test=0.301) rec_macro: (train=0.896, test=0.326) total time=   0.0s\n",
      "[CV 8/10] END criterion=entropy, max_depth=10, min_samples_split=2, splitter=best; accuracy: (train=0.922, test=0.442) f1_weighted: (train=0.923, test=0.434) prec_macro: (train=0.912, test=0.255) rec_macro: (train=0.863, test=0.251) total time=   0.0s\n",
      "[CV 9/10] END criterion=entropy, max_depth=10, min_samples_split=2, splitter=best; accuracy: (train=0.947, test=0.468) f1_weighted: (train=0.946, test=0.460) prec_macro: (train=0.947, test=0.274) rec_macro: (train=0.897, test=0.282) total time=   0.0s\n",
      "[CV 10/10] END criterion=entropy, max_depth=10, min_samples_split=2, splitter=best; accuracy: (train=0.909, test=0.481) f1_weighted: (train=0.909, test=0.479) prec_macro: (train=0.897, test=0.334) rec_macro: (train=0.868, test=0.346) total time=   0.0s\n",
      "[CV 1/10] END criterion=entropy, max_depth=10, min_samples_split=2, splitter=random; accuracy: (train=0.876, test=0.500) f1_weighted: (train=0.876, test=0.486) prec_macro: (train=0.895, test=0.296) rec_macro: (train=0.823, test=0.301) total time=   0.0s\n",
      "[CV 2/10] END criterion=entropy, max_depth=10, min_samples_split=2, splitter=random; accuracy: (train=0.875, test=0.526) f1_weighted: (train=0.874, test=0.501) prec_macro: (train=0.919, test=0.307) rec_macro: (train=0.839, test=0.316) total time=   0.0s\n",
      "[CV 3/10] END criterion=entropy, max_depth=10, min_samples_split=2, splitter=random; accuracy: (train=0.882, test=0.468) f1_weighted: (train=0.881, test=0.465) prec_macro: (train=0.896, test=0.315) rec_macro: (train=0.827, test=0.317) total time=   0.0s\n",
      "[CV 4/10] END criterion=entropy, max_depth=10, min_samples_split=2, splitter=random; accuracy: (train=0.856, test=0.597) f1_weighted: (train=0.856, test=0.585) prec_macro: (train=0.863, test=0.433) rec_macro: (train=0.793, test=0.459) total time=   0.0s\n",
      "[CV 5/10] END criterion=entropy, max_depth=10, min_samples_split=2, splitter=random; accuracy: (train=0.843, test=0.455) f1_weighted: (train=0.840, test=0.447) prec_macro: (train=0.834, test=0.224) rec_macro: (train=0.725, test=0.236) total time=   0.0s\n",
      "[CV 6/10] END criterion=entropy, max_depth=10, min_samples_split=2, splitter=random; accuracy: (train=0.889, test=0.584) f1_weighted: (train=0.888, test=0.574) prec_macro: (train=0.892, test=0.357) rec_macro: (train=0.820, test=0.375) total time=   0.0s\n",
      "[CV 7/10] END criterion=entropy, max_depth=10, min_samples_split=2, splitter=random; accuracy: (train=0.872, test=0.455) f1_weighted: (train=0.871, test=0.419) prec_macro: (train=0.911, test=0.251) rec_macro: (train=0.821, test=0.247) total time=   0.0s\n",
      "[CV 8/10] END criterion=entropy, max_depth=10, min_samples_split=2, splitter=random; accuracy: (train=0.859, test=0.468) f1_weighted: (train=0.857, test=0.461) prec_macro: (train=0.858, test=0.294) rec_macro: (train=0.773, test=0.283) total time=   0.0s\n",
      "[CV 9/10] END criterion=entropy, max_depth=10, min_samples_split=2, splitter=random; accuracy: (train=0.859, test=0.506) f1_weighted: (train=0.855, test=0.488) prec_macro: (train=0.902, test=0.271) rec_macro: (train=0.752, test=0.287) total time=   0.0s\n",
      "[CV 10/10] END criterion=entropy, max_depth=10, min_samples_split=2, splitter=random; accuracy: (train=0.833, test=0.558) f1_weighted: (train=0.831, test=0.551) prec_macro: (train=0.824, test=0.337) rec_macro: (train=0.737, test=0.345) total time=   0.0s\n",
      "[CV 1/10] END criterion=entropy, max_depth=10, min_samples_split=3, splitter=best; accuracy: (train=0.937, test=0.538) f1_weighted: (train=0.936, test=0.520) prec_macro: (train=0.944, test=0.318) rec_macro: (train=0.899, test=0.324) total time=   0.0s\n",
      "[CV 2/10] END criterion=entropy, max_depth=10, min_samples_split=3, splitter=best; accuracy: (train=0.931, test=0.513) f1_weighted: (train=0.930, test=0.507) prec_macro: (train=0.946, test=0.332) rec_macro: (train=0.863, test=0.327) total time=   0.0s\n",
      "[CV 3/10] END criterion=entropy, max_depth=10, min_samples_split=3, splitter=best; accuracy: (train=0.879, test=0.455) f1_weighted: (train=0.877, test=0.459) prec_macro: (train=0.877, test=0.325) rec_macro: (train=0.789, test=0.309) total time=   0.0s\n",
      "[CV 4/10] END criterion=entropy, max_depth=10, min_samples_split=3, splitter=best; accuracy: (train=0.928, test=0.519) f1_weighted: (train=0.927, test=0.500) prec_macro: (train=0.937, test=0.336) rec_macro: (train=0.876, test=0.311) total time=   0.0s\n",
      "[CV 5/10] END criterion=entropy, max_depth=10, min_samples_split=3, splitter=best; accuracy: (train=0.922, test=0.481) f1_weighted: (train=0.921, test=0.485) prec_macro: (train=0.936, test=0.353) rec_macro: (train=0.854, test=0.332) total time=   0.0s\n",
      "[CV 6/10] END criterion=entropy, max_depth=10, min_samples_split=3, splitter=best; accuracy: (train=0.878, test=0.519) f1_weighted: (train=0.876, test=0.508) prec_macro: (train=0.849, test=0.352) rec_macro: (train=0.840, test=0.321) total time=   0.0s\n",
      "[CV 7/10] END criterion=entropy, max_depth=10, min_samples_split=3, splitter=best; accuracy: (train=0.927, test=0.416) f1_weighted: (train=0.925, test=0.417) prec_macro: (train=0.931, test=0.354) rec_macro: (train=0.834, test=0.360) total time=   0.0s\n",
      "[CV 8/10] END criterion=entropy, max_depth=10, min_samples_split=3, splitter=best; accuracy: (train=0.901, test=0.442) f1_weighted: (train=0.899, test=0.447) prec_macro: (train=0.891, test=0.276) rec_macro: (train=0.803, test=0.271) total time=   0.0s\n"
     ]
    },
    {
     "name": "stdout",
     "output_type": "stream",
     "text": [
      "[CV 9/10] END criterion=entropy, max_depth=10, min_samples_split=3, splitter=best; accuracy: (train=0.909, test=0.468) f1_weighted: (train=0.906, test=0.455) prec_macro: (train=0.916, test=0.280) rec_macro: (train=0.798, test=0.282) total time=   0.0s\n",
      "[CV 10/10] END criterion=entropy, max_depth=10, min_samples_split=3, splitter=best; accuracy: (train=0.886, test=0.481) f1_weighted: (train=0.884, test=0.481) prec_macro: (train=0.874, test=0.331) rec_macro: (train=0.802, test=0.333) total time=   0.0s\n",
      "[CV 1/10] END criterion=entropy, max_depth=10, min_samples_split=3, splitter=random; accuracy: (train=0.846, test=0.500) f1_weighted: (train=0.843, test=0.486) prec_macro: (train=0.851, test=0.347) rec_macro: (train=0.731, test=0.321) total time=   0.0s\n",
      "[CV 2/10] END criterion=entropy, max_depth=10, min_samples_split=3, splitter=random; accuracy: (train=0.854, test=0.500) f1_weighted: (train=0.853, test=0.483) prec_macro: (train=0.890, test=0.263) rec_macro: (train=0.762, test=0.291) total time=   0.0s\n",
      "[CV 3/10] END criterion=entropy, max_depth=10, min_samples_split=3, splitter=random; accuracy: (train=0.812, test=0.558) f1_weighted: (train=0.805, test=0.554) prec_macro: (train=0.851, test=0.485) rec_macro: (train=0.676, test=0.480) total time=   0.0s\n",
      "[CV 4/10] END criterion=entropy, max_depth=10, min_samples_split=3, splitter=random; accuracy: (train=0.809, test=0.675) f1_weighted: (train=0.801, test=0.654) prec_macro: (train=0.813, test=0.629) rec_macro: (train=0.675, test=0.511) total time=   0.0s\n",
      "[CV 5/10] END criterion=entropy, max_depth=10, min_samples_split=3, splitter=random; accuracy: (train=0.850, test=0.416) f1_weighted: (train=0.848, test=0.403) prec_macro: (train=0.893, test=0.224) rec_macro: (train=0.761, test=0.229) total time=   0.0s\n",
      "[CV 6/10] END criterion=entropy, max_depth=10, min_samples_split=3, splitter=random; accuracy: (train=0.833, test=0.623) f1_weighted: (train=0.829, test=0.599) prec_macro: (train=0.851, test=0.411) rec_macro: (train=0.721, test=0.382) total time=   0.0s\n",
      "[CV 7/10] END criterion=entropy, max_depth=10, min_samples_split=3, splitter=random; accuracy: (train=0.799, test=0.468) f1_weighted: (train=0.791, test=0.438) prec_macro: (train=0.830, test=0.240) rec_macro: (train=0.664, test=0.259) total time=   0.0s\n",
      "[CV 8/10] END criterion=entropy, max_depth=10, min_samples_split=3, splitter=random; accuracy: (train=0.830, test=0.468) f1_weighted: (train=0.826, test=0.463) prec_macro: (train=0.796, test=0.291) rec_macro: (train=0.721, test=0.299) total time=   0.0s\n",
      "[CV 9/10] END criterion=entropy, max_depth=10, min_samples_split=3, splitter=random; accuracy: (train=0.788, test=0.494) f1_weighted: (train=0.780, test=0.483) prec_macro: (train=0.823, test=0.300) rec_macro: (train=0.620, test=0.304) total time=   0.0s\n",
      "[CV 10/10] END criterion=entropy, max_depth=10, min_samples_split=3, splitter=random; accuracy: (train=0.882, test=0.519) f1_weighted: (train=0.880, test=0.510) prec_macro: (train=0.911, test=0.321) rec_macro: (train=0.804, test=0.305) total time=   0.0s\n",
      "[CV 1/10] END criterion=entropy, max_depth=10, min_samples_split=4, splitter=best; accuracy: (train=0.903, test=0.538) f1_weighted: (train=0.902, test=0.524) prec_macro: (train=0.906, test=0.330) rec_macro: (train=0.830, test=0.337) total time=   0.0s\n",
      "[CV 2/10] END criterion=entropy, max_depth=10, min_samples_split=4, splitter=best; accuracy: (train=0.903, test=0.538) f1_weighted: (train=0.902, test=0.528) prec_macro: (train=0.903, test=0.327) rec_macro: (train=0.828, test=0.325) total time=   0.0s\n",
      "[CV 3/10] END criterion=entropy, max_depth=10, min_samples_split=4, splitter=best; accuracy: (train=0.858, test=0.455) f1_weighted: (train=0.855, test=0.459) prec_macro: (train=0.851, test=0.325) rec_macro: (train=0.741, test=0.309) total time=   0.0s\n",
      "[CV 4/10] END criterion=entropy, max_depth=10, min_samples_split=4, splitter=best; accuracy: (train=0.904, test=0.532) f1_weighted: (train=0.902, test=0.509) prec_macro: (train=0.912, test=0.361) rec_macro: (train=0.830, test=0.346) total time=   0.0s\n",
      "[CV 5/10] END criterion=entropy, max_depth=10, min_samples_split=4, splitter=best; accuracy: (train=0.904, test=0.455) f1_weighted: (train=0.902, test=0.457) prec_macro: (train=0.908, test=0.315) rec_macro: (train=0.827, test=0.301) total time=   0.0s\n",
      "[CV 6/10] END criterion=entropy, max_depth=10, min_samples_split=4, splitter=best; accuracy: (train=0.853, test=0.506) f1_weighted: (train=0.852, test=0.503) prec_macro: (train=0.813, test=0.323) rec_macro: (train=0.804, test=0.318) total time=   0.0s\n",
      "[CV 7/10] END criterion=entropy, max_depth=10, min_samples_split=4, splitter=best; accuracy: (train=0.896, test=0.364) f1_weighted: (train=0.894, test=0.356) prec_macro: (train=0.876, test=0.225) rec_macro: (train=0.797, test=0.236) total time=   0.0s\n",
      "[CV 8/10] END criterion=entropy, max_depth=10, min_samples_split=4, splitter=best; accuracy: (train=0.878, test=0.455) f1_weighted: (train=0.876, test=0.443) prec_macro: (train=0.868, test=0.272) rec_macro: (train=0.787, test=0.273) total time=   0.0s\n",
      "[CV 9/10] END criterion=entropy, max_depth=10, min_samples_split=4, splitter=best; accuracy: (train=0.895, test=0.481) f1_weighted: (train=0.890, test=0.466) prec_macro: (train=0.882, test=0.287) rec_macro: (train=0.762, test=0.291) total time=   0.0s\n",
      "[CV 10/10] END criterion=entropy, max_depth=10, min_samples_split=4, splitter=best; accuracy: (train=0.863, test=0.506) f1_weighted: (train=0.862, test=0.508) prec_macro: (train=0.839, test=0.349) rec_macro: (train=0.778, test=0.361) total time=   0.0s\n",
      "[CV 1/10] END criterion=entropy, max_depth=10, min_samples_split=4, splitter=random; accuracy: (train=0.810, test=0.526) f1_weighted: (train=0.805, test=0.506) prec_macro: (train=0.780, test=0.347) rec_macro: (train=0.672, test=0.355) total time=   0.0s\n",
      "[CV 2/10] END criterion=entropy, max_depth=10, min_samples_split=4, splitter=random; accuracy: (train=0.793, test=0.423) f1_weighted: (train=0.785, test=0.412) prec_macro: (train=0.786, test=0.208) rec_macro: (train=0.634, test=0.224) total time=   0.0s\n",
      "[CV 3/10] END criterion=entropy, max_depth=10, min_samples_split=4, splitter=random; accuracy: (train=0.823, test=0.545) f1_weighted: (train=0.821, test=0.549) prec_macro: (train=0.804, test=0.371) rec_macro: (train=0.750, test=0.367) total time=   0.0s\n",
      "[CV 4/10] END criterion=entropy, max_depth=10, min_samples_split=4, splitter=random; accuracy: (train=0.793, test=0.623) f1_weighted: (train=0.782, test=0.607) prec_macro: (train=0.813, test=0.398) rec_macro: (train=0.642, test=0.401) total time=   0.0s\n",
      "[CV 5/10] END criterion=entropy, max_depth=10, min_samples_split=4, splitter=random; accuracy: (train=0.823, test=0.571) f1_weighted: (train=0.816, test=0.567) prec_macro: (train=0.814, test=0.456) rec_macro: (train=0.672, test=0.378) total time=   0.0s\n",
      "[CV 6/10] END criterion=entropy, max_depth=10, min_samples_split=4, splitter=random; accuracy: (train=0.786, test=0.532) f1_weighted: (train=0.775, test=0.510) prec_macro: (train=0.761, test=0.363) rec_macro: (train=0.618, test=0.313) total time=   0.0s\n",
      "[CV 7/10] END criterion=entropy, max_depth=10, min_samples_split=4, splitter=random; accuracy: (train=0.827, test=0.532) f1_weighted: (train=0.821, test=0.494) prec_macro: (train=0.856, test=0.435) rec_macro: (train=0.694, test=0.402) total time=   0.0s\n",
      "[CV 8/10] END criterion=entropy, max_depth=10, min_samples_split=4, splitter=random; accuracy: (train=0.860, test=0.481) f1_weighted: (train=0.857, test=0.462) prec_macro: (train=0.861, test=0.278) rec_macro: (train=0.766, test=0.311) total time=   0.0s\n",
      "[CV 9/10] END criterion=entropy, max_depth=10, min_samples_split=4, splitter=random; accuracy: (train=0.824, test=0.506) f1_weighted: (train=0.817, test=0.486) prec_macro: (train=0.848, test=0.308) rec_macro: (train=0.677, test=0.303) total time=   0.0s\n",
      "[CV 10/10] END criterion=entropy, max_depth=10, min_samples_split=4, splitter=random; accuracy: (train=0.806, test=0.584) f1_weighted: (train=0.799, test=0.574) prec_macro: (train=0.783, test=0.382) rec_macro: (train=0.659, test=0.403) total time=   0.0s\n"
     ]
    }
   ],
   "source": [
    "# Parameters of Decision Tree\n",
    "dt_params = {'criterion': ['gini', 'entropy'],\n",
    "            'splitter': ['best', 'random'],\n",
    "            'max_depth': [6, 7, 8, 9, 10],\n",
    "            'min_samples_split': [2, 3, 4]}\n",
    "\n",
    "# Instantiating model\n",
    "model = tree.DecisionTreeClassifier()\n",
    "\n",
    "# Defining a grid search for Decision Tree\n",
    "gridsearch_dt = GridSearchCV(estimator=model, param_grid=dt_params, cv=cv_method, verbose=3, scoring=scoring, refit='accuracy', return_train_score=True)\n",
    "\n",
    "# Fitting data\n",
    "time_train_start = time()\n",
    "gridsearch_dt.fit(X_full_train, y_full_train)\n",
    "time_train_end = time()"
   ]
  },
  {
   "cell_type": "code",
   "execution_count": 53,
   "id": "24949aef",
   "metadata": {},
   "outputs": [
    {
     "name": "stdout",
     "output_type": "stream",
     "text": [
      "Simulation time: 9.40 seconds\n",
      "----------------------------------\n",
      "Best parameters: {'criterion': 'gini', 'max_depth': 7, 'min_samples_split': 3, 'splitter': 'random'}\n",
      "Best score: 57.51 %\n",
      "\n",
      "Models ranked according to accuracy\n",
      "Model with rank: 1\n",
      "Mean validation score: 0.58 (+/- 0.09)\n",
      "Params: {'criterion': 'gini', 'max_depth': 7, 'min_samples_split': 3, 'splitter': 'random'}\n",
      "\n",
      "Model with rank: 2\n",
      "Mean validation score: 0.56 (+/- 0.09)\n",
      "Params: {'criterion': 'entropy', 'max_depth': 6, 'min_samples_split': 2, 'splitter': 'random'}\n",
      "\n",
      "Model with rank: 3\n",
      "Mean validation score: 0.56 (+/- 0.09)\n",
      "Params: {'criterion': 'gini', 'max_depth': 6, 'min_samples_split': 4, 'splitter': 'random'}\n",
      "\n"
     ]
    }
   ],
   "source": [
    "time_train = time_train_end - time_train_start\n",
    "print(\"Simulation time:\", '%.2f' % time_train, 'seconds')\n",
    "\n",
    "print(\"----------------------------------\")\n",
    "\n",
    "print(\"Best parameters:\", gridsearch_dt.best_params_)\n",
    "print(\"Best score:\", '%.2f' % (gridsearch_dt.best_score_ * 100), \"%\")\n",
    "\n",
    "report(gridsearch_dt.cv_results_, 'accuracy', n_top=3)"
   ]
  },
  {
   "cell_type": "markdown",
   "id": "3d277f28",
   "metadata": {},
   "source": [
    "### Random Forest"
   ]
  },
  {
   "cell_type": "code",
   "execution_count": 22,
   "id": "309138be",
   "metadata": {
    "scrolled": true
   },
   "outputs": [
    {
     "name": "stdout",
     "output_type": "stream",
     "text": [
      "Fitting 10 folds for each of 72 candidates, totalling 720 fits\n",
      "[CV 1/10] END criterion=entropy, max_depth=5, min_samples_split=2, n_estimators=100; accuracy: (train=0.700, test=0.564) f1_weighted: (train=0.672, test=0.495) prec_macro: (train=0.820, test=0.222) rec_macro: (train=0.467, test=0.287) total time=   0.2s\n",
      "[CV 2/10] END criterion=entropy, max_depth=5, min_samples_split=2, n_estimators=100; accuracy: (train=0.693, test=0.564) f1_weighted: (train=0.668, test=0.483) prec_macro: (train=0.813, test=0.220) rec_macro: (train=0.505, test=0.287) total time=   0.2s\n",
      "[CV 3/10] END criterion=entropy, max_depth=5, min_samples_split=2, n_estimators=100; accuracy: (train=0.689, test=0.610) f1_weighted: (train=0.658, test=0.547) prec_macro: (train=0.826, test=0.339) rec_macro: (train=0.481, test=0.333) total time=   0.2s\n",
      "[CV 4/10] END criterion=entropy, max_depth=5, min_samples_split=2, n_estimators=100; accuracy: (train=0.686, test=0.623) f1_weighted: (train=0.655, test=0.554) prec_macro: (train=0.819, test=0.255) rec_macro: (train=0.462, test=0.316) total time=   0.2s\n",
      "[CV 5/10] END criterion=entropy, max_depth=5, min_samples_split=2, n_estimators=100; accuracy: (train=0.696, test=0.532) f1_weighted: (train=0.664, test=0.469) prec_macro: (train=0.843, test=0.212) rec_macro: (train=0.491, test=0.273) total time=   0.2s\n",
      "[CV 6/10] END criterion=entropy, max_depth=5, min_samples_split=2, n_estimators=100; accuracy: (train=0.686, test=0.636) f1_weighted: (train=0.652, test=0.600) prec_macro: (train=0.815, test=0.593) rec_macro: (train=0.483, test=0.399) total time=   0.2s\n",
      "[CV 7/10] END criterion=entropy, max_depth=5, min_samples_split=2, n_estimators=100; accuracy: (train=0.704, test=0.558) f1_weighted: (train=0.681, test=0.474) prec_macro: (train=0.804, test=0.209) rec_macro: (train=0.514, test=0.283) total time=   0.2s\n",
      "[CV 8/10] END criterion=entropy, max_depth=5, min_samples_split=2, n_estimators=100; accuracy: (train=0.681, test=0.558) f1_weighted: (train=0.643, test=0.492) prec_macro: (train=0.805, test=0.225) rec_macro: (train=0.442, test=0.293) total time=   0.2s\n",
      "[CV 9/10] END criterion=entropy, max_depth=5, min_samples_split=2, n_estimators=100; accuracy: (train=0.694, test=0.584) f1_weighted: (train=0.660, test=0.531) prec_macro: (train=0.813, test=0.620) rec_macro: (train=0.465, test=0.334) total time=   0.2s\n",
      "[CV 10/10] END criterion=entropy, max_depth=5, min_samples_split=2, n_estimators=100; accuracy: (train=0.691, test=0.610) f1_weighted: (train=0.662, test=0.550) prec_macro: (train=0.810, test=0.343) rec_macro: (train=0.477, test=0.339) total time=   0.2s\n",
      "[CV 1/10] END criterion=entropy, max_depth=5, min_samples_split=2, n_estimators=125; accuracy: (train=0.695, test=0.551) f1_weighted: (train=0.660, test=0.480) prec_macro: (train=0.800, test=0.212) rec_macro: (train=0.452, test=0.278) total time=   0.3s\n",
      "[CV 2/10] END criterion=entropy, max_depth=5, min_samples_split=2, n_estimators=125; accuracy: (train=0.700, test=0.564) f1_weighted: (train=0.679, test=0.503) prec_macro: (train=0.827, test=0.320) rec_macro: (train=0.511, test=0.306) total time=   0.2s\n",
      "[CV 3/10] END criterion=entropy, max_depth=5, min_samples_split=2, n_estimators=125; accuracy: (train=0.694, test=0.610) f1_weighted: (train=0.662, test=0.547) prec_macro: (train=0.843, test=0.340) rec_macro: (train=0.476, test=0.336) total time=   0.2s\n",
      "[CV 4/10] END criterion=entropy, max_depth=5, min_samples_split=2, n_estimators=125; accuracy: (train=0.698, test=0.584) f1_weighted: (train=0.674, test=0.516) prec_macro: (train=0.822, test=0.232) rec_macro: (train=0.488, test=0.293) total time=   0.2s\n",
      "[CV 5/10] END criterion=entropy, max_depth=5, min_samples_split=2, n_estimators=125; accuracy: (train=0.692, test=0.545) f1_weighted: (train=0.661, test=0.495) prec_macro: (train=0.825, test=0.285) rec_macro: (train=0.490, test=0.301) total time=   0.2s\n",
      "[CV 6/10] END criterion=entropy, max_depth=5, min_samples_split=2, n_estimators=125; accuracy: (train=0.702, test=0.636) f1_weighted: (train=0.676, test=0.601) prec_macro: (train=0.812, test=0.592) rec_macro: (train=0.506, test=0.396) total time=   0.2s\n",
      "[CV 7/10] END criterion=entropy, max_depth=5, min_samples_split=2, n_estimators=125; accuracy: (train=0.691, test=0.545) f1_weighted: (train=0.660, test=0.467) prec_macro: (train=0.806, test=0.207) rec_macro: (train=0.468, test=0.274) total time=   0.2s\n",
      "[CV 8/10] END criterion=entropy, max_depth=5, min_samples_split=2, n_estimators=125; accuracy: (train=0.683, test=0.558) f1_weighted: (train=0.651, test=0.483) prec_macro: (train=0.821, test=0.220) rec_macro: (train=0.466, test=0.293) total time=   0.2s\n",
      "[CV 9/10] END criterion=entropy, max_depth=5, min_samples_split=2, n_estimators=125; accuracy: (train=0.689, test=0.558) f1_weighted: (train=0.652, test=0.498) prec_macro: (train=0.835, test=0.316) rec_macro: (train=0.480, test=0.303) total time=   0.2s\n",
      "[CV 10/10] END criterion=entropy, max_depth=5, min_samples_split=2, n_estimators=125; accuracy: (train=0.694, test=0.597) f1_weighted: (train=0.665, test=0.537) prec_macro: (train=0.842, test=0.291) rec_macro: (train=0.505, test=0.333) total time=   0.2s\n",
      "[CV 1/10] END criterion=entropy, max_depth=5, min_samples_split=2, n_estimators=150; accuracy: (train=0.695, test=0.564) f1_weighted: (train=0.665, test=0.490) prec_macro: (train=0.816, test=0.219) rec_macro: (train=0.469, test=0.287) total time=   0.3s\n",
      "[CV 2/10] END criterion=entropy, max_depth=5, min_samples_split=2, n_estimators=150; accuracy: (train=0.716, test=0.564) f1_weighted: (train=0.697, test=0.492) prec_macro: (train=0.830, test=0.224) rec_macro: (train=0.554, test=0.290) total time=   0.3s\n",
      "[CV 3/10] END criterion=entropy, max_depth=5, min_samples_split=2, n_estimators=150; accuracy: (train=0.683, test=0.597) f1_weighted: (train=0.649, test=0.539) prec_macro: (train=0.814, test=0.338) rec_macro: (train=0.472, test=0.330) total time=   0.3s\n",
      "[CV 4/10] END criterion=entropy, max_depth=5, min_samples_split=2, n_estimators=150; accuracy: (train=0.696, test=0.610) f1_weighted: (train=0.671, test=0.537) prec_macro: (train=0.819, test=0.244) rec_macro: (train=0.487, test=0.307) total time=   0.3s\n",
      "[CV 5/10] END criterion=entropy, max_depth=5, min_samples_split=2, n_estimators=150; accuracy: (train=0.698, test=0.545) f1_weighted: (train=0.665, test=0.492) prec_macro: (train=0.811, test=0.315) rec_macro: (train=0.476, test=0.301) total time=   0.3s\n",
      "[CV 6/10] END criterion=entropy, max_depth=5, min_samples_split=2, n_estimators=150; accuracy: (train=0.682, test=0.623) f1_weighted: (train=0.648, test=0.575) prec_macro: (train=0.802, test=0.542) rec_macro: (train=0.463, test=0.355) total time=   0.3s\n",
      "[CV 7/10] END criterion=entropy, max_depth=5, min_samples_split=2, n_estimators=150; accuracy: (train=0.689, test=0.532) f1_weighted: (train=0.660, test=0.454) prec_macro: (train=0.803, test=0.201) rec_macro: (train=0.474, test=0.268) total time=   0.3s\n",
      "[CV 8/10] END criterion=entropy, max_depth=5, min_samples_split=2, n_estimators=150; accuracy: (train=0.689, test=0.584) f1_weighted: (train=0.662, test=0.523) prec_macro: (train=0.825, test=0.331) rec_macro: (train=0.492, test=0.324) total time=   0.3s\n",
      "[CV 9/10] END criterion=entropy, max_depth=5, min_samples_split=2, n_estimators=150; accuracy: (train=0.692, test=0.584) f1_weighted: (train=0.657, test=0.536) prec_macro: (train=0.844, test=0.622) rec_macro: (train=0.477, test=0.334) total time=   0.3s\n",
      "[CV 10/10] END criterion=entropy, max_depth=5, min_samples_split=2, n_estimators=150; accuracy: (train=0.699, test=0.597) f1_weighted: (train=0.674, test=0.535) prec_macro: (train=0.825, test=0.290) rec_macro: (train=0.506, test=0.333) total time=   0.3s\n",
      "[CV 1/10] END criterion=entropy, max_depth=5, min_samples_split=3, n_estimators=100; accuracy: (train=0.689, test=0.564) f1_weighted: (train=0.658, test=0.493) prec_macro: (train=0.797, test=0.222) rec_macro: (train=0.460, test=0.287) total time=   0.2s\n",
      "[CV 2/10] END criterion=entropy, max_depth=5, min_samples_split=3, n_estimators=100; accuracy: (train=0.706, test=0.577) f1_weighted: (train=0.683, test=0.513) prec_macro: (train=0.828, test=0.278) rec_macro: (train=0.515, test=0.312) total time=   0.2s\n"
     ]
    },
    {
     "name": "stdout",
     "output_type": "stream",
     "text": [
      "[CV 3/10] END criterion=entropy, max_depth=5, min_samples_split=3, n_estimators=100; accuracy: (train=0.678, test=0.610) f1_weighted: (train=0.639, test=0.549) prec_macro: (train=0.813, test=0.439) rec_macro: (train=0.464, test=0.336) total time=   0.2s\n",
      "[CV 4/10] END criterion=entropy, max_depth=5, min_samples_split=3, n_estimators=100; accuracy: (train=0.695, test=0.623) f1_weighted: (train=0.673, test=0.550) prec_macro: (train=0.806, test=0.251) rec_macro: (train=0.492, test=0.316) total time=   0.2s\n",
      "[CV 5/10] END criterion=entropy, max_depth=5, min_samples_split=3, n_estimators=100; accuracy: (train=0.675, test=0.532) f1_weighted: (train=0.635, test=0.467) prec_macro: (train=0.830, test=0.210) rec_macro: (train=0.459, test=0.273) total time=   0.2s\n",
      "[CV 6/10] END criterion=entropy, max_depth=5, min_samples_split=3, n_estimators=100; accuracy: (train=0.692, test=0.597) f1_weighted: (train=0.661, test=0.553) prec_macro: (train=0.816, test=0.434) rec_macro: (train=0.483, test=0.340) total time=   0.2s\n",
      "[CV 7/10] END criterion=entropy, max_depth=5, min_samples_split=3, n_estimators=100; accuracy: (train=0.698, test=0.545) f1_weighted: (train=0.674, test=0.465) prec_macro: (train=0.824, test=0.205) rec_macro: (train=0.508, test=0.274) total time=   0.2s\n",
      "[CV 8/10] END criterion=entropy, max_depth=5, min_samples_split=3, n_estimators=100; accuracy: (train=0.675, test=0.584) f1_weighted: (train=0.640, test=0.524) prec_macro: (train=0.790, test=0.330) rec_macro: (train=0.464, test=0.321) total time=   0.2s\n",
      "[CV 9/10] END criterion=entropy, max_depth=5, min_samples_split=3, n_estimators=100; accuracy: (train=0.683, test=0.545) f1_weighted: (train=0.649, test=0.475) prec_macro: (train=0.828, test=0.214) rec_macro: (train=0.463, test=0.281) total time=   0.2s\n",
      "[CV 10/10] END criterion=entropy, max_depth=5, min_samples_split=3, n_estimators=100; accuracy: (train=0.688, test=0.571) f1_weighted: (train=0.658, test=0.510) prec_macro: (train=0.815, test=0.276) rec_macro: (train=0.488, test=0.315) total time=   0.2s\n",
      "[CV 1/10] END criterion=entropy, max_depth=5, min_samples_split=3, n_estimators=125; accuracy: (train=0.689, test=0.551) f1_weighted: (train=0.658, test=0.478) prec_macro: (train=0.802, test=0.212) rec_macro: (train=0.462, test=0.278) total time=   0.2s\n",
      "[CV 2/10] END criterion=entropy, max_depth=5, min_samples_split=3, n_estimators=125; accuracy: (train=0.693, test=0.538) f1_weighted: (train=0.668, test=0.478) prec_macro: (train=0.820, test=0.276) rec_macro: (train=0.501, test=0.289) total time=   0.2s\n",
      "[CV 3/10] END criterion=entropy, max_depth=5, min_samples_split=3, n_estimators=125; accuracy: (train=0.683, test=0.610) f1_weighted: (train=0.649, test=0.548) prec_macro: (train=0.835, test=0.308) rec_macro: (train=0.457, test=0.333) total time=   0.2s\n",
      "[CV 4/10] END criterion=entropy, max_depth=5, min_samples_split=3, n_estimators=125; accuracy: (train=0.698, test=0.584) f1_weighted: (train=0.670, test=0.519) prec_macro: (train=0.813, test=0.236) rec_macro: (train=0.469, test=0.296) total time=   0.2s\n",
      "[CV 5/10] END criterion=entropy, max_depth=5, min_samples_split=3, n_estimators=125; accuracy: (train=0.695, test=0.545) f1_weighted: (train=0.662, test=0.480) prec_macro: (train=0.833, test=0.218) rec_macro: (train=0.490, test=0.282) total time=   0.2s\n",
      "[CV 6/10] END criterion=entropy, max_depth=5, min_samples_split=3, n_estimators=125; accuracy: (train=0.688, test=0.597) f1_weighted: (train=0.658, test=0.553) prec_macro: (train=0.796, test=0.434) rec_macro: (train=0.487, test=0.340) total time=   0.2s\n",
      "[CV 7/10] END criterion=entropy, max_depth=5, min_samples_split=3, n_estimators=125; accuracy: (train=0.683, test=0.545) f1_weighted: (train=0.650, test=0.481) prec_macro: (train=0.806, test=0.403) rec_macro: (train=0.451, test=0.290) total time=   0.3s\n",
      "[CV 8/10] END criterion=entropy, max_depth=5, min_samples_split=3, n_estimators=125; accuracy: (train=0.686, test=0.571) f1_weighted: (train=0.652, test=0.495) prec_macro: (train=0.811, test=0.226) rec_macro: (train=0.460, test=0.302) total time=   0.2s\n",
      "[CV 9/10] END criterion=entropy, max_depth=5, min_samples_split=3, n_estimators=125; accuracy: (train=0.695, test=0.584) f1_weighted: (train=0.664, test=0.534) prec_macro: (train=0.824, test=0.621) rec_macro: (train=0.473, test=0.334) total time=   0.2s\n",
      "[CV 10/10] END criterion=entropy, max_depth=5, min_samples_split=3, n_estimators=125; accuracy: (train=0.698, test=0.623) f1_weighted: (train=0.664, test=0.574) prec_macro: (train=0.835, test=0.500) rec_macro: (train=0.483, test=0.364) total time=   0.2s\n",
      "[CV 1/10] END criterion=entropy, max_depth=5, min_samples_split=3, n_estimators=150; accuracy: (train=0.689, test=0.551) f1_weighted: (train=0.656, test=0.484) prec_macro: (train=0.811, test=0.216) rec_macro: (train=0.451, test=0.278) total time=   0.3s\n",
      "[CV 2/10] END criterion=entropy, max_depth=5, min_samples_split=3, n_estimators=150; accuracy: (train=0.700, test=0.577) f1_weighted: (train=0.673, test=0.513) prec_macro: (train=0.824, test=0.324) rec_macro: (train=0.503, test=0.315) total time=   0.3s\n",
      "[CV 3/10] END criterion=entropy, max_depth=5, min_samples_split=3, n_estimators=150; accuracy: (train=0.686, test=0.623) f1_weighted: (train=0.652, test=0.559) prec_macro: (train=0.834, test=0.444) rec_macro: (train=0.458, test=0.344) total time=   0.3s\n",
      "[CV 4/10] END criterion=entropy, max_depth=5, min_samples_split=3, n_estimators=150; accuracy: (train=0.688, test=0.610) f1_weighted: (train=0.657, test=0.542) prec_macro: (train=0.808, test=0.247) rec_macro: (train=0.456, test=0.310) total time=   0.3s\n",
      "[CV 5/10] END criterion=entropy, max_depth=5, min_samples_split=3, n_estimators=150; accuracy: (train=0.691, test=0.545) f1_weighted: (train=0.655, test=0.492) prec_macro: (train=0.840, test=0.413) rec_macro: (train=0.480, test=0.301) total time=   0.3s\n",
      "[CV 6/10] END criterion=entropy, max_depth=5, min_samples_split=3, n_estimators=150; accuracy: (train=0.686, test=0.623) f1_weighted: (train=0.654, test=0.575) prec_macro: (train=0.806, test=0.542) rec_macro: (train=0.477, test=0.355) total time=   0.3s\n",
      "[CV 7/10] END criterion=entropy, max_depth=5, min_samples_split=3, n_estimators=150; accuracy: (train=0.698, test=0.571) f1_weighted: (train=0.671, test=0.508) prec_macro: (train=0.823, test=0.408) rec_macro: (train=0.483, test=0.318) total time=   0.3s\n",
      "[CV 8/10] END criterion=entropy, max_depth=5, min_samples_split=3, n_estimators=150; accuracy: (train=0.678, test=0.545) f1_weighted: (train=0.642, test=0.470) prec_macro: (train=0.815, test=0.211) rec_macro: (train=0.465, test=0.281) total time=   0.3s\n",
      "[CV 9/10] END criterion=entropy, max_depth=5, min_samples_split=3, n_estimators=150; accuracy: (train=0.688, test=0.597) f1_weighted: (train=0.656, test=0.535) prec_macro: (train=0.807, test=0.336) rec_macro: (train=0.463, test=0.330) total time=   0.3s\n",
      "[CV 10/10] END criterion=entropy, max_depth=5, min_samples_split=3, n_estimators=150; accuracy: (train=0.694, test=0.571) f1_weighted: (train=0.666, test=0.515) prec_macro: (train=0.831, test=0.282) rec_macro: (train=0.504, test=0.318) total time=   0.3s\n",
      "[CV 1/10] END criterion=entropy, max_depth=6, min_samples_split=2, n_estimators=100; accuracy: (train=0.795, test=0.590) f1_weighted: (train=0.786, test=0.534) prec_macro: (train=0.880, test=0.335) rec_macro: (train=0.630, test=0.318) total time=   0.2s\n",
      "[CV 2/10] END criterion=entropy, max_depth=6, min_samples_split=2, n_estimators=100; accuracy: (train=0.781, test=0.577) f1_weighted: (train=0.775, test=0.521) prec_macro: (train=0.870, test=0.272) rec_macro: (train=0.672, test=0.312) total time=   0.2s\n",
      "[CV 3/10] END criterion=entropy, max_depth=6, min_samples_split=2, n_estimators=100; accuracy: (train=0.777, test=0.610) f1_weighted: (train=0.769, test=0.561) prec_macro: (train=0.883, test=0.375) rec_macro: (train=0.632, test=0.355) total time=   0.2s\n",
      "[CV 4/10] END criterion=entropy, max_depth=6, min_samples_split=2, n_estimators=100; accuracy: (train=0.784, test=0.584) f1_weighted: (train=0.777, test=0.522) prec_macro: (train=0.883, test=0.238) rec_macro: (train=0.637, test=0.296) total time=   0.2s\n",
      "[CV 5/10] END criterion=entropy, max_depth=6, min_samples_split=2, n_estimators=100; accuracy: (train=0.787, test=0.532) f1_weighted: (train=0.778, test=0.476) prec_macro: (train=0.878, test=0.218) rec_macro: (train=0.656, test=0.276) total time=   0.2s\n"
     ]
    },
    {
     "name": "stdout",
     "output_type": "stream",
     "text": [
      "[CV 6/10] END criterion=entropy, max_depth=6, min_samples_split=2, n_estimators=100; accuracy: (train=0.788, test=0.610) f1_weighted: (train=0.782, test=0.574) prec_macro: (train=0.869, test=0.440) rec_macro: (train=0.659, test=0.365) total time=   0.2s\n",
      "[CV 7/10] END criterion=entropy, max_depth=6, min_samples_split=2, n_estimators=100; accuracy: (train=0.797, test=0.532) f1_weighted: (train=0.790, test=0.472) prec_macro: (train=0.888, test=0.301) rec_macro: (train=0.647, test=0.281) total time=   0.2s\n",
      "[CV 8/10] END criterion=entropy, max_depth=6, min_samples_split=2, n_estimators=100; accuracy: (train=0.760, test=0.584) f1_weighted: (train=0.749, test=0.531) prec_macro: (train=0.851, test=0.337) rec_macro: (train=0.614, test=0.324) total time=   0.2s\n",
      "[CV 9/10] END criterion=entropy, max_depth=6, min_samples_split=2, n_estimators=100; accuracy: (train=0.794, test=0.584) f1_weighted: (train=0.786, test=0.531) prec_macro: (train=0.875, test=0.304) rec_macro: (train=0.644, test=0.321) total time=   0.2s\n",
      "[CV 10/10] END criterion=entropy, max_depth=6, min_samples_split=2, n_estimators=100; accuracy: (train=0.791, test=0.597) f1_weighted: (train=0.784, test=0.550) prec_macro: (train=0.882, test=0.324) rec_macro: (train=0.667, test=0.345) total time=   0.2s\n",
      "[CV 1/10] END criterion=entropy, max_depth=6, min_samples_split=2, n_estimators=125; accuracy: (train=0.781, test=0.577) f1_weighted: (train=0.773, test=0.522) prec_macro: (train=0.869, test=0.298) rec_macro: (train=0.621, test=0.309) total time=   0.3s\n",
      "[CV 2/10] END criterion=entropy, max_depth=6, min_samples_split=2, n_estimators=125; accuracy: (train=0.778, test=0.590) f1_weighted: (train=0.770, test=0.524) prec_macro: (train=0.866, test=0.276) rec_macro: (train=0.647, test=0.318) total time=   0.3s\n",
      "[CV 3/10] END criterion=entropy, max_depth=6, min_samples_split=2, n_estimators=125; accuracy: (train=0.780, test=0.597) f1_weighted: (train=0.772, test=0.537) prec_macro: (train=0.871, test=0.434) rec_macro: (train=0.639, test=0.330) total time=   0.3s\n",
      "[CV 4/10] END criterion=entropy, max_depth=6, min_samples_split=2, n_estimators=125; accuracy: (train=0.786, test=0.584) f1_weighted: (train=0.780, test=0.527) prec_macro: (train=0.880, test=0.242) rec_macro: (train=0.641, test=0.296) total time=   0.3s\n",
      "[CV 5/10] END criterion=entropy, max_depth=6, min_samples_split=2, n_estimators=125; accuracy: (train=0.783, test=0.532) f1_weighted: (train=0.772, test=0.474) prec_macro: (train=0.877, test=0.217) rec_macro: (train=0.629, test=0.276) total time=   0.3s\n",
      "[CV 6/10] END criterion=entropy, max_depth=6, min_samples_split=2, n_estimators=125; accuracy: (train=0.793, test=0.597) f1_weighted: (train=0.788, test=0.563) prec_macro: (train=0.886, test=0.533) rec_macro: (train=0.669, test=0.357) total time=   0.3s\n",
      "[CV 7/10] END criterion=entropy, max_depth=6, min_samples_split=2, n_estimators=125; accuracy: (train=0.793, test=0.532) f1_weighted: (train=0.785, test=0.479) prec_macro: (train=0.871, test=0.274) rec_macro: (train=0.637, test=0.281) total time=   0.3s\n",
      "[CV 8/10] END criterion=entropy, max_depth=6, min_samples_split=2, n_estimators=125; accuracy: (train=0.784, test=0.571) f1_weighted: (train=0.776, test=0.506) prec_macro: (train=0.886, test=0.234) rec_macro: (train=0.649, test=0.302) total time=   0.3s\n",
      "[CV 9/10] END criterion=entropy, max_depth=6, min_samples_split=2, n_estimators=125; accuracy: (train=0.793, test=0.584) f1_weighted: (train=0.786, test=0.542) prec_macro: (train=0.888, test=0.495) rec_macro: (train=0.651, test=0.334) total time=   0.3s\n",
      "[CV 10/10] END criterion=entropy, max_depth=6, min_samples_split=2, n_estimators=125; accuracy: (train=0.786, test=0.571) f1_weighted: (train=0.778, test=0.517) prec_macro: (train=0.886, test=0.266) rec_macro: (train=0.664, test=0.315) total time=   0.3s\n",
      "[CV 1/10] END criterion=entropy, max_depth=6, min_samples_split=2, n_estimators=150; accuracy: (train=0.794, test=0.577) f1_weighted: (train=0.787, test=0.518) prec_macro: (train=0.887, test=0.325) rec_macro: (train=0.642, test=0.309) total time=   0.3s\n",
      "[CV 2/10] END criterion=entropy, max_depth=6, min_samples_split=2, n_estimators=150; accuracy: (train=0.793, test=0.577) f1_weighted: (train=0.787, test=0.517) prec_macro: (train=0.877, test=0.281) rec_macro: (train=0.673, test=0.315) total time=   0.3s\n",
      "[CV 3/10] END criterion=entropy, max_depth=6, min_samples_split=2, n_estimators=150; accuracy: (train=0.767, test=0.597) f1_weighted: (train=0.757, test=0.540) prec_macro: (train=0.873, test=0.337) rec_macro: (train=0.620, test=0.327) total time=   0.3s\n",
      "[CV 4/10] END criterion=entropy, max_depth=6, min_samples_split=2, n_estimators=150; accuracy: (train=0.783, test=0.571) f1_weighted: (train=0.776, test=0.517) prec_macro: (train=0.876, test=0.238) rec_macro: (train=0.635, test=0.290) total time=   0.3s\n",
      "[CV 5/10] END criterion=entropy, max_depth=6, min_samples_split=2, n_estimators=150; accuracy: (train=0.773, test=0.532) f1_weighted: (train=0.762, test=0.483) prec_macro: (train=0.885, test=0.280) rec_macro: (train=0.616, test=0.292) total time=   0.3s\n",
      "[CV 6/10] END criterion=entropy, max_depth=6, min_samples_split=2, n_estimators=150; accuracy: (train=0.791, test=0.610) f1_weighted: (train=0.785, test=0.566) prec_macro: (train=0.874, test=0.441) rec_macro: (train=0.661, test=0.349) total time=   0.3s\n",
      "[CV 7/10] END criterion=entropy, max_depth=6, min_samples_split=2, n_estimators=150; accuracy: (train=0.796, test=0.545) f1_weighted: (train=0.786, test=0.492) prec_macro: (train=0.871, test=0.335) rec_macro: (train=0.641, test=0.303) total time=   0.3s\n",
      "[CV 8/10] END criterion=entropy, max_depth=6, min_samples_split=2, n_estimators=150; accuracy: (train=0.768, test=0.558) f1_weighted: (train=0.758, test=0.499) prec_macro: (train=0.865, test=0.231) rec_macro: (train=0.622, test=0.293) total time=   0.3s\n",
      "[CV 9/10] END criterion=entropy, max_depth=6, min_samples_split=2, n_estimators=150; accuracy: (train=0.796, test=0.597) f1_weighted: (train=0.787, test=0.555) prec_macro: (train=0.888, test=0.489) rec_macro: (train=0.648, test=0.343) total time=   0.3s\n",
      "[CV 10/10] END criterion=entropy, max_depth=6, min_samples_split=2, n_estimators=150; accuracy: (train=0.790, test=0.584) f1_weighted: (train=0.782, test=0.530) prec_macro: (train=0.890, test=0.278) rec_macro: (train=0.660, test=0.320) total time=   0.3s\n",
      "[CV 1/10] END criterion=entropy, max_depth=6, min_samples_split=3, n_estimators=100; accuracy: (train=0.780, test=0.577) f1_weighted: (train=0.770, test=0.523) prec_macro: (train=0.864, test=0.328) rec_macro: (train=0.610, test=0.309) total time=   0.2s\n",
      "[CV 2/10] END criterion=entropy, max_depth=6, min_samples_split=3, n_estimators=100; accuracy: (train=0.793, test=0.577) f1_weighted: (train=0.786, test=0.512) prec_macro: (train=0.878, test=0.279) rec_macro: (train=0.681, test=0.309) total time=   0.2s\n",
      "[CV 3/10] END criterion=entropy, max_depth=6, min_samples_split=3, n_estimators=100; accuracy: (train=0.770, test=0.597) f1_weighted: (train=0.760, test=0.551) prec_macro: (train=0.870, test=0.370) rec_macro: (train=0.610, test=0.346) total time=   0.2s\n",
      "[CV 4/10] END criterion=entropy, max_depth=6, min_samples_split=3, n_estimators=100; accuracy: (train=0.776, test=0.610) f1_weighted: (train=0.768, test=0.546) prec_macro: (train=0.866, test=0.250) rec_macro: (train=0.634, test=0.313) total time=   0.2s\n",
      "[CV 5/10] END criterion=entropy, max_depth=6, min_samples_split=3, n_estimators=100; accuracy: (train=0.783, test=0.545) f1_weighted: (train=0.773, test=0.488) prec_macro: (train=0.869, test=0.225) rec_macro: (train=0.633, test=0.285) total time=   0.2s\n",
      "[CV 6/10] END criterion=entropy, max_depth=6, min_samples_split=3, n_estimators=100; accuracy: (train=0.773, test=0.623) f1_weighted: (train=0.764, test=0.586) prec_macro: (train=0.863, test=0.477) rec_macro: (train=0.644, test=0.374) total time=   0.2s\n",
      "[CV 7/10] END criterion=entropy, max_depth=6, min_samples_split=3, n_estimators=100; accuracy: (train=0.783, test=0.532) f1_weighted: (train=0.774, test=0.494) prec_macro: (train=0.866, test=0.364) rec_macro: (train=0.646, test=0.311) total time=   0.2s\n",
      "[CV 8/10] END criterion=entropy, max_depth=6, min_samples_split=3, n_estimators=100; accuracy: (train=0.767, test=0.571) f1_weighted: (train=0.758, test=0.506) prec_macro: (train=0.874, test=0.234) rec_macro: (train=0.635, test=0.302) total time=   0.2s\n"
     ]
    },
    {
     "name": "stdout",
     "output_type": "stream",
     "text": [
      "[CV 9/10] END criterion=entropy, max_depth=6, min_samples_split=3, n_estimators=100; accuracy: (train=0.783, test=0.584) f1_weighted: (train=0.775, test=0.539) prec_macro: (train=0.870, test=0.383) rec_macro: (train=0.641, test=0.334) total time=   0.2s\n",
      "[CV 10/10] END criterion=entropy, max_depth=6, min_samples_split=3, n_estimators=100; accuracy: (train=0.780, test=0.545) f1_weighted: (train=0.772, test=0.498) prec_macro: (train=0.880, test=0.252) rec_macro: (train=0.660, test=0.296) total time=   0.2s\n",
      "[CV 1/10] END criterion=entropy, max_depth=6, min_samples_split=3, n_estimators=125; accuracy: (train=0.769, test=0.564) f1_weighted: (train=0.757, test=0.499) prec_macro: (train=0.867, test=0.225) rec_macro: (train=0.592, test=0.287) total time=   0.3s\n",
      "[CV 2/10] END criterion=entropy, max_depth=6, min_samples_split=3, n_estimators=125; accuracy: (train=0.781, test=0.577) f1_weighted: (train=0.774, test=0.512) prec_macro: (train=0.870, test=0.278) rec_macro: (train=0.659, test=0.312) total time=   0.3s\n",
      "[CV 3/10] END criterion=entropy, max_depth=6, min_samples_split=3, n_estimators=125; accuracy: (train=0.758, test=0.623) f1_weighted: (train=0.746, test=0.568) prec_macro: (train=0.879, test=0.440) rec_macro: (train=0.599, test=0.361) total time=   0.3s\n",
      "[CV 4/10] END criterion=entropy, max_depth=6, min_samples_split=3, n_estimators=125; accuracy: (train=0.774, test=0.584) f1_weighted: (train=0.766, test=0.526) prec_macro: (train=0.877, test=0.242) rec_macro: (train=0.628, test=0.299) total time=   0.3s\n",
      "[CV 5/10] END criterion=entropy, max_depth=6, min_samples_split=3, n_estimators=125; accuracy: (train=0.777, test=0.532) f1_weighted: (train=0.765, test=0.481) prec_macro: (train=0.877, test=0.310) rec_macro: (train=0.640, test=0.292) total time=   0.3s\n",
      "[CV 6/10] END criterion=entropy, max_depth=6, min_samples_split=3, n_estimators=125; accuracy: (train=0.788, test=0.623) f1_weighted: (train=0.781, test=0.585) prec_macro: (train=0.871, test=0.574) rec_macro: (train=0.661, test=0.374) total time=   0.3s\n",
      "[CV 7/10] END criterion=entropy, max_depth=6, min_samples_split=3, n_estimators=125; accuracy: (train=0.786, test=0.519) f1_weighted: (train=0.778, test=0.453) prec_macro: (train=0.875, test=0.201) rec_macro: (train=0.632, test=0.259) total time=   0.3s\n",
      "[CV 8/10] END criterion=entropy, max_depth=6, min_samples_split=3, n_estimators=125; accuracy: (train=0.763, test=0.584) f1_weighted: (train=0.752, test=0.509) prec_macro: (train=0.867, test=0.234) rec_macro: (train=0.615, test=0.311) total time=   0.3s\n",
      "[CV 9/10] END criterion=entropy, max_depth=6, min_samples_split=3, n_estimators=125; accuracy: (train=0.786, test=0.584) f1_weighted: (train=0.780, test=0.532) prec_macro: (train=0.880, test=0.306) rec_macro: (train=0.650, test=0.321) total time=   0.3s\n",
      "[CV 10/10] END criterion=entropy, max_depth=6, min_samples_split=3, n_estimators=125; accuracy: (train=0.784, test=0.584) f1_weighted: (train=0.778, test=0.542) prec_macro: (train=0.874, test=0.322) rec_macro: (train=0.663, test=0.343) total time=   0.3s\n",
      "[CV 1/10] END criterion=entropy, max_depth=6, min_samples_split=3, n_estimators=150; accuracy: (train=0.777, test=0.577) f1_weighted: (train=0.766, test=0.518) prec_macro: (train=0.870, test=0.325) rec_macro: (train=0.614, test=0.309) total time=   0.3s\n",
      "[CV 2/10] END criterion=entropy, max_depth=6, min_samples_split=3, n_estimators=150; accuracy: (train=0.774, test=0.564) f1_weighted: (train=0.765, test=0.498) prec_macro: (train=0.863, test=0.271) rec_macro: (train=0.646, test=0.304) total time=   0.3s\n",
      "[CV 3/10] END criterion=entropy, max_depth=6, min_samples_split=3, n_estimators=150; accuracy: (train=0.776, test=0.610) f1_weighted: (train=0.767, test=0.564) prec_macro: (train=0.873, test=0.377) rec_macro: (train=0.642, test=0.355) total time=   0.3s\n",
      "[CV 4/10] END criterion=entropy, max_depth=6, min_samples_split=3, n_estimators=150; accuracy: (train=0.776, test=0.597) f1_weighted: (train=0.769, test=0.534) prec_macro: (train=0.875, test=0.245) rec_macro: (train=0.622, test=0.305) total time=   0.4s\n",
      "[CV 5/10] END criterion=entropy, max_depth=6, min_samples_split=3, n_estimators=150; accuracy: (train=0.770, test=0.545) f1_weighted: (train=0.759, test=0.477) prec_macro: (train=0.879, test=0.217) rec_macro: (train=0.612, test=0.285) total time=   0.5s\n",
      "[CV 6/10] END criterion=entropy, max_depth=6, min_samples_split=3, n_estimators=150; accuracy: (train=0.783, test=0.610) f1_weighted: (train=0.776, test=0.565) prec_macro: (train=0.873, test=0.538) rec_macro: (train=0.652, test=0.349) total time=   0.4s\n",
      "[CV 7/10] END criterion=entropy, max_depth=6, min_samples_split=3, n_estimators=150; accuracy: (train=0.781, test=0.545) f1_weighted: (train=0.771, test=0.483) prec_macro: (train=0.867, test=0.306) rec_macro: (train=0.619, test=0.290) total time=   0.5s\n",
      "[CV 8/10] END criterion=entropy, max_depth=6, min_samples_split=3, n_estimators=150; accuracy: (train=0.765, test=0.610) f1_weighted: (train=0.756, test=0.558) prec_macro: (train=0.874, test=0.374) rec_macro: (train=0.626, test=0.352) total time=   0.4s\n",
      "[CV 9/10] END criterion=entropy, max_depth=6, min_samples_split=3, n_estimators=150; accuracy: (train=0.788, test=0.584) f1_weighted: (train=0.781, test=0.538) prec_macro: (train=0.877, test=0.429) rec_macro: (train=0.644, test=0.337) total time=   0.3s\n",
      "[CV 10/10] END criterion=entropy, max_depth=6, min_samples_split=3, n_estimators=150; accuracy: (train=0.799, test=0.610) f1_weighted: (train=0.791, test=0.558) prec_macro: (train=0.892, test=0.328) rec_macro: (train=0.673, test=0.354) total time=   0.3s\n",
      "[CV 1/10] END criterion=entropy, max_depth=7, min_samples_split=2, n_estimators=100; accuracy: (train=0.867, test=0.577) f1_weighted: (train=0.866, test=0.520) prec_macro: (train=0.925, test=0.278) rec_macro: (train=0.789, test=0.309) total time=   0.2s\n",
      "[CV 2/10] END criterion=entropy, max_depth=7, min_samples_split=2, n_estimators=100; accuracy: (train=0.879, test=0.577) f1_weighted: (train=0.878, test=0.537) prec_macro: (train=0.932, test=0.369) rec_macro: (train=0.835, test=0.342) total time=   0.2s\n",
      "[CV 3/10] END criterion=entropy, max_depth=7, min_samples_split=2, n_estimators=100; accuracy: (train=0.868, test=0.571) f1_weighted: (train=0.867, test=0.534) prec_macro: (train=0.925, test=0.429) rec_macro: (train=0.774, test=0.335) total time=   0.2s\n",
      "[CV 4/10] END criterion=entropy, max_depth=7, min_samples_split=2, n_estimators=100; accuracy: (train=0.869, test=0.571) f1_weighted: (train=0.867, test=0.522) prec_macro: (train=0.926, test=0.297) rec_macro: (train=0.794, test=0.307) total time=   0.2s\n",
      "[CV 5/10] END criterion=entropy, max_depth=7, min_samples_split=2, n_estimators=100; accuracy: (train=0.873, test=0.558) f1_weighted: (train=0.872, test=0.521) prec_macro: (train=0.927, test=0.520) rec_macro: (train=0.795, test=0.323) total time=   0.2s\n",
      "[CV 6/10] END criterion=entropy, max_depth=7, min_samples_split=2, n_estimators=100; accuracy: (train=0.882, test=0.610) f1_weighted: (train=0.881, test=0.566) prec_macro: (train=0.935, test=0.408) rec_macro: (train=0.824, test=0.346) total time=   0.2s\n",
      "[CV 7/10] END criterion=entropy, max_depth=7, min_samples_split=2, n_estimators=100; accuracy: (train=0.873, test=0.558) f1_weighted: (train=0.872, test=0.522) prec_macro: (train=0.924, test=0.435) rec_macro: (train=0.789, test=0.339) total time=   0.2s\n",
      "[CV 8/10] END criterion=entropy, max_depth=7, min_samples_split=2, n_estimators=100; accuracy: (train=0.868, test=0.571) f1_weighted: (train=0.867, test=0.509) prec_macro: (train=0.921, test=0.237) rec_macro: (train=0.815, test=0.302) total time=   0.2s\n",
      "[CV 9/10] END criterion=entropy, max_depth=7, min_samples_split=2, n_estimators=100; accuracy: (train=0.879, test=0.571) f1_weighted: (train=0.878, test=0.529) prec_macro: (train=0.930, test=0.361) rec_macro: (train=0.806, test=0.328) total time=   0.2s\n",
      "[CV 10/10] END criterion=entropy, max_depth=7, min_samples_split=2, n_estimators=100; accuracy: (train=0.882, test=0.597) f1_weighted: (train=0.880, test=0.573) prec_macro: (train=0.929, test=0.433) rec_macro: (train=0.821, test=0.375) total time=   0.2s\n",
      "[CV 1/10] END criterion=entropy, max_depth=7, min_samples_split=2, n_estimators=125; accuracy: (train=0.878, test=0.564) f1_weighted: (train=0.876, test=0.510) prec_macro: (train=0.932, test=0.290) rec_macro: (train=0.782, test=0.304) total time=   0.4s\n"
     ]
    },
    {
     "name": "stdout",
     "output_type": "stream",
     "text": [
      "[CV 2/10] END criterion=entropy, max_depth=7, min_samples_split=2, n_estimators=125; accuracy: (train=0.865, test=0.603) f1_weighted: (train=0.863, test=0.554) prec_macro: (train=0.920, test=0.361) rec_macro: (train=0.798, test=0.346) total time=   0.3s\n",
      "[CV 3/10] END criterion=entropy, max_depth=7, min_samples_split=2, n_estimators=125; accuracy: (train=0.871, test=0.597) f1_weighted: (train=0.870, test=0.568) prec_macro: (train=0.921, test=0.536) rec_macro: (train=0.787, test=0.366) total time=   0.3s\n",
      "[CV 4/10] END criterion=entropy, max_depth=7, min_samples_split=2, n_estimators=125; accuracy: (train=0.871, test=0.597) f1_weighted: (train=0.869, test=0.548) prec_macro: (train=0.921, test=0.313) rec_macro: (train=0.802, test=0.330) total time=   0.3s\n",
      "[CV 5/10] END criterion=entropy, max_depth=7, min_samples_split=2, n_estimators=125; accuracy: (train=0.860, test=0.545) f1_weighted: (train=0.859, test=0.499) prec_macro: (train=0.922, test=0.275) rec_macro: (train=0.772, test=0.301) total time=   0.3s\n",
      "[CV 6/10] END criterion=entropy, max_depth=7, min_samples_split=2, n_estimators=125; accuracy: (train=0.881, test=0.610) f1_weighted: (train=0.879, test=0.577) prec_macro: (train=0.926, test=0.540) rec_macro: (train=0.809, test=0.365) total time=   0.3s\n",
      "[CV 7/10] END criterion=entropy, max_depth=7, min_samples_split=2, n_estimators=125; accuracy: (train=0.878, test=0.532) f1_weighted: (train=0.877, test=0.477) prec_macro: (train=0.925, test=0.271) rec_macro: (train=0.796, test=0.281) total time=   0.3s\n",
      "[CV 8/10] END criterion=entropy, max_depth=7, min_samples_split=2, n_estimators=125; accuracy: (train=0.862, test=0.545) f1_weighted: (train=0.860, test=0.491) prec_macro: (train=0.924, test=0.313) rec_macro: (train=0.774, test=0.297) total time=   0.3s\n",
      "[CV 9/10] END criterion=entropy, max_depth=7, min_samples_split=2, n_estimators=125; accuracy: (train=0.889, test=0.584) f1_weighted: (train=0.888, test=0.552) prec_macro: (train=0.936, test=0.382) rec_macro: (train=0.833, test=0.351) total time=   0.3s\n",
      "[CV 10/10] END criterion=entropy, max_depth=7, min_samples_split=2, n_estimators=125; accuracy: (train=0.876, test=0.584) f1_weighted: (train=0.875, test=0.539) prec_macro: (train=0.929, test=0.319) rec_macro: (train=0.804, test=0.340) total time=   0.4s\n",
      "[CV 1/10] END criterion=entropy, max_depth=7, min_samples_split=2, n_estimators=150; accuracy: (train=0.875, test=0.577) f1_weighted: (train=0.874, test=0.520) prec_macro: (train=0.928, test=0.425) rec_macro: (train=0.793, test=0.309) total time=   0.3s\n",
      "[CV 2/10] END criterion=entropy, max_depth=7, min_samples_split=2, n_estimators=150; accuracy: (train=0.866, test=0.577) f1_weighted: (train=0.865, test=0.527) prec_macro: (train=0.926, test=0.269) rec_macro: (train=0.811, test=0.315) total time=   0.3s\n",
      "[CV 3/10] END criterion=entropy, max_depth=7, min_samples_split=2, n_estimators=150; accuracy: (train=0.879, test=0.623) f1_weighted: (train=0.879, test=0.586) prec_macro: (train=0.933, test=0.477) rec_macro: (train=0.804, test=0.374) total time=   0.3s\n",
      "[CV 4/10] END criterion=entropy, max_depth=7, min_samples_split=2, n_estimators=150; accuracy: (train=0.868, test=0.584) f1_weighted: (train=0.867, test=0.522) prec_macro: (train=0.927, test=0.238) rec_macro: (train=0.803, test=0.296) total time=   0.3s\n",
      "[CV 5/10] END criterion=entropy, max_depth=7, min_samples_split=2, n_estimators=150; accuracy: (train=0.873, test=0.532) f1_weighted: (train=0.871, test=0.477) prec_macro: (train=0.930, test=0.220) rec_macro: (train=0.803, test=0.276) total time=   0.3s\n",
      "[CV 6/10] END criterion=entropy, max_depth=7, min_samples_split=2, n_estimators=150; accuracy: (train=0.872, test=0.610) f1_weighted: (train=0.871, test=0.568) prec_macro: (train=0.932, test=0.541) rec_macro: (train=0.796, test=0.349) total time=   0.4s\n",
      "[CV 7/10] END criterion=entropy, max_depth=7, min_samples_split=2, n_estimators=150; accuracy: (train=0.871, test=0.519) f1_weighted: (train=0.870, test=0.485) prec_macro: (train=0.923, test=0.346) rec_macro: (train=0.790, test=0.305) total time=   0.5s\n",
      "[CV 8/10] END criterion=entropy, max_depth=7, min_samples_split=2, n_estimators=150; accuracy: (train=0.862, test=0.571) f1_weighted: (train=0.860, test=0.520) prec_macro: (train=0.921, test=0.329) rec_macro: (train=0.783, test=0.312) total time=   0.3s\n",
      "[CV 9/10] END criterion=entropy, max_depth=7, min_samples_split=2, n_estimators=150; accuracy: (train=0.883, test=0.597) f1_weighted: (train=0.883, test=0.563) prec_macro: (train=0.938, test=0.498) rec_macro: (train=0.826, test=0.356) total time=   0.3s\n",
      "[CV 10/10] END criterion=entropy, max_depth=7, min_samples_split=2, n_estimators=150; accuracy: (train=0.876, test=0.571) f1_weighted: (train=0.875, test=0.538) prec_macro: (train=0.932, test=0.364) rec_macro: (train=0.822, test=0.347) total time=   0.3s\n",
      "[CV 1/10] END criterion=entropy, max_depth=7, min_samples_split=3, n_estimators=100; accuracy: (train=0.849, test=0.564) f1_weighted: (train=0.846, test=0.508) prec_macro: (train=0.905, test=0.290) rec_macro: (train=0.739, test=0.304) total time=   0.3s\n",
      "[CV 2/10] END criterion=entropy, max_depth=7, min_samples_split=3, n_estimators=100; accuracy: (train=0.857, test=0.564) f1_weighted: (train=0.856, test=0.508) prec_macro: (train=0.925, test=0.263) rec_macro: (train=0.813, test=0.306) total time=   0.3s\n",
      "[CV 3/10] END criterion=entropy, max_depth=7, min_samples_split=3, n_estimators=100; accuracy: (train=0.869, test=0.610) f1_weighted: (train=0.868, test=0.556) prec_macro: (train=0.922, test=0.340) rec_macro: (train=0.800, test=0.352) total time=   0.3s\n",
      "[CV 4/10] END criterion=entropy, max_depth=7, min_samples_split=3, n_estimators=100; accuracy: (train=0.859, test=0.597) f1_weighted: (train=0.858, test=0.541) prec_macro: (train=0.926, test=0.249) rec_macro: (train=0.768, test=0.305) total time=   0.3s\n",
      "[CV 5/10] END criterion=entropy, max_depth=7, min_samples_split=3, n_estimators=100; accuracy: (train=0.859, test=0.519) f1_weighted: (train=0.856, test=0.473) prec_macro: (train=0.915, test=0.259) rec_macro: (train=0.765, test=0.284) total time=   0.2s\n",
      "[CV 6/10] END criterion=entropy, max_depth=7, min_samples_split=3, n_estimators=100; accuracy: (train=0.872, test=0.623) f1_weighted: (train=0.870, test=0.584) prec_macro: (train=0.924, test=0.538) rec_macro: (train=0.796, test=0.371) total time=   0.2s\n",
      "[CV 7/10] END criterion=entropy, max_depth=7, min_samples_split=3, n_estimators=100; accuracy: (train=0.865, test=0.506) f1_weighted: (train=0.863, test=0.453) prec_macro: (train=0.920, test=0.261) rec_macro: (train=0.777, test=0.266) total time=   0.2s\n",
      "[CV 8/10] END criterion=entropy, max_depth=7, min_samples_split=3, n_estimators=100; accuracy: (train=0.862, test=0.597) f1_weighted: (train=0.860, test=0.546) prec_macro: (train=0.916, test=0.367) rec_macro: (train=0.773, test=0.343) total time=   0.3s\n",
      "[CV 9/10] END criterion=entropy, max_depth=7, min_samples_split=3, n_estimators=100; accuracy: (train=0.858, test=0.584) f1_weighted: (train=0.855, test=0.542) prec_macro: (train=0.914, test=0.431) rec_macro: (train=0.748, test=0.337) total time=   0.3s\n",
      "[CV 10/10] END criterion=entropy, max_depth=7, min_samples_split=3, n_estimators=100; accuracy: (train=0.872, test=0.584) f1_weighted: (train=0.871, test=0.543) prec_macro: (train=0.927, test=0.303) rec_macro: (train=0.800, test=0.340) total time=   0.3s\n",
      "[CV 1/10] END criterion=entropy, max_depth=7, min_samples_split=3, n_estimators=125; accuracy: (train=0.859, test=0.590) f1_weighted: (train=0.857, test=0.532) prec_macro: (train=0.915, test=0.302) rec_macro: (train=0.757, test=0.318) total time=   0.3s\n",
      "[CV 2/10] END criterion=entropy, max_depth=7, min_samples_split=3, n_estimators=125; accuracy: (train=0.862, test=0.577) f1_weighted: (train=0.861, test=0.518) prec_macro: (train=0.924, test=0.281) rec_macro: (train=0.824, test=0.315) total time=   0.3s\n",
      "[CV 3/10] END criterion=entropy, max_depth=7, min_samples_split=3, n_estimators=125; accuracy: (train=0.866, test=0.610) f1_weighted: (train=0.865, test=0.577) prec_macro: (train=0.921, test=0.474) rec_macro: (train=0.774, test=0.368) total time=   0.3s\n",
      "[CV 4/10] END criterion=entropy, max_depth=7, min_samples_split=3, n_estimators=125; accuracy: (train=0.849, test=0.584) f1_weighted: (train=0.847, test=0.540) prec_macro: (train=0.912, test=0.308) rec_macro: (train=0.743, test=0.315) total time=   0.3s\n"
     ]
    },
    {
     "name": "stdout",
     "output_type": "stream",
     "text": [
      "[CV 5/10] END criterion=entropy, max_depth=7, min_samples_split=3, n_estimators=125; accuracy: (train=0.858, test=0.545) f1_weighted: (train=0.855, test=0.501) prec_macro: (train=0.920, test=0.322) rec_macro: (train=0.778, test=0.301) total time=   0.3s\n",
      "[CV 6/10] END criterion=entropy, max_depth=7, min_samples_split=3, n_estimators=125; accuracy: (train=0.868, test=0.623) f1_weighted: (train=0.866, test=0.590) prec_macro: (train=0.924, test=0.560) rec_macro: (train=0.794, test=0.390) total time=   0.4s\n",
      "[CV 7/10] END criterion=entropy, max_depth=7, min_samples_split=3, n_estimators=125; accuracy: (train=0.866, test=0.532) f1_weighted: (train=0.864, test=0.474) prec_macro: (train=0.919, test=0.301) rec_macro: (train=0.767, test=0.281) total time=   0.3s\n",
      "[CV 8/10] END criterion=entropy, max_depth=7, min_samples_split=3, n_estimators=125; accuracy: (train=0.847, test=0.610) f1_weighted: (train=0.846, test=0.580) prec_macro: (train=0.915, test=0.502) rec_macro: (train=0.771, test=0.382) total time=   0.3s\n",
      "[CV 9/10] END criterion=entropy, max_depth=7, min_samples_split=3, n_estimators=125; accuracy: (train=0.865, test=0.571) f1_weighted: (train=0.864, test=0.517) prec_macro: (train=0.923, test=0.275) rec_macro: (train=0.780, test=0.315) total time=   0.3s\n",
      "[CV 10/10] END criterion=entropy, max_depth=7, min_samples_split=3, n_estimators=125; accuracy: (train=0.853, test=0.610) f1_weighted: (train=0.852, test=0.587) prec_macro: (train=0.918, test=0.450) rec_macro: (train=0.769, test=0.394) total time=   0.3s\n",
      "[CV 1/10] END criterion=entropy, max_depth=7, min_samples_split=3, n_estimators=150; accuracy: (train=0.857, test=0.564) f1_weighted: (train=0.854, test=0.512) prec_macro: (train=0.917, test=0.291) rec_macro: (train=0.738, test=0.304) total time=   0.3s\n",
      "[CV 2/10] END criterion=entropy, max_depth=7, min_samples_split=3, n_estimators=150; accuracy: (train=0.860, test=0.628) f1_weighted: (train=0.859, test=0.587) prec_macro: (train=0.915, test=0.434) rec_macro: (train=0.793, test=0.377) total time=   0.3s\n",
      "[CV 3/10] END criterion=entropy, max_depth=7, min_samples_split=3, n_estimators=150; accuracy: (train=0.875, test=0.584) f1_weighted: (train=0.874, test=0.543) prec_macro: (train=0.925, test=0.368) rec_macro: (train=0.791, test=0.340) total time=   0.3s\n",
      "[CV 4/10] END criterion=entropy, max_depth=7, min_samples_split=3, n_estimators=150; accuracy: (train=0.850, test=0.636) f1_weighted: (train=0.849, test=0.590) prec_macro: (train=0.916, test=0.389) rec_macro: (train=0.754, test=0.361) total time=   0.3s\n",
      "[CV 5/10] END criterion=entropy, max_depth=7, min_samples_split=3, n_estimators=150; accuracy: (train=0.865, test=0.532) f1_weighted: (train=0.862, test=0.487) prec_macro: (train=0.923, test=0.283) rec_macro: (train=0.771, test=0.292) total time=   0.3s\n",
      "[CV 6/10] END criterion=entropy, max_depth=7, min_samples_split=3, n_estimators=150; accuracy: (train=0.863, test=0.623) f1_weighted: (train=0.861, test=0.587) prec_macro: (train=0.914, test=0.575) rec_macro: (train=0.780, test=0.371) total time=   0.3s\n",
      "[CV 7/10] END criterion=entropy, max_depth=7, min_samples_split=3, n_estimators=150; accuracy: (train=0.879, test=0.545) f1_weighted: (train=0.877, test=0.506) prec_macro: (train=0.925, test=0.433) rec_macro: (train=0.781, test=0.320) total time=   0.3s\n",
      "[CV 8/10] END criterion=entropy, max_depth=7, min_samples_split=3, n_estimators=150; accuracy: (train=0.850, test=0.610) f1_weighted: (train=0.848, test=0.558) prec_macro: (train=0.916, test=0.374) rec_macro: (train=0.752, test=0.352) total time=   0.3s\n",
      "[CV 9/10] END criterion=entropy, max_depth=7, min_samples_split=3, n_estimators=150; accuracy: (train=0.868, test=0.584) f1_weighted: (train=0.866, test=0.545) prec_macro: (train=0.925, test=0.485) rec_macro: (train=0.780, test=0.337) total time=   0.3s\n",
      "[CV 10/10] END criterion=entropy, max_depth=7, min_samples_split=3, n_estimators=150; accuracy: (train=0.865, test=0.610) f1_weighted: (train=0.864, test=0.587) prec_macro: (train=0.921, test=0.405) rec_macro: (train=0.805, test=0.381) total time=   0.3s\n",
      "[CV 1/10] END criterion=entropy, max_depth=8, min_samples_split=2, n_estimators=100; accuracy: (train=0.937, test=0.564) f1_weighted: (train=0.937, test=0.525) prec_macro: (train=0.962, test=0.390) rec_macro: (train=0.901, test=0.323) total time=   0.2s\n",
      "[CV 2/10] END criterion=entropy, max_depth=8, min_samples_split=2, n_estimators=100; accuracy: (train=0.939, test=0.603) f1_weighted: (train=0.940, test=0.563) prec_macro: (train=0.964, test=0.414) rec_macro: (train=0.920, test=0.360) total time=   0.2s\n",
      "[CV 3/10] END criterion=entropy, max_depth=8, min_samples_split=2, n_estimators=100; accuracy: (train=0.938, test=0.610) f1_weighted: (train=0.938, test=0.578) prec_macro: (train=0.965, test=0.445) rec_macro: (train=0.901, test=0.371) total time=   0.2s\n",
      "[CV 4/10] END criterion=entropy, max_depth=8, min_samples_split=2, n_estimators=100; accuracy: (train=0.937, test=0.571) f1_weighted: (train=0.937, test=0.519) prec_macro: (train=0.966, test=0.240) rec_macro: (train=0.916, test=0.293) total time=   0.2s\n",
      "[CV 5/10] END criterion=entropy, max_depth=8, min_samples_split=2, n_estimators=100; accuracy: (train=0.944, test=0.532) f1_weighted: (train=0.944, test=0.482) prec_macro: (train=0.969, test=0.310) rec_macro: (train=0.907, test=0.292) total time=   0.2s\n",
      "[CV 6/10] END criterion=entropy, max_depth=8, min_samples_split=2, n_estimators=100; accuracy: (train=0.947, test=0.610) f1_weighted: (train=0.947, test=0.570) prec_macro: (train=0.970, test=0.509) rec_macro: (train=0.921, test=0.346) total time=   0.2s\n",
      "[CV 7/10] END criterion=entropy, max_depth=8, min_samples_split=2, n_estimators=100; accuracy: (train=0.948, test=0.584) f1_weighted: (train=0.948, test=0.541) prec_macro: (train=0.968, test=0.396) rec_macro: (train=0.924, test=0.344) total time=   0.2s\n",
      "[CV 8/10] END criterion=entropy, max_depth=8, min_samples_split=2, n_estimators=100; accuracy: (train=0.932, test=0.597) f1_weighted: (train=0.932, test=0.542) prec_macro: (train=0.961, test=0.366) rec_macro: (train=0.906, test=0.343) total time=   0.2s\n",
      "[CV 9/10] END criterion=entropy, max_depth=8, min_samples_split=2, n_estimators=100; accuracy: (train=0.941, test=0.545) f1_weighted: (train=0.941, test=0.507) prec_macro: (train=0.965, test=0.326) rec_macro: (train=0.921, test=0.310) total time=   0.2s\n",
      "[CV 10/10] END criterion=entropy, max_depth=8, min_samples_split=2, n_estimators=100; accuracy: (train=0.935, test=0.584) f1_weighted: (train=0.935, test=0.558) prec_macro: (train=0.963, test=0.373) rec_macro: (train=0.904, test=0.362) total time=   0.2s\n",
      "[CV 1/10] END criterion=entropy, max_depth=8, min_samples_split=2, n_estimators=125; accuracy: (train=0.938, test=0.590) f1_weighted: (train=0.938, test=0.548) prec_macro: (train=0.964, test=0.377) rec_macro: (train=0.919, test=0.338) total time=   0.3s\n",
      "[CV 2/10] END criterion=entropy, max_depth=8, min_samples_split=2, n_estimators=125; accuracy: (train=0.937, test=0.628) f1_weighted: (train=0.937, test=0.582) prec_macro: (train=0.962, test=0.396) rec_macro: (train=0.923, test=0.361) total time=   0.3s\n",
      "[CV 3/10] END criterion=entropy, max_depth=8, min_samples_split=2, n_estimators=125; accuracy: (train=0.942, test=0.636) f1_weighted: (train=0.943, test=0.606) prec_macro: (train=0.968, test=0.500) rec_macro: (train=0.911, test=0.386) total time=   0.3s\n",
      "[CV 4/10] END criterion=entropy, max_depth=8, min_samples_split=2, n_estimators=125; accuracy: (train=0.940, test=0.623) f1_weighted: (train=0.940, test=0.566) prec_macro: (train=0.965, test=0.319) rec_macro: (train=0.916, test=0.338) total time=   0.3s\n",
      "[CV 5/10] END criterion=entropy, max_depth=8, min_samples_split=2, n_estimators=125; accuracy: (train=0.944, test=0.532) f1_weighted: (train=0.944, test=0.487) prec_macro: (train=0.967, test=0.283) rec_macro: (train=0.901, test=0.292) total time=   0.3s\n",
      "[CV 6/10] END criterion=entropy, max_depth=8, min_samples_split=2, n_estimators=125; accuracy: (train=0.948, test=0.623) f1_weighted: (train=0.948, test=0.587) prec_macro: (train=0.969, test=0.575) rec_macro: (train=0.930, test=0.371) total time=   0.3s\n",
      "[CV 7/10] END criterion=entropy, max_depth=8, min_samples_split=2, n_estimators=125; accuracy: (train=0.944, test=0.519) f1_weighted: (train=0.944, test=0.476) prec_macro: (train=0.965, test=0.337) rec_macro: (train=0.902, test=0.289) total time=   0.3s\n"
     ]
    },
    {
     "name": "stdout",
     "output_type": "stream",
     "text": [
      "[CV 8/10] END criterion=entropy, max_depth=8, min_samples_split=2, n_estimators=125; accuracy: (train=0.944, test=0.584) f1_weighted: (train=0.944, test=0.549) prec_macro: (train=0.966, test=0.401) rec_macro: (train=0.908, test=0.351) total time=   0.3s\n",
      "[CV 9/10] END criterion=entropy, max_depth=8, min_samples_split=2, n_estimators=125; accuracy: (train=0.948, test=0.584) f1_weighted: (train=0.948, test=0.544) prec_macro: (train=0.971, test=0.474) rec_macro: (train=0.927, test=0.334) total time=   0.3s\n",
      "[CV 10/10] END criterion=entropy, max_depth=8, min_samples_split=2, n_estimators=125; accuracy: (train=0.932, test=0.610) f1_weighted: (train=0.932, test=0.586) prec_macro: (train=0.962, test=0.401) rec_macro: (train=0.883, test=0.384) total time=   0.3s\n",
      "[CV 1/10] END criterion=entropy, max_depth=8, min_samples_split=2, n_estimators=150; accuracy: (train=0.945, test=0.590) f1_weighted: (train=0.946, test=0.544) prec_macro: (train=0.967, test=0.384) rec_macro: (train=0.931, test=0.338) total time=   0.3s\n",
      "[CV 2/10] END criterion=entropy, max_depth=8, min_samples_split=2, n_estimators=150; accuracy: (train=0.925, test=0.628) f1_weighted: (train=0.925, test=0.582) prec_macro: (train=0.955, test=0.395) rec_macro: (train=0.910, test=0.363) total time=   0.3s\n",
      "[CV 3/10] END criterion=entropy, max_depth=8, min_samples_split=2, n_estimators=150; accuracy: (train=0.954, test=0.610) f1_weighted: (train=0.954, test=0.578) prec_macro: (train=0.972, test=0.444) rec_macro: (train=0.923, test=0.368) total time=   0.3s\n",
      "[CV 4/10] END criterion=entropy, max_depth=8, min_samples_split=2, n_estimators=150; accuracy: (train=0.948, test=0.558) f1_weighted: (train=0.948, test=0.499) prec_macro: (train=0.969, test=0.229) rec_macro: (train=0.930, test=0.287) total time=   0.3s\n",
      "[CV 5/10] END criterion=entropy, max_depth=8, min_samples_split=2, n_estimators=150; accuracy: (train=0.944, test=0.571) f1_weighted: (train=0.944, test=0.542) prec_macro: (train=0.969, test=0.429) rec_macro: (train=0.914, test=0.348) total time=   0.3s\n",
      "[CV 6/10] END criterion=entropy, max_depth=8, min_samples_split=2, n_estimators=150; accuracy: (train=0.935, test=0.597) f1_weighted: (train=0.935, test=0.558) prec_macro: (train=0.962, test=0.504) rec_macro: (train=0.912, test=0.340) total time=   0.3s\n",
      "[CV 7/10] END criterion=entropy, max_depth=8, min_samples_split=2, n_estimators=150; accuracy: (train=0.948, test=0.558) f1_weighted: (train=0.948, test=0.525) prec_macro: (train=0.967, test=0.408) rec_macro: (train=0.912, test=0.342) total time=   0.3s\n",
      "[CV 8/10] END criterion=entropy, max_depth=8, min_samples_split=2, n_estimators=150; accuracy: (train=0.944, test=0.571) f1_weighted: (train=0.944, test=0.518) prec_macro: (train=0.965, test=0.328) rec_macro: (train=0.916, test=0.312) total time=   0.3s\n",
      "[CV 9/10] END criterion=entropy, max_depth=8, min_samples_split=2, n_estimators=150; accuracy: (train=0.957, test=0.558) f1_weighted: (train=0.957, test=0.506) prec_macro: (train=0.973, test=0.278) rec_macro: (train=0.929, test=0.306) total time=   0.3s\n",
      "[CV 10/10] END criterion=entropy, max_depth=8, min_samples_split=2, n_estimators=150; accuracy: (train=0.942, test=0.649) f1_weighted: (train=0.942, test=0.628) prec_macro: (train=0.968, test=0.472) rec_macro: (train=0.922, test=0.434) total time=   0.3s\n",
      "[CV 1/10] END criterion=entropy, max_depth=8, min_samples_split=3, n_estimators=100; accuracy: (train=0.924, test=0.577) f1_weighted: (train=0.924, test=0.531) prec_macro: (train=0.956, test=0.377) rec_macro: (train=0.878, test=0.329) total time=   0.2s\n",
      "[CV 2/10] END criterion=entropy, max_depth=8, min_samples_split=3, n_estimators=100; accuracy: (train=0.932, test=0.615) f1_weighted: (train=0.932, test=0.577) prec_macro: (train=0.958, test=0.373) rec_macro: (train=0.916, test=0.368) total time=   0.2s\n",
      "[CV 3/10] END criterion=entropy, max_depth=8, min_samples_split=3, n_estimators=100; accuracy: (train=0.934, test=0.558) f1_weighted: (train=0.934, test=0.519) prec_macro: (train=0.961, test=0.357) rec_macro: (train=0.887, test=0.326) total time=   0.2s\n",
      "[CV 4/10] END criterion=entropy, max_depth=8, min_samples_split=3, n_estimators=100; accuracy: (train=0.929, test=0.597) f1_weighted: (train=0.930, test=0.542) prec_macro: (train=0.959, test=0.338) rec_macro: (train=0.893, test=0.321) total time=   0.2s\n",
      "[CV 5/10] END criterion=entropy, max_depth=8, min_samples_split=3, n_estimators=100; accuracy: (train=0.927, test=0.545) f1_weighted: (train=0.927, test=0.497) prec_macro: (train=0.960, test=0.318) rec_macro: (train=0.892, test=0.298) total time=   0.2s\n",
      "[CV 6/10] END criterion=entropy, max_depth=8, min_samples_split=3, n_estimators=100; accuracy: (train=0.927, test=0.623) f1_weighted: (train=0.927, test=0.588) prec_macro: (train=0.959, test=0.577) rec_macro: (train=0.888, test=0.374) total time=   0.2s\n",
      "[CV 7/10] END criterion=entropy, max_depth=8, min_samples_split=3, n_estimators=100; accuracy: (train=0.938, test=0.532) f1_weighted: (train=0.938, test=0.506) prec_macro: (train=0.965, test=0.413) rec_macro: (train=0.903, test=0.331) total time=   0.2s\n",
      "[CV 8/10] END criterion=entropy, max_depth=8, min_samples_split=3, n_estimators=100; accuracy: (train=0.915, test=0.571) f1_weighted: (train=0.915, test=0.536) prec_macro: (train=0.951, test=0.407) rec_macro: (train=0.872, test=0.341) total time=   0.2s\n",
      "[CV 9/10] END criterion=entropy, max_depth=8, min_samples_split=3, n_estimators=100; accuracy: (train=0.925, test=0.584) f1_weighted: (train=0.925, test=0.551) prec_macro: (train=0.956, test=0.415) rec_macro: (train=0.880, test=0.351) total time=   0.2s\n",
      "[CV 10/10] END criterion=entropy, max_depth=8, min_samples_split=3, n_estimators=100; accuracy: (train=0.918, test=0.584) f1_weighted: (train=0.918, test=0.554) prec_macro: (train=0.953, test=0.360) rec_macro: (train=0.890, test=0.353) total time=   0.2s\n",
      "[CV 1/10] END criterion=entropy, max_depth=8, min_samples_split=3, n_estimators=125; accuracy: (train=0.937, test=0.590) f1_weighted: (train=0.937, test=0.542) prec_macro: (train=0.961, test=0.315) rec_macro: (train=0.902, test=0.331) total time=   0.3s\n",
      "[CV 2/10] END criterion=entropy, max_depth=8, min_samples_split=3, n_estimators=125; accuracy: (train=0.927, test=0.590) f1_weighted: (train=0.927, test=0.542) prec_macro: (train=0.957, test=0.377) rec_macro: (train=0.917, test=0.337) total time=   0.3s\n",
      "[CV 3/10] END criterion=entropy, max_depth=8, min_samples_split=3, n_estimators=125; accuracy: (train=0.942, test=0.597) f1_weighted: (train=0.943, test=0.558) prec_macro: (train=0.967, test=0.378) rec_macro: (train=0.915, test=0.349) total time=   0.3s\n",
      "[CV 4/10] END criterion=entropy, max_depth=8, min_samples_split=3, n_estimators=125; accuracy: (train=0.929, test=0.597) f1_weighted: (train=0.930, test=0.539) prec_macro: (train=0.959, test=0.249) rec_macro: (train=0.897, test=0.308) total time=   0.3s\n",
      "[CV 5/10] END criterion=entropy, max_depth=8, min_samples_split=3, n_estimators=125; accuracy: (train=0.931, test=0.558) f1_weighted: (train=0.930, test=0.522) prec_macro: (train=0.959, test=0.342) rec_macro: (train=0.881, test=0.342) total time=   0.3s\n",
      "[CV 6/10] END criterion=entropy, max_depth=8, min_samples_split=3, n_estimators=125; accuracy: (train=0.932, test=0.610) f1_weighted: (train=0.932, test=0.577) prec_macro: (train=0.959, test=0.571) rec_macro: (train=0.890, test=0.365) total time=   0.3s\n",
      "[CV 7/10] END criterion=entropy, max_depth=8, min_samples_split=3, n_estimators=125; accuracy: (train=0.934, test=0.519) f1_weighted: (train=0.934, test=0.486) prec_macro: (train=0.961, test=0.346) rec_macro: (train=0.895, test=0.308) total time=   0.3s\n",
      "[CV 8/10] END criterion=entropy, max_depth=8, min_samples_split=3, n_estimators=125; accuracy: (train=0.929, test=0.558) f1_weighted: (train=0.930, test=0.505) prec_macro: (train=0.959, test=0.291) rec_macro: (train=0.891, test=0.306) total time=   0.3s\n",
      "[CV 9/10] END criterion=entropy, max_depth=8, min_samples_split=3, n_estimators=125; accuracy: (train=0.934, test=0.597) f1_weighted: (train=0.934, test=0.571) prec_macro: (train=0.963, test=0.449) rec_macro: (train=0.902, test=0.373) total time=   0.3s\n",
      "[CV 10/10] END criterion=entropy, max_depth=8, min_samples_split=3, n_estimators=125; accuracy: (train=0.940, test=0.558) f1_weighted: (train=0.940, test=0.521) prec_macro: (train=0.964, test=0.282) rec_macro: (train=0.902, test=0.325) total time=   0.3s\n"
     ]
    },
    {
     "name": "stdout",
     "output_type": "stream",
     "text": [
      "[CV 1/10] END criterion=entropy, max_depth=8, min_samples_split=3, n_estimators=150; accuracy: (train=0.931, test=0.603) f1_weighted: (train=0.931, test=0.559) prec_macro: (train=0.960, test=0.352) rec_macro: (train=0.908, test=0.343) total time=   0.3s\n",
      "[CV 2/10] END criterion=entropy, max_depth=8, min_samples_split=3, n_estimators=150; accuracy: (train=0.914, test=0.628) f1_weighted: (train=0.914, test=0.573) prec_macro: (train=0.950, test=0.400) rec_macro: (train=0.887, test=0.358) total time=   0.3s\n",
      "[CV 3/10] END criterion=entropy, max_depth=8, min_samples_split=3, n_estimators=150; accuracy: (train=0.928, test=0.597) f1_weighted: (train=0.928, test=0.564) prec_macro: (train=0.959, test=0.437) rec_macro: (train=0.885, test=0.363) total time=   0.3s\n",
      "[CV 4/10] END criterion=entropy, max_depth=8, min_samples_split=3, n_estimators=150; accuracy: (train=0.927, test=0.571) f1_weighted: (train=0.926, test=0.528) prec_macro: (train=0.958, test=0.289) rec_macro: (train=0.897, test=0.309) total time=   0.3s\n",
      "[CV 5/10] END criterion=entropy, max_depth=8, min_samples_split=3, n_estimators=150; accuracy: (train=0.941, test=0.532) f1_weighted: (train=0.941, test=0.476) prec_macro: (train=0.968, test=0.218) rec_macro: (train=0.902, test=0.276) total time=   0.3s\n",
      "[CV 6/10] END criterion=entropy, max_depth=8, min_samples_split=3, n_estimators=150; accuracy: (train=0.940, test=0.623) f1_weighted: (train=0.940, test=0.584) prec_macro: (train=0.964, test=0.538) rec_macro: (train=0.905, test=0.371) total time=   0.3s\n",
      "[CV 7/10] END criterion=entropy, max_depth=8, min_samples_split=3, n_estimators=150; accuracy: (train=0.937, test=0.532) f1_weighted: (train=0.936, test=0.498) prec_macro: (train=0.959, test=0.368) rec_macro: (train=0.898, test=0.314) total time=   0.3s\n",
      "[CV 8/10] END criterion=entropy, max_depth=8, min_samples_split=3, n_estimators=150; accuracy: (train=0.931, test=0.597) f1_weighted: (train=0.931, test=0.546) prec_macro: (train=0.960, test=0.367) rec_macro: (train=0.889, test=0.343) total time=   0.3s\n",
      "[CV 9/10] END criterion=entropy, max_depth=8, min_samples_split=3, n_estimators=150; accuracy: (train=0.931, test=0.545) f1_weighted: (train=0.931, test=0.506) prec_macro: (train=0.962, test=0.263) rec_macro: (train=0.887, test=0.297) total time=   0.3s\n",
      "[CV 10/10] END criterion=entropy, max_depth=8, min_samples_split=3, n_estimators=150; accuracy: (train=0.925, test=0.584) f1_weighted: (train=0.925, test=0.551) prec_macro: (train=0.957, test=0.372) rec_macro: (train=0.891, test=0.353) total time=   0.3s\n",
      "[CV 1/10] END criterion=entropy, max_depth=9, min_samples_split=2, n_estimators=100; accuracy: (train=0.981, test=0.590) f1_weighted: (train=0.981, test=0.542) prec_macro: (train=0.988, test=0.398) rec_macro: (train=0.976, test=0.334) total time=   0.2s\n",
      "[CV 2/10] END criterion=entropy, max_depth=9, min_samples_split=2, n_estimators=100; accuracy: (train=0.978, test=0.615) f1_weighted: (train=0.978, test=0.573) prec_macro: (train=0.987, test=0.395) rec_macro: (train=0.969, test=0.368) total time=   0.2s\n",
      "[CV 3/10] END criterion=entropy, max_depth=9, min_samples_split=2, n_estimators=100; accuracy: (train=0.971, test=0.610) f1_weighted: (train=0.971, test=0.580) prec_macro: (train=0.983, test=0.430) rec_macro: (train=0.947, test=0.369) total time=   0.2s\n",
      "[CV 4/10] END criterion=entropy, max_depth=9, min_samples_split=2, n_estimators=100; accuracy: (train=0.976, test=0.558) f1_weighted: (train=0.976, test=0.496) prec_macro: (train=0.986, test=0.226) rec_macro: (train=0.970, test=0.284) total time=   0.2s\n",
      "[CV 5/10] END criterion=entropy, max_depth=9, min_samples_split=2, n_estimators=100; accuracy: (train=0.983, test=0.558) f1_weighted: (train=0.983, test=0.522) prec_macro: (train=0.991, test=0.342) rec_macro: (train=0.966, test=0.342) total time=   0.2s\n",
      "[CV 6/10] END criterion=entropy, max_depth=9, min_samples_split=2, n_estimators=100; accuracy: (train=0.968, test=0.584) f1_weighted: (train=0.968, test=0.547) prec_macro: (train=0.980, test=0.498) rec_macro: (train=0.953, test=0.332) total time=   0.2s\n",
      "[CV 7/10] END criterion=entropy, max_depth=9, min_samples_split=2, n_estimators=100; accuracy: (train=0.977, test=0.571) f1_weighted: (train=0.977, test=0.543) prec_macro: (train=0.987, test=0.445) rec_macro: (train=0.953, test=0.364) total time=   0.2s\n",
      "[CV 8/10] END criterion=entropy, max_depth=9, min_samples_split=2, n_estimators=100; accuracy: (train=0.977, test=0.545) f1_weighted: (train=0.977, test=0.517) prec_macro: (train=0.987, test=0.384) rec_macro: (train=0.962, test=0.327) total time=   0.2s\n",
      "[CV 9/10] END criterion=entropy, max_depth=9, min_samples_split=2, n_estimators=100; accuracy: (train=0.981, test=0.584) f1_weighted: (train=0.981, test=0.555) prec_macro: (train=0.990, test=0.387) rec_macro: (train=0.977, test=0.351) total time=   0.2s\n",
      "[CV 10/10] END criterion=entropy, max_depth=9, min_samples_split=2, n_estimators=100; accuracy: (train=0.976, test=0.623) f1_weighted: (train=0.976, test=0.600) prec_macro: (train=0.986, test=0.446) rec_macro: (train=0.968, test=0.419) total time=   0.2s\n",
      "[CV 1/10] END criterion=entropy, max_depth=9, min_samples_split=2, n_estimators=125; accuracy: (train=0.973, test=0.603) f1_weighted: (train=0.973, test=0.568) prec_macro: (train=0.982, test=0.537) rec_macro: (train=0.959, test=0.366) total time=   0.3s\n",
      "[CV 2/10] END criterion=entropy, max_depth=9, min_samples_split=2, n_estimators=125; accuracy: (train=0.977, test=0.628) f1_weighted: (train=0.977, test=0.594) prec_macro: (train=0.988, test=0.412) rec_macro: (train=0.979, test=0.388) total time=   0.3s\n",
      "[CV 3/10] END criterion=entropy, max_depth=9, min_samples_split=2, n_estimators=125; accuracy: (train=0.981, test=0.584) f1_weighted: (train=0.981, test=0.560) prec_macro: (train=0.989, test=0.504) rec_macro: (train=0.976, test=0.360) total time=   0.3s\n",
      "[CV 4/10] END criterion=entropy, max_depth=9, min_samples_split=2, n_estimators=125; accuracy: (train=0.983, test=0.623) f1_weighted: (train=0.983, test=0.577) prec_macro: (train=0.989, test=0.354) rec_macro: (train=0.981, test=0.361) total time=   0.3s\n",
      "[CV 5/10] END criterion=entropy, max_depth=9, min_samples_split=2, n_estimators=125; accuracy: (train=0.980, test=0.545) f1_weighted: (train=0.980, test=0.512) prec_macro: (train=0.989, test=0.325) rec_macro: (train=0.974, test=0.320) total time=   0.3s\n",
      "[CV 6/10] END criterion=entropy, max_depth=9, min_samples_split=2, n_estimators=125; accuracy: (train=0.973, test=0.623) f1_weighted: (train=0.973, test=0.587) prec_macro: (train=0.985, test=0.543) rec_macro: (train=0.961, test=0.368) total time=   0.3s\n",
      "[CV 7/10] END criterion=entropy, max_depth=9, min_samples_split=2, n_estimators=125; accuracy: (train=0.981, test=0.584) f1_weighted: (train=0.981, test=0.549) prec_macro: (train=0.990, test=0.434) rec_macro: (train=0.973, test=0.373) total time=   0.3s\n",
      "[CV 8/10] END criterion=entropy, max_depth=9, min_samples_split=2, n_estimators=125; accuracy: (train=0.974, test=0.584) f1_weighted: (train=0.974, test=0.541) prec_macro: (train=0.986, test=0.369) rec_macro: (train=0.969, test=0.341) total time=   0.3s\n",
      "[CV 9/10] END criterion=entropy, max_depth=9, min_samples_split=2, n_estimators=125; accuracy: (train=0.978, test=0.558) f1_weighted: (train=0.978, test=0.532) prec_macro: (train=0.987, test=0.354) rec_macro: (train=0.961, test=0.336) total time=   0.3s\n",
      "[CV 10/10] END criterion=entropy, max_depth=9, min_samples_split=2, n_estimators=125; accuracy: (train=0.980, test=0.584) f1_weighted: (train=0.980, test=0.563) prec_macro: (train=0.989, test=0.420) rec_macro: (train=0.975, test=0.382) total time=   0.3s\n",
      "[CV 1/10] END criterion=entropy, max_depth=9, min_samples_split=2, n_estimators=150; accuracy: (train=0.977, test=0.577) f1_weighted: (train=0.977, test=0.529) prec_macro: (train=0.985, test=0.471) rec_macro: (train=0.968, test=0.325) total time=   0.3s\n",
      "[CV 2/10] END criterion=entropy, max_depth=9, min_samples_split=2, n_estimators=150; accuracy: (train=0.976, test=0.603) f1_weighted: (train=0.975, test=0.546) prec_macro: (train=0.985, test=0.288) rec_macro: (train=0.978, test=0.330) total time=   0.3s\n",
      "[CV 3/10] END criterion=entropy, max_depth=9, min_samples_split=2, n_estimators=150; accuracy: (train=0.981, test=0.610) f1_weighted: (train=0.981, test=0.585) prec_macro: (train=0.989, test=0.474) rec_macro: (train=0.975, test=0.385) total time=   0.4s\n"
     ]
    },
    {
     "name": "stdout",
     "output_type": "stream",
     "text": [
      "[CV 4/10] END criterion=entropy, max_depth=9, min_samples_split=2, n_estimators=150; accuracy: (train=0.978, test=0.558) f1_weighted: (train=0.978, test=0.522) prec_macro: (train=0.988, test=0.302) rec_macro: (train=0.972, test=0.304) total time=   0.4s\n",
      "[CV 5/10] END criterion=entropy, max_depth=9, min_samples_split=2, n_estimators=150; accuracy: (train=0.983, test=0.571) f1_weighted: (train=0.983, test=0.543) prec_macro: (train=0.991, test=0.459) rec_macro: (train=0.976, test=0.348) total time=   0.4s\n",
      "[CV 6/10] END criterion=entropy, max_depth=9, min_samples_split=2, n_estimators=150; accuracy: (train=0.976, test=0.597) f1_weighted: (train=0.976, test=0.564) prec_macro: (train=0.985, test=0.564) rec_macro: (train=0.968, test=0.357) total time=   0.4s\n",
      "[CV 7/10] END criterion=entropy, max_depth=9, min_samples_split=2, n_estimators=150; accuracy: (train=0.980, test=0.545) f1_weighted: (train=0.980, test=0.517) prec_macro: (train=0.987, test=0.404) rec_macro: (train=0.963, test=0.336) total time=   0.4s\n",
      "[CV 8/10] END criterion=entropy, max_depth=9, min_samples_split=2, n_estimators=150; accuracy: (train=0.974, test=0.597) f1_weighted: (train=0.974, test=0.552) prec_macro: (train=0.985, test=0.373) rec_macro: (train=0.966, test=0.343) total time=   0.3s\n",
      "[CV 9/10] END criterion=entropy, max_depth=9, min_samples_split=2, n_estimators=150; accuracy: (train=0.983, test=0.571) f1_weighted: (train=0.983, test=0.533) prec_macro: (train=0.989, test=0.341) rec_macro: (train=0.973, test=0.328) total time=   0.3s\n",
      "[CV 10/10] END criterion=entropy, max_depth=9, min_samples_split=2, n_estimators=150; accuracy: (train=0.978, test=0.597) f1_weighted: (train=0.978, test=0.569) prec_macro: (train=0.986, test=0.390) rec_macro: (train=0.974, test=0.372) total time=   0.3s\n",
      "[CV 1/10] END criterion=entropy, max_depth=9, min_samples_split=3, n_estimators=100; accuracy: (train=0.968, test=0.564) f1_weighted: (train=0.968, test=0.520) prec_macro: (train=0.981, test=0.304) rec_macro: (train=0.946, test=0.320) total time=   0.2s\n",
      "[CV 2/10] END criterion=entropy, max_depth=9, min_samples_split=3, n_estimators=100; accuracy: (train=0.960, test=0.577) f1_weighted: (train=0.960, test=0.530) prec_macro: (train=0.977, test=0.270) rec_macro: (train=0.942, test=0.312) total time=   0.2s\n",
      "[CV 3/10] END criterion=entropy, max_depth=9, min_samples_split=3, n_estimators=100; accuracy: (train=0.978, test=0.584) f1_weighted: (train=0.978, test=0.559) prec_macro: (train=0.987, test=0.408) rec_macro: (train=0.964, test=0.360) total time=   0.2s\n",
      "[CV 4/10] END criterion=entropy, max_depth=9, min_samples_split=3, n_estimators=100; accuracy: (train=0.970, test=0.584) f1_weighted: (train=0.970, test=0.534) prec_macro: (train=0.983, test=0.249) rec_macro: (train=0.956, test=0.302) total time=   0.2s\n",
      "[CV 5/10] END criterion=entropy, max_depth=9, min_samples_split=3, n_estimators=100; accuracy: (train=0.964, test=0.571) f1_weighted: (train=0.964, test=0.546) prec_macro: (train=0.980, test=0.430) rec_macro: (train=0.932, test=0.348) total time=   0.2s\n",
      "[CV 6/10] END criterion=entropy, max_depth=9, min_samples_split=3, n_estimators=100; accuracy: (train=0.967, test=0.636) f1_weighted: (train=0.967, test=0.601) prec_macro: (train=0.976, test=0.548) rec_macro: (train=0.965, test=0.396) total time=   0.2s\n",
      "[CV 7/10] END criterion=entropy, max_depth=9, min_samples_split=3, n_estimators=100; accuracy: (train=0.963, test=0.571) f1_weighted: (train=0.963, test=0.521) prec_macro: (train=0.980, test=0.300) rec_macro: (train=0.946, test=0.335) total time=   0.2s\n",
      "[CV 8/10] END criterion=entropy, max_depth=9, min_samples_split=3, n_estimators=100; accuracy: (train=0.958, test=0.597) f1_weighted: (train=0.958, test=0.557) prec_macro: (train=0.976, test=0.408) rec_macro: (train=0.936, test=0.343) total time=   0.2s\n",
      "[CV 9/10] END criterion=entropy, max_depth=9, min_samples_split=3, n_estimators=100; accuracy: (train=0.970, test=0.584) f1_weighted: (train=0.970, test=0.547) prec_macro: (train=0.983, test=0.385) rec_macro: (train=0.958, test=0.351) total time=   0.2s\n",
      "[CV 10/10] END criterion=entropy, max_depth=9, min_samples_split=3, n_estimators=100; accuracy: (train=0.977, test=0.623) f1_weighted: (train=0.977, test=0.601) prec_macro: (train=0.985, test=0.473) rec_macro: (train=0.968, test=0.419) total time=   0.2s\n",
      "[CV 1/10] END criterion=entropy, max_depth=9, min_samples_split=3, n_estimators=125; accuracy: (train=0.970, test=0.590) f1_weighted: (train=0.970, test=0.543) prec_macro: (train=0.981, test=0.381) rec_macro: (train=0.963, test=0.334) total time=   0.3s\n",
      "[CV 2/10] END criterion=entropy, max_depth=9, min_samples_split=3, n_estimators=125; accuracy: (train=0.968, test=0.628) f1_weighted: (train=0.968, test=0.588) prec_macro: (train=0.983, test=0.416) rec_macro: (train=0.963, test=0.388) total time=   0.3s\n",
      "[CV 3/10] END criterion=entropy, max_depth=9, min_samples_split=3, n_estimators=125; accuracy: (train=0.973, test=0.571) f1_weighted: (train=0.973, test=0.533) prec_macro: (train=0.982, test=0.334) rec_macro: (train=0.958, test=0.335) total time=   0.3s\n",
      "[CV 4/10] END criterion=entropy, max_depth=9, min_samples_split=3, n_estimators=125; accuracy: (train=0.967, test=0.571) f1_weighted: (train=0.967, test=0.523) prec_macro: (train=0.981, test=0.299) rec_macro: (train=0.961, test=0.310) total time=   0.3s\n",
      "[CV 5/10] END criterion=entropy, max_depth=9, min_samples_split=3, n_estimators=125; accuracy: (train=0.974, test=0.532) f1_weighted: (train=0.974, test=0.493) prec_macro: (train=0.986, test=0.294) rec_macro: (train=0.957, test=0.309) total time=   0.3s\n",
      "[CV 6/10] END criterion=entropy, max_depth=9, min_samples_split=3, n_estimators=125; accuracy: (train=0.970, test=0.623) f1_weighted: (train=0.970, test=0.590) prec_macro: (train=0.981, test=0.560) rec_macro: (train=0.947, test=0.390) total time=   0.3s\n",
      "[CV 7/10] END criterion=entropy, max_depth=9, min_samples_split=3, n_estimators=125; accuracy: (train=0.980, test=0.519) f1_weighted: (train=0.980, test=0.483) prec_macro: (train=0.989, test=0.287) rec_macro: (train=0.964, test=0.292) total time=   0.3s\n",
      "[CV 8/10] END criterion=entropy, max_depth=9, min_samples_split=3, n_estimators=125; accuracy: (train=0.961, test=0.623) f1_weighted: (train=0.961, test=0.598) prec_macro: (train=0.976, test=0.465) rec_macro: (train=0.937, test=0.404) total time=   0.3s\n",
      "[CV 9/10] END criterion=entropy, max_depth=9, min_samples_split=3, n_estimators=125; accuracy: (train=0.967, test=0.571) f1_weighted: (train=0.967, test=0.536) prec_macro: (train=0.981, test=0.421) rec_macro: (train=0.948, test=0.341) total time=   0.3s\n",
      "[CV 10/10] END criterion=entropy, max_depth=9, min_samples_split=3, n_estimators=125; accuracy: (train=0.963, test=0.597) f1_weighted: (train=0.963, test=0.569) prec_macro: (train=0.979, test=0.391) rec_macro: (train=0.935, test=0.385) total time=   0.3s\n",
      "[CV 1/10] END criterion=entropy, max_depth=9, min_samples_split=3, n_estimators=150; accuracy: (train=0.965, test=0.590) f1_weighted: (train=0.965, test=0.553) prec_macro: (train=0.981, test=0.410) rec_macro: (train=0.943, test=0.351) total time=   0.3s\n",
      "[CV 2/10] END criterion=entropy, max_depth=9, min_samples_split=3, n_estimators=150; accuracy: (train=0.967, test=0.564) f1_weighted: (train=0.967, test=0.504) prec_macro: (train=0.982, test=0.268) rec_macro: (train=0.960, test=0.304) total time=   0.4s\n",
      "[CV 3/10] END criterion=entropy, max_depth=9, min_samples_split=3, n_estimators=150; accuracy: (train=0.967, test=0.597) f1_weighted: (train=0.967, test=0.566) prec_macro: (train=0.981, test=0.421) rec_macro: (train=0.950, test=0.360) total time=   0.3s\n",
      "[CV 4/10] END criterion=entropy, max_depth=9, min_samples_split=3, n_estimators=150; accuracy: (train=0.973, test=0.584) f1_weighted: (train=0.973, test=0.544) prec_macro: (train=0.985, test=0.338) rec_macro: (train=0.968, test=0.337) total time=   0.3s\n",
      "[CV 5/10] END criterion=entropy, max_depth=9, min_samples_split=3, n_estimators=150; accuracy: (train=0.976, test=0.558) f1_weighted: (train=0.975, test=0.518) prec_macro: (train=0.987, test=0.326) rec_macro: (train=0.962, test=0.326) total time=   0.3s\n",
      "[CV 6/10] END criterion=entropy, max_depth=9, min_samples_split=3, n_estimators=150; accuracy: (train=0.971, test=0.636) f1_weighted: (train=0.971, test=0.599) prec_macro: (train=0.983, test=0.549) rec_macro: (train=0.960, test=0.377) total time=   0.3s\n"
     ]
    },
    {
     "name": "stdout",
     "output_type": "stream",
     "text": [
      "[CV 7/10] END criterion=entropy, max_depth=9, min_samples_split=3, n_estimators=150; accuracy: (train=0.977, test=0.532) f1_weighted: (train=0.977, test=0.498) prec_macro: (train=0.987, test=0.351) rec_macro: (train=0.953, test=0.314) total time=   0.4s\n",
      "[CV 8/10] END criterion=entropy, max_depth=9, min_samples_split=3, n_estimators=150; accuracy: (train=0.968, test=0.597) f1_weighted: (train=0.968, test=0.574) prec_macro: (train=0.983, test=0.422) rec_macro: (train=0.960, test=0.376) total time=   0.4s\n",
      "[CV 9/10] END criterion=entropy, max_depth=9, min_samples_split=3, n_estimators=150; accuracy: (train=0.971, test=0.571) f1_weighted: (train=0.971, test=0.536) prec_macro: (train=0.983, test=0.377) rec_macro: (train=0.964, test=0.341) total time=   0.4s\n",
      "[CV 10/10] END criterion=entropy, max_depth=9, min_samples_split=3, n_estimators=150; accuracy: (train=0.970, test=0.610) f1_weighted: (train=0.970, test=0.577) prec_macro: (train=0.983, test=0.357) rec_macro: (train=0.952, test=0.368) total time=   0.4s\n",
      "[CV 1/10] END criterion=entropy, max_depth=10, min_samples_split=2, n_estimators=100; accuracy: (train=0.990, test=0.564) f1_weighted: (train=0.990, test=0.509) prec_macro: (train=0.994, test=0.290) rec_macro: (train=0.981, test=0.300) total time=   0.2s\n",
      "[CV 2/10] END criterion=entropy, max_depth=10, min_samples_split=2, n_estimators=100; accuracy: (train=0.994, test=0.603) f1_weighted: (train=0.994, test=0.560) prec_macro: (train=0.997, test=0.341) rec_macro: (train=0.995, test=0.346) total time=   0.2s\n",
      "[CV 3/10] END criterion=entropy, max_depth=10, min_samples_split=2, n_estimators=100; accuracy: (train=0.993, test=0.597) f1_weighted: (train=0.993, test=0.577) prec_macro: (train=0.996, test=0.454) rec_macro: (train=0.994, test=0.379) total time=   0.2s\n",
      "[CV 4/10] END criterion=entropy, max_depth=10, min_samples_split=2, n_estimators=100; accuracy: (train=0.994, test=0.584) f1_weighted: (train=0.994, test=0.536) prec_macro: (train=0.997, test=0.332) rec_macro: (train=0.988, test=0.337) total time=   0.2s\n",
      "[CV 5/10] END criterion=entropy, max_depth=10, min_samples_split=2, n_estimators=100; accuracy: (train=0.994, test=0.545) f1_weighted: (train=0.994, test=0.506) prec_macro: (train=0.997, test=0.350) rec_macro: (train=0.995, test=0.317) total time=   0.2s\n",
      "[CV 6/10] END criterion=entropy, max_depth=10, min_samples_split=2, n_estimators=100; accuracy: (train=0.996, test=0.623) f1_weighted: (train=0.996, test=0.592) prec_macro: (train=0.998, test=0.474) rec_macro: (train=0.997, test=0.385) total time=   0.2s\n",
      "[CV 7/10] END criterion=entropy, max_depth=10, min_samples_split=2, n_estimators=100; accuracy: (train=0.993, test=0.584) f1_weighted: (train=0.993, test=0.558) prec_macro: (train=0.996, test=0.465) rec_macro: (train=0.987, test=0.387) total time=   0.2s\n",
      "[CV 8/10] END criterion=entropy, max_depth=10, min_samples_split=2, n_estimators=100; accuracy: (train=0.987, test=0.558) f1_weighted: (train=0.987, test=0.538) prec_macro: (train=0.993, test=0.420) rec_macro: (train=0.983, test=0.352) total time=   0.2s\n",
      "[CV 9/10] END criterion=entropy, max_depth=10, min_samples_split=2, n_estimators=100; accuracy: (train=0.991, test=0.610) f1_weighted: (train=0.991, test=0.568) prec_macro: (train=0.995, test=0.410) rec_macro: (train=0.995, test=0.365) total time=   0.2s\n",
      "[CV 10/10] END criterion=entropy, max_depth=10, min_samples_split=2, n_estimators=100; accuracy: (train=0.991, test=0.584) f1_weighted: (train=0.991, test=0.549) prec_macro: (train=0.995, test=0.350) rec_macro: (train=0.982, test=0.333) total time=   0.2s\n",
      "[CV 1/10] END criterion=entropy, max_depth=10, min_samples_split=2, n_estimators=125; accuracy: (train=0.996, test=0.577) f1_weighted: (train=0.996, test=0.543) prec_macro: (train=0.998, test=0.392) rec_macro: (train=0.997, test=0.342) total time=   0.3s\n",
      "[CV 2/10] END criterion=entropy, max_depth=10, min_samples_split=2, n_estimators=125; accuracy: (train=0.991, test=0.628) f1_weighted: (train=0.991, test=0.592) prec_macro: (train=0.995, test=0.398) rec_macro: (train=0.995, test=0.377) total time=   0.3s\n",
      "[CV 3/10] END criterion=entropy, max_depth=10, min_samples_split=2, n_estimators=125; accuracy: (train=0.994, test=0.610) f1_weighted: (train=0.994, test=0.585) prec_macro: (train=0.997, test=0.444) rec_macro: (train=0.994, test=0.385) total time=   0.3s\n",
      "[CV 4/10] END criterion=entropy, max_depth=10, min_samples_split=2, n_estimators=125; accuracy: (train=0.991, test=0.571) f1_weighted: (train=0.991, test=0.522) prec_macro: (train=0.996, test=0.299) rec_macro: (train=0.994, test=0.309) total time=   0.3s\n",
      "[CV 5/10] END criterion=entropy, max_depth=10, min_samples_split=2, n_estimators=125; accuracy: (train=0.993, test=0.584) f1_weighted: (train=0.993, test=0.544) prec_macro: (train=0.996, test=0.379) rec_macro: (train=0.987, test=0.360) total time=   0.3s\n",
      "[CV 6/10] END criterion=entropy, max_depth=10, min_samples_split=2, n_estimators=125; accuracy: (train=0.993, test=0.636) f1_weighted: (train=0.993, test=0.601) prec_macro: (train=0.996, test=0.638) rec_macro: (train=0.987, test=0.396) total time=   0.3s\n",
      "[CV 7/10] END criterion=entropy, max_depth=10, min_samples_split=2, n_estimators=125; accuracy: (train=0.996, test=0.545) f1_weighted: (train=0.996, test=0.519) prec_macro: (train=0.998, test=0.407) rec_macro: (train=0.997, test=0.340) total time=   0.3s\n",
      "[CV 8/10] END criterion=entropy, max_depth=10, min_samples_split=2, n_estimators=125; accuracy: (train=0.990, test=0.610) f1_weighted: (train=0.990, test=0.589) prec_macro: (train=0.994, test=0.491) rec_macro: (train=0.984, test=0.398) total time=   0.3s\n",
      "[CV 9/10] END criterion=entropy, max_depth=10, min_samples_split=2, n_estimators=125; accuracy: (train=0.999, test=0.558) f1_weighted: (train=0.999, test=0.534) prec_macro: (train=0.999, test=0.344) rec_macro: (train=0.999, test=0.332) total time=   0.3s\n",
      "[CV 10/10] END criterion=entropy, max_depth=10, min_samples_split=2, n_estimators=125; accuracy: (train=0.994, test=0.636) f1_weighted: (train=0.994, test=0.610) prec_macro: (train=0.997, test=0.441) rec_macro: (train=0.987, test=0.412) total time=   0.3s\n",
      "[CV 1/10] END criterion=entropy, max_depth=10, min_samples_split=2, n_estimators=150; accuracy: (train=0.996, test=0.590) f1_weighted: (train=0.996, test=0.557) prec_macro: (train=0.998, test=0.384) rec_macro: (train=0.988, test=0.351) total time=   0.4s\n",
      "[CV 2/10] END criterion=entropy, max_depth=10, min_samples_split=2, n_estimators=150; accuracy: (train=0.993, test=0.603) f1_weighted: (train=0.993, test=0.574) prec_macro: (train=0.996, test=0.372) rec_macro: (train=0.994, test=0.370) total time=   0.4s\n",
      "[CV 3/10] END criterion=entropy, max_depth=10, min_samples_split=2, n_estimators=150; accuracy: (train=0.996, test=0.610) f1_weighted: (train=0.996, test=0.584) prec_macro: (train=0.998, test=0.444) rec_macro: (train=0.997, test=0.385) total time=   0.4s\n",
      "[CV 4/10] END criterion=entropy, max_depth=10, min_samples_split=2, n_estimators=150; accuracy: (train=0.993, test=0.571) f1_weighted: (train=0.993, test=0.512) prec_macro: (train=0.996, test=0.236) rec_macro: (train=0.995, test=0.293) total time=   0.4s\n",
      "[CV 5/10] END criterion=entropy, max_depth=10, min_samples_split=2, n_estimators=150; accuracy: (train=0.996, test=0.532) f1_weighted: (train=0.996, test=0.495) prec_macro: (train=0.998, test=0.295) rec_macro: (train=0.997, test=0.309) total time=   0.4s\n",
      "[CV 6/10] END criterion=entropy, max_depth=10, min_samples_split=2, n_estimators=150; accuracy: (train=0.999, test=0.597) f1_weighted: (train=0.999, test=0.563) prec_macro: (train=0.999, test=0.533) rec_macro: (train=0.999, test=0.357) total time=   0.4s\n",
      "[CV 7/10] END criterion=entropy, max_depth=10, min_samples_split=2, n_estimators=150; accuracy: (train=0.991, test=0.571) f1_weighted: (train=0.991, test=0.544) prec_macro: (train=0.996, test=0.398) rec_macro: (train=0.986, test=0.364) total time=   0.4s\n",
      "[CV 8/10] END criterion=entropy, max_depth=10, min_samples_split=2, n_estimators=150; accuracy: (train=0.994, test=0.623) f1_weighted: (train=0.994, test=0.599) prec_macro: (train=0.997, test=0.465) rec_macro: (train=0.996, test=0.404) total time=   0.4s\n",
      "[CV 9/10] END criterion=entropy, max_depth=10, min_samples_split=2, n_estimators=150; accuracy: (train=0.997, test=0.584) f1_weighted: (train=0.997, test=0.550) prec_macro: (train=0.998, test=0.368) rec_macro: (train=0.998, test=0.351) total time=   0.4s\n"
     ]
    },
    {
     "name": "stdout",
     "output_type": "stream",
     "text": [
      "[CV 10/10] END criterion=entropy, max_depth=10, min_samples_split=2, n_estimators=150; accuracy: (train=0.997, test=0.623) f1_weighted: (train=0.997, test=0.602) prec_macro: (train=0.998, test=0.445) rec_macro: (train=0.989, test=0.419) total time=   0.4s\n",
      "[CV 1/10] END criterion=entropy, max_depth=10, min_samples_split=3, n_estimators=100; accuracy: (train=0.986, test=0.590) f1_weighted: (train=0.986, test=0.567) prec_macro: (train=0.992, test=0.476) rec_macro: (train=0.977, test=0.386) total time=   0.2s\n",
      "[CV 2/10] END criterion=entropy, max_depth=10, min_samples_split=3, n_estimators=100; accuracy: (train=0.987, test=0.603) f1_weighted: (train=0.987, test=0.560) prec_macro: (train=0.994, test=0.354) rec_macro: (train=0.990, test=0.346) total time=   0.3s\n",
      "[CV 3/10] END criterion=entropy, max_depth=10, min_samples_split=3, n_estimators=100; accuracy: (train=0.987, test=0.571) f1_weighted: (train=0.987, test=0.546) prec_macro: (train=0.993, test=0.414) rec_macro: (train=0.972, test=0.348) total time=   0.2s\n",
      "[CV 4/10] END criterion=entropy, max_depth=10, min_samples_split=3, n_estimators=100; accuracy: (train=0.988, test=0.545) f1_weighted: (train=0.988, test=0.488) prec_macro: (train=0.994, test=0.223) rec_macro: (train=0.983, test=0.279) total time=   0.2s\n",
      "[CV 5/10] END criterion=entropy, max_depth=10, min_samples_split=3, n_estimators=100; accuracy: (train=0.988, test=0.519) f1_weighted: (train=0.988, test=0.464) prec_macro: (train=0.994, test=0.211) rec_macro: (train=0.974, test=0.267) total time=   0.2s\n",
      "[CV 6/10] END criterion=entropy, max_depth=10, min_samples_split=3, n_estimators=100; accuracy: (train=0.990, test=0.623) f1_weighted: (train=0.990, test=0.591) prec_macro: (train=0.996, test=0.588) rec_macro: (train=0.991, test=0.390) total time=   0.2s\n",
      "[CV 7/10] END criterion=entropy, max_depth=10, min_samples_split=3, n_estimators=100; accuracy: (train=0.987, test=0.545) f1_weighted: (train=0.987, test=0.520) prec_macro: (train=0.994, test=0.402) rec_macro: (train=0.972, test=0.350) total time=   0.2s\n",
      "[CV 8/10] END criterion=entropy, max_depth=10, min_samples_split=3, n_estimators=100; accuracy: (train=0.984, test=0.532) f1_weighted: (train=0.984, test=0.488) prec_macro: (train=0.991, test=0.315) rec_macro: (train=0.987, test=0.291) total time=   0.3s\n",
      "[CV 9/10] END criterion=entropy, max_depth=10, min_samples_split=3, n_estimators=100; accuracy: (train=0.990, test=0.584) f1_weighted: (train=0.990, test=0.546) prec_macro: (train=0.994, test=0.349) rec_macro: (train=0.984, test=0.337) total time=   0.3s\n",
      "[CV 10/10] END criterion=entropy, max_depth=10, min_samples_split=3, n_estimators=100; accuracy: (train=0.987, test=0.597) f1_weighted: (train=0.987, test=0.568) prec_macro: (train=0.993, test=0.375) rec_macro: (train=0.982, test=0.356) total time=   0.3s\n",
      "[CV 1/10] END criterion=entropy, max_depth=10, min_samples_split=3, n_estimators=125; accuracy: (train=0.983, test=0.577) f1_weighted: (train=0.983, test=0.542) prec_macro: (train=0.990, test=0.406) rec_macro: (train=0.961, test=0.342) total time=   0.3s\n",
      "[CV 2/10] END criterion=entropy, max_depth=10, min_samples_split=3, n_estimators=125; accuracy: (train=0.990, test=0.615) f1_weighted: (train=0.990, test=0.585) prec_macro: (train=0.995, test=0.405) rec_macro: (train=0.992, test=0.382) total time=   0.3s\n",
      "[CV 3/10] END criterion=entropy, max_depth=10, min_samples_split=3, n_estimators=125; accuracy: (train=0.991, test=0.597) f1_weighted: (train=0.991, test=0.568) prec_macro: (train=0.995, test=0.440) rec_macro: (train=0.991, test=0.363) total time=   0.3s\n",
      "[CV 4/10] END criterion=entropy, max_depth=10, min_samples_split=3, n_estimators=125; accuracy: (train=0.987, test=0.558) f1_weighted: (train=0.987, test=0.517) prec_macro: (train=0.993, test=0.298) rec_macro: (train=0.982, test=0.304) total time=   0.3s\n",
      "[CV 5/10] END criterion=entropy, max_depth=10, min_samples_split=3, n_estimators=125; accuracy: (train=0.993, test=0.545) f1_weighted: (train=0.993, test=0.511) prec_macro: (train=0.997, test=0.325) rec_macro: (train=0.995, test=0.317) total time=   0.3s\n",
      "[CV 6/10] END criterion=entropy, max_depth=10, min_samples_split=3, n_estimators=125; accuracy: (train=0.996, test=0.636) f1_weighted: (train=0.996, test=0.605) prec_macro: (train=0.998, test=0.481) rec_macro: (train=0.996, test=0.393) total time=   0.3s\n",
      "[CV 7/10] END criterion=entropy, max_depth=10, min_samples_split=3, n_estimators=125; accuracy: (train=0.988, test=0.571) f1_weighted: (train=0.988, test=0.546) prec_macro: (train=0.994, test=0.595) rec_macro: (train=0.981, test=0.442) total time=   0.3s\n",
      "[CV 8/10] END criterion=entropy, max_depth=10, min_samples_split=3, n_estimators=125; accuracy: (train=0.984, test=0.571) f1_weighted: (train=0.984, test=0.530) prec_macro: (train=0.991, test=0.372) rec_macro: (train=0.970, test=0.338) total time=   0.3s\n",
      "[CV 9/10] END criterion=entropy, max_depth=10, min_samples_split=3, n_estimators=125; accuracy: (train=0.990, test=0.571) f1_weighted: (train=0.990, test=0.532) prec_macro: (train=0.994, test=0.372) rec_macro: (train=0.984, test=0.328) total time=   0.3s\n",
      "[CV 10/10] END criterion=entropy, max_depth=10, min_samples_split=3, n_estimators=125; accuracy: (train=0.990, test=0.584) f1_weighted: (train=0.990, test=0.561) prec_macro: (train=0.995, test=0.346) rec_macro: (train=0.983, test=0.347) total time=   0.3s\n",
      "[CV 1/10] END criterion=entropy, max_depth=10, min_samples_split=3, n_estimators=150; accuracy: (train=0.983, test=0.577) f1_weighted: (train=0.983, test=0.532) prec_macro: (train=0.991, test=0.346) rec_macro: (train=0.981, test=0.329) total time=   0.4s\n",
      "[CV 2/10] END criterion=entropy, max_depth=10, min_samples_split=3, n_estimators=150; accuracy: (train=0.984, test=0.590) f1_weighted: (train=0.984, test=0.536) prec_macro: (train=0.991, test=0.281) rec_macro: (train=0.987, test=0.324) total time=   0.4s\n",
      "[CV 3/10] END criterion=entropy, max_depth=10, min_samples_split=3, n_estimators=150; accuracy: (train=0.984, test=0.584) f1_weighted: (train=0.984, test=0.567) prec_macro: (train=0.991, test=0.438) rec_macro: (train=0.977, test=0.370) total time=   0.4s\n",
      "[CV 4/10] END criterion=entropy, max_depth=10, min_samples_split=3, n_estimators=150; accuracy: (train=0.987, test=0.584) f1_weighted: (train=0.987, test=0.534) prec_macro: (train=0.993, test=0.290) rec_macro: (train=0.982, test=0.318) total time=   0.4s\n",
      "[CV 5/10] END criterion=entropy, max_depth=10, min_samples_split=3, n_estimators=150; accuracy: (train=0.990, test=0.545) f1_weighted: (train=0.990, test=0.519) prec_macro: (train=0.995, test=0.384) rec_macro: (train=0.982, test=0.331) total time=   0.4s\n",
      "[CV 6/10] END criterion=entropy, max_depth=10, min_samples_split=3, n_estimators=150; accuracy: (train=0.987, test=0.597) f1_weighted: (train=0.987, test=0.567) prec_macro: (train=0.993, test=0.422) rec_macro: (train=0.982, test=0.360) total time=   0.5s\n",
      "[CV 7/10] END criterion=entropy, max_depth=10, min_samples_split=3, n_estimators=150; accuracy: (train=0.987, test=0.532) f1_weighted: (train=0.987, test=0.499) prec_macro: (train=0.993, test=0.360) rec_macro: (train=0.964, test=0.314) total time=   0.4s\n",
      "[CV 8/10] END criterion=entropy, max_depth=10, min_samples_split=3, n_estimators=150; accuracy: (train=0.984, test=0.584) f1_weighted: (train=0.984, test=0.557) prec_macro: (train=0.991, test=0.436) rec_macro: (train=0.980, test=0.354) total time=   0.5s\n",
      "[CV 9/10] END criterion=entropy, max_depth=10, min_samples_split=3, n_estimators=150; accuracy: (train=0.987, test=0.571) f1_weighted: (train=0.987, test=0.538) prec_macro: (train=0.993, test=0.322) rec_macro: (train=0.980, test=0.328) total time=   0.4s\n",
      "[CV 10/10] END criterion=entropy, max_depth=10, min_samples_split=3, n_estimators=150; accuracy: (train=0.986, test=0.610) f1_weighted: (train=0.986, test=0.588) prec_macro: (train=0.991, test=0.429) rec_macro: (train=0.978, test=0.410) total time=   0.4s\n",
      "[CV 1/10] END criterion=gini, max_depth=5, min_samples_split=2, n_estimators=100; accuracy: (train=0.680, test=0.551) f1_weighted: (train=0.639, test=0.480) prec_macro: (train=0.818, test=0.212) rec_macro: (train=0.424, test=0.278) total time=   0.2s\n",
      "[CV 2/10] END criterion=gini, max_depth=5, min_samples_split=2, n_estimators=100; accuracy: (train=0.702, test=0.577) f1_weighted: (train=0.670, test=0.517) prec_macro: (train=0.617, test=0.281) rec_macro: (train=0.455, test=0.315) total time=   0.2s\n"
     ]
    },
    {
     "name": "stdout",
     "output_type": "stream",
     "text": [
      "[CV 3/10] END criterion=gini, max_depth=5, min_samples_split=2, n_estimators=100; accuracy: (train=0.685, test=0.649) f1_weighted: (train=0.650, test=0.592) prec_macro: (train=0.825, test=0.388) rec_macro: (train=0.444, test=0.375) total time=   0.2s\n",
      "[CV 4/10] END criterion=gini, max_depth=5, min_samples_split=2, n_estimators=100; accuracy: (train=0.694, test=0.584) f1_weighted: (train=0.662, test=0.533) prec_macro: (train=0.810, test=0.301) rec_macro: (train=0.459, test=0.309) total time=   0.2s\n",
      "[CV 5/10] END criterion=gini, max_depth=5, min_samples_split=2, n_estimators=100; accuracy: (train=0.682, test=0.532) f1_weighted: (train=0.642, test=0.467) prec_macro: (train=0.814, test=0.212) rec_macro: (train=0.439, test=0.276) total time=   0.2s\n",
      "[CV 6/10] END criterion=gini, max_depth=5, min_samples_split=2, n_estimators=100; accuracy: (train=0.689, test=0.597) f1_weighted: (train=0.653, test=0.546) prec_macro: (train=0.834, test=0.365) rec_macro: (train=0.454, test=0.343) total time=   0.2s\n",
      "[CV 7/10] END criterion=gini, max_depth=5, min_samples_split=2, n_estimators=100; accuracy: (train=0.688, test=0.571) f1_weighted: (train=0.648, test=0.491) prec_macro: (train=0.791, test=0.219) rec_macro: (train=0.437, test=0.292) total time=   0.2s\n",
      "[CV 8/10] END criterion=gini, max_depth=5, min_samples_split=2, n_estimators=100; accuracy: (train=0.685, test=0.571) f1_weighted: (train=0.655, test=0.493) prec_macro: (train=0.818, test=0.224) rec_macro: (train=0.470, test=0.299) total time=   0.2s\n",
      "[CV 9/10] END criterion=gini, max_depth=5, min_samples_split=2, n_estimators=100; accuracy: (train=0.689, test=0.571) f1_weighted: (train=0.655, test=0.495) prec_macro: (train=0.835, test=0.223) rec_macro: (train=0.456, test=0.299) total time=   0.2s\n",
      "[CV 10/10] END criterion=gini, max_depth=5, min_samples_split=2, n_estimators=100; accuracy: (train=0.692, test=0.597) f1_weighted: (train=0.656, test=0.532) prec_macro: (train=0.822, test=0.288) rec_macro: (train=0.458, test=0.329) total time=   0.3s\n",
      "[CV 1/10] END criterion=gini, max_depth=5, min_samples_split=2, n_estimators=125; accuracy: (train=0.692, test=0.551) f1_weighted: (train=0.651, test=0.480) prec_macro: (train=0.600, test=0.212) rec_macro: (train=0.426, test=0.278) total time=   0.4s\n",
      "[CV 2/10] END criterion=gini, max_depth=5, min_samples_split=2, n_estimators=125; accuracy: (train=0.697, test=0.564) f1_weighted: (train=0.670, test=0.505) prec_macro: (train=0.816, test=0.290) rec_macro: (train=0.471, test=0.306) total time=   0.3s\n",
      "[CV 3/10] END criterion=gini, max_depth=5, min_samples_split=2, n_estimators=125; accuracy: (train=0.686, test=0.610) f1_weighted: (train=0.649, test=0.551) prec_macro: (train=0.840, test=0.345) rec_macro: (train=0.447, test=0.339) total time=   0.3s\n",
      "[CV 4/10] END criterion=gini, max_depth=5, min_samples_split=2, n_estimators=125; accuracy: (train=0.695, test=0.597) f1_weighted: (train=0.664, test=0.536) prec_macro: (train=0.823, test=0.246) rec_macro: (train=0.470, test=0.305) total time=   0.3s\n",
      "[CV 5/10] END criterion=gini, max_depth=5, min_samples_split=2, n_estimators=125; accuracy: (train=0.691, test=0.558) f1_weighted: (train=0.652, test=0.504) prec_macro: (train=0.820, test=0.420) rec_macro: (train=0.449, test=0.310) total time=   0.3s\n",
      "[CV 6/10] END criterion=gini, max_depth=5, min_samples_split=2, n_estimators=125; accuracy: (train=0.699, test=0.610) f1_weighted: (train=0.666, test=0.575) prec_macro: (train=0.838, test=0.471) rec_macro: (train=0.466, test=0.365) total time=   0.3s\n",
      "[CV 7/10] END criterion=gini, max_depth=5, min_samples_split=2, n_estimators=125; accuracy: (train=0.704, test=0.545) f1_weighted: (train=0.669, test=0.465) prec_macro: (train=0.833, test=0.205) rec_macro: (train=0.473, test=0.274) total time=   0.2s\n",
      "[CV 8/10] END criterion=gini, max_depth=5, min_samples_split=2, n_estimators=125; accuracy: (train=0.686, test=0.584) f1_weighted: (train=0.654, test=0.507) prec_macro: (train=0.815, test=0.231) rec_macro: (train=0.457, test=0.308) total time=   0.4s\n",
      "[CV 9/10] END criterion=gini, max_depth=5, min_samples_split=2, n_estimators=125; accuracy: (train=0.696, test=0.571) f1_weighted: (train=0.663, test=0.513) prec_macro: (train=0.828, test=0.423) rec_macro: (train=0.469, test=0.315) total time=   0.3s\n",
      "[CV 10/10] END criterion=gini, max_depth=5, min_samples_split=2, n_estimators=125; accuracy: (train=0.691, test=0.597) f1_weighted: (train=0.655, test=0.536) prec_macro: (train=0.626, test=0.307) rec_macro: (train=0.443, test=0.333) total time=   0.3s\n",
      "[CV 1/10] END criterion=gini, max_depth=5, min_samples_split=2, n_estimators=150; accuracy: (train=0.695, test=0.551) f1_weighted: (train=0.660, test=0.480) prec_macro: (train=0.813, test=0.212) rec_macro: (train=0.447, test=0.278) total time=   0.4s\n",
      "[CV 2/10] END criterion=gini, max_depth=5, min_samples_split=2, n_estimators=150; accuracy: (train=0.690, test=0.551) f1_weighted: (train=0.655, test=0.482) prec_macro: (train=0.806, test=0.220) rec_macro: (train=0.452, test=0.281) total time=   0.3s\n",
      "[CV 3/10] END criterion=gini, max_depth=5, min_samples_split=2, n_estimators=150; accuracy: (train=0.682, test=0.597) f1_weighted: (train=0.644, test=0.553) prec_macro: (train=0.633, test=0.374) rec_macro: (train=0.426, test=0.349) total time=   0.3s\n",
      "[CV 4/10] END criterion=gini, max_depth=5, min_samples_split=2, n_estimators=150; accuracy: (train=0.691, test=0.597) f1_weighted: (train=0.658, test=0.536) prec_macro: (train=0.828, test=0.246) rec_macro: (train=0.451, test=0.305) total time=   0.3s\n",
      "[CV 5/10] END criterion=gini, max_depth=5, min_samples_split=2, n_estimators=150; accuracy: (train=0.675, test=0.532) f1_weighted: (train=0.627, test=0.465) prec_macro: (train=0.829, test=0.209) rec_macro: (train=0.417, test=0.273) total time=   0.3s\n",
      "[CV 6/10] END criterion=gini, max_depth=5, min_samples_split=2, n_estimators=150; accuracy: (train=0.698, test=0.597) f1_weighted: (train=0.665, test=0.542) prec_macro: (train=0.801, test=0.338) rec_macro: (train=0.454, test=0.321) total time=   0.3s\n",
      "[CV 7/10] END criterion=gini, max_depth=5, min_samples_split=2, n_estimators=150; accuracy: (train=0.702, test=0.532) f1_weighted: (train=0.668, test=0.453) prec_macro: (train=0.823, test=0.198) rec_macro: (train=0.469, test=0.265) total time=   0.3s\n",
      "[CV 8/10] END criterion=gini, max_depth=5, min_samples_split=2, n_estimators=150; accuracy: (train=0.694, test=0.597) f1_weighted: (train=0.661, test=0.521) prec_macro: (train=0.828, test=0.239) rec_macro: (train=0.474, test=0.317) total time=   0.3s\n",
      "[CV 9/10] END criterion=gini, max_depth=5, min_samples_split=2, n_estimators=150; accuracy: (train=0.694, test=0.558) f1_weighted: (train=0.658, test=0.482) prec_macro: (train=0.824, test=0.216) rec_macro: (train=0.451, test=0.290) total time=   0.3s\n",
      "[CV 10/10] END criterion=gini, max_depth=5, min_samples_split=2, n_estimators=150; accuracy: (train=0.691, test=0.610) f1_weighted: (train=0.651, test=0.547) prec_macro: (train=0.832, test=0.297) rec_macro: (train=0.442, test=0.342) total time=   0.3s\n",
      "[CV 1/10] END criterion=gini, max_depth=5, min_samples_split=3, n_estimators=100; accuracy: (train=0.687, test=0.538) f1_weighted: (train=0.650, test=0.466) prec_macro: (train=0.630, test=0.205) rec_macro: (train=0.432, test=0.269) total time=   0.2s\n",
      "[CV 2/10] END criterion=gini, max_depth=5, min_samples_split=3, n_estimators=100; accuracy: (train=0.696, test=0.564) f1_weighted: (train=0.672, test=0.493) prec_macro: (train=0.816, test=0.225) rec_macro: (train=0.486, test=0.287) total time=   0.2s\n",
      "[CV 3/10] END criterion=gini, max_depth=5, min_samples_split=3, n_estimators=100; accuracy: (train=0.678, test=0.597) f1_weighted: (train=0.640, test=0.538) prec_macro: (train=0.819, test=0.437) rec_macro: (train=0.432, test=0.333) total time=   0.2s\n",
      "[CV 4/10] END criterion=gini, max_depth=5, min_samples_split=3, n_estimators=100; accuracy: (train=0.691, test=0.623) f1_weighted: (train=0.656, test=0.566) prec_macro: (train=0.817, test=0.319) rec_macro: (train=0.444, test=0.336) total time=   0.2s\n",
      "[CV 5/10] END criterion=gini, max_depth=5, min_samples_split=3, n_estimators=100; accuracy: (train=0.679, test=0.558) f1_weighted: (train=0.637, test=0.502) prec_macro: (train=0.592, test=0.417) rec_macro: (train=0.418, test=0.307) total time=   0.2s\n"
     ]
    },
    {
     "name": "stdout",
     "output_type": "stream",
     "text": [
      "[CV 6/10] END criterion=gini, max_depth=5, min_samples_split=3, n_estimators=100; accuracy: (train=0.682, test=0.610) f1_weighted: (train=0.645, test=0.565) prec_macro: (train=0.789, test=0.538) rec_macro: (train=0.432, test=0.349) total time=   0.2s\n",
      "[CV 7/10] END criterion=gini, max_depth=5, min_samples_split=3, n_estimators=100; accuracy: (train=0.699, test=0.558) f1_weighted: (train=0.666, test=0.478) prec_macro: (train=0.808, test=0.212) rec_macro: (train=0.462, test=0.283) total time=   0.2s\n",
      "[CV 8/10] END criterion=gini, max_depth=5, min_samples_split=3, n_estimators=100; accuracy: (train=0.682, test=0.558) f1_weighted: (train=0.646, test=0.487) prec_macro: (train=0.803, test=0.221) rec_macro: (train=0.431, test=0.293) total time=   0.2s\n",
      "[CV 9/10] END criterion=gini, max_depth=5, min_samples_split=3, n_estimators=100; accuracy: (train=0.699, test=0.545) f1_weighted: (train=0.665, test=0.471) prec_macro: (train=0.828, test=0.211) rec_macro: (train=0.453, test=0.284) total time=   0.2s\n",
      "[CV 10/10] END criterion=gini, max_depth=5, min_samples_split=3, n_estimators=100; accuracy: (train=0.683, test=0.610) f1_weighted: (train=0.639, test=0.554) prec_macro: (train=0.818, test=0.326) rec_macro: (train=0.440, test=0.361) total time=   0.2s\n",
      "[CV 1/10] END criterion=gini, max_depth=5, min_samples_split=3, n_estimators=125; accuracy: (train=0.680, test=0.551) f1_weighted: (train=0.639, test=0.480) prec_macro: (train=0.827, test=0.212) rec_macro: (train=0.424, test=0.278) total time=   0.2s\n",
      "[CV 2/10] END criterion=gini, max_depth=5, min_samples_split=3, n_estimators=125; accuracy: (train=0.705, test=0.551) f1_weighted: (train=0.678, test=0.488) prec_macro: (train=0.809, test=0.280) rec_macro: (train=0.492, test=0.298) total time=   0.3s\n",
      "[CV 3/10] END criterion=gini, max_depth=5, min_samples_split=3, n_estimators=125; accuracy: (train=0.694, test=0.623) f1_weighted: (train=0.657, test=0.561) prec_macro: (train=0.818, test=0.348) rec_macro: (train=0.447, test=0.344) total time=   0.3s\n",
      "[CV 4/10] END criterion=gini, max_depth=5, min_samples_split=3, n_estimators=125; accuracy: (train=0.685, test=0.610) f1_weighted: (train=0.649, test=0.546) prec_macro: (train=0.597, test=0.250) rec_macro: (train=0.435, test=0.313) total time=   0.2s\n",
      "[CV 5/10] END criterion=gini, max_depth=5, min_samples_split=3, n_estimators=125; accuracy: (train=0.688, test=0.532) f1_weighted: (train=0.645, test=0.467) prec_macro: (train=0.818, test=0.212) rec_macro: (train=0.427, test=0.276) total time=   0.3s\n",
      "[CV 6/10] END criterion=gini, max_depth=5, min_samples_split=3, n_estimators=125; accuracy: (train=0.679, test=0.610) f1_weighted: (train=0.634, test=0.565) prec_macro: (train=0.800, test=0.538) rec_macro: (train=0.417, test=0.349) total time=   0.3s\n",
      "[CV 7/10] END criterion=gini, max_depth=5, min_samples_split=3, n_estimators=125; accuracy: (train=0.696, test=0.532) f1_weighted: (train=0.666, test=0.453) prec_macro: (train=0.817, test=0.198) rec_macro: (train=0.462, test=0.265) total time=   0.2s\n",
      "[CV 8/10] END criterion=gini, max_depth=5, min_samples_split=3, n_estimators=125; accuracy: (train=0.675, test=0.558) f1_weighted: (train=0.635, test=0.485) prec_macro: (train=0.795, test=0.220) rec_macro: (train=0.421, test=0.293) total time=   0.2s\n",
      "[CV 9/10] END criterion=gini, max_depth=5, min_samples_split=3, n_estimators=125; accuracy: (train=0.686, test=0.571) f1_weighted: (train=0.649, test=0.508) prec_macro: (train=0.829, test=0.418) rec_macro: (train=0.453, test=0.312) total time=   0.2s\n",
      "[CV 10/10] END criterion=gini, max_depth=5, min_samples_split=3, n_estimators=125; accuracy: (train=0.692, test=0.636) f1_weighted: (train=0.659, test=0.591) prec_macro: (train=0.807, test=0.550) rec_macro: (train=0.466, test=0.389) total time=   0.3s\n",
      "[CV 1/10] END criterion=gini, max_depth=5, min_samples_split=3, n_estimators=150; accuracy: (train=0.680, test=0.551) f1_weighted: (train=0.641, test=0.482) prec_macro: (train=0.596, test=0.213) rec_macro: (train=0.421, test=0.278) total time=   0.3s\n",
      "[CV 2/10] END criterion=gini, max_depth=5, min_samples_split=3, n_estimators=150; accuracy: (train=0.710, test=0.577) f1_weighted: (train=0.684, test=0.515) prec_macro: (train=0.813, test=0.281) rec_macro: (train=0.494, test=0.315) total time=   0.3s\n",
      "[CV 3/10] END criterion=gini, max_depth=5, min_samples_split=3, n_estimators=150; accuracy: (train=0.679, test=0.610) f1_weighted: (train=0.639, test=0.557) prec_macro: (train=0.828, test=0.372) rec_macro: (train=0.423, test=0.355) total time=   0.3s\n",
      "[CV 4/10] END criterion=gini, max_depth=5, min_samples_split=3, n_estimators=150; accuracy: (train=0.689, test=0.597) f1_weighted: (train=0.660, test=0.536) prec_macro: (train=0.819, test=0.246) rec_macro: (train=0.467, test=0.305) total time=   0.3s\n",
      "[CV 5/10] END criterion=gini, max_depth=5, min_samples_split=3, n_estimators=150; accuracy: (train=0.694, test=0.558) f1_weighted: (train=0.655, test=0.491) prec_macro: (train=0.813, test=0.225) rec_macro: (train=0.447, test=0.293) total time=   0.3s\n",
      "[CV 6/10] END criterion=gini, max_depth=5, min_samples_split=3, n_estimators=150; accuracy: (train=0.688, test=0.649) f1_weighted: (train=0.651, test=0.614) prec_macro: (train=0.824, test=0.645) rec_macro: (train=0.459, test=0.405) total time=   0.3s\n",
      "[CV 7/10] END criterion=gini, max_depth=5, min_samples_split=3, n_estimators=150; accuracy: (train=0.685, test=0.545) f1_weighted: (train=0.648, test=0.463) prec_macro: (train=0.795, test=0.202) rec_macro: (train=0.440, test=0.274) total time=   0.3s\n",
      "[CV 8/10] END criterion=gini, max_depth=5, min_samples_split=3, n_estimators=150; accuracy: (train=0.682, test=0.558) f1_weighted: (train=0.642, test=0.489) prec_macro: (train=0.803, test=0.223) rec_macro: (train=0.423, test=0.293) total time=   0.3s\n",
      "[CV 9/10] END criterion=gini, max_depth=5, min_samples_split=3, n_estimators=150; accuracy: (train=0.699, test=0.571) f1_weighted: (train=0.665, test=0.513) prec_macro: (train=0.832, test=0.325) rec_macro: (train=0.456, test=0.315) total time=   0.3s\n",
      "[CV 10/10] END criterion=gini, max_depth=5, min_samples_split=3, n_estimators=150; accuracy: (train=0.685, test=0.597) f1_weighted: (train=0.640, test=0.532) prec_macro: (train=0.628, test=0.288) rec_macro: (train=0.422, test=0.329) total time=   0.3s\n",
      "[CV 1/10] END criterion=gini, max_depth=6, min_samples_split=2, n_estimators=100; accuracy: (train=0.781, test=0.564) f1_weighted: (train=0.770, test=0.499) prec_macro: (train=0.869, test=0.225) rec_macro: (train=0.607, test=0.287) total time=   0.2s\n",
      "[CV 2/10] END criterion=gini, max_depth=6, min_samples_split=2, n_estimators=100; accuracy: (train=0.769, test=0.590) f1_weighted: (train=0.759, test=0.542) prec_macro: (train=0.856, test=0.354) rec_macro: (train=0.618, test=0.337) total time=   0.2s\n",
      "[CV 3/10] END criterion=gini, max_depth=6, min_samples_split=2, n_estimators=100; accuracy: (train=0.777, test=0.610) f1_weighted: (train=0.767, test=0.564) prec_macro: (train=0.880, test=0.377) rec_macro: (train=0.606, test=0.355) total time=   0.2s\n",
      "[CV 4/10] END criterion=gini, max_depth=6, min_samples_split=2, n_estimators=100; accuracy: (train=0.774, test=0.571) f1_weighted: (train=0.763, test=0.517) prec_macro: (train=0.870, test=0.238) rec_macro: (train=0.600, test=0.290) total time=   0.2s\n",
      "[CV 5/10] END criterion=gini, max_depth=6, min_samples_split=2, n_estimators=100; accuracy: (train=0.778, test=0.545) f1_weighted: (train=0.767, test=0.494) prec_macro: (train=0.870, test=0.316) rec_macro: (train=0.617, test=0.301) total time=   0.2s\n",
      "[CV 6/10] END criterion=gini, max_depth=6, min_samples_split=2, n_estimators=100; accuracy: (train=0.767, test=0.623) f1_weighted: (train=0.755, test=0.586) prec_macro: (train=0.864, test=0.541) rec_macro: (train=0.603, test=0.374) total time=   0.2s\n",
      "[CV 7/10] END criterion=gini, max_depth=6, min_samples_split=2, n_estimators=100; accuracy: (train=0.774, test=0.558) f1_weighted: (train=0.763, test=0.499) prec_macro: (train=0.873, test=0.414) rec_macro: (train=0.612, test=0.299) total time=   0.2s\n",
      "[CV 8/10] END criterion=gini, max_depth=6, min_samples_split=2, n_estimators=100; accuracy: (train=0.780, test=0.571) f1_weighted: (train=0.770, test=0.518) prec_macro: (train=0.873, test=0.329) rec_macro: (train=0.620, test=0.315) total time=   0.2s\n"
     ]
    },
    {
     "name": "stdout",
     "output_type": "stream",
     "text": [
      "[CV 9/10] END criterion=gini, max_depth=6, min_samples_split=2, n_estimators=100; accuracy: (train=0.790, test=0.558) f1_weighted: (train=0.780, test=0.510) prec_macro: (train=0.881, test=0.325) rec_macro: (train=0.632, test=0.306) total time=   0.2s\n",
      "[CV 10/10] END criterion=gini, max_depth=6, min_samples_split=2, n_estimators=100; accuracy: (train=0.776, test=0.623) f1_weighted: (train=0.761, test=0.578) prec_macro: (train=0.877, test=0.524) rec_macro: (train=0.594, test=0.377) total time=   0.2s\n",
      "[CV 1/10] END criterion=gini, max_depth=6, min_samples_split=2, n_estimators=125; accuracy: (train=0.781, test=0.577) f1_weighted: (train=0.771, test=0.518) prec_macro: (train=0.871, test=0.422) rec_macro: (train=0.599, test=0.309) total time=   0.3s\n",
      "[CV 2/10] END criterion=gini, max_depth=6, min_samples_split=2, n_estimators=125; accuracy: (train=0.771, test=0.551) f1_weighted: (train=0.762, test=0.489) prec_macro: (train=0.866, test=0.256) rec_macro: (train=0.638, test=0.295) total time=   0.3s\n",
      "[CV 3/10] END criterion=gini, max_depth=6, min_samples_split=2, n_estimators=125; accuracy: (train=0.768, test=0.610) f1_weighted: (train=0.755, test=0.559) prec_macro: (train=0.867, test=0.375) rec_macro: (train=0.586, test=0.358) total time=   0.3s\n",
      "[CV 4/10] END criterion=gini, max_depth=6, min_samples_split=2, n_estimators=125; accuracy: (train=0.781, test=0.597) f1_weighted: (train=0.773, test=0.541) prec_macro: (train=0.882, test=0.249) rec_macro: (train=0.616, test=0.305) total time=   0.3s\n",
      "[CV 5/10] END criterion=gini, max_depth=6, min_samples_split=2, n_estimators=125; accuracy: (train=0.778, test=0.532) f1_weighted: (train=0.767, test=0.482) prec_macro: (train=0.870, test=0.310) rec_macro: (train=0.615, test=0.292) total time=   0.2s\n",
      "[CV 6/10] END criterion=gini, max_depth=6, min_samples_split=2, n_estimators=125; accuracy: (train=0.776, test=0.623) f1_weighted: (train=0.767, test=0.586) prec_macro: (train=0.848, test=0.477) rec_macro: (train=0.631, test=0.374) total time=   0.3s\n",
      "[CV 7/10] END criterion=gini, max_depth=6, min_samples_split=2, n_estimators=125; accuracy: (train=0.774, test=0.494) f1_weighted: (train=0.762, test=0.433) prec_macro: (train=0.868, test=0.192) rec_macro: (train=0.604, test=0.248) total time=   0.2s\n",
      "[CV 8/10] END criterion=gini, max_depth=6, min_samples_split=2, n_estimators=125; accuracy: (train=0.773, test=0.558) f1_weighted: (train=0.761, test=0.488) prec_macro: (train=0.874, test=0.223) rec_macro: (train=0.605, test=0.293) total time=   0.2s\n",
      "[CV 9/10] END criterion=gini, max_depth=6, min_samples_split=2, n_estimators=125; accuracy: (train=0.773, test=0.558) f1_weighted: (train=0.760, test=0.499) prec_macro: (train=0.870, test=0.317) rec_macro: (train=0.595, test=0.306) total time=   0.2s\n",
      "[CV 10/10] END criterion=gini, max_depth=6, min_samples_split=2, n_estimators=125; accuracy: (train=0.786, test=0.597) f1_weighted: (train=0.775, test=0.558) prec_macro: (train=0.879, test=0.397) rec_macro: (train=0.641, test=0.358) total time=   0.2s\n",
      "[CV 1/10] END criterion=gini, max_depth=6, min_samples_split=2, n_estimators=150; accuracy: (train=0.784, test=0.564) f1_weighted: (train=0.773, test=0.506) prec_macro: (train=0.870, test=0.287) rec_macro: (train=0.613, test=0.300) total time=   0.3s\n",
      "[CV 2/10] END criterion=gini, max_depth=6, min_samples_split=2, n_estimators=150; accuracy: (train=0.781, test=0.603) f1_weighted: (train=0.772, test=0.560) prec_macro: (train=0.864, test=0.351) rec_macro: (train=0.647, test=0.346) total time=   0.3s\n",
      "[CV 3/10] END criterion=gini, max_depth=6, min_samples_split=2, n_estimators=150; accuracy: (train=0.763, test=0.623) f1_weighted: (train=0.748, test=0.571) prec_macro: (train=0.869, test=0.380) rec_macro: (train=0.583, test=0.364) total time=   0.3s\n",
      "[CV 4/10] END criterion=gini, max_depth=6, min_samples_split=2, n_estimators=150; accuracy: (train=0.777, test=0.597) f1_weighted: (train=0.766, test=0.536) prec_macro: (train=0.875, test=0.246) rec_macro: (train=0.607, test=0.305) total time=   0.3s\n",
      "[CV 5/10] END criterion=gini, max_depth=6, min_samples_split=2, n_estimators=150; accuracy: (train=0.771, test=0.545) f1_weighted: (train=0.757, test=0.479) prec_macro: (train=0.875, test=0.218) rec_macro: (train=0.588, test=0.285) total time=   0.3s\n",
      "[CV 6/10] END criterion=gini, max_depth=6, min_samples_split=2, n_estimators=150; accuracy: (train=0.783, test=0.610) f1_weighted: (train=0.772, test=0.575) prec_macro: (train=0.868, test=0.471) rec_macro: (train=0.621, test=0.365) total time=   0.3s\n",
      "[CV 7/10] END criterion=gini, max_depth=6, min_samples_split=2, n_estimators=150; accuracy: (train=0.786, test=0.545) f1_weighted: (train=0.777, test=0.488) prec_macro: (train=0.867, test=0.279) rec_macro: (train=0.631, test=0.290) total time=   0.3s\n",
      "[CV 8/10] END criterion=gini, max_depth=6, min_samples_split=2, n_estimators=150; accuracy: (train=0.764, test=0.558) f1_weighted: (train=0.750, test=0.505) prec_macro: (train=0.862, test=0.321) rec_macro: (train=0.589, test=0.306) total time=   0.3s\n",
      "[CV 9/10] END criterion=gini, max_depth=6, min_samples_split=2, n_estimators=150; accuracy: (train=0.781, test=0.571) f1_weighted: (train=0.770, test=0.499) prec_macro: (train=0.879, test=0.228) rec_macro: (train=0.619, test=0.302) total time=   0.3s\n",
      "[CV 10/10] END criterion=gini, max_depth=6, min_samples_split=2, n_estimators=150; accuracy: (train=0.781, test=0.636) f1_weighted: (train=0.768, test=0.578) prec_macro: (train=0.868, test=0.325) rec_macro: (train=0.634, test=0.373) total time=   0.3s\n",
      "[CV 1/10] END criterion=gini, max_depth=6, min_samples_split=3, n_estimators=100; accuracy: (train=0.784, test=0.577) f1_weighted: (train=0.773, test=0.518) prec_macro: (train=0.864, test=0.325) rec_macro: (train=0.601, test=0.309) total time=   0.2s\n",
      "[CV 2/10] END criterion=gini, max_depth=6, min_samples_split=3, n_estimators=100; accuracy: (train=0.771, test=0.590) f1_weighted: (train=0.761, test=0.533) prec_macro: (train=0.851, test=0.305) rec_macro: (train=0.617, test=0.324) total time=   0.2s\n",
      "[CV 3/10] END criterion=gini, max_depth=6, min_samples_split=3, n_estimators=100; accuracy: (train=0.755, test=0.636) f1_weighted: (train=0.742, test=0.586) prec_macro: (train=0.862, test=0.387) rec_macro: (train=0.566, test=0.369) total time=   0.2s\n",
      "[CV 4/10] END criterion=gini, max_depth=6, min_samples_split=3, n_estimators=100; accuracy: (train=0.768, test=0.610) f1_weighted: (train=0.757, test=0.549) prec_macro: (train=0.859, test=0.253) rec_macro: (train=0.603, test=0.313) total time=   0.2s\n",
      "[CV 5/10] END criterion=gini, max_depth=6, min_samples_split=3, n_estimators=100; accuracy: (train=0.760, test=0.545) f1_weighted: (train=0.744, test=0.512) prec_macro: (train=0.860, test=0.603) rec_macro: (train=0.574, test=0.331) total time=   0.2s\n",
      "[CV 6/10] END criterion=gini, max_depth=6, min_samples_split=3, n_estimators=100; accuracy: (train=0.773, test=0.623) f1_weighted: (train=0.763, test=0.585) prec_macro: (train=0.864, test=0.445) rec_macro: (train=0.614, test=0.371) total time=   0.2s\n",
      "[CV 7/10] END criterion=gini, max_depth=6, min_samples_split=3, n_estimators=100; accuracy: (train=0.771, test=0.494) f1_weighted: (train=0.757, test=0.430) prec_macro: (train=0.856, test=0.190) rec_macro: (train=0.585, test=0.244) total time=   0.2s\n",
      "[CV 8/10] END criterion=gini, max_depth=6, min_samples_split=3, n_estimators=100; accuracy: (train=0.751, test=0.558) f1_weighted: (train=0.735, test=0.490) prec_macro: (train=0.856, test=0.224) rec_macro: (train=0.566, test=0.293) total time=   0.2s\n",
      "[CV 9/10] END criterion=gini, max_depth=6, min_samples_split=3, n_estimators=100; accuracy: (train=0.777, test=0.610) f1_weighted: (train=0.766, test=0.568) prec_macro: (train=0.880, test=0.470) rec_macro: (train=0.612, test=0.365) total time=   0.2s\n",
      "[CV 10/10] END criterion=gini, max_depth=6, min_samples_split=3, n_estimators=100; accuracy: (train=0.767, test=0.610) f1_weighted: (train=0.753, test=0.560) prec_macro: (train=0.870, test=0.318) rec_macro: (train=0.593, test=0.354) total time=   0.2s\n",
      "[CV 1/10] END criterion=gini, max_depth=6, min_samples_split=3, n_estimators=125; accuracy: (train=0.775, test=0.564) f1_weighted: (train=0.764, test=0.495) prec_macro: (train=0.874, test=0.222) rec_macro: (train=0.601, test=0.287) total time=   0.2s\n"
     ]
    },
    {
     "name": "stdout",
     "output_type": "stream",
     "text": [
      "[CV 2/10] END criterion=gini, max_depth=6, min_samples_split=3, n_estimators=125; accuracy: (train=0.768, test=0.603) f1_weighted: (train=0.759, test=0.541) prec_macro: (train=0.862, test=0.296) rec_macro: (train=0.619, test=0.330) total time=   0.2s\n",
      "[CV 3/10] END criterion=gini, max_depth=6, min_samples_split=3, n_estimators=125; accuracy: (train=0.768, test=0.584) f1_weighted: (train=0.759, test=0.529) prec_macro: (train=0.858, test=0.334) rec_macro: (train=0.609, test=0.324) total time=   0.2s\n",
      "[CV 4/10] END criterion=gini, max_depth=6, min_samples_split=3, n_estimators=125; accuracy: (train=0.774, test=0.597) f1_weighted: (train=0.763, test=0.539) prec_macro: (train=0.873, test=0.249) rec_macro: (train=0.609, test=0.308) total time=   0.2s\n",
      "[CV 5/10] END criterion=gini, max_depth=6, min_samples_split=3, n_estimators=125; accuracy: (train=0.776, test=0.532) f1_weighted: (train=0.764, test=0.467) prec_macro: (train=0.866, test=0.212) rec_macro: (train=0.610, test=0.276) total time=   0.2s\n",
      "[CV 6/10] END criterion=gini, max_depth=6, min_samples_split=3, n_estimators=125; accuracy: (train=0.778, test=0.610) f1_weighted: (train=0.770, test=0.565) prec_macro: (train=0.863, test=0.636) rec_macro: (train=0.631, test=0.349) total time=   0.3s\n",
      "[CV 7/10] END criterion=gini, max_depth=6, min_samples_split=3, n_estimators=125; accuracy: (train=0.790, test=0.519) f1_weighted: (train=0.782, test=0.455) prec_macro: (train=0.874, test=0.204) rec_macro: (train=0.635, test=0.259) total time=   0.3s\n",
      "[CV 8/10] END criterion=gini, max_depth=6, min_samples_split=3, n_estimators=125; accuracy: (train=0.767, test=0.571) f1_weighted: (train=0.757, test=0.504) prec_macro: (train=0.870, test=0.231) rec_macro: (train=0.598, test=0.299) total time=   0.2s\n",
      "[CV 9/10] END criterion=gini, max_depth=6, min_samples_split=3, n_estimators=125; accuracy: (train=0.781, test=0.571) f1_weighted: (train=0.772, test=0.515) prec_macro: (train=0.872, test=0.326) rec_macro: (train=0.622, test=0.315) total time=   0.3s\n",
      "[CV 10/10] END criterion=gini, max_depth=6, min_samples_split=3, n_estimators=125; accuracy: (train=0.770, test=0.597) f1_weighted: (train=0.758, test=0.542) prec_macro: (train=0.864, test=0.298) rec_macro: (train=0.603, test=0.345) total time=   0.3s\n",
      "[CV 1/10] END criterion=gini, max_depth=6, min_samples_split=3, n_estimators=150; accuracy: (train=0.784, test=0.538) f1_weighted: (train=0.775, test=0.477) prec_macro: (train=0.871, test=0.216) rec_macro: (train=0.617, test=0.272) total time=   0.3s\n",
      "[CV 2/10] END criterion=gini, max_depth=6, min_samples_split=3, n_estimators=150; accuracy: (train=0.771, test=0.590) f1_weighted: (train=0.762, test=0.531) prec_macro: (train=0.855, test=0.304) rec_macro: (train=0.628, test=0.324) total time=   0.3s\n",
      "[CV 3/10] END criterion=gini, max_depth=6, min_samples_split=3, n_estimators=150; accuracy: (train=0.773, test=0.610) f1_weighted: (train=0.761, test=0.564) prec_macro: (train=0.873, test=0.377) rec_macro: (train=0.584, test=0.355) total time=   0.3s\n",
      "[CV 4/10] END criterion=gini, max_depth=6, min_samples_split=3, n_estimators=150; accuracy: (train=0.776, test=0.597) f1_weighted: (train=0.765, test=0.536) prec_macro: (train=0.864, test=0.246) rec_macro: (train=0.606, test=0.305) total time=   0.4s\n",
      "[CV 5/10] END criterion=gini, max_depth=6, min_samples_split=3, n_estimators=150; accuracy: (train=0.773, test=0.545) f1_weighted: (train=0.759, test=0.480) prec_macro: (train=0.871, test=0.218) rec_macro: (train=0.600, test=0.282) total time=   0.3s\n",
      "[CV 6/10] END criterion=gini, max_depth=6, min_samples_split=3, n_estimators=150; accuracy: (train=0.763, test=0.597) f1_weighted: (train=0.750, test=0.541) prec_macro: (train=0.868, test=0.336) rec_macro: (train=0.600, test=0.324) total time=   0.4s\n",
      "[CV 7/10] END criterion=gini, max_depth=6, min_samples_split=3, n_estimators=150; accuracy: (train=0.780, test=0.519) f1_weighted: (train=0.771, test=0.455) prec_macro: (train=0.854, test=0.203) rec_macro: (train=0.614, test=0.262) total time=   0.3s\n",
      "[CV 8/10] END criterion=gini, max_depth=6, min_samples_split=3, n_estimators=150; accuracy: (train=0.765, test=0.584) f1_weighted: (train=0.755, test=0.529) prec_macro: (train=0.870, test=0.336) rec_macro: (train=0.603, test=0.324) total time=   0.3s\n",
      "[CV 9/10] END criterion=gini, max_depth=6, min_samples_split=3, n_estimators=150; accuracy: (train=0.774, test=0.584) f1_weighted: (train=0.759, test=0.523) prec_macro: (train=0.875, test=0.428) rec_macro: (train=0.595, test=0.324) total time=   0.3s\n",
      "[CV 10/10] END criterion=gini, max_depth=6, min_samples_split=3, n_estimators=150; accuracy: (train=0.780, test=0.610) f1_weighted: (train=0.769, test=0.558) prec_macro: (train=0.879, test=0.317) rec_macro: (train=0.627, test=0.358) total time=   0.3s\n",
      "[CV 1/10] END criterion=gini, max_depth=7, min_samples_split=2, n_estimators=100; accuracy: (train=0.850, test=0.551) f1_weighted: (train=0.846, test=0.498) prec_macro: (train=0.906, test=0.314) rec_macro: (train=0.711, test=0.294) total time=   0.2s\n",
      "[CV 2/10] END criterion=gini, max_depth=7, min_samples_split=2, n_estimators=100; accuracy: (train=0.849, test=0.590) f1_weighted: (train=0.846, test=0.535) prec_macro: (train=0.913, test=0.278) rec_macro: (train=0.740, test=0.324) total time=   0.2s\n",
      "[CV 3/10] END criterion=gini, max_depth=7, min_samples_split=2, n_estimators=100; accuracy: (train=0.837, test=0.584) f1_weighted: (train=0.835, test=0.545) prec_macro: (train=0.902, test=0.341) rec_macro: (train=0.717, test=0.343) total time=   0.2s\n",
      "[CV 4/10] END criterion=gini, max_depth=7, min_samples_split=2, n_estimators=100; accuracy: (train=0.845, test=0.584) f1_weighted: (train=0.842, test=0.533) prec_macro: (train=0.911, test=0.287) rec_macro: (train=0.724, test=0.315) total time=   0.2s\n",
      "[CV 5/10] END criterion=gini, max_depth=7, min_samples_split=2, n_estimators=100; accuracy: (train=0.846, test=0.545) f1_weighted: (train=0.842, test=0.498) prec_macro: (train=0.915, test=0.419) rec_macro: (train=0.714, test=0.298) total time=   0.2s\n",
      "[CV 6/10] END criterion=gini, max_depth=7, min_samples_split=2, n_estimators=100; accuracy: (train=0.855, test=0.623) f1_weighted: (train=0.851, test=0.587) prec_macro: (train=0.913, test=0.428) rec_macro: (train=0.729, test=0.371) total time=   0.2s\n",
      "[CV 7/10] END criterion=gini, max_depth=7, min_samples_split=2, n_estimators=100; accuracy: (train=0.840, test=0.545) f1_weighted: (train=0.837, test=0.498) prec_macro: (train=0.902, test=0.310) rec_macro: (train=0.718, test=0.303) total time=   0.2s\n",
      "[CV 8/10] END criterion=gini, max_depth=7, min_samples_split=2, n_estimators=100; accuracy: (train=0.846, test=0.584) f1_weighted: (train=0.843, test=0.531) prec_macro: (train=0.918, test=0.337) rec_macro: (train=0.722, test=0.324) total time=   0.2s\n",
      "[CV 9/10] END criterion=gini, max_depth=7, min_samples_split=2, n_estimators=100; accuracy: (train=0.866, test=0.571) f1_weighted: (train=0.864, test=0.534) prec_macro: (train=0.919, test=0.349) rec_macro: (train=0.761, test=0.328) total time=   0.2s\n",
      "[CV 10/10] END criterion=gini, max_depth=7, min_samples_split=2, n_estimators=100; accuracy: (train=0.858, test=0.610) f1_weighted: (train=0.855, test=0.572) prec_macro: (train=0.917, test=0.381) rec_macro: (train=0.748, test=0.368) total time=   0.2s\n",
      "[CV 1/10] END criterion=gini, max_depth=7, min_samples_split=2, n_estimators=125; accuracy: (train=0.850, test=0.564) f1_weighted: (train=0.847, test=0.510) prec_macro: (train=0.908, test=0.290) rec_macro: (train=0.713, test=0.304) total time=   0.3s\n",
      "[CV 2/10] END criterion=gini, max_depth=7, min_samples_split=2, n_estimators=125; accuracy: (train=0.840, test=0.590) f1_weighted: (train=0.837, test=0.538) prec_macro: (train=0.911, test=0.281) rec_macro: (train=0.745, test=0.324) total time=   0.3s\n",
      "[CV 3/10] END criterion=gini, max_depth=7, min_samples_split=2, n_estimators=125; accuracy: (train=0.852, test=0.610) f1_weighted: (train=0.850, test=0.563) prec_macro: (train=0.917, test=0.347) rec_macro: (train=0.748, test=0.355) total time=   0.3s\n",
      "[CV 4/10] END criterion=gini, max_depth=7, min_samples_split=2, n_estimators=125; accuracy: (train=0.840, test=0.597) f1_weighted: (train=0.838, test=0.536) prec_macro: (train=0.908, test=0.246) rec_macro: (train=0.723, test=0.305) total time=   0.3s\n"
     ]
    },
    {
     "name": "stdout",
     "output_type": "stream",
     "text": [
      "[CV 5/10] END criterion=gini, max_depth=7, min_samples_split=2, n_estimators=125; accuracy: (train=0.853, test=0.532) f1_weighted: (train=0.848, test=0.471) prec_macro: (train=0.921, test=0.215) rec_macro: (train=0.733, test=0.276) total time=   0.3s\n",
      "[CV 6/10] END criterion=gini, max_depth=7, min_samples_split=2, n_estimators=125; accuracy: (train=0.858, test=0.610) f1_weighted: (train=0.855, test=0.574) prec_macro: (train=0.920, test=0.440) rec_macro: (train=0.756, test=0.365) total time=   0.3s\n",
      "[CV 7/10] END criterion=gini, max_depth=7, min_samples_split=2, n_estimators=125; accuracy: (train=0.859, test=0.545) f1_weighted: (train=0.855, test=0.508) prec_macro: (train=0.912, test=0.372) rec_macro: (train=0.729, test=0.320) total time=   0.3s\n",
      "[CV 8/10] END criterion=gini, max_depth=7, min_samples_split=2, n_estimators=125; accuracy: (train=0.846, test=0.558) f1_weighted: (train=0.844, test=0.494) prec_macro: (train=0.912, test=0.227) rec_macro: (train=0.737, test=0.290) total time=   0.3s\n",
      "[CV 9/10] END criterion=gini, max_depth=7, min_samples_split=2, n_estimators=125; accuracy: (train=0.860, test=0.571) f1_weighted: (train=0.857, test=0.521) prec_macro: (train=0.919, test=0.275) rec_macro: (train=0.741, test=0.315) total time=   0.3s\n",
      "[CV 10/10] END criterion=gini, max_depth=7, min_samples_split=2, n_estimators=125; accuracy: (train=0.859, test=0.597) f1_weighted: (train=0.856, test=0.551) prec_macro: (train=0.919, test=0.324) rec_macro: (train=0.752, test=0.345) total time=   0.3s\n",
      "[CV 1/10] END criterion=gini, max_depth=7, min_samples_split=2, n_estimators=150; accuracy: (train=0.854, test=0.564) f1_weighted: (train=0.851, test=0.515) prec_macro: (train=0.913, test=0.280) rec_macro: (train=0.720, test=0.304) total time=   0.3s\n",
      "[CV 2/10] END criterion=gini, max_depth=7, min_samples_split=2, n_estimators=150; accuracy: (train=0.850, test=0.603) f1_weighted: (train=0.847, test=0.536) prec_macro: (train=0.905, test=0.290) rec_macro: (train=0.738, test=0.327) total time=   0.3s\n",
      "[CV 3/10] END criterion=gini, max_depth=7, min_samples_split=2, n_estimators=150; accuracy: (train=0.853, test=0.623) f1_weighted: (train=0.851, test=0.589) prec_macro: (train=0.915, test=0.581) rec_macro: (train=0.736, test=0.380) total time=   0.3s\n",
      "[CV 4/10] END criterion=gini, max_depth=7, min_samples_split=2, n_estimators=150; accuracy: (train=0.849, test=0.584) f1_weighted: (train=0.846, test=0.526) prec_macro: (train=0.916, test=0.242) rec_macro: (train=0.724, test=0.299) total time=   0.3s\n",
      "[CV 5/10] END criterion=gini, max_depth=7, min_samples_split=2, n_estimators=150; accuracy: (train=0.853, test=0.506) f1_weighted: (train=0.849, test=0.449) prec_macro: (train=0.918, test=0.204) rec_macro: (train=0.725, test=0.259) total time=   0.3s\n",
      "[CV 6/10] END criterion=gini, max_depth=7, min_samples_split=2, n_estimators=150; accuracy: (train=0.855, test=0.623) f1_weighted: (train=0.851, test=0.590) prec_macro: (train=0.912, test=0.560) rec_macro: (train=0.734, test=0.390) total time=   0.3s\n",
      "[CV 7/10] END criterion=gini, max_depth=7, min_samples_split=2, n_estimators=150; accuracy: (train=0.856, test=0.532) f1_weighted: (train=0.852, test=0.485) prec_macro: (train=0.913, test=0.318) rec_macro: (train=0.730, test=0.294) total time=   0.3s\n",
      "[CV 8/10] END criterion=gini, max_depth=7, min_samples_split=2, n_estimators=150; accuracy: (train=0.852, test=0.610) f1_weighted: (train=0.849, test=0.566) prec_macro: (train=0.911, test=0.382) rec_macro: (train=0.743, test=0.356) total time=   0.3s\n",
      "[CV 9/10] END criterion=gini, max_depth=7, min_samples_split=2, n_estimators=150; accuracy: (train=0.850, test=0.571) f1_weighted: (train=0.847, test=0.516) prec_macro: (train=0.911, test=0.297) rec_macro: (train=0.733, test=0.315) total time=   0.3s\n",
      "[CV 10/10] END criterion=gini, max_depth=7, min_samples_split=2, n_estimators=150; accuracy: (train=0.847, test=0.597) f1_weighted: (train=0.844, test=0.548) prec_macro: (train=0.916, test=0.305) rec_macro: (train=0.730, test=0.345) total time=   0.3s\n",
      "[CV 1/10] END criterion=gini, max_depth=7, min_samples_split=3, n_estimators=100; accuracy: (train=0.852, test=0.603) f1_weighted: (train=0.847, test=0.554) prec_macro: (train=0.906, test=0.372) rec_macro: (train=0.713, test=0.343) total time=   0.2s\n",
      "[CV 2/10] END criterion=gini, max_depth=7, min_samples_split=3, n_estimators=100; accuracy: (train=0.847, test=0.615) f1_weighted: (train=0.844, test=0.573) prec_macro: (train=0.903, test=0.395) rec_macro: (train=0.728, test=0.365) total time=   0.2s\n",
      "[CV 3/10] END criterion=gini, max_depth=7, min_samples_split=3, n_estimators=100; accuracy: (train=0.837, test=0.623) f1_weighted: (train=0.832, test=0.586) prec_macro: (train=0.905, test=0.479) rec_macro: (train=0.696, test=0.377) total time=   0.2s\n",
      "[CV 4/10] END criterion=gini, max_depth=7, min_samples_split=3, n_estimators=100; accuracy: (train=0.826, test=0.584) f1_weighted: (train=0.821, test=0.522) prec_macro: (train=0.899, test=0.238) rec_macro: (train=0.693, test=0.296) total time=   0.2s\n",
      "[CV 5/10] END criterion=gini, max_depth=7, min_samples_split=3, n_estimators=100; accuracy: (train=0.843, test=0.532) f1_weighted: (train=0.838, test=0.481) prec_macro: (train=0.910, test=0.279) rec_macro: (train=0.713, test=0.292) total time=   0.2s\n",
      "[CV 6/10] END criterion=gini, max_depth=7, min_samples_split=3, n_estimators=100; accuracy: (train=0.840, test=0.623) f1_weighted: (train=0.837, test=0.587) prec_macro: (train=0.897, test=0.545) rec_macro: (train=0.718, test=0.371) total time=   0.2s\n",
      "[CV 7/10] END criterion=gini, max_depth=7, min_samples_split=3, n_estimators=100; accuracy: (train=0.845, test=0.532) f1_weighted: (train=0.840, test=0.490) prec_macro: (train=0.905, test=0.322) rec_macro: (train=0.700, test=0.298) total time=   0.2s\n",
      "[CV 8/10] END criterion=gini, max_depth=7, min_samples_split=3, n_estimators=100; accuracy: (train=0.837, test=0.571) f1_weighted: (train=0.832, test=0.526) prec_macro: (train=0.895, test=0.359) rec_macro: (train=0.710, test=0.328) total time=   0.2s\n",
      "[CV 9/10] END criterion=gini, max_depth=7, min_samples_split=3, n_estimators=100; accuracy: (train=0.843, test=0.558) f1_weighted: (train=0.839, test=0.507) prec_macro: (train=0.905, test=0.292) rec_macro: (train=0.710, test=0.306) total time=   0.2s\n",
      "[CV 10/10] END criterion=gini, max_depth=7, min_samples_split=3, n_estimators=100; accuracy: (train=0.849, test=0.636) f1_weighted: (train=0.846, test=0.602) prec_macro: (train=0.916, test=0.435) rec_macro: (train=0.727, test=0.399) total time=   0.2s\n",
      "[CV 1/10] END criterion=gini, max_depth=7, min_samples_split=3, n_estimators=125; accuracy: (train=0.839, test=0.564) f1_weighted: (train=0.834, test=0.510) prec_macro: (train=0.900, test=0.290) rec_macro: (train=0.699, test=0.304) total time=   0.3s\n",
      "[CV 2/10] END criterion=gini, max_depth=7, min_samples_split=3, n_estimators=125; accuracy: (train=0.837, test=0.603) f1_weighted: (train=0.835, test=0.557) prec_macro: (train=0.904, test=0.355) rec_macro: (train=0.737, test=0.346) total time=   0.3s\n",
      "[CV 3/10] END criterion=gini, max_depth=7, min_samples_split=3, n_estimators=125; accuracy: (train=0.836, test=0.597) f1_weighted: (train=0.833, test=0.549) prec_macro: (train=0.907, test=0.339) rec_macro: (train=0.710, test=0.346) total time=   0.3s\n",
      "[CV 4/10] END criterion=gini, max_depth=7, min_samples_split=3, n_estimators=125; accuracy: (train=0.833, test=0.597) f1_weighted: (train=0.830, test=0.549) prec_macro: (train=0.903, test=0.298) rec_macro: (train=0.697, test=0.324) total time=   0.3s\n",
      "[CV 5/10] END criterion=gini, max_depth=7, min_samples_split=3, n_estimators=125; accuracy: (train=0.839, test=0.519) f1_weighted: (train=0.833, test=0.466) prec_macro: (train=0.899, test=0.213) rec_macro: (train=0.707, test=0.267) total time=   0.3s\n",
      "[CV 6/10] END criterion=gini, max_depth=7, min_samples_split=3, n_estimators=125; accuracy: (train=0.852, test=0.610) f1_weighted: (train=0.849, test=0.575) prec_macro: (train=0.912, test=0.423) rec_macro: (train=0.732, test=0.365) total time=   0.3s\n",
      "[CV 7/10] END criterion=gini, max_depth=7, min_samples_split=3, n_estimators=125; accuracy: (train=0.836, test=0.532) f1_weighted: (train=0.832, test=0.489) prec_macro: (train=0.903, test=0.303) rec_macro: (train=0.706, test=0.311) total time=   0.3s\n"
     ]
    },
    {
     "name": "stdout",
     "output_type": "stream",
     "text": [
      "[CV 8/10] END criterion=gini, max_depth=7, min_samples_split=3, n_estimators=125; accuracy: (train=0.842, test=0.545) f1_weighted: (train=0.838, test=0.487) prec_macro: (train=0.913, test=0.224) rec_macro: (train=0.717, test=0.284) total time=   0.3s\n",
      "[CV 9/10] END criterion=gini, max_depth=7, min_samples_split=3, n_estimators=125; accuracy: (train=0.843, test=0.558) f1_weighted: (train=0.839, test=0.521) prec_macro: (train=0.901, test=0.365) rec_macro: (train=0.717, test=0.319) total time=   0.3s\n",
      "[CV 10/10] END criterion=gini, max_depth=7, min_samples_split=3, n_estimators=125; accuracy: (train=0.849, test=0.610) f1_weighted: (train=0.845, test=0.558) prec_macro: (train=0.914, test=0.328) rec_macro: (train=0.731, test=0.354) total time=   0.3s\n",
      "[CV 1/10] END criterion=gini, max_depth=7, min_samples_split=3, n_estimators=150; accuracy: (train=0.841, test=0.551) f1_weighted: (train=0.837, test=0.504) prec_macro: (train=0.901, test=0.320) rec_macro: (train=0.701, test=0.298) total time=   0.3s\n",
      "[CV 2/10] END criterion=gini, max_depth=7, min_samples_split=3, n_estimators=150; accuracy: (train=0.836, test=0.590) f1_weighted: (train=0.832, test=0.540) prec_macro: (train=0.900, test=0.351) rec_macro: (train=0.725, test=0.334) total time=   0.3s\n",
      "[CV 3/10] END criterion=gini, max_depth=7, min_samples_split=3, n_estimators=150; accuracy: (train=0.835, test=0.623) f1_weighted: (train=0.832, test=0.588) prec_macro: (train=0.903, test=0.478) rec_macro: (train=0.716, test=0.374) total time=   0.3s\n",
      "[CV 4/10] END criterion=gini, max_depth=7, min_samples_split=3, n_estimators=150; accuracy: (train=0.840, test=0.584) f1_weighted: (train=0.837, test=0.522) prec_macro: (train=0.915, test=0.238) rec_macro: (train=0.714, test=0.296) total time=   0.3s\n",
      "[CV 5/10] END criterion=gini, max_depth=7, min_samples_split=3, n_estimators=150; accuracy: (train=0.840, test=0.532) f1_weighted: (train=0.835, test=0.482) prec_macro: (train=0.905, test=0.310) rec_macro: (train=0.708, test=0.292) total time=   0.3s\n",
      "[CV 6/10] END criterion=gini, max_depth=7, min_samples_split=3, n_estimators=150; accuracy: (train=0.847, test=0.610) f1_weighted: (train=0.844, test=0.574) prec_macro: (train=0.909, test=0.440) rec_macro: (train=0.729, test=0.365) total time=   0.3s\n",
      "[CV 7/10] END criterion=gini, max_depth=7, min_samples_split=3, n_estimators=150; accuracy: (train=0.845, test=0.532) f1_weighted: (train=0.841, test=0.479) prec_macro: (train=0.907, test=0.305) rec_macro: (train=0.724, test=0.285) total time=   0.3s\n",
      "[CV 8/10] END criterion=gini, max_depth=7, min_samples_split=3, n_estimators=150; accuracy: (train=0.840, test=0.597) f1_weighted: (train=0.837, test=0.552) prec_macro: (train=0.906, test=0.390) rec_macro: (train=0.715, test=0.343) total time=   0.3s\n",
      "[CV 9/10] END criterion=gini, max_depth=7, min_samples_split=3, n_estimators=150; accuracy: (train=0.840, test=0.597) f1_weighted: (train=0.836, test=0.566) prec_macro: (train=0.905, test=0.423) rec_macro: (train=0.719, test=0.360) total time=   0.3s\n",
      "[CV 10/10] END criterion=gini, max_depth=7, min_samples_split=3, n_estimators=150; accuracy: (train=0.849, test=0.597) f1_weighted: (train=0.846, test=0.548) prec_macro: (train=0.909, test=0.304) rec_macro: (train=0.751, test=0.349) total time=   0.3s\n",
      "[CV 1/10] END criterion=gini, max_depth=8, min_samples_split=2, n_estimators=100; accuracy: (train=0.919, test=0.577) f1_weighted: (train=0.919, test=0.521) prec_macro: (train=0.949, test=0.295) rec_macro: (train=0.873, test=0.309) total time=   0.2s\n",
      "[CV 2/10] END criterion=gini, max_depth=8, min_samples_split=2, n_estimators=100; accuracy: (train=0.915, test=0.603) f1_weighted: (train=0.915, test=0.553) prec_macro: (train=0.948, test=0.287) rec_macro: (train=0.872, test=0.333) total time=   0.2s\n",
      "[CV 3/10] END criterion=gini, max_depth=8, min_samples_split=2, n_estimators=100; accuracy: (train=0.925, test=0.597) f1_weighted: (train=0.925, test=0.560) prec_macro: (train=0.954, test=0.349) rec_macro: (train=0.882, test=0.349) total time=   0.2s\n",
      "[CV 4/10] END criterion=gini, max_depth=8, min_samples_split=2, n_estimators=100; accuracy: (train=0.919, test=0.597) f1_weighted: (train=0.920, test=0.541) prec_macro: (train=0.955, test=0.291) rec_macro: (train=0.876, test=0.324) total time=   0.2s\n",
      "[CV 5/10] END criterion=gini, max_depth=8, min_samples_split=2, n_estimators=100; accuracy: (train=0.921, test=0.519) f1_weighted: (train=0.920, test=0.470) prec_macro: (train=0.952, test=0.216) rec_macro: (train=0.852, test=0.267) total time=   0.2s\n",
      "[CV 6/10] END criterion=gini, max_depth=8, min_samples_split=2, n_estimators=100; accuracy: (train=0.912, test=0.610) f1_weighted: (train=0.912, test=0.574) prec_macro: (train=0.945, test=0.440) rec_macro: (train=0.852, test=0.365) total time=   0.2s\n",
      "[CV 7/10] END criterion=gini, max_depth=8, min_samples_split=2, n_estimators=100; accuracy: (train=0.912, test=0.558) f1_weighted: (train=0.911, test=0.526) prec_macro: (train=0.941, test=0.391) rec_macro: (train=0.835, test=0.342) total time=   0.2s\n",
      "[CV 8/10] END criterion=gini, max_depth=8, min_samples_split=2, n_estimators=100; accuracy: (train=0.917, test=0.584) f1_weighted: (train=0.916, test=0.537) prec_macro: (train=0.945, test=0.335) rec_macro: (train=0.862, test=0.337) total time=   0.2s\n",
      "[CV 9/10] END criterion=gini, max_depth=8, min_samples_split=2, n_estimators=100; accuracy: (train=0.924, test=0.571) f1_weighted: (train=0.924, test=0.528) prec_macro: (train=0.958, test=0.312) rec_macro: (train=0.863, test=0.332) total time=   0.2s\n",
      "[CV 10/10] END criterion=gini, max_depth=8, min_samples_split=2, n_estimators=100; accuracy: (train=0.919, test=0.623) f1_weighted: (train=0.919, test=0.588) prec_macro: (train=0.953, test=0.383) rec_macro: (train=0.847, test=0.377) total time=   0.2s\n",
      "[CV 1/10] END criterion=gini, max_depth=8, min_samples_split=2, n_estimators=125; accuracy: (train=0.918, test=0.551) f1_weighted: (train=0.917, test=0.506) prec_macro: (train=0.948, test=0.323) rec_macro: (train=0.848, test=0.298) total time=   0.3s\n",
      "[CV 2/10] END criterion=gini, max_depth=8, min_samples_split=2, n_estimators=125; accuracy: (train=0.916, test=0.590) f1_weighted: (train=0.916, test=0.548) prec_macro: (train=0.943, test=0.344) rec_macro: (train=0.859, test=0.337) total time=   0.3s\n",
      "[CV 3/10] END criterion=gini, max_depth=8, min_samples_split=2, n_estimators=125; accuracy: (train=0.919, test=0.571) f1_weighted: (train=0.919, test=0.547) prec_macro: (train=0.948, test=0.432) rec_macro: (train=0.847, test=0.351) total time=   0.3s\n",
      "[CV 4/10] END criterion=gini, max_depth=8, min_samples_split=2, n_estimators=125; accuracy: (train=0.917, test=0.584) f1_weighted: (train=0.916, test=0.543) prec_macro: (train=0.950, test=0.313) rec_macro: (train=0.852, test=0.321) total time=   0.3s\n",
      "[CV 5/10] END criterion=gini, max_depth=8, min_samples_split=2, n_estimators=125; accuracy: (train=0.928, test=0.545) f1_weighted: (train=0.927, test=0.505) prec_macro: (train=0.956, test=0.349) rec_macro: (train=0.862, test=0.317) total time=   0.3s\n",
      "[CV 6/10] END criterion=gini, max_depth=8, min_samples_split=2, n_estimators=125; accuracy: (train=0.915, test=0.623) f1_weighted: (train=0.915, test=0.584) prec_macro: (train=0.951, test=0.572) rec_macro: (train=0.847, test=0.371) total time=   0.4s\n",
      "[CV 7/10] END criterion=gini, max_depth=8, min_samples_split=2, n_estimators=125; accuracy: (train=0.934, test=0.545) f1_weighted: (train=0.933, test=0.517) prec_macro: (train=0.959, test=0.387) rec_macro: (train=0.878, test=0.336) total time=   0.3s\n",
      "[CV 8/10] END criterion=gini, max_depth=8, min_samples_split=2, n_estimators=125; accuracy: (train=0.911, test=0.597) f1_weighted: (train=0.911, test=0.567) prec_macro: (train=0.944, test=0.464) rec_macro: (train=0.843, test=0.373) total time=   0.3s\n",
      "[CV 9/10] END criterion=gini, max_depth=8, min_samples_split=2, n_estimators=125; accuracy: (train=0.922, test=0.558) f1_weighted: (train=0.922, test=0.527) prec_macro: (train=0.952, test=0.339) rec_macro: (train=0.853, test=0.323) total time=   0.3s\n",
      "[CV 10/10] END criterion=gini, max_depth=8, min_samples_split=2, n_estimators=125; accuracy: (train=0.915, test=0.610) f1_weighted: (train=0.914, test=0.580) prec_macro: (train=0.949, test=0.424) rec_macro: (train=0.846, test=0.381) total time=   0.3s\n"
     ]
    },
    {
     "name": "stdout",
     "output_type": "stream",
     "text": [
      "[CV 1/10] END criterion=gini, max_depth=8, min_samples_split=2, n_estimators=150; accuracy: (train=0.914, test=0.590) f1_weighted: (train=0.913, test=0.540) prec_macro: (train=0.950, test=0.395) rec_macro: (train=0.850, test=0.334) total time=   0.3s\n",
      "[CV 2/10] END criterion=gini, max_depth=8, min_samples_split=2, n_estimators=150; accuracy: (train=0.909, test=0.590) f1_weighted: (train=0.909, test=0.552) prec_macro: (train=0.946, test=0.357) rec_macro: (train=0.864, test=0.351) total time=   0.3s\n",
      "[CV 3/10] END criterion=gini, max_depth=8, min_samples_split=2, n_estimators=150; accuracy: (train=0.917, test=0.558) f1_weighted: (train=0.916, test=0.525) prec_macro: (train=0.949, test=0.363) rec_macro: (train=0.835, test=0.329) total time=   0.4s\n",
      "[CV 4/10] END criterion=gini, max_depth=8, min_samples_split=2, n_estimators=150; accuracy: (train=0.922, test=0.597) f1_weighted: (train=0.922, test=0.534) prec_macro: (train=0.955, test=0.245) rec_macro: (train=0.876, test=0.308) total time=   0.3s\n",
      "[CV 5/10] END criterion=gini, max_depth=8, min_samples_split=2, n_estimators=150; accuracy: (train=0.937, test=0.545) f1_weighted: (train=0.936, test=0.494) prec_macro: (train=0.963, test=0.286) rec_macro: (train=0.878, test=0.301) total time=   0.3s\n",
      "[CV 6/10] END criterion=gini, max_depth=8, min_samples_split=2, n_estimators=150; accuracy: (train=0.918, test=0.610) f1_weighted: (train=0.918, test=0.574) prec_macro: (train=0.952, test=0.520) rec_macro: (train=0.852, test=0.362) total time=   0.3s\n",
      "[CV 7/10] END criterion=gini, max_depth=8, min_samples_split=2, n_estimators=150; accuracy: (train=0.919, test=0.532) f1_weighted: (train=0.918, test=0.499) prec_macro: (train=0.949, test=0.337) rec_macro: (train=0.827, test=0.314) total time=   0.3s\n",
      "[CV 8/10] END criterion=gini, max_depth=8, min_samples_split=2, n_estimators=150; accuracy: (train=0.914, test=0.597) f1_weighted: (train=0.914, test=0.561) prec_macro: (train=0.950, test=0.435) rec_macro: (train=0.872, test=0.360) total time=   0.3s\n",
      "[CV 9/10] END criterion=gini, max_depth=8, min_samples_split=2, n_estimators=150; accuracy: (train=0.912, test=0.597) f1_weighted: (train=0.912, test=0.561) prec_macro: (train=0.945, test=0.516) rec_macro: (train=0.831, test=0.360) total time=   0.3s\n",
      "[CV 10/10] END criterion=gini, max_depth=8, min_samples_split=2, n_estimators=150; accuracy: (train=0.917, test=0.597) f1_weighted: (train=0.917, test=0.561) prec_macro: (train=0.954, test=0.367) rec_macro: (train=0.874, test=0.358) total time=   0.3s\n",
      "[CV 1/10] END criterion=gini, max_depth=8, min_samples_split=3, n_estimators=100; accuracy: (train=0.901, test=0.577) f1_weighted: (train=0.900, test=0.540) prec_macro: (train=0.941, test=0.334) rec_macro: (train=0.811, test=0.326) total time=   0.3s\n",
      "[CV 2/10] END criterion=gini, max_depth=8, min_samples_split=3, n_estimators=100; accuracy: (train=0.908, test=0.590) f1_weighted: (train=0.907, test=0.554) prec_macro: (train=0.942, test=0.351) rec_macro: (train=0.842, test=0.351) total time=   0.2s\n",
      "[CV 3/10] END criterion=gini, max_depth=8, min_samples_split=3, n_estimators=100; accuracy: (train=0.914, test=0.584) f1_weighted: (train=0.913, test=0.541) prec_macro: (train=0.950, test=0.366) rec_macro: (train=0.832, test=0.340) total time=   0.2s\n",
      "[CV 4/10] END criterion=gini, max_depth=8, min_samples_split=3, n_estimators=100; accuracy: (train=0.899, test=0.584) f1_weighted: (train=0.898, test=0.542) prec_macro: (train=0.943, test=0.297) rec_macro: (train=0.811, test=0.318) total time=   0.2s\n",
      "[CV 5/10] END criterion=gini, max_depth=8, min_samples_split=3, n_estimators=100; accuracy: (train=0.915, test=0.545) f1_weighted: (train=0.915, test=0.506) prec_macro: (train=0.947, test=0.319) rec_macro: (train=0.848, test=0.317) total time=   0.3s\n",
      "[CV 6/10] END criterion=gini, max_depth=8, min_samples_split=3, n_estimators=100; accuracy: (train=0.901, test=0.610) f1_weighted: (train=0.900, test=0.574) prec_macro: (train=0.939, test=0.440) rec_macro: (train=0.819, test=0.365) total time=   0.2s\n",
      "[CV 7/10] END criterion=gini, max_depth=8, min_samples_split=3, n_estimators=100; accuracy: (train=0.919, test=0.558) f1_weighted: (train=0.919, test=0.526) prec_macro: (train=0.953, test=0.391) rec_macro: (train=0.860, test=0.342) total time=   0.2s\n",
      "[CV 8/10] END criterion=gini, max_depth=8, min_samples_split=3, n_estimators=100; accuracy: (train=0.905, test=0.571) f1_weighted: (train=0.905, test=0.512) prec_macro: (train=0.946, test=0.238) rec_macro: (train=0.825, test=0.302) total time=   0.2s\n",
      "[CV 9/10] END criterion=gini, max_depth=8, min_samples_split=3, n_estimators=100; accuracy: (train=0.921, test=0.571) f1_weighted: (train=0.921, test=0.533) prec_macro: (train=0.952, test=0.315) rec_macro: (train=0.856, test=0.328) total time=   0.2s\n",
      "[CV 10/10] END criterion=gini, max_depth=8, min_samples_split=3, n_estimators=100; accuracy: (train=0.914, test=0.636) f1_weighted: (train=0.913, test=0.606) prec_macro: (train=0.948, test=0.409) rec_macro: (train=0.858, test=0.399) total time=   0.2s\n",
      "[CV 1/10] END criterion=gini, max_depth=8, min_samples_split=3, n_estimators=125; accuracy: (train=0.901, test=0.577) f1_weighted: (train=0.899, test=0.523) prec_macro: (train=0.937, test=0.328) rec_macro: (train=0.803, test=0.309) total time=   0.4s\n",
      "[CV 2/10] END criterion=gini, max_depth=8, min_samples_split=3, n_estimators=125; accuracy: (train=0.902, test=0.628) f1_weighted: (train=0.902, test=0.590) prec_macro: (train=0.939, test=0.380) rec_macro: (train=0.834, test=0.374) total time=   0.3s\n",
      "[CV 3/10] END criterion=gini, max_depth=8, min_samples_split=3, n_estimators=125; accuracy: (train=0.914, test=0.571) f1_weighted: (train=0.913, test=0.540) prec_macro: (train=0.948, test=0.340) rec_macro: (train=0.837, test=0.335) total time=   0.3s\n",
      "[CV 4/10] END criterion=gini, max_depth=8, min_samples_split=3, n_estimators=125; accuracy: (train=0.915, test=0.610) f1_weighted: (train=0.915, test=0.556) prec_macro: (train=0.950, test=0.315) rec_macro: (train=0.847, test=0.333) total time=   0.3s\n",
      "[CV 5/10] END criterion=gini, max_depth=8, min_samples_split=3, n_estimators=125; accuracy: (train=0.909, test=0.519) f1_weighted: (train=0.908, test=0.466) prec_macro: (train=0.944, test=0.214) rec_macro: (train=0.831, test=0.267) total time=   0.3s\n",
      "[CV 6/10] END criterion=gini, max_depth=8, min_samples_split=3, n_estimators=125; accuracy: (train=0.908, test=0.623) f1_weighted: (train=0.908, test=0.588) prec_macro: (train=0.947, test=0.577) rec_macro: (train=0.838, test=0.374) total time=   0.3s\n",
      "[CV 7/10] END criterion=gini, max_depth=8, min_samples_split=3, n_estimators=125; accuracy: (train=0.911, test=0.532) f1_weighted: (train=0.910, test=0.498) prec_macro: (train=0.944, test=0.351) rec_macro: (train=0.823, test=0.314) total time=   0.3s\n",
      "[CV 8/10] END criterion=gini, max_depth=8, min_samples_split=3, n_estimators=125; accuracy: (train=0.901, test=0.597) f1_weighted: (train=0.900, test=0.561) prec_macro: (train=0.934, test=0.421) rec_macro: (train=0.817, test=0.360) total time=   0.3s\n",
      "[CV 9/10] END criterion=gini, max_depth=8, min_samples_split=3, n_estimators=125; accuracy: (train=0.912, test=0.571) f1_weighted: (train=0.912, test=0.535) prec_macro: (train=0.950, test=0.396) rec_macro: (train=0.837, test=0.328) total time=   0.3s\n",
      "[CV 10/10] END criterion=gini, max_depth=8, min_samples_split=3, n_estimators=125; accuracy: (train=0.911, test=0.610) f1_weighted: (train=0.910, test=0.575) prec_macro: (train=0.949, test=0.397) rec_macro: (train=0.851, test=0.371) total time=   0.3s\n",
      "[CV 1/10] END criterion=gini, max_depth=8, min_samples_split=3, n_estimators=150; accuracy: (train=0.906, test=0.603) f1_weighted: (train=0.906, test=0.553) prec_macro: (train=0.940, test=0.338) rec_macro: (train=0.830, test=0.340) total time=   0.3s\n",
      "[CV 2/10] END criterion=gini, max_depth=8, min_samples_split=3, n_estimators=150; accuracy: (train=0.908, test=0.615) f1_weighted: (train=0.907, test=0.577) prec_macro: (train=0.940, test=0.385) rec_macro: (train=0.829, test=0.368) total time=   0.3s\n",
      "[CV 3/10] END criterion=gini, max_depth=8, min_samples_split=3, n_estimators=150; accuracy: (train=0.902, test=0.623) f1_weighted: (train=0.902, test=0.600) prec_macro: (train=0.939, test=0.466) rec_macro: (train=0.815, test=0.394) total time=   0.3s\n"
     ]
    },
    {
     "name": "stdout",
     "output_type": "stream",
     "text": [
      "[CV 4/10] END criterion=gini, max_depth=8, min_samples_split=3, n_estimators=150; accuracy: (train=0.906, test=0.636) f1_weighted: (train=0.906, test=0.584) prec_macro: (train=0.944, test=0.330) rec_macro: (train=0.831, test=0.347) total time=   0.3s\n",
      "[CV 5/10] END criterion=gini, max_depth=8, min_samples_split=3, n_estimators=150; accuracy: (train=0.912, test=0.519) f1_weighted: (train=0.912, test=0.477) prec_macro: (train=0.950, test=0.277) rec_macro: (train=0.850, test=0.284) total time=   0.3s\n",
      "[CV 6/10] END criterion=gini, max_depth=8, min_samples_split=3, n_estimators=150; accuracy: (train=0.905, test=0.610) f1_weighted: (train=0.905, test=0.575) prec_macro: (train=0.946, test=0.471) rec_macro: (train=0.837, test=0.365) total time=   0.3s\n",
      "[CV 7/10] END criterion=gini, max_depth=8, min_samples_split=3, n_estimators=150; accuracy: (train=0.918, test=0.545) f1_weighted: (train=0.918, test=0.507) prec_macro: (train=0.948, test=0.369) rec_macro: (train=0.857, test=0.320) total time=   0.3s\n",
      "[CV 8/10] END criterion=gini, max_depth=8, min_samples_split=3, n_estimators=150; accuracy: (train=0.904, test=0.597) f1_weighted: (train=0.903, test=0.551) prec_macro: (train=0.945, test=0.371) rec_macro: (train=0.836, test=0.343) total time=   0.3s\n",
      "[CV 9/10] END criterion=gini, max_depth=8, min_samples_split=3, n_estimators=150; accuracy: (train=0.912, test=0.597) f1_weighted: (train=0.912, test=0.562) prec_macro: (train=0.950, test=0.392) rec_macro: (train=0.827, test=0.360) total time=   0.3s\n",
      "[CV 10/10] END criterion=gini, max_depth=8, min_samples_split=3, n_estimators=150; accuracy: (train=0.915, test=0.649) f1_weighted: (train=0.915, test=0.621) prec_macro: (train=0.951, test=0.509) rec_macro: (train=0.857, test=0.421) total time=   0.3s\n",
      "[CV 1/10] END criterion=gini, max_depth=9, min_samples_split=2, n_estimators=100; accuracy: (train=0.960, test=0.564) f1_weighted: (train=0.960, test=0.526) prec_macro: (train=0.975, test=0.357) rec_macro: (train=0.928, test=0.320) total time=   0.2s\n",
      "[CV 2/10] END criterion=gini, max_depth=9, min_samples_split=2, n_estimators=100; accuracy: (train=0.955, test=0.590) f1_weighted: (train=0.955, test=0.555) prec_macro: (train=0.971, test=0.325) rec_macro: (train=0.937, test=0.337) total time=   0.2s\n",
      "[CV 3/10] END criterion=gini, max_depth=9, min_samples_split=2, n_estimators=100; accuracy: (train=0.965, test=0.623) f1_weighted: (train=0.965, test=0.600) prec_macro: (train=0.976, test=0.483) rec_macro: (train=0.925, test=0.394) total time=   0.2s\n",
      "[CV 4/10] END criterion=gini, max_depth=9, min_samples_split=2, n_estimators=100; accuracy: (train=0.958, test=0.571) f1_weighted: (train=0.958, test=0.533) prec_macro: (train=0.975, test=0.293) rec_macro: (train=0.917, test=0.312) total time=   0.2s\n",
      "[CV 5/10] END criterion=gini, max_depth=9, min_samples_split=2, n_estimators=100; accuracy: (train=0.964, test=0.519) f1_weighted: (train=0.964, test=0.474) prec_macro: (train=0.977, test=0.307) rec_macro: (train=0.922, test=0.284) total time=   0.2s\n",
      "[CV 6/10] END criterion=gini, max_depth=9, min_samples_split=2, n_estimators=100; accuracy: (train=0.955, test=0.610) f1_weighted: (train=0.955, test=0.575) prec_macro: (train=0.972, test=0.471) rec_macro: (train=0.920, test=0.365) total time=   0.3s\n",
      "[CV 7/10] END criterion=gini, max_depth=9, min_samples_split=2, n_estimators=100; accuracy: (train=0.964, test=0.571) f1_weighted: (train=0.964, test=0.547) prec_macro: (train=0.979, test=0.435) rec_macro: (train=0.940, test=0.368) total time=   0.3s\n",
      "[CV 8/10] END criterion=gini, max_depth=9, min_samples_split=2, n_estimators=100; accuracy: (train=0.951, test=0.571) f1_weighted: (train=0.951, test=0.528) prec_macro: (train=0.972, test=0.312) rec_macro: (train=0.913, test=0.328) total time=   0.2s\n",
      "[CV 9/10] END criterion=gini, max_depth=9, min_samples_split=2, n_estimators=100; accuracy: (train=0.958, test=0.558) f1_weighted: (train=0.958, test=0.520) prec_macro: (train=0.976, test=0.320) rec_macro: (train=0.925, test=0.319) total time=   0.2s\n",
      "[CV 10/10] END criterion=gini, max_depth=9, min_samples_split=2, n_estimators=100; accuracy: (train=0.955, test=0.597) f1_weighted: (train=0.955, test=0.563) prec_macro: (train=0.974, test=0.370) rec_macro: (train=0.910, test=0.358) total time=   0.2s\n",
      "[CV 1/10] END criterion=gini, max_depth=9, min_samples_split=2, n_estimators=125; accuracy: (train=0.963, test=0.590) f1_weighted: (train=0.963, test=0.546) prec_macro: (train=0.976, test=0.320) rec_macro: (train=0.929, test=0.338) total time=   0.3s\n",
      "[CV 2/10] END criterion=gini, max_depth=9, min_samples_split=2, n_estimators=125; accuracy: (train=0.960, test=0.615) f1_weighted: (train=0.960, test=0.561) prec_macro: (train=0.977, test=0.293) rec_macro: (train=0.943, test=0.338) total time=   0.3s\n",
      "[CV 3/10] END criterion=gini, max_depth=9, min_samples_split=2, n_estimators=125; accuracy: (train=0.964, test=0.571) f1_weighted: (train=0.964, test=0.550) prec_macro: (train=0.979, test=0.407) rec_macro: (train=0.919, test=0.354) total time=   0.3s\n",
      "[CV 4/10] END criterion=gini, max_depth=9, min_samples_split=2, n_estimators=125; accuracy: (train=0.961, test=0.610) f1_weighted: (train=0.961, test=0.563) prec_macro: (train=0.978, test=0.348) rec_macro: (train=0.928, test=0.355) total time=   0.3s\n",
      "[CV 5/10] END criterion=gini, max_depth=9, min_samples_split=2, n_estimators=125; accuracy: (train=0.964, test=0.571) f1_weighted: (train=0.964, test=0.526) prec_macro: (train=0.979, test=0.329) rec_macro: (train=0.941, test=0.335) total time=   0.3s\n",
      "[CV 6/10] END criterion=gini, max_depth=9, min_samples_split=2, n_estimators=125; accuracy: (train=0.963, test=0.610) f1_weighted: (train=0.963, test=0.575) prec_macro: (train=0.976, test=0.471) rec_macro: (train=0.937, test=0.365) total time=   0.3s\n",
      "[CV 7/10] END criterion=gini, max_depth=9, min_samples_split=2, n_estimators=125; accuracy: (train=0.961, test=0.545) f1_weighted: (train=0.961, test=0.512) prec_macro: (train=0.978, test=0.359) rec_macro: (train=0.927, test=0.323) total time=   0.3s\n",
      "[CV 8/10] END criterion=gini, max_depth=9, min_samples_split=2, n_estimators=125; accuracy: (train=0.961, test=0.597) f1_weighted: (train=0.961, test=0.563) prec_macro: (train=0.975, test=0.415) rec_macro: (train=0.929, test=0.360) total time=   0.3s\n",
      "[CV 9/10] END criterion=gini, max_depth=9, min_samples_split=2, n_estimators=125; accuracy: (train=0.964, test=0.597) f1_weighted: (train=0.964, test=0.549) prec_macro: (train=0.979, test=0.403) rec_macro: (train=0.937, test=0.343) total time=   0.3s\n",
      "[CV 10/10] END criterion=gini, max_depth=9, min_samples_split=2, n_estimators=125; accuracy: (train=0.960, test=0.610) f1_weighted: (train=0.960, test=0.581) prec_macro: (train=0.975, test=0.410) rec_macro: (train=0.924, test=0.381) total time=   0.3s\n",
      "[CV 1/10] END criterion=gini, max_depth=9, min_samples_split=2, n_estimators=150; accuracy: (train=0.960, test=0.564) f1_weighted: (train=0.960, test=0.511) prec_macro: (train=0.973, test=0.290) rec_macro: (train=0.930, test=0.300) total time=   0.3s\n",
      "[CV 2/10] END criterion=gini, max_depth=9, min_samples_split=2, n_estimators=150; accuracy: (train=0.958, test=0.590) f1_weighted: (train=0.958, test=0.549) prec_macro: (train=0.974, test=0.340) rec_macro: (train=0.941, test=0.334) total time=   0.3s\n",
      "[CV 3/10] END criterion=gini, max_depth=9, min_samples_split=2, n_estimators=150; accuracy: (train=0.958, test=0.597) f1_weighted: (train=0.958, test=0.571) prec_macro: (train=0.976, test=0.396) rec_macro: (train=0.926, test=0.363) total time=   0.3s\n",
      "[CV 4/10] END criterion=gini, max_depth=9, min_samples_split=2, n_estimators=150; accuracy: (train=0.968, test=0.571) f1_weighted: (train=0.968, test=0.530) prec_macro: (train=0.981, test=0.290) rec_macro: (train=0.935, test=0.309) total time=   0.4s\n",
      "[CV 5/10] END criterion=gini, max_depth=9, min_samples_split=2, n_estimators=150; accuracy: (train=0.974, test=0.532) f1_weighted: (train=0.974, test=0.496) prec_macro: (train=0.985, test=0.296) rec_macro: (train=0.949, test=0.309) total time=   0.3s\n",
      "[CV 6/10] END criterion=gini, max_depth=9, min_samples_split=2, n_estimators=150; accuracy: (train=0.964, test=0.610) f1_weighted: (train=0.964, test=0.576) prec_macro: (train=0.977, test=0.441) rec_macro: (train=0.945, test=0.365) total time=   0.3s\n"
     ]
    },
    {
     "name": "stdout",
     "output_type": "stream",
     "text": [
      "[CV 7/10] END criterion=gini, max_depth=9, min_samples_split=2, n_estimators=150; accuracy: (train=0.964, test=0.532) f1_weighted: (train=0.964, test=0.496) prec_macro: (train=0.979, test=0.350) rec_macro: (train=0.927, test=0.314) total time=   0.3s\n",
      "[CV 8/10] END criterion=gini, max_depth=9, min_samples_split=2, n_estimators=150; accuracy: (train=0.953, test=0.571) f1_weighted: (train=0.953, test=0.539) prec_macro: (train=0.969, test=0.410) rec_macro: (train=0.917, test=0.345) total time=   0.3s\n",
      "[CV 9/10] END criterion=gini, max_depth=9, min_samples_split=2, n_estimators=150; accuracy: (train=0.961, test=0.597) f1_weighted: (train=0.961, test=0.569) prec_macro: (train=0.977, test=0.425) rec_macro: (train=0.935, test=0.360) total time=   0.4s\n",
      "[CV 10/10] END criterion=gini, max_depth=9, min_samples_split=2, n_estimators=150; accuracy: (train=0.963, test=0.597) f1_weighted: (train=0.963, test=0.567) prec_macro: (train=0.978, test=0.381) rec_macro: (train=0.923, test=0.369) total time=   0.3s\n",
      "[CV 1/10] END criterion=gini, max_depth=9, min_samples_split=3, n_estimators=100; accuracy: (train=0.944, test=0.577) f1_weighted: (train=0.944, test=0.537) prec_macro: (train=0.967, test=0.350) rec_macro: (train=0.900, test=0.332) total time=   0.2s\n",
      "[CV 2/10] END criterion=gini, max_depth=9, min_samples_split=3, n_estimators=100; accuracy: (train=0.942, test=0.590) f1_weighted: (train=0.942, test=0.533) prec_macro: (train=0.963, test=0.282) rec_macro: (train=0.906, test=0.321) total time=   0.2s\n",
      "[CV 3/10] END criterion=gini, max_depth=9, min_samples_split=3, n_estimators=100; accuracy: (train=0.964, test=0.584) f1_weighted: (train=0.964, test=0.542) prec_macro: (train=0.977, test=0.368) rec_macro: (train=0.931, test=0.340) total time=   0.2s\n",
      "[CV 4/10] END criterion=gini, max_depth=9, min_samples_split=3, n_estimators=100; accuracy: (train=0.953, test=0.623) f1_weighted: (train=0.953, test=0.588) prec_macro: (train=0.971, test=0.362) rec_macro: (train=0.919, test=0.358) total time=   0.2s\n",
      "[CV 5/10] END criterion=gini, max_depth=9, min_samples_split=3, n_estimators=100; accuracy: (train=0.958, test=0.571) f1_weighted: (train=0.958, test=0.529) prec_macro: (train=0.976, test=0.426) rec_macro: (train=0.921, test=0.335) total time=   0.2s\n",
      "[CV 6/10] END criterion=gini, max_depth=9, min_samples_split=3, n_estimators=100; accuracy: (train=0.953, test=0.649) f1_weighted: (train=0.952, test=0.611) prec_macro: (train=0.973, test=0.571) rec_macro: (train=0.914, test=0.405) total time=   0.2s\n",
      "[CV 7/10] END criterion=gini, max_depth=9, min_samples_split=3, n_estimators=100; accuracy: (train=0.951, test=0.571) f1_weighted: (train=0.951, test=0.537) prec_macro: (train=0.968, test=0.410) rec_macro: (train=0.905, test=0.348) total time=   0.2s\n",
      "[CV 8/10] END criterion=gini, max_depth=9, min_samples_split=3, n_estimators=100; accuracy: (train=0.947, test=0.597) f1_weighted: (train=0.947, test=0.560) prec_macro: (train=0.964, test=0.412) rec_macro: (train=0.909, test=0.347) total time=   0.2s\n",
      "[CV 9/10] END criterion=gini, max_depth=9, min_samples_split=3, n_estimators=100; accuracy: (train=0.953, test=0.623) f1_weighted: (train=0.953, test=0.604) prec_macro: (train=0.971, test=0.477) rec_macro: (train=0.926, test=0.404) total time=   0.2s\n",
      "[CV 10/10] END criterion=gini, max_depth=9, min_samples_split=3, n_estimators=100; accuracy: (train=0.945, test=0.610) f1_weighted: (train=0.945, test=0.583) prec_macro: (train=0.969, test=0.393) rec_macro: (train=0.903, test=0.365) total time=   0.2s\n",
      "[CV 1/10] END criterion=gini, max_depth=9, min_samples_split=3, n_estimators=125; accuracy: (train=0.951, test=0.603) f1_weighted: (train=0.951, test=0.568) prec_macro: (train=0.972, test=0.421) rec_macro: (train=0.906, test=0.360) total time=   0.3s\n",
      "[CV 2/10] END criterion=gini, max_depth=9, min_samples_split=3, n_estimators=125; accuracy: (train=0.944, test=0.564) f1_weighted: (train=0.944, test=0.514) prec_macro: (train=0.966, test=0.266) rec_macro: (train=0.899, test=0.304) total time=   0.3s\n",
      "[CV 3/10] END criterion=gini, max_depth=9, min_samples_split=3, n_estimators=125; accuracy: (train=0.960, test=0.597) f1_weighted: (train=0.960, test=0.566) prec_macro: (train=0.977, test=0.438) rec_macro: (train=0.923, test=0.363) total time=   0.3s\n",
      "[CV 4/10] END criterion=gini, max_depth=9, min_samples_split=3, n_estimators=125; accuracy: (train=0.955, test=0.571) f1_weighted: (train=0.955, test=0.523) prec_macro: (train=0.972, test=0.283) rec_macro: (train=0.920, test=0.309) total time=   0.3s\n",
      "[CV 5/10] END criterion=gini, max_depth=9, min_samples_split=3, n_estimators=125; accuracy: (train=0.955, test=0.545) f1_weighted: (train=0.955, test=0.506) prec_macro: (train=0.974, test=0.302) rec_macro: (train=0.911, test=0.317) total time=   0.3s\n",
      "[CV 6/10] END criterion=gini, max_depth=9, min_samples_split=3, n_estimators=125; accuracy: (train=0.950, test=0.610) f1_weighted: (train=0.950, test=0.574) prec_macro: (train=0.971, test=0.520) rec_macro: (train=0.907, test=0.365) total time=   0.3s\n",
      "[CV 7/10] END criterion=gini, max_depth=9, min_samples_split=3, n_estimators=125; accuracy: (train=0.947, test=0.532) f1_weighted: (train=0.947, test=0.507) prec_macro: (train=0.968, test=0.400) rec_macro: (train=0.910, test=0.331) total time=   0.3s\n",
      "[CV 8/10] END criterion=gini, max_depth=9, min_samples_split=3, n_estimators=125; accuracy: (train=0.938, test=0.584) f1_weighted: (train=0.938, test=0.534) prec_macro: (train=0.961, test=0.342) rec_macro: (train=0.890, test=0.324) total time=   0.3s\n",
      "[CV 9/10] END criterion=gini, max_depth=9, min_samples_split=3, n_estimators=125; accuracy: (train=0.950, test=0.584) f1_weighted: (train=0.950, test=0.545) prec_macro: (train=0.969, test=0.346) rec_macro: (train=0.921, test=0.334) total time=   0.3s\n",
      "[CV 10/10] END criterion=gini, max_depth=9, min_samples_split=3, n_estimators=125; accuracy: (train=0.953, test=0.597) f1_weighted: (train=0.952, test=0.574) prec_macro: (train=0.971, test=0.444) rec_macro: (train=0.905, test=0.405) total time=   0.3s\n",
      "[CV 1/10] END criterion=gini, max_depth=9, min_samples_split=3, n_estimators=150; accuracy: (train=0.950, test=0.615) f1_weighted: (train=0.949, test=0.558) prec_macro: (train=0.968, test=0.300) rec_macro: (train=0.908, test=0.336) total time=   0.3s\n",
      "[CV 2/10] END criterion=gini, max_depth=9, min_samples_split=3, n_estimators=150; accuracy: (train=0.948, test=0.615) f1_weighted: (train=0.948, test=0.583) prec_macro: (train=0.967, test=0.402) rec_macro: (train=0.932, test=0.379) total time=   0.3s\n",
      "[CV 3/10] END criterion=gini, max_depth=9, min_samples_split=3, n_estimators=150; accuracy: (train=0.958, test=0.623) f1_weighted: (train=0.958, test=0.595) prec_macro: (train=0.974, test=0.426) rec_macro: (train=0.926, test=0.380) total time=   0.3s\n",
      "[CV 4/10] END criterion=gini, max_depth=9, min_samples_split=3, n_estimators=150; accuracy: (train=0.953, test=0.571) f1_weighted: (train=0.953, test=0.528) prec_macro: (train=0.971, test=0.289) rec_macro: (train=0.925, test=0.312) total time=   0.3s\n",
      "[CV 5/10] END criterion=gini, max_depth=9, min_samples_split=3, n_estimators=150; accuracy: (train=0.960, test=0.519) f1_weighted: (train=0.960, test=0.477) prec_macro: (train=0.977, test=0.279) rec_macro: (train=0.925, test=0.287) total time=   0.3s\n",
      "[CV 6/10] END criterion=gini, max_depth=9, min_samples_split=3, n_estimators=150; accuracy: (train=0.958, test=0.636) f1_weighted: (train=0.958, test=0.597) prec_macro: (train=0.974, test=0.532) rec_macro: (train=0.929, test=0.377) total time=   0.3s\n",
      "[CV 7/10] END criterion=gini, max_depth=9, min_samples_split=3, n_estimators=150; accuracy: (train=0.958, test=0.519) f1_weighted: (train=0.958, test=0.483) prec_macro: (train=0.974, test=0.288) rec_macro: (train=0.922, test=0.295) total time=   0.3s\n",
      "[CV 8/10] END criterion=gini, max_depth=9, min_samples_split=3, n_estimators=150; accuracy: (train=0.951, test=0.610) f1_weighted: (train=0.951, test=0.575) prec_macro: (train=0.968, test=0.444) rec_macro: (train=0.914, test=0.369) total time=   0.3s\n",
      "[CV 9/10] END criterion=gini, max_depth=9, min_samples_split=3, n_estimators=150; accuracy: (train=0.955, test=0.584) f1_weighted: (train=0.956, test=0.545) prec_macro: (train=0.974, test=0.346) rec_macro: (train=0.926, test=0.334) total time=   0.3s\n"
     ]
    },
    {
     "name": "stdout",
     "output_type": "stream",
     "text": [
      "[CV 10/10] END criterion=gini, max_depth=9, min_samples_split=3, n_estimators=150; accuracy: (train=0.950, test=0.584) f1_weighted: (train=0.950, test=0.551) prec_macro: (train=0.971, test=0.353) rec_macro: (train=0.909, test=0.337) total time=   0.3s\n",
      "[CV 1/10] END criterion=gini, max_depth=10, min_samples_split=2, n_estimators=100; accuracy: (train=0.980, test=0.577) f1_weighted: (train=0.980, test=0.524) prec_macro: (train=0.988, test=0.298) rec_macro: (train=0.965, test=0.309) total time=   0.2s\n",
      "[CV 2/10] END criterion=gini, max_depth=10, min_samples_split=2, n_estimators=100; accuracy: (train=0.981, test=0.603) f1_weighted: (train=0.981, test=0.569) prec_macro: (train=0.989, test=0.355) rec_macro: (train=0.973, test=0.357) total time=   0.2s\n",
      "[CV 3/10] END criterion=gini, max_depth=10, min_samples_split=2, n_estimators=100; accuracy: (train=0.981, test=0.545) f1_weighted: (train=0.981, test=0.525) prec_macro: (train=0.989, test=0.460) rec_macro: (train=0.960, test=0.343) total time=   0.2s\n",
      "[CV 4/10] END criterion=gini, max_depth=10, min_samples_split=2, n_estimators=100; accuracy: (train=0.981, test=0.610) f1_weighted: (train=0.981, test=0.580) prec_macro: (train=0.989, test=0.399) rec_macro: (train=0.968, test=0.368) total time=   0.2s\n",
      "[CV 5/10] END criterion=gini, max_depth=10, min_samples_split=2, n_estimators=100; accuracy: (train=0.981, test=0.571) f1_weighted: (train=0.981, test=0.538) prec_macro: (train=0.990, test=0.382) rec_macro: (train=0.964, test=0.367) total time=   0.2s\n",
      "[CV 6/10] END criterion=gini, max_depth=10, min_samples_split=2, n_estimators=100; accuracy: (train=0.987, test=0.610) f1_weighted: (train=0.987, test=0.572) prec_macro: (train=0.993, test=0.468) rec_macro: (train=0.980, test=0.362) total time=   0.2s\n",
      "[CV 7/10] END criterion=gini, max_depth=10, min_samples_split=2, n_estimators=100; accuracy: (train=0.980, test=0.532) f1_weighted: (train=0.980, test=0.514) prec_macro: (train=0.988, test=0.418) rec_macro: (train=0.964, test=0.347) total time=   0.2s\n",
      "[CV 8/10] END criterion=gini, max_depth=10, min_samples_split=2, n_estimators=100; accuracy: (train=0.977, test=0.584) f1_weighted: (train=0.977, test=0.561) prec_macro: (train=0.986, test=0.461) rec_macro: (train=0.961, test=0.364) total time=   0.2s\n",
      "[CV 9/10] END criterion=gini, max_depth=10, min_samples_split=2, n_estimators=100; accuracy: (train=0.988, test=0.545) f1_weighted: (train=0.988, test=0.510) prec_macro: (train=0.993, test=0.274) rec_macro: (train=0.981, test=0.300) total time=   0.2s\n",
      "[CV 10/10] END criterion=gini, max_depth=10, min_samples_split=2, n_estimators=100; accuracy: (train=0.984, test=0.584) f1_weighted: (train=0.984, test=0.558) prec_macro: (train=0.990, test=0.378) rec_macro: (train=0.960, test=0.363) total time=   0.2s\n",
      "[CV 1/10] END criterion=gini, max_depth=10, min_samples_split=2, n_estimators=125; accuracy: (train=0.980, test=0.538) f1_weighted: (train=0.980, test=0.487) prec_macro: (train=0.988, test=0.309) rec_macro: (train=0.956, test=0.285) total time=   0.3s\n",
      "[CV 2/10] END criterion=gini, max_depth=10, min_samples_split=2, n_estimators=125; accuracy: (train=0.983, test=0.628) f1_weighted: (train=0.983, test=0.578) prec_macro: (train=0.990, test=0.396) rec_macro: (train=0.966, test=0.361) total time=   0.3s\n",
      "[CV 3/10] END criterion=gini, max_depth=10, min_samples_split=2, n_estimators=125; accuracy: (train=0.984, test=0.623) f1_weighted: (train=0.984, test=0.608) prec_macro: (train=0.989, test=0.500) rec_macro: (train=0.970, test=0.413) total time=   0.3s\n",
      "[CV 4/10] END criterion=gini, max_depth=10, min_samples_split=2, n_estimators=125; accuracy: (train=0.980, test=0.597) f1_weighted: (train=0.980, test=0.553) prec_macro: (train=0.988, test=0.292) rec_macro: (train=0.968, test=0.327) total time=   0.3s\n",
      "[CV 5/10] END criterion=gini, max_depth=10, min_samples_split=2, n_estimators=125; accuracy: (train=0.987, test=0.519) f1_weighted: (train=0.987, test=0.481) prec_macro: (train=0.993, test=0.313) rec_macro: (train=0.973, test=0.287) total time=   0.3s\n",
      "[CV 6/10] END criterion=gini, max_depth=10, min_samples_split=2, n_estimators=125; accuracy: (train=0.983, test=0.623) f1_weighted: (train=0.983, test=0.589) prec_macro: (train=0.990, test=0.545) rec_macro: (train=0.978, test=0.371) total time=   0.3s\n",
      "[CV 7/10] END criterion=gini, max_depth=10, min_samples_split=2, n_estimators=125; accuracy: (train=0.980, test=0.532) f1_weighted: (train=0.980, test=0.506) prec_macro: (train=0.988, test=0.373) rec_macro: (train=0.960, test=0.331) total time=   0.3s\n",
      "[CV 8/10] END criterion=gini, max_depth=10, min_samples_split=2, n_estimators=125; accuracy: (train=0.976, test=0.545) f1_weighted: (train=0.976, test=0.506) prec_macro: (train=0.984, test=0.295) rec_macro: (train=0.963, test=0.300) total time=   0.3s\n",
      "[CV 9/10] END criterion=gini, max_depth=10, min_samples_split=2, n_estimators=125; accuracy: (train=0.983, test=0.597) f1_weighted: (train=0.983, test=0.576) prec_macro: (train=0.990, test=0.393) rec_macro: (train=0.974, test=0.373) total time=   0.3s\n",
      "[CV 10/10] END criterion=gini, max_depth=10, min_samples_split=2, n_estimators=125; accuracy: (train=0.981, test=0.623) f1_weighted: (train=0.981, test=0.600) prec_macro: (train=0.988, test=0.413) rec_macro: (train=0.958, test=0.403) total time=   0.3s\n",
      "[CV 1/10] END criterion=gini, max_depth=10, min_samples_split=2, n_estimators=150; accuracy: (train=0.977, test=0.590) f1_weighted: (train=0.977, test=0.551) prec_macro: (train=0.986, test=0.397) rec_macro: (train=0.953, test=0.354) total time=   0.3s\n",
      "[CV 2/10] END criterion=gini, max_depth=10, min_samples_split=2, n_estimators=150; accuracy: (train=0.978, test=0.603) f1_weighted: (train=0.978, test=0.558) prec_macro: (train=0.987, test=0.352) rec_macro: (train=0.964, test=0.343) total time=   0.3s\n",
      "[CV 3/10] END criterion=gini, max_depth=10, min_samples_split=2, n_estimators=150; accuracy: (train=0.987, test=0.584) f1_weighted: (train=0.987, test=0.558) prec_macro: (train=0.992, test=0.441) rec_macro: (train=0.983, test=0.363) total time=   0.3s\n",
      "[CV 4/10] END criterion=gini, max_depth=10, min_samples_split=2, n_estimators=150; accuracy: (train=0.984, test=0.558) f1_weighted: (train=0.984, test=0.506) prec_macro: (train=0.991, test=0.235) rec_macro: (train=0.980, test=0.287) total time=   0.4s\n",
      "[CV 5/10] END criterion=gini, max_depth=10, min_samples_split=2, n_estimators=150; accuracy: (train=0.986, test=0.558) f1_weighted: (train=0.986, test=0.520) prec_macro: (train=0.992, test=0.366) rec_macro: (train=0.970, test=0.342) total time=   0.3s\n",
      "[CV 6/10] END criterion=gini, max_depth=10, min_samples_split=2, n_estimators=150; accuracy: (train=0.981, test=0.610) f1_weighted: (train=0.981, test=0.575) prec_macro: (train=0.989, test=0.423) rec_macro: (train=0.977, test=0.365) total time=   0.3s\n",
      "[CV 7/10] END criterion=gini, max_depth=10, min_samples_split=2, n_estimators=150; accuracy: (train=0.978, test=0.584) f1_weighted: (train=0.978, test=0.563) prec_macro: (train=0.988, test=0.441) rec_macro: (train=0.954, test=0.390) total time=   0.4s\n",
      "[CV 8/10] END criterion=gini, max_depth=10, min_samples_split=2, n_estimators=150; accuracy: (train=0.971, test=0.584) f1_weighted: (train=0.971, test=0.556) prec_macro: (train=0.983, test=0.389) rec_macro: (train=0.957, test=0.354) total time=   0.3s\n",
      "[CV 9/10] END criterion=gini, max_depth=10, min_samples_split=2, n_estimators=150; accuracy: (train=0.984, test=0.571) f1_weighted: (train=0.984, test=0.548) prec_macro: (train=0.990, test=0.356) rec_macro: (train=0.976, test=0.341) total time=   0.3s\n",
      "[CV 10/10] END criterion=gini, max_depth=10, min_samples_split=2, n_estimators=150; accuracy: (train=0.984, test=0.610) f1_weighted: (train=0.984, test=0.580) prec_macro: (train=0.991, test=0.433) rec_macro: (train=0.968, test=0.378) total time=   0.3s\n",
      "[CV 1/10] END criterion=gini, max_depth=10, min_samples_split=3, n_estimators=100; accuracy: (train=0.973, test=0.603) f1_weighted: (train=0.973, test=0.578) prec_macro: (train=0.982, test=0.452) rec_macro: (train=0.946, test=0.395) total time=   0.2s\n",
      "[CV 2/10] END criterion=gini, max_depth=10, min_samples_split=3, n_estimators=100; accuracy: (train=0.978, test=0.654) f1_weighted: (train=0.978, test=0.616) prec_macro: (train=0.986, test=0.412) rec_macro: (train=0.964, test=0.402) total time=   0.2s\n"
     ]
    },
    {
     "name": "stdout",
     "output_type": "stream",
     "text": [
      "[CV 3/10] END criterion=gini, max_depth=10, min_samples_split=3, n_estimators=100; accuracy: (train=0.973, test=0.623) f1_weighted: (train=0.973, test=0.611) prec_macro: (train=0.984, test=0.446) rec_macro: (train=0.946, test=0.407) total time=   0.2s\n",
      "[CV 4/10] END criterion=gini, max_depth=10, min_samples_split=3, n_estimators=100; accuracy: (train=0.968, test=0.558) f1_weighted: (train=0.968, test=0.504) prec_macro: (train=0.982, test=0.233) rec_macro: (train=0.936, test=0.284) total time=   0.2s\n",
      "[CV 5/10] END criterion=gini, max_depth=10, min_samples_split=3, n_estimators=100; accuracy: (train=0.977, test=0.584) f1_weighted: (train=0.977, test=0.560) prec_macro: (train=0.987, test=0.525) rec_macro: (train=0.945, test=0.373) total time=   0.2s\n",
      "[CV 6/10] END criterion=gini, max_depth=10, min_samples_split=3, n_estimators=100; accuracy: (train=0.971, test=0.610) f1_weighted: (train=0.971, test=0.575) prec_macro: (train=0.981, test=0.424) rec_macro: (train=0.950, test=0.362) total time=   0.2s\n",
      "[CV 7/10] END criterion=gini, max_depth=10, min_samples_split=3, n_estimators=100; accuracy: (train=0.976, test=0.532) f1_weighted: (train=0.976, test=0.493) prec_macro: (train=0.987, test=0.371) rec_macro: (train=0.958, test=0.301) total time=   0.2s\n",
      "[CV 8/10] END criterion=gini, max_depth=10, min_samples_split=3, n_estimators=100; accuracy: (train=0.965, test=0.558) f1_weighted: (train=0.965, test=0.519) prec_macro: (train=0.978, test=0.366) rec_macro: (train=0.933, test=0.323) total time=   0.2s\n",
      "[CV 9/10] END criterion=gini, max_depth=10, min_samples_split=3, n_estimators=100; accuracy: (train=0.967, test=0.571) f1_weighted: (train=0.967, test=0.533) prec_macro: (train=0.980, test=0.347) rec_macro: (train=0.943, test=0.325) total time=   0.2s\n",
      "[CV 10/10] END criterion=gini, max_depth=10, min_samples_split=3, n_estimators=100; accuracy: (train=0.974, test=0.584) f1_weighted: (train=0.974, test=0.557) prec_macro: (train=0.985, test=0.366) rec_macro: (train=0.949, test=0.366) total time=   0.2s\n",
      "[CV 1/10] END criterion=gini, max_depth=10, min_samples_split=3, n_estimators=125; accuracy: (train=0.971, test=0.577) f1_weighted: (train=0.971, test=0.524) prec_macro: (train=0.983, test=0.428) rec_macro: (train=0.947, test=0.313) total time=   0.3s\n",
      "[CV 2/10] END criterion=gini, max_depth=10, min_samples_split=3, n_estimators=125; accuracy: (train=0.977, test=0.590) f1_weighted: (train=0.977, test=0.557) prec_macro: (train=0.985, test=0.348) rec_macro: (train=0.970, test=0.351) total time=   0.3s\n",
      "[CV 3/10] END criterion=gini, max_depth=10, min_samples_split=3, n_estimators=125; accuracy: (train=0.976, test=0.610) f1_weighted: (train=0.976, test=0.589) prec_macro: (train=0.986, test=0.429) rec_macro: (train=0.960, test=0.385) total time=   0.3s\n",
      "[CV 4/10] END criterion=gini, max_depth=10, min_samples_split=3, n_estimators=125; accuracy: (train=0.978, test=0.558) f1_weighted: (train=0.978, test=0.515) prec_macro: (train=0.987, test=0.282) rec_macro: (train=0.963, test=0.304) total time=   0.3s\n",
      "[CV 5/10] END criterion=gini, max_depth=10, min_samples_split=3, n_estimators=125; accuracy: (train=0.978, test=0.558) f1_weighted: (train=0.978, test=0.531) prec_macro: (train=0.988, test=0.422) rec_macro: (train=0.955, test=0.340) total time=   0.3s\n",
      "[CV 6/10] END criterion=gini, max_depth=10, min_samples_split=3, n_estimators=125; accuracy: (train=0.968, test=0.610) f1_weighted: (train=0.968, test=0.578) prec_macro: (train=0.982, test=0.539) rec_macro: (train=0.950, test=0.362) total time=   0.3s\n",
      "[CV 7/10] END criterion=gini, max_depth=10, min_samples_split=3, n_estimators=125; accuracy: (train=0.978, test=0.545) f1_weighted: (train=0.978, test=0.508) prec_macro: (train=0.986, test=0.355) rec_macro: (train=0.949, test=0.320) total time=   0.3s\n",
      "[CV 8/10] END criterion=gini, max_depth=10, min_samples_split=3, n_estimators=125; accuracy: (train=0.964, test=0.584) f1_weighted: (train=0.964, test=0.547) prec_macro: (train=0.979, test=0.355) rec_macro: (train=0.932, test=0.354) total time=   0.3s\n",
      "[CV 9/10] END criterion=gini, max_depth=10, min_samples_split=3, n_estimators=125; accuracy: (train=0.974, test=0.558) f1_weighted: (train=0.974, test=0.527) prec_macro: (train=0.984, test=0.337) rec_macro: (train=0.956, test=0.319) total time=   0.3s\n",
      "[CV 10/10] END criterion=gini, max_depth=10, min_samples_split=3, n_estimators=125; accuracy: (train=0.974, test=0.649) f1_weighted: (train=0.974, test=0.625) prec_macro: (train=0.986, test=0.474) rec_macro: (train=0.950, test=0.434) total time=   0.3s\n",
      "[CV 1/10] END criterion=gini, max_depth=10, min_samples_split=3, n_estimators=150; accuracy: (train=0.974, test=0.590) f1_weighted: (train=0.974, test=0.545) prec_macro: (train=0.985, test=0.365) rec_macro: (train=0.942, test=0.331) total time=   0.3s\n",
      "[CV 2/10] END criterion=gini, max_depth=10, min_samples_split=3, n_estimators=150; accuracy: (train=0.973, test=0.590) f1_weighted: (train=0.973, test=0.550) prec_macro: (train=0.984, test=0.327) rec_macro: (train=0.957, test=0.334) total time=   0.3s\n",
      "[CV 3/10] END criterion=gini, max_depth=10, min_samples_split=3, n_estimators=150; accuracy: (train=0.981, test=0.610) f1_weighted: (train=0.981, test=0.592) prec_macro: (train=0.989, test=0.462) rec_macro: (train=0.960, test=0.385) total time=   0.3s\n",
      "[CV 4/10] END criterion=gini, max_depth=10, min_samples_split=3, n_estimators=150; accuracy: (train=0.973, test=0.571) f1_weighted: (train=0.973, test=0.533) prec_macro: (train=0.984, test=0.315) rec_macro: (train=0.950, test=0.329) total time=   0.3s\n",
      "[CV 5/10] END criterion=gini, max_depth=10, min_samples_split=3, n_estimators=150; accuracy: (train=0.981, test=0.558) f1_weighted: (train=0.981, test=0.533) prec_macro: (train=0.989, test=0.423) rec_macro: (train=0.956, test=0.340) total time=   0.4s\n",
      "[CV 6/10] END criterion=gini, max_depth=10, min_samples_split=3, n_estimators=150; accuracy: (train=0.976, test=0.610) f1_weighted: (train=0.976, test=0.577) prec_macro: (train=0.984, test=0.472) rec_macro: (train=0.968, test=0.365) total time=   0.3s\n",
      "[CV 7/10] END criterion=gini, max_depth=10, min_samples_split=3, n_estimators=150; accuracy: (train=0.977, test=0.558) f1_weighted: (train=0.977, test=0.520) prec_macro: (train=0.987, test=0.380) rec_macro: (train=0.952, test=0.329) total time=   0.3s\n",
      "[CV 8/10] END criterion=gini, max_depth=10, min_samples_split=3, n_estimators=150; accuracy: (train=0.967, test=0.623) f1_weighted: (train=0.967, test=0.591) prec_macro: (train=0.981, test=0.478) rec_macro: (train=0.932, test=0.391) total time=   0.3s\n",
      "[CV 9/10] END criterion=gini, max_depth=10, min_samples_split=3, n_estimators=150; accuracy: (train=0.971, test=0.584) f1_weighted: (train=0.971, test=0.549) prec_macro: (train=0.983, test=0.371) rec_macro: (train=0.945, test=0.351) total time=   0.3s\n",
      "[CV 10/10] END criterion=gini, max_depth=10, min_samples_split=3, n_estimators=150; accuracy: (train=0.967, test=0.623) f1_weighted: (train=0.967, test=0.594) prec_macro: (train=0.979, test=0.420) rec_macro: (train=0.928, test=0.403) total time=   0.3s\n"
     ]
    }
   ],
   "source": [
    "# Parameters for Random Forest\n",
    "rf_params = {'n_estimators': [100, 125, 150],\n",
    "            'criterion': ['entropy', 'gini'],\n",
    "            'max_depth': [5, 6, 7, 8, 9, 10],\n",
    "            'min_samples_split': [2, 3]}\n",
    "\n",
    "# Instantiating model\n",
    "model = RandomForestClassifier()\n",
    "\n",
    "# Defining a grid search for Random Forest\n",
    "gridsearch_rf = GridSearchCV(estimator=model, param_grid=rf_params, cv=cv_method, verbose=3, scoring=scoring, refit='accuracy', return_train_score=True)\n",
    "\n",
    "# Fitting data\n",
    "time_train_start = time()\n",
    "gridsearch_rf.fit(X_full_train, y_full_train)\n",
    "time_train_end = time()"
   ]
  },
  {
   "cell_type": "code",
   "execution_count": 55,
   "id": "f2fee797",
   "metadata": {},
   "outputs": [
    {
     "name": "stdout",
     "output_type": "stream",
     "text": [
      "Simulation time: 9.40 seconds\n",
      "----------------------------------\n",
      "Best parameters: {'criterion': 'gini', 'max_depth': 9, 'min_samples_split': 3, 'n_estimators': 100}\n",
      "Best score: 59.98 %\n",
      "\n",
      "Models ranked according to accuracy\n",
      "Model with rank: 1\n",
      "Mean validation score: 0.60 (+/- 0.05)\n",
      "Params: {'criterion': 'gini', 'max_depth': 9, 'min_samples_split': 3, 'n_estimators': 100}\n",
      "\n",
      "Model with rank: 2\n",
      "Mean validation score: 0.60 (+/- 0.08)\n",
      "Params: {'criterion': 'gini', 'max_depth': 8, 'min_samples_split': 3, 'n_estimators': 150}\n",
      "\n",
      "Model with rank: 3\n",
      "Mean validation score: 0.60 (+/- 0.06)\n",
      "Params: {'criterion': 'entropy', 'max_depth': 10, 'min_samples_split': 2, 'n_estimators': 125}\n",
      "\n"
     ]
    }
   ],
   "source": [
    "time_train = time_train_end - time_train_start\n",
    "print(\"Simulation time:\", '%.2f' % time_train, 'seconds')\n",
    "\n",
    "print(\"----------------------------------\")\n",
    "\n",
    "print(\"Best parameters:\", gridsearch_rf.best_params_)\n",
    "print(\"Best score:\", '%.2f' % (gridsearch_rf.best_score_ * 100), \"%\")\n",
    "\n",
    "report(gridsearch_rf.cv_results_, 'accuracy', n_top=3)"
   ]
  },
  {
   "cell_type": "markdown",
   "id": "4fd189cb",
   "metadata": {},
   "source": [
    "### K-Nearest Neighbor"
   ]
  },
  {
   "cell_type": "code",
   "execution_count": 29,
   "id": "637e4517",
   "metadata": {},
   "outputs": [
    {
     "name": "stdout",
     "output_type": "stream",
     "text": [
      "Fitting 10 folds for each of 12 candidates, totalling 120 fits\n",
      "[CV 1/10] END algorithm=brute, n_jobs=4, n_neighbors=11, p=1, weights=uniform; accuracy: (train=0.573, test=0.462) f1_weighted: (train=0.517, test=0.397) prec_macro: (train=0.351, test=0.169) rec_macro: (train=0.317, test=0.225) total time=   0.0s\n",
      "[CV 2/10] END algorithm=brute, n_jobs=4, n_neighbors=11, p=1, weights=uniform; accuracy: (train=0.539, test=0.590) f1_weighted: (train=0.484, test=0.530) prec_macro: (train=0.348, test=0.532) rec_macro: (train=0.299, test=0.337) total time=   0.0s\n",
      "[CV 3/10] END algorithm=brute, n_jobs=4, n_neighbors=11, p=1, weights=uniform; accuracy: (train=0.554, test=0.532) f1_weighted: (train=0.502, test=0.483) prec_macro: (train=0.369, test=0.374) rec_macro: (train=0.312, test=0.300) total time=   0.0s\n",
      "[CV 4/10] END algorithm=brute, n_jobs=4, n_neighbors=11, p=1, weights=uniform; accuracy: (train=0.557, test=0.558) f1_weighted: (train=0.504, test=0.501) prec_macro: (train=0.384, test=0.286) rec_macro: (train=0.314, test=0.298) total time=   0.0s\n",
      "[CV 5/10] END algorithm=brute, n_jobs=4, n_neighbors=11, p=1, weights=uniform; accuracy: (train=0.560, test=0.494) f1_weighted: (train=0.506, test=0.431) prec_macro: (train=0.361, test=0.193) rec_macro: (train=0.315, test=0.250) total time=   0.0s\n",
      "[CV 6/10] END algorithm=brute, n_jobs=4, n_neighbors=11, p=1, weights=uniform; accuracy: (train=0.565, test=0.532) f1_weighted: (train=0.512, test=0.460) prec_macro: (train=0.397, test=0.308) rec_macro: (train=0.319, test=0.275) total time=   0.0s\n",
      "[CV 7/10] END algorithm=brute, n_jobs=4, n_neighbors=11, p=1, weights=uniform; accuracy: (train=0.584, test=0.442) f1_weighted: (train=0.535, test=0.380) prec_macro: (train=0.420, test=0.224) rec_macro: (train=0.339, test=0.228) total time=   0.0s\n",
      "[CV 8/10] END algorithm=brute, n_jobs=4, n_neighbors=11, p=1, weights=uniform; accuracy: (train=0.574, test=0.442) f1_weighted: (train=0.520, test=0.396) prec_macro: (train=0.408, test=0.213) rec_macro: (train=0.326, test=0.238) total time=   0.0s\n",
      "[CV 9/10] END algorithm=brute, n_jobs=4, n_neighbors=11, p=1, weights=uniform; accuracy: (train=0.568, test=0.481) f1_weighted: (train=0.518, test=0.424) prec_macro: (train=0.399, test=0.198) rec_macro: (train=0.326, test=0.242) total time=   0.0s\n",
      "[CV 10/10] END algorithm=brute, n_jobs=4, n_neighbors=11, p=1, weights=uniform; accuracy: (train=0.564, test=0.506) f1_weighted: (train=0.510, test=0.449) prec_macro: (train=0.368, test=0.231) rec_macro: (train=0.316, test=0.270) total time=   0.0s\n",
      "[CV 1/10] END algorithm=brute, n_jobs=4, n_neighbors=11, p=1, weights=distance; accuracy: (train=1.000, test=0.487) f1_weighted: (train=1.000, test=0.440) prec_macro: (train=1.000, test=0.384) rec_macro: (train=1.000, test=0.260) total time=   0.0s\n",
      "[CV 2/10] END algorithm=brute, n_jobs=4, n_neighbors=11, p=1, weights=distance; accuracy: (train=1.000, test=0.551) f1_weighted: (train=1.000, test=0.501) prec_macro: (train=1.000, test=0.387) rec_macro: (train=1.000, test=0.314) total time=   0.0s\n",
      "[CV 3/10] END algorithm=brute, n_jobs=4, n_neighbors=11, p=1, weights=distance; accuracy: (train=1.000, test=0.558) f1_weighted: (train=1.000, test=0.521) prec_macro: (train=1.000, test=0.388) rec_macro: (train=1.000, test=0.337) total time=   0.0s\n",
      "[CV 4/10] END algorithm=brute, n_jobs=4, n_neighbors=11, p=1, weights=distance; accuracy: (train=1.000, test=0.519) f1_weighted: (train=1.000, test=0.475) prec_macro: (train=1.000, test=0.245) rec_macro: (train=1.000, test=0.275) total time=   0.0s\n",
      "[CV 5/10] END algorithm=brute, n_jobs=4, n_neighbors=11, p=1, weights=distance; accuracy: (train=1.000, test=0.468) f1_weighted: (train=1.000, test=0.428) prec_macro: (train=1.000, test=0.197) rec_macro: (train=1.000, test=0.236) total time=   0.0s\n",
      "[CV 6/10] END algorithm=brute, n_jobs=4, n_neighbors=11, p=1, weights=distance; accuracy: (train=1.000, test=0.519) f1_weighted: (train=1.000, test=0.464) prec_macro: (train=1.000, test=0.321) rec_macro: (train=1.000, test=0.285) total time=   0.0s\n",
      "[CV 7/10] END algorithm=brute, n_jobs=4, n_neighbors=11, p=1, weights=distance; accuracy: (train=1.000, test=0.442) f1_weighted: (train=1.000, test=0.386) prec_macro: (train=1.000, test=0.205) rec_macro: (train=1.000, test=0.228) total time=   0.0s\n",
      "[CV 8/10] END algorithm=brute, n_jobs=4, n_neighbors=11, p=1, weights=distance; accuracy: (train=1.000, test=0.429) f1_weighted: (train=1.000, test=0.396) prec_macro: (train=1.000, test=0.212) rec_macro: (train=1.000, test=0.235) total time=   0.0s\n",
      "[CV 9/10] END algorithm=brute, n_jobs=4, n_neighbors=11, p=1, weights=distance; accuracy: (train=1.000, test=0.494) f1_weighted: (train=1.000, test=0.448) prec_macro: (train=1.000, test=0.236) rec_macro: (train=1.000, test=0.264) total time=   0.0s\n",
      "[CV 10/10] END algorithm=brute, n_jobs=4, n_neighbors=11, p=1, weights=distance; accuracy: (train=1.000, test=0.468) f1_weighted: (train=1.000, test=0.440) prec_macro: (train=1.000, test=0.264) rec_macro: (train=1.000, test=0.269) total time=   0.0s\n",
      "[CV 1/10] END algorithm=brute, n_jobs=4, n_neighbors=11, p=2, weights=uniform; accuracy: (train=0.553, test=0.436) f1_weighted: (train=0.498, test=0.378) prec_macro: (train=0.359, test=0.220) rec_macro: (train=0.308, test=0.226) total time=   0.0s\n",
      "[CV 2/10] END algorithm=brute, n_jobs=4, n_neighbors=11, p=2, weights=uniform; accuracy: (train=0.529, test=0.513) f1_weighted: (train=0.472, test=0.447) prec_macro: (train=0.347, test=0.394) rec_macro: (train=0.290, test=0.281) total time=   0.0s\n",
      "[CV 3/10] END algorithm=brute, n_jobs=4, n_neighbors=11, p=2, weights=uniform; accuracy: (train=0.553, test=0.481) f1_weighted: (train=0.496, test=0.431) prec_macro: (train=0.370, test=0.376) rec_macro: (train=0.308, test=0.290) total time=   0.0s\n",
      "[CV 4/10] END algorithm=brute, n_jobs=4, n_neighbors=11, p=2, weights=uniform; accuracy: (train=0.532, test=0.468) f1_weighted: (train=0.471, test=0.419) prec_macro: (train=0.324, test=0.279) rec_macro: (train=0.287, test=0.246) total time=   0.0s\n",
      "[CV 5/10] END algorithm=brute, n_jobs=4, n_neighbors=11, p=2, weights=uniform; accuracy: (train=0.547, test=0.494) f1_weighted: (train=0.495, test=0.439) prec_macro: (train=0.368, test=0.202) rec_macro: (train=0.308, test=0.247) total time=   0.0s\n",
      "[CV 6/10] END algorithm=brute, n_jobs=4, n_neighbors=11, p=2, weights=uniform; accuracy: (train=0.548, test=0.506) f1_weighted: (train=0.490, test=0.441) prec_macro: (train=0.351, test=0.235) rec_macro: (train=0.303, test=0.263) total time=   0.0s\n",
      "[CV 7/10] END algorithm=brute, n_jobs=4, n_neighbors=11, p=2, weights=uniform; accuracy: (train=0.558, test=0.403) f1_weighted: (train=0.504, test=0.335) prec_macro: (train=0.384, test=0.146) rec_macro: (train=0.315, test=0.194) total time=   0.0s\n",
      "[CV 8/10] END algorithm=brute, n_jobs=4, n_neighbors=11, p=2, weights=uniform; accuracy: (train=0.554, test=0.455) f1_weighted: (train=0.497, test=0.422) prec_macro: (train=0.355, test=0.281) rec_macro: (train=0.308, test=0.263) total time=   0.0s\n",
      "[CV 9/10] END algorithm=brute, n_jobs=4, n_neighbors=11, p=2, weights=uniform; accuracy: (train=0.541, test=0.481) f1_weighted: (train=0.488, test=0.412) prec_macro: (train=0.351, test=0.192) rec_macro: (train=0.303, test=0.238) total time=   0.0s\n",
      "[CV 10/10] END algorithm=brute, n_jobs=4, n_neighbors=11, p=2, weights=uniform; accuracy: (train=0.541, test=0.468) f1_weighted: (train=0.483, test=0.422) prec_macro: (train=0.340, test=0.218) rec_macro: (train=0.295, test=0.249) total time=   0.0s\n",
      "[CV 1/10] END algorithm=brute, n_jobs=4, n_neighbors=11, p=2, weights=distance; accuracy: (train=1.000, test=0.423) f1_weighted: (train=1.000, test=0.383) prec_macro: (train=1.000, test=0.225) rec_macro: (train=1.000, test=0.224) total time=   0.0s\n",
      "[CV 2/10] END algorithm=brute, n_jobs=4, n_neighbors=11, p=2, weights=distance; accuracy: (train=1.000, test=0.474) f1_weighted: (train=1.000, test=0.431) prec_macro: (train=1.000, test=0.264) rec_macro: (train=1.000, test=0.261) total time=   0.0s\n",
      "[CV 3/10] END algorithm=brute, n_jobs=4, n_neighbors=11, p=2, weights=distance; accuracy: (train=1.000, test=0.532) f1_weighted: (train=1.000, test=0.492) prec_macro: (train=1.000, test=0.335) rec_macro: (train=1.000, test=0.328) total time=   0.0s\n"
     ]
    },
    {
     "name": "stdout",
     "output_type": "stream",
     "text": [
      "[CV 4/10] END algorithm=brute, n_jobs=4, n_neighbors=11, p=2, weights=distance; accuracy: (train=1.000, test=0.481) f1_weighted: (train=1.000, test=0.440) prec_macro: (train=1.000, test=0.259) rec_macro: (train=1.000, test=0.255) total time=   0.0s\n",
      "[CV 5/10] END algorithm=brute, n_jobs=4, n_neighbors=11, p=2, weights=distance; accuracy: (train=1.000, test=0.519) f1_weighted: (train=1.000, test=0.486) prec_macro: (train=1.000, test=0.253) rec_macro: (train=1.000, test=0.287) total time=   0.0s\n",
      "[CV 6/10] END algorithm=brute, n_jobs=4, n_neighbors=11, p=2, weights=distance; accuracy: (train=1.000, test=0.506) f1_weighted: (train=1.000, test=0.459) prec_macro: (train=1.000, test=0.438) rec_macro: (train=1.000, test=0.283) total time=   0.0s\n",
      "[CV 7/10] END algorithm=brute, n_jobs=4, n_neighbors=11, p=2, weights=distance; accuracy: (train=1.000, test=0.429) f1_weighted: (train=1.000, test=0.362) prec_macro: (train=1.000, test=0.160) rec_macro: (train=1.000, test=0.205) total time=   0.0s\n",
      "[CV 8/10] END algorithm=brute, n_jobs=4, n_neighbors=11, p=2, weights=distance; accuracy: (train=1.000, test=0.455) f1_weighted: (train=1.000, test=0.434) prec_macro: (train=1.000, test=0.291) rec_macro: (train=1.000, test=0.280) total time=   0.0s\n",
      "[CV 9/10] END algorithm=brute, n_jobs=4, n_neighbors=11, p=2, weights=distance; accuracy: (train=1.000, test=0.481) f1_weighted: (train=1.000, test=0.431) prec_macro: (train=1.000, test=0.263) rec_macro: (train=1.000, test=0.258) total time=   0.0s\n",
      "[CV 10/10] END algorithm=brute, n_jobs=4, n_neighbors=11, p=2, weights=distance; accuracy: (train=1.000, test=0.481) f1_weighted: (train=1.000, test=0.455) prec_macro: (train=1.000, test=0.286) rec_macro: (train=1.000, test=0.284) total time=   0.0s\n",
      "[CV 1/10] END algorithm=brute, n_jobs=4, n_neighbors=12, p=1, weights=uniform; accuracy: (train=0.568, test=0.474) f1_weighted: (train=0.509, test=0.412) prec_macro: (train=0.339, test=0.178) rec_macro: (train=0.310, test=0.234) total time=   0.0s\n",
      "[CV 2/10] END algorithm=brute, n_jobs=4, n_neighbors=12, p=1, weights=uniform; accuracy: (train=0.542, test=0.564) f1_weighted: (train=0.483, test=0.495) prec_macro: (train=0.339, test=0.418) rec_macro: (train=0.296, test=0.312) total time=   0.0s\n",
      "[CV 3/10] END algorithm=brute, n_jobs=4, n_neighbors=12, p=1, weights=uniform; accuracy: (train=0.554, test=0.532) f1_weighted: (train=0.493, test=0.489) prec_macro: (train=0.347, test=0.431) rec_macro: (train=0.302, test=0.316) total time=   0.0s\n",
      "[CV 4/10] END algorithm=brute, n_jobs=4, n_neighbors=12, p=1, weights=uniform; accuracy: (train=0.542, test=0.584) f1_weighted: (train=0.480, test=0.525) prec_macro: (train=0.332, test=0.427) rec_macro: (train=0.293, test=0.312) total time=   0.0s\n",
      "[CV 5/10] END algorithm=brute, n_jobs=4, n_neighbors=12, p=1, weights=uniform; accuracy: (train=0.573, test=0.494) f1_weighted: (train=0.521, test=0.437) prec_macro: (train=0.382, test=0.199) rec_macro: (train=0.326, test=0.250) total time=   0.0s\n",
      "[CV 6/10] END algorithm=brute, n_jobs=4, n_neighbors=12, p=1, weights=uniform; accuracy: (train=0.564, test=0.506) f1_weighted: (train=0.506, test=0.436) prec_macro: (train=0.369, test=0.245) rec_macro: (train=0.312, test=0.260) total time=   0.0s\n",
      "[CV 7/10] END algorithm=brute, n_jobs=4, n_neighbors=12, p=1, weights=uniform; accuracy: (train=0.578, test=0.468) f1_weighted: (train=0.528, test=0.390) prec_macro: (train=0.418, test=0.224) rec_macro: (train=0.333, test=0.236) total time=   0.0s\n",
      "[CV 8/10] END algorithm=brute, n_jobs=4, n_neighbors=12, p=1, weights=uniform; accuracy: (train=0.578, test=0.481) f1_weighted: (train=0.528, test=0.438) prec_macro: (train=0.403, test=0.267) rec_macro: (train=0.333, test=0.271) total time=   0.0s\n",
      "[CV 9/10] END algorithm=brute, n_jobs=4, n_neighbors=12, p=1, weights=uniform; accuracy: (train=0.557, test=0.519) f1_weighted: (train=0.504, test=0.457) prec_macro: (train=0.375, test=0.220) rec_macro: (train=0.314, test=0.262) total time=   0.0s\n",
      "[CV 10/10] END algorithm=brute, n_jobs=4, n_neighbors=12, p=1, weights=uniform; accuracy: (train=0.565, test=0.494) f1_weighted: (train=0.509, test=0.440) prec_macro: (train=0.366, test=0.244) rec_macro: (train=0.313, test=0.264) total time=   0.0s\n",
      "[CV 1/10] END algorithm=brute, n_jobs=4, n_neighbors=12, p=1, weights=distance; accuracy: (train=1.000, test=0.462) f1_weighted: (train=1.000, test=0.403) prec_macro: (train=1.000, test=0.174) rec_macro: (train=1.000, test=0.228) total time=   0.0s\n",
      "[CV 2/10] END algorithm=brute, n_jobs=4, n_neighbors=12, p=1, weights=distance; accuracy: (train=1.000, test=0.538) f1_weighted: (train=1.000, test=0.481) prec_macro: (train=1.000, test=0.318) rec_macro: (train=1.000, test=0.295) total time=   0.0s\n",
      "[CV 3/10] END algorithm=brute, n_jobs=4, n_neighbors=12, p=1, weights=distance; accuracy: (train=1.000, test=0.558) f1_weighted: (train=1.000, test=0.521) prec_macro: (train=1.000, test=0.388) rec_macro: (train=1.000, test=0.337) total time=   0.0s\n",
      "[CV 4/10] END algorithm=brute, n_jobs=4, n_neighbors=12, p=1, weights=distance; accuracy: (train=1.000, test=0.532) f1_weighted: (train=1.000, test=0.488) prec_macro: (train=1.000, test=0.253) rec_macro: (train=1.000, test=0.281) total time=   0.0s\n",
      "[CV 5/10] END algorithm=brute, n_jobs=4, n_neighbors=12, p=1, weights=distance; accuracy: (train=1.000, test=0.532) f1_weighted: (train=1.000, test=0.492) prec_macro: (train=1.000, test=0.286) rec_macro: (train=1.000, test=0.292) total time=   0.0s\n",
      "[CV 6/10] END algorithm=brute, n_jobs=4, n_neighbors=12, p=1, weights=distance; accuracy: (train=1.000, test=0.519) f1_weighted: (train=1.000, test=0.464) prec_macro: (train=1.000, test=0.321) rec_macro: (train=1.000, test=0.285) total time=   0.0s\n",
      "[CV 7/10] END algorithm=brute, n_jobs=4, n_neighbors=12, p=1, weights=distance; accuracy: (train=1.000, test=0.429) f1_weighted: (train=1.000, test=0.371) prec_macro: (train=1.000, test=0.200) rec_macro: (train=1.000, test=0.219) total time=   0.0s\n",
      "[CV 8/10] END algorithm=brute, n_jobs=4, n_neighbors=12, p=1, weights=distance; accuracy: (train=1.000, test=0.455) f1_weighted: (train=1.000, test=0.426) prec_macro: (train=1.000, test=0.246) rec_macro: (train=1.000, test=0.263) total time=   0.0s\n",
      "[CV 9/10] END algorithm=brute, n_jobs=4, n_neighbors=12, p=1, weights=distance; accuracy: (train=1.000, test=0.506) f1_weighted: (train=1.000, test=0.461) prec_macro: (train=1.000, test=0.275) rec_macro: (train=1.000, test=0.273) total time=   0.0s\n",
      "[CV 10/10] END algorithm=brute, n_jobs=4, n_neighbors=12, p=1, weights=distance; accuracy: (train=1.000, test=0.468) f1_weighted: (train=1.000, test=0.434) prec_macro: (train=1.000, test=0.229) rec_macro: (train=1.000, test=0.253) total time=   0.0s\n",
      "[CV 1/10] END algorithm=brute, n_jobs=4, n_neighbors=12, p=2, weights=uniform; accuracy: (train=0.548, test=0.423) f1_weighted: (train=0.492, test=0.373) prec_macro: (train=0.346, test=0.216) rec_macro: (train=0.303, test=0.220) total time=   0.0s\n",
      "[CV 2/10] END algorithm=brute, n_jobs=4, n_neighbors=12, p=2, weights=uniform; accuracy: (train=0.533, test=0.500) f1_weighted: (train=0.469, test=0.434) prec_macro: (train=0.311, test=0.389) rec_macro: (train=0.285, test=0.272) total time=   0.0s\n",
      "[CV 3/10] END algorithm=brute, n_jobs=4, n_neighbors=12, p=2, weights=uniform; accuracy: (train=0.540, test=0.506) f1_weighted: (train=0.484, test=0.452) prec_macro: (train=0.343, test=0.338) rec_macro: (train=0.299, test=0.305) total time=   0.0s\n",
      "[CV 4/10] END algorithm=brute, n_jobs=4, n_neighbors=12, p=2, weights=uniform; accuracy: (train=0.527, test=0.494) f1_weighted: (train=0.464, test=0.437) prec_macro: (train=0.323, test=0.386) rec_macro: (train=0.283, test=0.258) total time=   0.0s\n",
      "[CV 5/10] END algorithm=brute, n_jobs=4, n_neighbors=12, p=2, weights=uniform; accuracy: (train=0.545, test=0.442) f1_weighted: (train=0.491, test=0.405) prec_macro: (train=0.346, test=0.221) rec_macro: (train=0.303, test=0.240) total time=   0.0s\n",
      "[CV 6/10] END algorithm=brute, n_jobs=4, n_neighbors=12, p=2, weights=uniform; accuracy: (train=0.538, test=0.506) f1_weighted: (train=0.480, test=0.437) prec_macro: (train=0.335, test=0.286) rec_macro: (train=0.295, test=0.263) total time=   0.0s\n",
      "[CV 7/10] END algorithm=brute, n_jobs=4, n_neighbors=12, p=2, weights=uniform; accuracy: (train=0.548, test=0.442) f1_weighted: (train=0.496, test=0.362) prec_macro: (train=0.369, test=0.156) rec_macro: (train=0.310, test=0.208) total time=   0.0s\n"
     ]
    },
    {
     "name": "stdout",
     "output_type": "stream",
     "text": [
      "[CV 8/10] END algorithm=brute, n_jobs=4, n_neighbors=12, p=2, weights=uniform; accuracy: (train=0.547, test=0.442) f1_weighted: (train=0.491, test=0.413) prec_macro: (train=0.354, test=0.265) rec_macro: (train=0.305, test=0.258) total time=   0.0s\n",
      "[CV 9/10] END algorithm=brute, n_jobs=4, n_neighbors=12, p=2, weights=uniform; accuracy: (train=0.528, test=0.494) f1_weighted: (train=0.472, test=0.424) prec_macro: (train=0.328, test=0.202) rec_macro: (train=0.289, test=0.244) total time=   0.0s\n",
      "[CV 10/10] END algorithm=brute, n_jobs=4, n_neighbors=12, p=2, weights=uniform; accuracy: (train=0.531, test=0.455) f1_weighted: (train=0.475, test=0.400) prec_macro: (train=0.337, test=0.205) rec_macro: (train=0.292, test=0.237) total time=   0.0s\n",
      "[CV 1/10] END algorithm=brute, n_jobs=4, n_neighbors=12, p=2, weights=distance; accuracy: (train=1.000, test=0.397) f1_weighted: (train=1.000, test=0.355) prec_macro: (train=1.000, test=0.208) rec_macro: (train=1.000, test=0.206) total time=   0.0s\n",
      "[CV 2/10] END algorithm=brute, n_jobs=4, n_neighbors=12, p=2, weights=distance; accuracy: (train=1.000, test=0.474) f1_weighted: (train=1.000, test=0.424) prec_macro: (train=1.000, test=0.289) rec_macro: (train=1.000, test=0.261) total time=   0.0s\n",
      "[CV 3/10] END algorithm=brute, n_jobs=4, n_neighbors=12, p=2, weights=distance; accuracy: (train=1.000, test=0.545) f1_weighted: (train=1.000, test=0.500) prec_macro: (train=1.000, test=0.362) rec_macro: (train=1.000, test=0.334) total time=   0.0s\n",
      "[CV 4/10] END algorithm=brute, n_jobs=4, n_neighbors=12, p=2, weights=distance; accuracy: (train=1.000, test=0.506) f1_weighted: (train=1.000, test=0.456) prec_macro: (train=1.000, test=0.295) rec_macro: (train=1.000, test=0.266) total time=   0.0s\n",
      "[CV 5/10] END algorithm=brute, n_jobs=4, n_neighbors=12, p=2, weights=distance; accuracy: (train=1.000, test=0.506) f1_weighted: (train=1.000, test=0.473) prec_macro: (train=1.000, test=0.256) rec_macro: (train=1.000, test=0.281) total time=   0.0s\n",
      "[CV 6/10] END algorithm=brute, n_jobs=4, n_neighbors=12, p=2, weights=distance; accuracy: (train=1.000, test=0.519) f1_weighted: (train=1.000, test=0.475) prec_macro: (train=1.000, test=0.489) rec_macro: (train=1.000, test=0.305) total time=   0.0s\n",
      "[CV 7/10] END algorithm=brute, n_jobs=4, n_neighbors=12, p=2, weights=distance; accuracy: (train=1.000, test=0.416) f1_weighted: (train=1.000, test=0.350) prec_macro: (train=1.000, test=0.152) rec_macro: (train=1.000, test=0.196) total time=   0.0s\n",
      "[CV 8/10] END algorithm=brute, n_jobs=4, n_neighbors=12, p=2, weights=distance; accuracy: (train=1.000, test=0.429) f1_weighted: (train=1.000, test=0.405) prec_macro: (train=1.000, test=0.250) rec_macro: (train=1.000, test=0.249) total time=   0.0s\n",
      "[CV 9/10] END algorithm=brute, n_jobs=4, n_neighbors=12, p=2, weights=distance; accuracy: (train=1.000, test=0.494) f1_weighted: (train=1.000, test=0.442) prec_macro: (train=1.000, test=0.267) rec_macro: (train=1.000, test=0.264) total time=   0.0s\n",
      "[CV 10/10] END algorithm=brute, n_jobs=4, n_neighbors=12, p=2, weights=distance; accuracy: (train=1.000, test=0.455) f1_weighted: (train=1.000, test=0.432) prec_macro: (train=1.000, test=0.266) rec_macro: (train=1.000, test=0.270) total time=   0.0s\n",
      "[CV 1/10] END algorithm=brute, n_jobs=4, n_neighbors=13, p=1, weights=uniform; accuracy: (train=0.571, test=0.474) f1_weighted: (train=0.513, test=0.406) prec_macro: (train=0.362, test=0.174) rec_macro: (train=0.316, test=0.230) total time=   0.0s\n",
      "[CV 2/10] END algorithm=brute, n_jobs=4, n_neighbors=13, p=1, weights=uniform; accuracy: (train=0.546, test=0.564) f1_weighted: (train=0.487, test=0.493) prec_macro: (train=0.363, test=0.418) rec_macro: (train=0.300, test=0.307) total time=   0.0s\n",
      "[CV 3/10] END algorithm=brute, n_jobs=4, n_neighbors=13, p=1, weights=uniform; accuracy: (train=0.557, test=0.494) f1_weighted: (train=0.498, test=0.442) prec_macro: (train=0.388, test=0.292) rec_macro: (train=0.308, test=0.283) total time=   0.0s\n",
      "[CV 4/10] END algorithm=brute, n_jobs=4, n_neighbors=13, p=1, weights=uniform; accuracy: (train=0.551, test=0.545) f1_weighted: (train=0.487, test=0.483) prec_macro: (train=0.352, test=0.407) rec_macro: (train=0.298, test=0.286) total time=   0.0s\n",
      "[CV 5/10] END algorithm=brute, n_jobs=4, n_neighbors=13, p=1, weights=uniform; accuracy: (train=0.576, test=0.455) f1_weighted: (train=0.520, test=0.395) prec_macro: (train=0.388, test=0.177) rec_macro: (train=0.323, test=0.224) total time=   0.0s\n",
      "[CV 6/10] END algorithm=brute, n_jobs=4, n_neighbors=13, p=1, weights=uniform; accuracy: (train=0.560, test=0.519) f1_weighted: (train=0.498, test=0.444) prec_macro: (train=0.369, test=0.263) rec_macro: (train=0.306, test=0.266) total time=   0.0s\n",
      "[CV 7/10] END algorithm=brute, n_jobs=4, n_neighbors=13, p=1, weights=uniform; accuracy: (train=0.570, test=0.442) f1_weighted: (train=0.517, test=0.371) prec_macro: (train=0.400, test=0.216) rec_macro: (train=0.323, test=0.224) total time=   0.0s\n",
      "[CV 8/10] END algorithm=brute, n_jobs=4, n_neighbors=13, p=1, weights=uniform; accuracy: (train=0.565, test=0.455) f1_weighted: (train=0.511, test=0.412) prec_macro: (train=0.377, test=0.230) rec_macro: (train=0.318, test=0.244) total time=   0.0s\n",
      "[CV 9/10] END algorithm=brute, n_jobs=4, n_neighbors=13, p=1, weights=uniform; accuracy: (train=0.561, test=0.506) f1_weighted: (train=0.508, test=0.439) prec_macro: (train=0.381, test=0.210) rec_macro: (train=0.316, test=0.253) total time=   0.0s\n",
      "[CV 10/10] END algorithm=brute, n_jobs=4, n_neighbors=13, p=1, weights=uniform; accuracy: (train=0.557, test=0.481) f1_weighted: (train=0.498, test=0.435) prec_macro: (train=0.348, test=0.233) rec_macro: (train=0.305, test=0.258) total time=   0.0s\n",
      "[CV 1/10] END algorithm=brute, n_jobs=4, n_neighbors=13, p=1, weights=distance; accuracy: (train=1.000, test=0.474) f1_weighted: (train=1.000, test=0.415) prec_macro: (train=1.000, test=0.183) rec_macro: (train=1.000, test=0.237) total time=   0.0s\n",
      "[CV 2/10] END algorithm=brute, n_jobs=4, n_neighbors=13, p=1, weights=distance; accuracy: (train=1.000, test=0.577) f1_weighted: (train=1.000, test=0.520) prec_macro: (train=1.000, test=0.526) rec_macro: (train=1.000, test=0.332) total time=   0.0s\n",
      "[CV 3/10] END algorithm=brute, n_jobs=4, n_neighbors=13, p=1, weights=distance; accuracy: (train=1.000, test=0.532) f1_weighted: (train=1.000, test=0.499) prec_macro: (train=1.000, test=0.362) rec_macro: (train=1.000, test=0.325) total time=   0.0s\n",
      "[CV 4/10] END algorithm=brute, n_jobs=4, n_neighbors=13, p=1, weights=distance; accuracy: (train=1.000, test=0.532) f1_weighted: (train=1.000, test=0.482) prec_macro: (train=1.000, test=0.253) rec_macro: (train=1.000, test=0.278) total time=   0.0s\n",
      "[CV 5/10] END algorithm=brute, n_jobs=4, n_neighbors=13, p=1, weights=distance; accuracy: (train=1.000, test=0.506) f1_weighted: (train=1.000, test=0.469) prec_macro: (train=1.000, test=0.275) rec_macro: (train=1.000, test=0.278) total time=   0.0s\n",
      "[CV 6/10] END algorithm=brute, n_jobs=4, n_neighbors=13, p=1, weights=distance; accuracy: (train=1.000, test=0.519) f1_weighted: (train=1.000, test=0.464) prec_macro: (train=1.000, test=0.321) rec_macro: (train=1.000, test=0.285) total time=   0.0s\n",
      "[CV 7/10] END algorithm=brute, n_jobs=4, n_neighbors=13, p=1, weights=distance; accuracy: (train=1.000, test=0.442) f1_weighted: (train=1.000, test=0.384) prec_macro: (train=1.000, test=0.224) rec_macro: (train=1.000, test=0.228) total time=   0.0s\n",
      "[CV 8/10] END algorithm=brute, n_jobs=4, n_neighbors=13, p=1, weights=distance; accuracy: (train=1.000, test=0.455) f1_weighted: (train=1.000, test=0.422) prec_macro: (train=1.000, test=0.225) rec_macro: (train=1.000, test=0.250) total time=   0.0s\n",
      "[CV 9/10] END algorithm=brute, n_jobs=4, n_neighbors=13, p=1, weights=distance; accuracy: (train=1.000, test=0.519) f1_weighted: (train=1.000, test=0.481) prec_macro: (train=1.000, test=0.312) rec_macro: (train=1.000, test=0.295) total time=   0.0s\n",
      "[CV 10/10] END algorithm=brute, n_jobs=4, n_neighbors=13, p=1, weights=distance; accuracy: (train=1.000, test=0.468) f1_weighted: (train=1.000, test=0.439) prec_macro: (train=1.000, test=0.271) rec_macro: (train=1.000, test=0.272) total time=   0.0s\n",
      "[CV 1/10] END algorithm=brute, n_jobs=4, n_neighbors=13, p=2, weights=uniform; accuracy: (train=0.540, test=0.423) f1_weighted: (train=0.487, test=0.360) prec_macro: (train=0.331, test=0.338) rec_macro: (train=0.299, test=0.217) total time=   0.0s\n"
     ]
    },
    {
     "name": "stdout",
     "output_type": "stream",
     "text": [
      "[CV 2/10] END algorithm=brute, n_jobs=4, n_neighbors=13, p=2, weights=uniform; accuracy: (train=0.530, test=0.526) f1_weighted: (train=0.474, test=0.457) prec_macro: (train=0.345, test=0.400) rec_macro: (train=0.293, test=0.286) total time=   0.0s\n",
      "[CV 3/10] END algorithm=brute, n_jobs=4, n_neighbors=13, p=2, weights=uniform; accuracy: (train=0.531, test=0.481) f1_weighted: (train=0.474, test=0.422) prec_macro: (train=0.337, test=0.316) rec_macro: (train=0.292, test=0.271) total time=   0.1s\n",
      "[CV 4/10] END algorithm=brute, n_jobs=4, n_neighbors=13, p=2, weights=uniform; accuracy: (train=0.542, test=0.455) f1_weighted: (train=0.483, test=0.403) prec_macro: (train=0.356, test=0.366) rec_macro: (train=0.301, test=0.237) total time=   0.0s\n",
      "[CV 5/10] END algorithm=brute, n_jobs=4, n_neighbors=13, p=2, weights=uniform; accuracy: (train=0.542, test=0.481) f1_weighted: (train=0.487, test=0.425) prec_macro: (train=0.341, test=0.194) rec_macro: (train=0.301, test=0.241) total time=   0.0s\n",
      "[CV 6/10] END algorithm=brute, n_jobs=4, n_neighbors=13, p=2, weights=uniform; accuracy: (train=0.528, test=0.506) f1_weighted: (train=0.469, test=0.425) prec_macro: (train=0.319, test=0.191) rec_macro: (train=0.288, test=0.247) total time=   0.0s\n",
      "[CV 7/10] END algorithm=brute, n_jobs=4, n_neighbors=13, p=2, weights=uniform; accuracy: (train=0.551, test=0.442) f1_weighted: (train=0.500, test=0.362) prec_macro: (train=0.384, test=0.156) rec_macro: (train=0.314, test=0.208) total time=   0.0s\n",
      "[CV 8/10] END algorithm=brute, n_jobs=4, n_neighbors=13, p=2, weights=uniform; accuracy: (train=0.553, test=0.468) f1_weighted: (train=0.498, test=0.433) prec_macro: (train=0.373, test=0.291) rec_macro: (train=0.310, test=0.269) total time=   0.0s\n",
      "[CV 9/10] END algorithm=brute, n_jobs=4, n_neighbors=13, p=2, weights=uniform; accuracy: (train=0.529, test=0.481) f1_weighted: (train=0.475, test=0.417) prec_macro: (train=0.336, test=0.193) rec_macro: (train=0.292, test=0.242) total time=   0.0s\n",
      "[CV 10/10] END algorithm=brute, n_jobs=4, n_neighbors=13, p=2, weights=uniform; accuracy: (train=0.550, test=0.442) f1_weighted: (train=0.493, test=0.401) prec_macro: (train=0.356, test=0.211) rec_macro: (train=0.304, test=0.238) total time=   0.0s\n",
      "[CV 1/10] END algorithm=brute, n_jobs=4, n_neighbors=13, p=2, weights=distance; accuracy: (train=1.000, test=0.410) f1_weighted: (train=1.000, test=0.362) prec_macro: (train=1.000, test=0.212) rec_macro: (train=1.000, test=0.215) total time=   0.0s\n",
      "[CV 2/10] END algorithm=brute, n_jobs=4, n_neighbors=13, p=2, weights=distance; accuracy: (train=1.000, test=0.513) f1_weighted: (train=1.000, test=0.453) prec_macro: (train=1.000, test=0.303) rec_macro: (train=1.000, test=0.284) total time=   0.0s\n",
      "[CV 3/10] END algorithm=brute, n_jobs=4, n_neighbors=13, p=2, weights=distance; accuracy: (train=1.000, test=0.571) f1_weighted: (train=1.000, test=0.524) prec_macro: (train=1.000, test=0.377) rec_macro: (train=1.000, test=0.348) total time=   0.0s\n",
      "[CV 4/10] END algorithm=brute, n_jobs=4, n_neighbors=13, p=2, weights=distance; accuracy: (train=1.000, test=0.481) f1_weighted: (train=1.000, test=0.439) prec_macro: (train=1.000, test=0.288) rec_macro: (train=1.000, test=0.255) total time=   0.0s\n",
      "[CV 5/10] END algorithm=brute, n_jobs=4, n_neighbors=13, p=2, weights=distance; accuracy: (train=1.000, test=0.506) f1_weighted: (train=1.000, test=0.471) prec_macro: (train=1.000, test=0.255) rec_macro: (train=1.000, test=0.281) total time=   0.0s\n",
      "[CV 6/10] END algorithm=brute, n_jobs=4, n_neighbors=13, p=2, weights=distance; accuracy: (train=1.000, test=0.532) f1_weighted: (train=1.000, test=0.486) prec_macro: (train=1.000, test=0.380) rec_macro: (train=1.000, test=0.310) total time=   0.0s\n",
      "[CV 7/10] END algorithm=brute, n_jobs=4, n_neighbors=13, p=2, weights=distance; accuracy: (train=1.000, test=0.442) f1_weighted: (train=1.000, test=0.367) prec_macro: (train=1.000, test=0.161) rec_macro: (train=1.000, test=0.208) total time=   0.0s\n",
      "[CV 8/10] END algorithm=brute, n_jobs=4, n_neighbors=13, p=2, weights=distance; accuracy: (train=1.000, test=0.442) f1_weighted: (train=1.000, test=0.418) prec_macro: (train=1.000, test=0.272) rec_macro: (train=1.000, test=0.267) total time=   0.0s\n",
      "[CV 9/10] END algorithm=brute, n_jobs=4, n_neighbors=13, p=2, weights=distance; accuracy: (train=1.000, test=0.481) f1_weighted: (train=1.000, test=0.431) prec_macro: (train=1.000, test=0.243) rec_macro: (train=1.000, test=0.255) total time=   0.0s\n",
      "[CV 10/10] END algorithm=brute, n_jobs=4, n_neighbors=13, p=2, weights=distance; accuracy: (train=1.000, test=0.468) f1_weighted: (train=1.000, test=0.434) prec_macro: (train=1.000, test=0.228) rec_macro: (train=1.000, test=0.259) total time=   0.0s\n"
     ]
    }
   ],
   "source": [
    "# Parameters for KNN\n",
    "knn_params = {'n_neighbors': [11, 12, 13],\n",
    "              'weights': ['uniform', 'distance'],\n",
    "              'algorithm': ['brute'],\n",
    "              'p': [1, 2],\n",
    "              'n_jobs': [4]}\n",
    "\n",
    "# Instantiating model\n",
    "model = KNeighborsClassifier()\n",
    "\n",
    "# Defining a grid search for KNN\n",
    "gridsearch_knn = GridSearchCV(estimator=model, param_grid=knn_params, cv=cv_method, verbose=3, scoring=scoring, refit='accuracy', return_train_score=True)\n",
    "\n",
    "# Fitting data\n",
    "time_train_start = time()\n",
    "gridsearch_knn.fit(X_full_train.values, y_full_train)\n",
    "time_train_end = time()"
   ]
  },
  {
   "cell_type": "code",
   "execution_count": 56,
   "id": "565cd8cf",
   "metadata": {},
   "outputs": [
    {
     "name": "stdout",
     "output_type": "stream",
     "text": [
      "Simulation time: 9.40 seconds\n",
      "----------------------------------\n",
      "Best parameters: {'algorithm': 'brute', 'n_jobs': 4, 'n_neighbors': 12, 'p': 1, 'weights': 'uniform'}\n",
      "Best score: 51.16 %\n",
      "\n",
      "Models ranked according to accuracy\n",
      "Model with rank: 1\n",
      "Mean validation score: 0.51 (+/- 0.07)\n",
      "Params: {'algorithm': 'brute', 'n_jobs': 4, 'n_neighbors': 12, 'p': 1, 'weights': 'uniform'}\n",
      "\n",
      "Model with rank: 2\n",
      "Mean validation score: 0.50 (+/- 0.09)\n",
      "Params: {'algorithm': 'brute', 'n_jobs': 4, 'n_neighbors': 11, 'p': 1, 'weights': 'uniform'}\n",
      "\n",
      "Model with rank: 3\n",
      "Mean validation score: 0.50 (+/- 0.08)\n",
      "Params: {'algorithm': 'brute', 'n_jobs': 4, 'n_neighbors': 13, 'p': 1, 'weights': 'distance'}\n",
      "\n"
     ]
    }
   ],
   "source": [
    "time_train = time_train_end - time_train_start\n",
    "print(\"Simulation time:\", '%.2f' % time_train, 'seconds')\n",
    "\n",
    "print(\"----------------------------------\")\n",
    "\n",
    "print(\"Best parameters:\", gridsearch_knn.best_params_)\n",
    "print(\"Best score:\", '%.2f' % (gridsearch_knn.best_score_ * 100), \"%\")\n",
    "\n",
    "report(gridsearch_knn.cv_results_, 'accuracy', n_top=3)"
   ]
  },
  {
   "cell_type": "markdown",
   "id": "cd3d7268",
   "metadata": {},
   "source": [
    "### Neural Network (MLP)"
   ]
  },
  {
   "cell_type": "code",
   "execution_count": 23,
   "id": "f785e1c5",
   "metadata": {
    "scrolled": true
   },
   "outputs": [
    {
     "name": "stdout",
     "output_type": "stream",
     "text": [
      "Fitting 10 folds for each of 120 candidates, totalling 1200 fits\n"
     ]
    },
    {
     "name": "stderr",
     "output_type": "stream",
     "text": [
      "/Library/Frameworks/Python.framework/Versions/3.9/lib/python3.9/site-packages/sklearn/neural_network/_multilayer_perceptron.py:549: ConvergenceWarning: lbfgs failed to converge (status=1):\n",
      "STOP: TOTAL NO. of ITERATIONS REACHED LIMIT.\n",
      "\n",
      "Increase the number of iterations (max_iter) or scale the data as shown in:\n",
      "    https://scikit-learn.org/stable/modules/preprocessing.html\n",
      "  self.n_iter_ = _check_optimize_result(\"lbfgs\", opt_res, self.max_iter)\n"
     ]
    },
    {
     "name": "stdout",
     "output_type": "stream",
     "text": [
      "[CV 1/10] END hidden_layer_sizes=80, max_iter=150, solver=lbfgs; accuracy: (train=0.561, test=0.513) f1_weighted: (train=0.522, test=0.459) prec_macro: (train=0.352, test=0.206) rec_macro: (train=0.325, test=0.258) total time=   0.5s\n"
     ]
    },
    {
     "name": "stderr",
     "output_type": "stream",
     "text": [
      "/Library/Frameworks/Python.framework/Versions/3.9/lib/python3.9/site-packages/sklearn/neural_network/_multilayer_perceptron.py:549: ConvergenceWarning: lbfgs failed to converge (status=1):\n",
      "STOP: TOTAL NO. of ITERATIONS REACHED LIMIT.\n",
      "\n",
      "Increase the number of iterations (max_iter) or scale the data as shown in:\n",
      "    https://scikit-learn.org/stable/modules/preprocessing.html\n",
      "  self.n_iter_ = _check_optimize_result(\"lbfgs\", opt_res, self.max_iter)\n"
     ]
    },
    {
     "name": "stdout",
     "output_type": "stream",
     "text": [
      "[CV 2/10] END hidden_layer_sizes=80, max_iter=150, solver=lbfgs; accuracy: (train=0.556, test=0.577) f1_weighted: (train=0.504, test=0.514) prec_macro: (train=0.291, test=0.273) rec_macro: (train=0.316, test=0.312) total time=   0.4s\n"
     ]
    },
    {
     "name": "stderr",
     "output_type": "stream",
     "text": [
      "/Library/Frameworks/Python.framework/Versions/3.9/lib/python3.9/site-packages/sklearn/neural_network/_multilayer_perceptron.py:549: ConvergenceWarning: lbfgs failed to converge (status=1):\n",
      "STOP: TOTAL NO. of ITERATIONS REACHED LIMIT.\n",
      "\n",
      "Increase the number of iterations (max_iter) or scale the data as shown in:\n",
      "    https://scikit-learn.org/stable/modules/preprocessing.html\n",
      "  self.n_iter_ = _check_optimize_result(\"lbfgs\", opt_res, self.max_iter)\n"
     ]
    },
    {
     "name": "stdout",
     "output_type": "stream",
     "text": [
      "[CV 3/10] END hidden_layer_sizes=80, max_iter=150, solver=lbfgs; accuracy: (train=0.534, test=0.532) f1_weighted: (train=0.486, test=0.481) prec_macro: (train=0.315, test=0.287) rec_macro: (train=0.318, test=0.303) total time=   0.4s\n"
     ]
    },
    {
     "name": "stderr",
     "output_type": "stream",
     "text": [
      "/Library/Frameworks/Python.framework/Versions/3.9/lib/python3.9/site-packages/sklearn/neural_network/_multilayer_perceptron.py:549: ConvergenceWarning: lbfgs failed to converge (status=1):\n",
      "STOP: TOTAL NO. of ITERATIONS REACHED LIMIT.\n",
      "\n",
      "Increase the number of iterations (max_iter) or scale the data as shown in:\n",
      "    https://scikit-learn.org/stable/modules/preprocessing.html\n",
      "  self.n_iter_ = _check_optimize_result(\"lbfgs\", opt_res, self.max_iter)\n"
     ]
    },
    {
     "name": "stdout",
     "output_type": "stream",
     "text": [
      "[CV 4/10] END hidden_layer_sizes=80, max_iter=150, solver=lbfgs; accuracy: (train=0.573, test=0.558) f1_weighted: (train=0.519, test=0.505) prec_macro: (train=0.307, test=0.233) rec_macro: (train=0.334, test=0.284) total time=   0.4s\n"
     ]
    },
    {
     "name": "stderr",
     "output_type": "stream",
     "text": [
      "/Library/Frameworks/Python.framework/Versions/3.9/lib/python3.9/site-packages/sklearn/neural_network/_multilayer_perceptron.py:549: ConvergenceWarning: lbfgs failed to converge (status=1):\n",
      "STOP: TOTAL NO. of ITERATIONS REACHED LIMIT.\n",
      "\n",
      "Increase the number of iterations (max_iter) or scale the data as shown in:\n",
      "    https://scikit-learn.org/stable/modules/preprocessing.html\n",
      "  self.n_iter_ = _check_optimize_result(\"lbfgs\", opt_res, self.max_iter)\n"
     ]
    },
    {
     "name": "stdout",
     "output_type": "stream",
     "text": [
      "[CV 5/10] END hidden_layer_sizes=80, max_iter=150, solver=lbfgs; accuracy: (train=0.570, test=0.506) f1_weighted: (train=0.525, test=0.481) prec_macro: (train=0.330, test=0.234) rec_macro: (train=0.330, test=0.265) total time=   0.3s\n"
     ]
    },
    {
     "name": "stderr",
     "output_type": "stream",
     "text": [
      "/Library/Frameworks/Python.framework/Versions/3.9/lib/python3.9/site-packages/sklearn/neural_network/_multilayer_perceptron.py:549: ConvergenceWarning: lbfgs failed to converge (status=1):\n",
      "STOP: TOTAL NO. of ITERATIONS REACHED LIMIT.\n",
      "\n",
      "Increase the number of iterations (max_iter) or scale the data as shown in:\n",
      "    https://scikit-learn.org/stable/modules/preprocessing.html\n",
      "  self.n_iter_ = _check_optimize_result(\"lbfgs\", opt_res, self.max_iter)\n"
     ]
    },
    {
     "name": "stdout",
     "output_type": "stream",
     "text": [
      "[CV 6/10] END hidden_layer_sizes=80, max_iter=150, solver=lbfgs; accuracy: (train=0.555, test=0.571) f1_weighted: (train=0.508, test=0.507) prec_macro: (train=0.311, test=0.284) rec_macro: (train=0.318, test=0.304) total time=   0.4s\n"
     ]
    },
    {
     "name": "stderr",
     "output_type": "stream",
     "text": [
      "/Library/Frameworks/Python.framework/Versions/3.9/lib/python3.9/site-packages/sklearn/neural_network/_multilayer_perceptron.py:549: ConvergenceWarning: lbfgs failed to converge (status=1):\n",
      "STOP: TOTAL NO. of ITERATIONS REACHED LIMIT.\n",
      "\n",
      "Increase the number of iterations (max_iter) or scale the data as shown in:\n",
      "    https://scikit-learn.org/stable/modules/preprocessing.html\n",
      "  self.n_iter_ = _check_optimize_result(\"lbfgs\", opt_res, self.max_iter)\n",
      "/Library/Frameworks/Python.framework/Versions/3.9/lib/python3.9/site-packages/sklearn/neural_network/_multilayer_perceptron.py:549: ConvergenceWarning: lbfgs failed to converge (status=2):\n",
      "ABNORMAL_TERMINATION_IN_LNSRCH.\n",
      "\n",
      "Increase the number of iterations (max_iter) or scale the data as shown in:\n",
      "    https://scikit-learn.org/stable/modules/preprocessing.html\n",
      "  self.n_iter_ = _check_optimize_result(\"lbfgs\", opt_res, self.max_iter)\n"
     ]
    },
    {
     "name": "stdout",
     "output_type": "stream",
     "text": [
      "[CV 7/10] END hidden_layer_sizes=80, max_iter=150, solver=lbfgs; accuracy: (train=0.547, test=0.519) f1_weighted: (train=0.499, test=0.450) prec_macro: (train=0.333, test=0.202) rec_macro: (train=0.320, test=0.266) total time=   0.4s\n",
      "[CV 8/10] END hidden_layer_sizes=80, max_iter=150, solver=lbfgs; accuracy: (train=0.460, test=0.468) f1_weighted: (train=0.393, test=0.407) prec_macro: (train=0.174, test=0.183) rec_macro: (train=0.233, test=0.243) total time=   0.1s\n"
     ]
    },
    {
     "name": "stderr",
     "output_type": "stream",
     "text": [
      "/Library/Frameworks/Python.framework/Versions/3.9/lib/python3.9/site-packages/sklearn/neural_network/_multilayer_perceptron.py:549: ConvergenceWarning: lbfgs failed to converge (status=1):\n",
      "STOP: TOTAL NO. of ITERATIONS REACHED LIMIT.\n",
      "\n",
      "Increase the number of iterations (max_iter) or scale the data as shown in:\n",
      "    https://scikit-learn.org/stable/modules/preprocessing.html\n",
      "  self.n_iter_ = _check_optimize_result(\"lbfgs\", opt_res, self.max_iter)\n"
     ]
    },
    {
     "name": "stdout",
     "output_type": "stream",
     "text": [
      "[CV 9/10] END hidden_layer_sizes=80, max_iter=150, solver=lbfgs; accuracy: (train=0.588, test=0.532) f1_weighted: (train=0.540, test=0.485) prec_macro: (train=0.331, test=0.267) rec_macro: (train=0.347, test=0.295) total time=   0.4s\n"
     ]
    },
    {
     "name": "stderr",
     "output_type": "stream",
     "text": [
      "/Library/Frameworks/Python.framework/Versions/3.9/lib/python3.9/site-packages/sklearn/neural_network/_multilayer_perceptron.py:549: ConvergenceWarning: lbfgs failed to converge (status=1):\n",
      "STOP: TOTAL NO. of ITERATIONS REACHED LIMIT.\n",
      "\n",
      "Increase the number of iterations (max_iter) or scale the data as shown in:\n",
      "    https://scikit-learn.org/stable/modules/preprocessing.html\n",
      "  self.n_iter_ = _check_optimize_result(\"lbfgs\", opt_res, self.max_iter)\n"
     ]
    },
    {
     "name": "stdout",
     "output_type": "stream",
     "text": [
      "[CV 10/10] END hidden_layer_sizes=80, max_iter=150, solver=lbfgs; accuracy: (train=0.553, test=0.519) f1_weighted: (train=0.505, test=0.465) prec_macro: (train=0.357, test=0.216) rec_macro: (train=0.310, test=0.272) total time=   0.4s\n",
      "[CV 1/10] END hidden_layer_sizes=80, max_iter=150, solver=sgd; accuracy: (train=0.468, test=0.513) f1_weighted: (train=0.329, test=0.369) prec_macro: (train=0.159, test=0.235) rec_macro: (train=0.257, test=0.300) total time=   0.1s\n"
     ]
    },
    {
     "name": "stderr",
     "output_type": "stream",
     "text": [
      "/Library/Frameworks/Python.framework/Versions/3.9/lib/python3.9/site-packages/sklearn/neural_network/_multilayer_perceptron.py:692: ConvergenceWarning: Stochastic Optimizer: Maximum iterations (150) reached and the optimization hasn't converged yet.\n",
      "  warnings.warn(\n"
     ]
    },
    {
     "name": "stdout",
     "output_type": "stream",
     "text": [
      "[CV 2/10] END hidden_layer_sizes=80, max_iter=150, solver=sgd; accuracy: (train=0.464, test=0.462) f1_weighted: (train=0.321, test=0.320) prec_macro: (train=0.195, test=0.199) rec_macro: (train=0.212, test=0.209) total time=   0.4s\n",
      "[CV 3/10] END hidden_layer_sizes=80, max_iter=150, solver=sgd; accuracy: (train=0.499, test=0.519) f1_weighted: (train=0.408, test=0.449) prec_macro: (train=0.309, test=0.325) rec_macro: (train=0.252, test=0.269) total time=   0.2s\n",
      "[CV 4/10] END hidden_layer_sizes=80, max_iter=150, solver=sgd; accuracy: (train=0.492, test=0.494) f1_weighted: (train=0.418, test=0.413) prec_macro: (train=0.264, test=0.186) rec_macro: (train=0.259, test=0.238) total time=   0.4s\n",
      "[CV 5/10] END hidden_layer_sizes=80, max_iter=150, solver=sgd; accuracy: (train=0.509, test=0.532) f1_weighted: (train=0.463, test=0.500) prec_macro: (train=0.294, test=0.323) rec_macro: (train=0.289, test=0.318) total time=   0.2s\n",
      "[CV 6/10] END hidden_layer_sizes=80, max_iter=150, solver=sgd; accuracy: (train=0.115, test=0.104) f1_weighted: (train=0.035, test=0.020) prec_macro: (train=0.113, test=0.021) rec_macro: (train=0.203, test=0.200) total time=   0.0s\n"
     ]
    },
    {
     "name": "stderr",
     "output_type": "stream",
     "text": [
      "/Library/Frameworks/Python.framework/Versions/3.9/lib/python3.9/site-packages/sklearn/neural_network/_multilayer_perceptron.py:692: ConvergenceWarning: Stochastic Optimizer: Maximum iterations (150) reached and the optimization hasn't converged yet.\n",
      "  warnings.warn(\n"
     ]
    },
    {
     "name": "stdout",
     "output_type": "stream",
     "text": [
      "[CV 7/10] END hidden_layer_sizes=80, max_iter=150, solver=sgd; accuracy: (train=0.494, test=0.468) f1_weighted: (train=0.396, test=0.348) prec_macro: (train=0.178, test=0.159) rec_macro: (train=0.237, test=0.216) total time=   0.4s\n",
      "[CV 8/10] END hidden_layer_sizes=80, max_iter=150, solver=sgd; accuracy: (train=0.486, test=0.468) f1_weighted: (train=0.398, test=0.399) prec_macro: (train=0.247, test=0.262) rec_macro: (train=0.256, test=0.256) total time=   0.2s\n",
      "[CV 9/10] END hidden_layer_sizes=80, max_iter=150, solver=sgd; accuracy: (train=0.511, test=0.494) f1_weighted: (train=0.441, test=0.423) prec_macro: (train=0.290, test=0.285) rec_macro: (train=0.266, test=0.261) total time=   0.3s\n"
     ]
    },
    {
     "name": "stderr",
     "output_type": "stream",
     "text": [
      "/Library/Frameworks/Python.framework/Versions/3.9/lib/python3.9/site-packages/sklearn/neural_network/_multilayer_perceptron.py:692: ConvergenceWarning: Stochastic Optimizer: Maximum iterations (150) reached and the optimization hasn't converged yet.\n",
      "  warnings.warn(\n"
     ]
    },
    {
     "name": "stdout",
     "output_type": "stream",
     "text": [
      "[CV 10/10] END hidden_layer_sizes=80, max_iter=150, solver=sgd; accuracy: (train=0.495, test=0.532) f1_weighted: (train=0.429, test=0.460) prec_macro: (train=0.337, test=0.211) rec_macro: (train=0.257, test=0.285) total time=   0.4s\n",
      "[CV 1/10] END hidden_layer_sizes=80, max_iter=150, solver=adam; accuracy: (train=0.573, test=0.551) f1_weighted: (train=0.537, test=0.512) prec_macro: (train=0.345, test=0.293) rec_macro: (train=0.344, test=0.324) total time=   0.4s\n",
      "[CV 2/10] END hidden_layer_sizes=80, max_iter=150, solver=adam; accuracy: (train=0.581, test=0.526) f1_weighted: (train=0.539, test=0.470) prec_macro: (train=0.385, test=0.281) rec_macro: (train=0.361, test=0.294) total time=   0.4s\n",
      "[CV 3/10] END hidden_layer_sizes=80, max_iter=150, solver=adam; accuracy: (train=0.563, test=0.558) f1_weighted: (train=0.533, test=0.539) prec_macro: (train=0.359, test=0.371) rec_macro: (train=0.356, test=0.344) total time=   0.2s\n",
      "[CV 4/10] END hidden_layer_sizes=80, max_iter=150, solver=adam; accuracy: (train=0.564, test=0.571) f1_weighted: (train=0.515, test=0.526) prec_macro: (train=0.313, test=0.277) rec_macro: (train=0.323, test=0.309) total time=   0.3s\n",
      "[CV 5/10] END hidden_layer_sizes=80, max_iter=150, solver=adam; accuracy: (train=0.576, test=0.545) f1_weighted: (train=0.530, test=0.508) prec_macro: (train=0.394, test=0.434) rec_macro: (train=0.336, test=0.307) total time=   0.4s\n",
      "[CV 6/10] END hidden_layer_sizes=80, max_iter=150, solver=adam; accuracy: (train=0.563, test=0.545) f1_weighted: (train=0.492, test=0.480) prec_macro: (train=0.318, test=0.215) rec_macro: (train=0.294, test=0.276) total time=   0.2s\n",
      "[CV 7/10] END hidden_layer_sizes=80, max_iter=150, solver=adam; accuracy: (train=0.600, test=0.494) f1_weighted: (train=0.549, test=0.427) prec_macro: (train=0.393, test=0.218) rec_macro: (train=0.373, test=0.254) total time=   0.3s\n",
      "[CV 8/10] END hidden_layer_sizes=80, max_iter=150, solver=adam; accuracy: (train=0.584, test=0.494) f1_weighted: (train=0.546, test=0.448) prec_macro: (train=0.329, test=0.226) rec_macro: (train=0.351, test=0.275) total time=   0.3s\n",
      "[CV 9/10] END hidden_layer_sizes=80, max_iter=150, solver=adam; accuracy: (train=0.596, test=0.532) f1_weighted: (train=0.567, test=0.483) prec_macro: (train=0.427, test=0.261) rec_macro: (train=0.392, test=0.285) total time=   0.3s\n",
      "[CV 10/10] END hidden_layer_sizes=80, max_iter=150, solver=adam; accuracy: (train=0.588, test=0.584) f1_weighted: (train=0.535, test=0.539) prec_macro: (train=0.409, test=0.398) rec_macro: (train=0.365, test=0.410) total time=   0.2s\n"
     ]
    },
    {
     "name": "stderr",
     "output_type": "stream",
     "text": [
      "/Library/Frameworks/Python.framework/Versions/3.9/lib/python3.9/site-packages/sklearn/neural_network/_multilayer_perceptron.py:549: ConvergenceWarning: lbfgs failed to converge (status=1):\n",
      "STOP: TOTAL NO. of ITERATIONS REACHED LIMIT.\n",
      "\n",
      "Increase the number of iterations (max_iter) or scale the data as shown in:\n",
      "    https://scikit-learn.org/stable/modules/preprocessing.html\n",
      "  self.n_iter_ = _check_optimize_result(\"lbfgs\", opt_res, self.max_iter)\n"
     ]
    },
    {
     "name": "stdout",
     "output_type": "stream",
     "text": [
      "[CV 1/10] END hidden_layer_sizes=80, max_iter=175, solver=lbfgs; accuracy: (train=0.578, test=0.564) f1_weighted: (train=0.524, test=0.511) prec_macro: (train=0.310, test=0.350) rec_macro: (train=0.330, test=0.322) total time=   0.3s\n"
     ]
    },
    {
     "name": "stderr",
     "output_type": "stream",
     "text": [
      "/Library/Frameworks/Python.framework/Versions/3.9/lib/python3.9/site-packages/sklearn/neural_network/_multilayer_perceptron.py:549: ConvergenceWarning: lbfgs failed to converge (status=1):\n",
      "STOP: TOTAL NO. of ITERATIONS REACHED LIMIT.\n",
      "\n",
      "Increase the number of iterations (max_iter) or scale the data as shown in:\n",
      "    https://scikit-learn.org/stable/modules/preprocessing.html\n",
      "  self.n_iter_ = _check_optimize_result(\"lbfgs\", opt_res, self.max_iter)\n",
      "/Library/Frameworks/Python.framework/Versions/3.9/lib/python3.9/site-packages/sklearn/neural_network/_multilayer_perceptron.py:549: ConvergenceWarning: lbfgs failed to converge (status=2):\n",
      "ABNORMAL_TERMINATION_IN_LNSRCH.\n",
      "\n",
      "Increase the number of iterations (max_iter) or scale the data as shown in:\n",
      "    https://scikit-learn.org/stable/modules/preprocessing.html\n",
      "  self.n_iter_ = _check_optimize_result(\"lbfgs\", opt_res, self.max_iter)\n"
     ]
    },
    {
     "name": "stdout",
     "output_type": "stream",
     "text": [
      "[CV 2/10] END hidden_layer_sizes=80, max_iter=175, solver=lbfgs; accuracy: (train=0.575, test=0.564) f1_weighted: (train=0.528, test=0.512) prec_macro: (train=0.343, test=0.266) rec_macro: (train=0.329, test=0.306) total time=   0.3s\n",
      "[CV 3/10] END hidden_layer_sizes=80, max_iter=175, solver=lbfgs; accuracy: (train=0.433, test=0.429) f1_weighted: (train=0.358, test=0.343) prec_macro: (train=0.192, test=0.190) rec_macro: (train=0.286, test=0.277) total time=   0.2s\n"
     ]
    },
    {
     "name": "stderr",
     "output_type": "stream",
     "text": [
      "/Library/Frameworks/Python.framework/Versions/3.9/lib/python3.9/site-packages/sklearn/neural_network/_multilayer_perceptron.py:549: ConvergenceWarning: lbfgs failed to converge (status=2):\n",
      "ABNORMAL_TERMINATION_IN_LNSRCH.\n",
      "\n",
      "Increase the number of iterations (max_iter) or scale the data as shown in:\n",
      "    https://scikit-learn.org/stable/modules/preprocessing.html\n",
      "  self.n_iter_ = _check_optimize_result(\"lbfgs\", opt_res, self.max_iter)\n"
     ]
    },
    {
     "name": "stdout",
     "output_type": "stream",
     "text": [
      "[CV 4/10] END hidden_layer_sizes=80, max_iter=175, solver=lbfgs; accuracy: (train=0.455, test=0.455) f1_weighted: (train=0.284, test=0.284) prec_macro: (train=0.091, test=0.091) rec_macro: (train=0.200, test=0.200) total time=   0.1s\n"
     ]
    },
    {
     "name": "stderr",
     "output_type": "stream",
     "text": [
      "/Library/Frameworks/Python.framework/Versions/3.9/lib/python3.9/site-packages/sklearn/neural_network/_multilayer_perceptron.py:549: ConvergenceWarning: lbfgs failed to converge (status=1):\n",
      "STOP: TOTAL NO. of ITERATIONS REACHED LIMIT.\n",
      "\n",
      "Increase the number of iterations (max_iter) or scale the data as shown in:\n",
      "    https://scikit-learn.org/stable/modules/preprocessing.html\n",
      "  self.n_iter_ = _check_optimize_result(\"lbfgs\", opt_res, self.max_iter)\n"
     ]
    },
    {
     "name": "stdout",
     "output_type": "stream",
     "text": [
      "[CV 5/10] END hidden_layer_sizes=80, max_iter=175, solver=lbfgs; accuracy: (train=0.529, test=0.519) f1_weighted: (train=0.481, test=0.492) prec_macro: (train=0.260, test=0.284) rec_macro: (train=0.291, test=0.312) total time=   0.3s\n"
     ]
    },
    {
     "name": "stderr",
     "output_type": "stream",
     "text": [
      "/Library/Frameworks/Python.framework/Versions/3.9/lib/python3.9/site-packages/sklearn/neural_network/_multilayer_perceptron.py:549: ConvergenceWarning: lbfgs failed to converge (status=1):\n",
      "STOP: TOTAL NO. of ITERATIONS REACHED LIMIT.\n",
      "\n",
      "Increase the number of iterations (max_iter) or scale the data as shown in:\n",
      "    https://scikit-learn.org/stable/modules/preprocessing.html\n",
      "  self.n_iter_ = _check_optimize_result(\"lbfgs\", opt_res, self.max_iter)\n"
     ]
    },
    {
     "name": "stdout",
     "output_type": "stream",
     "text": [
      "[CV 6/10] END hidden_layer_sizes=80, max_iter=175, solver=lbfgs; accuracy: (train=0.578, test=0.558) f1_weighted: (train=0.526, test=0.508) prec_macro: (train=0.304, test=0.313) rec_macro: (train=0.330, test=0.317) total time=   0.6s\n"
     ]
    },
    {
     "name": "stderr",
     "output_type": "stream",
     "text": [
      "/Library/Frameworks/Python.framework/Versions/3.9/lib/python3.9/site-packages/sklearn/neural_network/_multilayer_perceptron.py:549: ConvergenceWarning: lbfgs failed to converge (status=1):\n",
      "STOP: TOTAL NO. of ITERATIONS REACHED LIMIT.\n",
      "\n",
      "Increase the number of iterations (max_iter) or scale the data as shown in:\n",
      "    https://scikit-learn.org/stable/modules/preprocessing.html\n",
      "  self.n_iter_ = _check_optimize_result(\"lbfgs\", opt_res, self.max_iter)\n"
     ]
    },
    {
     "name": "stdout",
     "output_type": "stream",
     "text": [
      "[CV 7/10] END hidden_layer_sizes=80, max_iter=175, solver=lbfgs; accuracy: (train=0.584, test=0.519) f1_weighted: (train=0.538, test=0.460) prec_macro: (train=0.423, test=0.206) rec_macro: (train=0.345, test=0.262) total time=   0.4s\n"
     ]
    },
    {
     "name": "stderr",
     "output_type": "stream",
     "text": [
      "/Library/Frameworks/Python.framework/Versions/3.9/lib/python3.9/site-packages/sklearn/neural_network/_multilayer_perceptron.py:549: ConvergenceWarning: lbfgs failed to converge (status=1):\n",
      "STOP: TOTAL NO. of ITERATIONS REACHED LIMIT.\n",
      "\n",
      "Increase the number of iterations (max_iter) or scale the data as shown in:\n",
      "    https://scikit-learn.org/stable/modules/preprocessing.html\n",
      "  self.n_iter_ = _check_optimize_result(\"lbfgs\", opt_res, self.max_iter)\n"
     ]
    },
    {
     "name": "stdout",
     "output_type": "stream",
     "text": [
      "[CV 8/10] END hidden_layer_sizes=80, max_iter=175, solver=lbfgs; accuracy: (train=0.583, test=0.519) f1_weighted: (train=0.526, test=0.465) prec_macro: (train=0.356, test=0.301) rec_macro: (train=0.324, test=0.286) total time=   0.4s\n"
     ]
    },
    {
     "name": "stderr",
     "output_type": "stream",
     "text": [
      "/Library/Frameworks/Python.framework/Versions/3.9/lib/python3.9/site-packages/sklearn/neural_network/_multilayer_perceptron.py:549: ConvergenceWarning: lbfgs failed to converge (status=1):\n",
      "STOP: TOTAL NO. of ITERATIONS REACHED LIMIT.\n",
      "\n",
      "Increase the number of iterations (max_iter) or scale the data as shown in:\n",
      "    https://scikit-learn.org/stable/modules/preprocessing.html\n",
      "  self.n_iter_ = _check_optimize_result(\"lbfgs\", opt_res, self.max_iter)\n"
     ]
    },
    {
     "name": "stdout",
     "output_type": "stream",
     "text": [
      "[CV 9/10] END hidden_layer_sizes=80, max_iter=175, solver=lbfgs; accuracy: (train=0.584, test=0.532) f1_weighted: (train=0.539, test=0.480) prec_macro: (train=0.328, test=0.263) rec_macro: (train=0.350, test=0.291) total time=   0.3s\n"
     ]
    },
    {
     "name": "stderr",
     "output_type": "stream",
     "text": [
      "/Library/Frameworks/Python.framework/Versions/3.9/lib/python3.9/site-packages/sklearn/neural_network/_multilayer_perceptron.py:549: ConvergenceWarning: lbfgs failed to converge (status=1):\n",
      "STOP: TOTAL NO. of ITERATIONS REACHED LIMIT.\n",
      "\n",
      "Increase the number of iterations (max_iter) or scale the data as shown in:\n",
      "    https://scikit-learn.org/stable/modules/preprocessing.html\n",
      "  self.n_iter_ = _check_optimize_result(\"lbfgs\", opt_res, self.max_iter)\n"
     ]
    },
    {
     "name": "stdout",
     "output_type": "stream",
     "text": [
      "[CV 10/10] END hidden_layer_sizes=80, max_iter=175, solver=lbfgs; accuracy: (train=0.561, test=0.532) f1_weighted: (train=0.512, test=0.493) prec_macro: (train=0.486, test=0.278) rec_macro: (train=0.319, test=0.317) total time=   0.3s\n",
      "[CV 1/10] END hidden_layer_sizes=80, max_iter=175, solver=sgd; accuracy: (train=0.510, test=0.462) f1_weighted: (train=0.429, test=0.375) prec_macro: (train=0.309, test=0.156) rec_macro: (train=0.258, test=0.218) total time=   0.3s\n",
      "[CV 2/10] END hidden_layer_sizes=80, max_iter=175, solver=sgd; accuracy: (train=0.464, test=0.449) f1_weighted: (train=0.304, test=0.278) prec_macro: (train=0.459, test=0.090) rec_macro: (train=0.208, test=0.200) total time=   0.4s\n",
      "[CV 3/10] END hidden_layer_sizes=80, max_iter=175, solver=sgd; accuracy: (train=0.498, test=0.468) f1_weighted: (train=0.410, test=0.386) prec_macro: (train=0.255, test=0.270) rec_macro: (train=0.255, test=0.240) total time=   0.4s\n",
      "[CV 4/10] END hidden_layer_sizes=80, max_iter=175, solver=sgd; accuracy: (train=0.492, test=0.494) f1_weighted: (train=0.420, test=0.413) prec_macro: (train=0.258, test=0.181) rec_macro: (train=0.258, test=0.238) total time=   0.2s\n",
      "[CV 5/10] END hidden_layer_sizes=80, max_iter=175, solver=sgd; accuracy: (train=0.504, test=0.519) f1_weighted: (train=0.423, test=0.457) prec_macro: (train=0.387, test=0.205) rec_macro: (train=0.252, test=0.267) total time=   0.2s\n",
      "[CV 6/10] END hidden_layer_sizes=80, max_iter=175, solver=sgd; accuracy: (train=0.499, test=0.481) f1_weighted: (train=0.418, test=0.391) prec_macro: (train=0.423, test=0.168) rec_macro: (train=0.249, test=0.229) total time=   0.2s\n"
     ]
    },
    {
     "name": "stderr",
     "output_type": "stream",
     "text": [
      "/Library/Frameworks/Python.framework/Versions/3.9/lib/python3.9/site-packages/sklearn/neural_network/_multilayer_perceptron.py:692: ConvergenceWarning: Stochastic Optimizer: Maximum iterations (175) reached and the optimization hasn't converged yet.\n",
      "  warnings.warn(\n"
     ]
    },
    {
     "name": "stdout",
     "output_type": "stream",
     "text": [
      "[CV 7/10] END hidden_layer_sizes=80, max_iter=175, solver=sgd; accuracy: (train=0.517, test=0.416) f1_weighted: (train=0.453, test=0.332) prec_macro: (train=0.294, test=0.133) rec_macro: (train=0.280, test=0.193) total time=   0.4s\n",
      "[CV 8/10] END hidden_layer_sizes=80, max_iter=175, solver=sgd; accuracy: (train=0.511, test=0.429) f1_weighted: (train=0.436, test=0.365) prec_macro: (train=0.193, test=0.157) rec_macro: (train=0.259, test=0.212) total time=   0.3s\n",
      "[CV 9/10] END hidden_layer_sizes=80, max_iter=175, solver=sgd; accuracy: (train=0.528, test=0.506) f1_weighted: (train=0.468, test=0.441) prec_macro: (train=0.305, test=0.258) rec_macro: (train=0.292, test=0.270) total time=   0.4s\n",
      "[CV 10/10] END hidden_layer_sizes=80, max_iter=175, solver=sgd; accuracy: (train=0.508, test=0.494) f1_weighted: (train=0.444, test=0.430) prec_macro: (train=0.395, test=0.198) rec_macro: (train=0.265, test=0.264) total time=   0.4s\n",
      "[CV 1/10] END hidden_layer_sizes=80, max_iter=175, solver=adam; accuracy: (train=0.581, test=0.500) f1_weighted: (train=0.531, test=0.425) prec_macro: (train=0.519, test=0.235) rec_macro: (train=0.358, test=0.257) total time=   0.3s\n",
      "[CV 2/10] END hidden_layer_sizes=80, max_iter=175, solver=adam; accuracy: (train=0.581, test=0.577) f1_weighted: (train=0.543, test=0.543) prec_macro: (train=0.369, test=0.465) rec_macro: (train=0.336, test=0.332) total time=   0.2s\n",
      "[CV 3/10] END hidden_layer_sizes=80, max_iter=175, solver=adam; accuracy: (train=0.554, test=0.519) f1_weighted: (train=0.540, test=0.511) prec_macro: (train=0.358, test=0.366) rec_macro: (train=0.351, test=0.309) total time=   0.3s\n",
      "[CV 4/10] END hidden_layer_sizes=80, max_iter=175, solver=adam; accuracy: (train=0.588, test=0.662) f1_weighted: (train=0.547, test=0.612) prec_macro: (train=0.319, test=0.359) rec_macro: (train=0.364, test=0.430) total time=   0.3s\n",
      "[CV 5/10] END hidden_layer_sizes=80, max_iter=175, solver=adam; accuracy: (train=0.599, test=0.558) f1_weighted: (train=0.539, test=0.527) prec_macro: (train=0.606, test=0.329) rec_macro: (train=0.347, test=0.339) total time=   0.3s\n",
      "[CV 6/10] END hidden_layer_sizes=80, max_iter=175, solver=adam; accuracy: (train=0.587, test=0.558) f1_weighted: (train=0.532, test=0.496) prec_macro: (train=0.526, test=0.226) rec_macro: (train=0.333, test=0.290) total time=   0.4s\n",
      "[CV 7/10] END hidden_layer_sizes=80, max_iter=175, solver=adam; accuracy: (train=0.593, test=0.494) f1_weighted: (train=0.559, test=0.448) prec_macro: (train=0.573, test=0.227) rec_macro: (train=0.380, test=0.261) total time=   0.5s\n",
      "[CV 8/10] END hidden_layer_sizes=80, max_iter=175, solver=adam; accuracy: (train=0.563, test=0.571) f1_weighted: (train=0.529, test=0.542) prec_macro: (train=0.467, test=0.445) rec_macro: (train=0.376, test=0.420) total time=   0.2s\n",
      "[CV 9/10] END hidden_layer_sizes=80, max_iter=175, solver=adam; accuracy: (train=0.578, test=0.558) f1_weighted: (train=0.514, test=0.485) prec_macro: (train=0.506, test=0.314) rec_macro: (train=0.332, test=0.296) total time=   0.3s\n",
      "[CV 10/10] END hidden_layer_sizes=80, max_iter=175, solver=adam; accuracy: (train=0.580, test=0.584) f1_weighted: (train=0.525, test=0.519) prec_macro: (train=0.349, test=0.247) rec_macro: (train=0.322, test=0.318) total time=   0.4s\n"
     ]
    },
    {
     "name": "stderr",
     "output_type": "stream",
     "text": [
      "/Library/Frameworks/Python.framework/Versions/3.9/lib/python3.9/site-packages/sklearn/neural_network/_multilayer_perceptron.py:549: ConvergenceWarning: lbfgs failed to converge (status=1):\n",
      "STOP: TOTAL NO. of ITERATIONS REACHED LIMIT.\n",
      "\n",
      "Increase the number of iterations (max_iter) or scale the data as shown in:\n",
      "    https://scikit-learn.org/stable/modules/preprocessing.html\n",
      "  self.n_iter_ = _check_optimize_result(\"lbfgs\", opt_res, self.max_iter)\n"
     ]
    },
    {
     "name": "stdout",
     "output_type": "stream",
     "text": [
      "[CV 1/10] END hidden_layer_sizes=80, max_iter=200, solver=lbfgs; accuracy: (train=0.568, test=0.603) f1_weighted: (train=0.518, test=0.556) prec_macro: (train=0.306, test=0.374) rec_macro: (train=0.319, test=0.353) total time=   0.4s\n"
     ]
    },
    {
     "name": "stderr",
     "output_type": "stream",
     "text": [
      "/Library/Frameworks/Python.framework/Versions/3.9/lib/python3.9/site-packages/sklearn/neural_network/_multilayer_perceptron.py:549: ConvergenceWarning: lbfgs failed to converge (status=1):\n",
      "STOP: TOTAL NO. of ITERATIONS REACHED LIMIT.\n",
      "\n",
      "Increase the number of iterations (max_iter) or scale the data as shown in:\n",
      "    https://scikit-learn.org/stable/modules/preprocessing.html\n",
      "  self.n_iter_ = _check_optimize_result(\"lbfgs\", opt_res, self.max_iter)\n"
     ]
    },
    {
     "name": "stdout",
     "output_type": "stream",
     "text": [
      "[CV 2/10] END hidden_layer_sizes=80, max_iter=200, solver=lbfgs; accuracy: (train=0.578, test=0.526) f1_weighted: (train=0.538, test=0.497) prec_macro: (train=0.366, test=0.343) rec_macro: (train=0.341, test=0.300) total time=   0.5s\n"
     ]
    },
    {
     "name": "stderr",
     "output_type": "stream",
     "text": [
      "/Library/Frameworks/Python.framework/Versions/3.9/lib/python3.9/site-packages/sklearn/neural_network/_multilayer_perceptron.py:549: ConvergenceWarning: lbfgs failed to converge (status=1):\n",
      "STOP: TOTAL NO. of ITERATIONS REACHED LIMIT.\n",
      "\n",
      "Increase the number of iterations (max_iter) or scale the data as shown in:\n",
      "    https://scikit-learn.org/stable/modules/preprocessing.html\n",
      "  self.n_iter_ = _check_optimize_result(\"lbfgs\", opt_res, self.max_iter)\n"
     ]
    },
    {
     "name": "stdout",
     "output_type": "stream",
     "text": [
      "[CV 3/10] END hidden_layer_sizes=80, max_iter=200, solver=lbfgs; accuracy: (train=0.588, test=0.623) f1_weighted: (train=0.547, test=0.575) prec_macro: (train=0.414, test=0.366) rec_macro: (train=0.353, test=0.380) total time=   0.4s\n"
     ]
    },
    {
     "name": "stderr",
     "output_type": "stream",
     "text": [
      "/Library/Frameworks/Python.framework/Versions/3.9/lib/python3.9/site-packages/sklearn/neural_network/_multilayer_perceptron.py:549: ConvergenceWarning: lbfgs failed to converge (status=1):\n",
      "STOP: TOTAL NO. of ITERATIONS REACHED LIMIT.\n",
      "\n",
      "Increase the number of iterations (max_iter) or scale the data as shown in:\n",
      "    https://scikit-learn.org/stable/modules/preprocessing.html\n",
      "  self.n_iter_ = _check_optimize_result(\"lbfgs\", opt_res, self.max_iter)\n",
      "/Library/Frameworks/Python.framework/Versions/3.9/lib/python3.9/site-packages/sklearn/neural_network/_multilayer_perceptron.py:549: ConvergenceWarning: lbfgs failed to converge (status=2):\n",
      "ABNORMAL_TERMINATION_IN_LNSRCH.\n",
      "\n",
      "Increase the number of iterations (max_iter) or scale the data as shown in:\n",
      "    https://scikit-learn.org/stable/modules/preprocessing.html\n",
      "  self.n_iter_ = _check_optimize_result(\"lbfgs\", opt_res, self.max_iter)\n"
     ]
    },
    {
     "name": "stdout",
     "output_type": "stream",
     "text": [
      "[CV 4/10] END hidden_layer_sizes=80, max_iter=200, solver=lbfgs; accuracy: (train=0.567, test=0.610) f1_weighted: (train=0.513, test=0.525) prec_macro: (train=0.366, test=0.234) rec_macro: (train=0.318, test=0.310) total time=   0.4s\n",
      "[CV 5/10] END hidden_layer_sizes=80, max_iter=200, solver=lbfgs; accuracy: (train=0.455, test=0.455) f1_weighted: (train=0.284, test=0.284) prec_macro: (train=0.091, test=0.091) rec_macro: (train=0.200, test=0.200) total time=   0.1s\n"
     ]
    },
    {
     "name": "stderr",
     "output_type": "stream",
     "text": [
      "/Library/Frameworks/Python.framework/Versions/3.9/lib/python3.9/site-packages/sklearn/neural_network/_multilayer_perceptron.py:549: ConvergenceWarning: lbfgs failed to converge (status=2):\n",
      "ABNORMAL_TERMINATION_IN_LNSRCH.\n",
      "\n",
      "Increase the number of iterations (max_iter) or scale the data as shown in:\n",
      "    https://scikit-learn.org/stable/modules/preprocessing.html\n",
      "  self.n_iter_ = _check_optimize_result(\"lbfgs\", opt_res, self.max_iter)\n"
     ]
    },
    {
     "name": "stdout",
     "output_type": "stream",
     "text": [
      "[CV 6/10] END hidden_layer_sizes=80, max_iter=200, solver=lbfgs; accuracy: (train=0.380, test=0.351) f1_weighted: (train=0.325, test=0.302) prec_macro: (train=0.148, test=0.148) rec_macro: (train=0.198, test=0.196) total time=   0.2s\n"
     ]
    },
    {
     "name": "stderr",
     "output_type": "stream",
     "text": [
      "/Library/Frameworks/Python.framework/Versions/3.9/lib/python3.9/site-packages/sklearn/neural_network/_multilayer_perceptron.py:549: ConvergenceWarning: lbfgs failed to converge (status=1):\n",
      "STOP: TOTAL NO. of ITERATIONS REACHED LIMIT.\n",
      "\n",
      "Increase the number of iterations (max_iter) or scale the data as shown in:\n",
      "    https://scikit-learn.org/stable/modules/preprocessing.html\n",
      "  self.n_iter_ = _check_optimize_result(\"lbfgs\", opt_res, self.max_iter)\n"
     ]
    },
    {
     "name": "stdout",
     "output_type": "stream",
     "text": [
      "[CV 7/10] END hidden_layer_sizes=80, max_iter=200, solver=lbfgs; accuracy: (train=0.577, test=0.506) f1_weighted: (train=0.524, test=0.452) prec_macro: (train=0.305, test=0.246) rec_macro: (train=0.329, test=0.270) total time=   0.9s\n"
     ]
    },
    {
     "name": "stderr",
     "output_type": "stream",
     "text": [
      "/Library/Frameworks/Python.framework/Versions/3.9/lib/python3.9/site-packages/sklearn/neural_network/_multilayer_perceptron.py:549: ConvergenceWarning: lbfgs failed to converge (status=1):\n",
      "STOP: TOTAL NO. of ITERATIONS REACHED LIMIT.\n",
      "\n",
      "Increase the number of iterations (max_iter) or scale the data as shown in:\n",
      "    https://scikit-learn.org/stable/modules/preprocessing.html\n",
      "  self.n_iter_ = _check_optimize_result(\"lbfgs\", opt_res, self.max_iter)\n"
     ]
    },
    {
     "name": "stdout",
     "output_type": "stream",
     "text": [
      "[CV 8/10] END hidden_layer_sizes=80, max_iter=200, solver=lbfgs; accuracy: (train=0.581, test=0.532) f1_weighted: (train=0.532, test=0.499) prec_macro: (train=0.419, test=0.303) rec_macro: (train=0.338, test=0.324) total time=   0.4s\n"
     ]
    },
    {
     "name": "stderr",
     "output_type": "stream",
     "text": [
      "/Library/Frameworks/Python.framework/Versions/3.9/lib/python3.9/site-packages/sklearn/neural_network/_multilayer_perceptron.py:549: ConvergenceWarning: lbfgs failed to converge (status=1):\n",
      "STOP: TOTAL NO. of ITERATIONS REACHED LIMIT.\n",
      "\n",
      "Increase the number of iterations (max_iter) or scale the data as shown in:\n",
      "    https://scikit-learn.org/stable/modules/preprocessing.html\n",
      "  self.n_iter_ = _check_optimize_result(\"lbfgs\", opt_res, self.max_iter)\n"
     ]
    },
    {
     "name": "stdout",
     "output_type": "stream",
     "text": [
      "[CV 9/10] END hidden_layer_sizes=80, max_iter=200, solver=lbfgs; accuracy: (train=0.570, test=0.519) f1_weighted: (train=0.520, test=0.472) prec_macro: (train=0.312, test=0.284) rec_macro: (train=0.329, test=0.302) total time=   0.5s\n"
     ]
    },
    {
     "name": "stderr",
     "output_type": "stream",
     "text": [
      "/Library/Frameworks/Python.framework/Versions/3.9/lib/python3.9/site-packages/sklearn/neural_network/_multilayer_perceptron.py:549: ConvergenceWarning: lbfgs failed to converge (status=1):\n",
      "STOP: TOTAL NO. of ITERATIONS REACHED LIMIT.\n",
      "\n",
      "Increase the number of iterations (max_iter) or scale the data as shown in:\n",
      "    https://scikit-learn.org/stable/modules/preprocessing.html\n",
      "  self.n_iter_ = _check_optimize_result(\"lbfgs\", opt_res, self.max_iter)\n"
     ]
    },
    {
     "name": "stdout",
     "output_type": "stream",
     "text": [
      "[CV 10/10] END hidden_layer_sizes=80, max_iter=200, solver=lbfgs; accuracy: (train=0.574, test=0.610) f1_weighted: (train=0.523, test=0.564) prec_macro: (train=0.300, test=0.326) rec_macro: (train=0.329, test=0.377) total time=   0.6s\n",
      "[CV 1/10] END hidden_layer_sizes=80, max_iter=200, solver=sgd; accuracy: (train=0.465, test=0.500) f1_weighted: (train=0.383, test=0.407) prec_macro: (train=0.229, test=0.247) rec_macro: (train=0.303, test=0.340) total time=   0.4s\n",
      "[CV 2/10] END hidden_layer_sizes=80, max_iter=200, solver=sgd; accuracy: (train=0.509, test=0.564) f1_weighted: (train=0.449, test=0.494) prec_macro: (train=0.286, test=0.319) rec_macro: (train=0.274, test=0.309) total time=   0.3s\n",
      "[CV 3/10] END hidden_layer_sizes=80, max_iter=200, solver=sgd; accuracy: (train=0.521, test=0.494) f1_weighted: (train=0.454, test=0.435) prec_macro: (train=0.288, test=0.258) rec_macro: (train=0.276, test=0.266) total time=   0.2s\n",
      "[CV 4/10] END hidden_layer_sizes=80, max_iter=200, solver=sgd; accuracy: (train=0.515, test=0.545) f1_weighted: (train=0.460, test=0.475) prec_macro: (train=0.505, test=0.213) rec_macro: (train=0.283, test=0.279) total time=   0.3s\n",
      "[CV 5/10] END hidden_layer_sizes=80, max_iter=200, solver=sgd; accuracy: (train=0.502, test=0.519) f1_weighted: (train=0.455, test=0.487) prec_macro: (train=0.288, test=0.317) rec_macro: (train=0.280, test=0.312) total time=   0.3s\n",
      "[CV 6/10] END hidden_layer_sizes=80, max_iter=200, solver=sgd; accuracy: (train=0.476, test=0.481) f1_weighted: (train=0.343, test=0.340) prec_macro: (train=0.376, test=0.177) rec_macro: (train=0.219, test=0.217) total time=   0.2s\n"
     ]
    },
    {
     "name": "stderr",
     "output_type": "stream",
     "text": [
      "/Library/Frameworks/Python.framework/Versions/3.9/lib/python3.9/site-packages/sklearn/neural_network/_multilayer_perceptron.py:692: ConvergenceWarning: Stochastic Optimizer: Maximum iterations (200) reached and the optimization hasn't converged yet.\n",
      "  warnings.warn(\n"
     ]
    },
    {
     "name": "stdout",
     "output_type": "stream",
     "text": [
      "[CV 7/10] END hidden_layer_sizes=80, max_iter=200, solver=sgd; accuracy: (train=0.531, test=0.519) f1_weighted: (train=0.452, test=0.432) prec_macro: (train=0.400, test=0.187) rec_macro: (train=0.270, test=0.256) total time=   0.5s\n",
      "[CV 8/10] END hidden_layer_sizes=80, max_iter=200, solver=sgd; accuracy: (train=0.528, test=0.481) f1_weighted: (train=0.466, test=0.429) prec_macro: (train=0.299, test=0.370) rec_macro: (train=0.292, test=0.268) total time=   0.3s\n",
      "[CV 9/10] END hidden_layer_sizes=80, max_iter=200, solver=sgd; accuracy: (train=0.521, test=0.494) f1_weighted: (train=0.442, test=0.411) prec_macro: (train=0.395, test=0.179) rec_macro: (train=0.263, test=0.244) total time=   0.3s\n",
      "[CV 10/10] END hidden_layer_sizes=80, max_iter=200, solver=sgd; accuracy: (train=0.501, test=0.519) f1_weighted: (train=0.415, test=0.435) prec_macro: (train=0.303, test=0.195) rec_macro: (train=0.249, test=0.262) total time=   0.4s\n",
      "[CV 1/10] END hidden_layer_sizes=80, max_iter=200, solver=adam; accuracy: (train=0.582, test=0.564) f1_weighted: (train=0.533, test=0.505) prec_macro: (train=0.382, test=0.319) rec_macro: (train=0.338, test=0.315) total time=   0.3s\n",
      "[CV 2/10] END hidden_layer_sizes=80, max_iter=200, solver=adam; accuracy: (train=0.588, test=0.538) f1_weighted: (train=0.560, test=0.497) prec_macro: (train=0.410, test=0.258) rec_macro: (train=0.372, test=0.286) total time=   0.3s\n",
      "[CV 3/10] END hidden_layer_sizes=80, max_iter=200, solver=adam; accuracy: (train=0.553, test=0.610) f1_weighted: (train=0.482, test=0.553) prec_macro: (train=0.488, test=0.333) rec_macro: (train=0.349, test=0.379) total time=   0.2s\n",
      "[CV 4/10] END hidden_layer_sizes=80, max_iter=200, solver=adam; accuracy: (train=0.551, test=0.571) f1_weighted: (train=0.506, test=0.525) prec_macro: (train=0.390, test=0.283) rec_macro: (train=0.319, test=0.298) total time=   0.2s\n",
      "[CV 5/10] END hidden_layer_sizes=80, max_iter=200, solver=adam; accuracy: (train=0.586, test=0.558) f1_weighted: (train=0.544, test=0.520) prec_macro: (train=0.422, test=0.349) rec_macro: (train=0.341, test=0.322) total time=   0.4s\n",
      "[CV 6/10] END hidden_layer_sizes=80, max_iter=200, solver=adam; accuracy: (train=0.570, test=0.532) f1_weighted: (train=0.538, test=0.499) prec_macro: (train=0.390, test=0.352) rec_macro: (train=0.339, test=0.318) total time=   0.4s\n",
      "[CV 7/10] END hidden_layer_sizes=80, max_iter=200, solver=adam; accuracy: (train=0.591, test=0.519) f1_weighted: (train=0.558, test=0.484) prec_macro: (train=0.378, test=0.317) rec_macro: (train=0.362, test=0.302) total time=   0.2s\n",
      "[CV 8/10] END hidden_layer_sizes=80, max_iter=200, solver=adam; accuracy: (train=0.564, test=0.481) f1_weighted: (train=0.517, test=0.440) prec_macro: (train=0.376, test=0.304) rec_macro: (train=0.316, test=0.279) total time=   0.3s\n",
      "[CV 9/10] END hidden_layer_sizes=80, max_iter=200, solver=adam; accuracy: (train=0.603, test=0.519) f1_weighted: (train=0.581, test=0.473) prec_macro: (train=0.416, test=0.262) rec_macro: (train=0.407, test=0.275) total time=   0.4s\n",
      "[CV 10/10] END hidden_layer_sizes=80, max_iter=200, solver=adam; accuracy: (train=0.593, test=0.571) f1_weighted: (train=0.540, test=0.525) prec_macro: (train=0.438, test=0.306) rec_macro: (train=0.357, test=0.362) total time=   0.3s\n"
     ]
    },
    {
     "name": "stderr",
     "output_type": "stream",
     "text": [
      "/Library/Frameworks/Python.framework/Versions/3.9/lib/python3.9/site-packages/sklearn/neural_network/_multilayer_perceptron.py:549: ConvergenceWarning: lbfgs failed to converge (status=1):\n",
      "STOP: TOTAL NO. of ITERATIONS REACHED LIMIT.\n",
      "\n",
      "Increase the number of iterations (max_iter) or scale the data as shown in:\n",
      "    https://scikit-learn.org/stable/modules/preprocessing.html\n",
      "  self.n_iter_ = _check_optimize_result(\"lbfgs\", opt_res, self.max_iter)\n"
     ]
    },
    {
     "name": "stdout",
     "output_type": "stream",
     "text": [
      "[CV 1/10] END hidden_layer_sizes=80, max_iter=225, solver=lbfgs; accuracy: (train=0.571, test=0.538) f1_weighted: (train=0.521, test=0.496) prec_macro: (train=0.319, test=0.416) rec_macro: (train=0.318, test=0.295) total time=   0.4s\n"
     ]
    },
    {
     "name": "stderr",
     "output_type": "stream",
     "text": [
      "/Library/Frameworks/Python.framework/Versions/3.9/lib/python3.9/site-packages/sklearn/neural_network/_multilayer_perceptron.py:549: ConvergenceWarning: lbfgs failed to converge (status=1):\n",
      "STOP: TOTAL NO. of ITERATIONS REACHED LIMIT.\n",
      "\n",
      "Increase the number of iterations (max_iter) or scale the data as shown in:\n",
      "    https://scikit-learn.org/stable/modules/preprocessing.html\n",
      "  self.n_iter_ = _check_optimize_result(\"lbfgs\", opt_res, self.max_iter)\n"
     ]
    },
    {
     "name": "stdout",
     "output_type": "stream",
     "text": [
      "[CV 2/10] END hidden_layer_sizes=80, max_iter=225, solver=lbfgs; accuracy: (train=0.578, test=0.500) f1_weighted: (train=0.548, test=0.459) prec_macro: (train=0.564, test=0.218) rec_macro: (train=0.356, test=0.250) total time=   0.4s\n"
     ]
    },
    {
     "name": "stderr",
     "output_type": "stream",
     "text": [
      "/Library/Frameworks/Python.framework/Versions/3.9/lib/python3.9/site-packages/sklearn/neural_network/_multilayer_perceptron.py:549: ConvergenceWarning: lbfgs failed to converge (status=1):\n",
      "STOP: TOTAL NO. of ITERATIONS REACHED LIMIT.\n",
      "\n",
      "Increase the number of iterations (max_iter) or scale the data as shown in:\n",
      "    https://scikit-learn.org/stable/modules/preprocessing.html\n",
      "  self.n_iter_ = _check_optimize_result(\"lbfgs\", opt_res, self.max_iter)\n"
     ]
    },
    {
     "name": "stdout",
     "output_type": "stream",
     "text": [
      "[CV 3/10] END hidden_layer_sizes=80, max_iter=225, solver=lbfgs; accuracy: (train=0.571, test=0.623) f1_weighted: (train=0.525, test=0.567) prec_macro: (train=0.356, test=0.346) rec_macro: (train=0.330, test=0.361) total time=   0.5s\n"
     ]
    },
    {
     "name": "stderr",
     "output_type": "stream",
     "text": [
      "/Library/Frameworks/Python.framework/Versions/3.9/lib/python3.9/site-packages/sklearn/neural_network/_multilayer_perceptron.py:549: ConvergenceWarning: lbfgs failed to converge (status=1):\n",
      "STOP: TOTAL NO. of ITERATIONS REACHED LIMIT.\n",
      "\n",
      "Increase the number of iterations (max_iter) or scale the data as shown in:\n",
      "    https://scikit-learn.org/stable/modules/preprocessing.html\n",
      "  self.n_iter_ = _check_optimize_result(\"lbfgs\", opt_res, self.max_iter)\n"
     ]
    },
    {
     "name": "stdout",
     "output_type": "stream",
     "text": [
      "[CV 4/10] END hidden_layer_sizes=80, max_iter=225, solver=lbfgs; accuracy: (train=0.596, test=0.610) f1_weighted: (train=0.549, test=0.545) prec_macro: (train=0.389, test=0.248) rec_macro: (train=0.350, test=0.313) total time=   0.6s\n"
     ]
    },
    {
     "name": "stderr",
     "output_type": "stream",
     "text": [
      "/Library/Frameworks/Python.framework/Versions/3.9/lib/python3.9/site-packages/sklearn/neural_network/_multilayer_perceptron.py:549: ConvergenceWarning: lbfgs failed to converge (status=1):\n",
      "STOP: TOTAL NO. of ITERATIONS REACHED LIMIT.\n",
      "\n",
      "Increase the number of iterations (max_iter) or scale the data as shown in:\n",
      "    https://scikit-learn.org/stable/modules/preprocessing.html\n",
      "  self.n_iter_ = _check_optimize_result(\"lbfgs\", opt_res, self.max_iter)\n"
     ]
    },
    {
     "name": "stdout",
     "output_type": "stream",
     "text": [
      "[CV 5/10] END hidden_layer_sizes=80, max_iter=225, solver=lbfgs; accuracy: (train=0.578, test=0.545) f1_weighted: (train=0.527, test=0.505) prec_macro: (train=0.376, test=0.298) rec_macro: (train=0.327, test=0.307) total time=   0.7s\n"
     ]
    },
    {
     "name": "stderr",
     "output_type": "stream",
     "text": [
      "/Library/Frameworks/Python.framework/Versions/3.9/lib/python3.9/site-packages/sklearn/neural_network/_multilayer_perceptron.py:549: ConvergenceWarning: lbfgs failed to converge (status=1):\n",
      "STOP: TOTAL NO. of ITERATIONS REACHED LIMIT.\n",
      "\n",
      "Increase the number of iterations (max_iter) or scale the data as shown in:\n",
      "    https://scikit-learn.org/stable/modules/preprocessing.html\n",
      "  self.n_iter_ = _check_optimize_result(\"lbfgs\", opt_res, self.max_iter)\n"
     ]
    },
    {
     "name": "stdout",
     "output_type": "stream",
     "text": [
      "[CV 6/10] END hidden_layer_sizes=80, max_iter=225, solver=lbfgs; accuracy: (train=0.573, test=0.481) f1_weighted: (train=0.525, test=0.445) prec_macro: (train=0.327, test=0.292) rec_macro: (train=0.330, test=0.261) total time=   0.9s\n"
     ]
    },
    {
     "name": "stderr",
     "output_type": "stream",
     "text": [
      "/Library/Frameworks/Python.framework/Versions/3.9/lib/python3.9/site-packages/sklearn/neural_network/_multilayer_perceptron.py:549: ConvergenceWarning: lbfgs failed to converge (status=1):\n",
      "STOP: TOTAL NO. of ITERATIONS REACHED LIMIT.\n",
      "\n",
      "Increase the number of iterations (max_iter) or scale the data as shown in:\n",
      "    https://scikit-learn.org/stable/modules/preprocessing.html\n",
      "  self.n_iter_ = _check_optimize_result(\"lbfgs\", opt_res, self.max_iter)\n"
     ]
    },
    {
     "name": "stdout",
     "output_type": "stream",
     "text": [
      "[CV 7/10] END hidden_layer_sizes=80, max_iter=225, solver=lbfgs; accuracy: (train=0.593, test=0.532) f1_weighted: (train=0.539, test=0.458) prec_macro: (train=0.431, test=0.203) rec_macro: (train=0.336, test=0.268) total time=   0.8s\n"
     ]
    },
    {
     "name": "stderr",
     "output_type": "stream",
     "text": [
      "/Library/Frameworks/Python.framework/Versions/3.9/lib/python3.9/site-packages/sklearn/neural_network/_multilayer_perceptron.py:549: ConvergenceWarning: lbfgs failed to converge (status=1):\n",
      "STOP: TOTAL NO. of ITERATIONS REACHED LIMIT.\n",
      "\n",
      "Increase the number of iterations (max_iter) or scale the data as shown in:\n",
      "    https://scikit-learn.org/stable/modules/preprocessing.html\n",
      "  self.n_iter_ = _check_optimize_result(\"lbfgs\", opt_res, self.max_iter)\n"
     ]
    },
    {
     "name": "stdout",
     "output_type": "stream",
     "text": [
      "[CV 8/10] END hidden_layer_sizes=80, max_iter=225, solver=lbfgs; accuracy: (train=0.581, test=0.532) f1_weighted: (train=0.534, test=0.495) prec_macro: (train=0.308, test=0.285) rec_macro: (train=0.332, test=0.334) total time=   0.4s\n"
     ]
    },
    {
     "name": "stderr",
     "output_type": "stream",
     "text": [
      "/Library/Frameworks/Python.framework/Versions/3.9/lib/python3.9/site-packages/sklearn/neural_network/_multilayer_perceptron.py:549: ConvergenceWarning: lbfgs failed to converge (status=1):\n",
      "STOP: TOTAL NO. of ITERATIONS REACHED LIMIT.\n",
      "\n",
      "Increase the number of iterations (max_iter) or scale the data as shown in:\n",
      "    https://scikit-learn.org/stable/modules/preprocessing.html\n",
      "  self.n_iter_ = _check_optimize_result(\"lbfgs\", opt_res, self.max_iter)\n"
     ]
    },
    {
     "name": "stdout",
     "output_type": "stream",
     "text": [
      "[CV 9/10] END hidden_layer_sizes=80, max_iter=225, solver=lbfgs; accuracy: (train=0.591, test=0.532) f1_weighted: (train=0.545, test=0.482) prec_macro: (train=0.317, test=0.265) rec_macro: (train=0.348, test=0.295) total time=   0.4s\n"
     ]
    },
    {
     "name": "stderr",
     "output_type": "stream",
     "text": [
      "/Library/Frameworks/Python.framework/Versions/3.9/lib/python3.9/site-packages/sklearn/neural_network/_multilayer_perceptron.py:549: ConvergenceWarning: lbfgs failed to converge (status=1):\n",
      "STOP: TOTAL NO. of ITERATIONS REACHED LIMIT.\n",
      "\n",
      "Increase the number of iterations (max_iter) or scale the data as shown in:\n",
      "    https://scikit-learn.org/stable/modules/preprocessing.html\n",
      "  self.n_iter_ = _check_optimize_result(\"lbfgs\", opt_res, self.max_iter)\n"
     ]
    },
    {
     "name": "stdout",
     "output_type": "stream",
     "text": [
      "[CV 10/10] END hidden_layer_sizes=80, max_iter=225, solver=lbfgs; accuracy: (train=0.570, test=0.584) f1_weighted: (train=0.526, test=0.539) prec_macro: (train=0.347, test=0.308) rec_macro: (train=0.329, test=0.346) total time=   0.4s\n",
      "[CV 1/10] END hidden_layer_sizes=80, max_iter=225, solver=sgd; accuracy: (train=0.491, test=0.462) f1_weighted: (train=0.392, test=0.352) prec_macro: (train=0.376, test=0.146) rec_macro: (train=0.236, test=0.211) total time=   0.2s\n",
      "[CV 2/10] END hidden_layer_sizes=80, max_iter=225, solver=sgd; accuracy: (train=0.507, test=0.500) f1_weighted: (train=0.452, test=0.443) prec_macro: (train=0.276, test=0.270) rec_macro: (train=0.281, test=0.288) total time=   0.5s\n",
      "[CV 3/10] END hidden_layer_sizes=80, max_iter=225, solver=sgd; accuracy: (train=0.485, test=0.403) f1_weighted: (train=0.387, test=0.276) prec_macro: (train=0.371, test=0.093) rec_macro: (train=0.245, test=0.177) total time=   0.2s\n",
      "[CV 4/10] END hidden_layer_sizes=80, max_iter=225, solver=sgd; accuracy: (train=0.495, test=0.506) f1_weighted: (train=0.404, test=0.403) prec_macro: (train=0.277, test=0.190) rec_macro: (train=0.249, test=0.241) total time=   0.2s\n",
      "[CV 5/10] END hidden_layer_sizes=80, max_iter=225, solver=sgd; accuracy: (train=0.479, test=0.481) f1_weighted: (train=0.338, test=0.351) prec_macro: (train=0.165, test=0.156) rec_macro: (train=0.270, test=0.289) total time=   0.2s\n",
      "[CV 6/10] END hidden_layer_sizes=80, max_iter=225, solver=sgd; accuracy: (train=0.501, test=0.481) f1_weighted: (train=0.409, test=0.359) prec_macro: (train=0.383, test=0.158) rec_macro: (train=0.245, test=0.220) total time=   0.4s\n",
      "[CV 7/10] END hidden_layer_sizes=80, max_iter=225, solver=sgd; accuracy: (train=0.506, test=0.481) f1_weighted: (train=0.452, test=0.406) prec_macro: (train=0.263, test=0.229) rec_macro: (train=0.292, test=0.258) total time=   0.2s\n",
      "[CV 8/10] END hidden_layer_sizes=80, max_iter=225, solver=sgd; accuracy: (train=0.508, test=0.416) f1_weighted: (train=0.437, test=0.356) prec_macro: (train=0.394, test=0.154) rec_macro: (train=0.261, test=0.206) total time=   0.2s\n"
     ]
    },
    {
     "name": "stderr",
     "output_type": "stream",
     "text": [
      "/Library/Frameworks/Python.framework/Versions/3.9/lib/python3.9/site-packages/sklearn/neural_network/_multilayer_perceptron.py:692: ConvergenceWarning: Stochastic Optimizer: Maximum iterations (225) reached and the optimization hasn't converged yet.\n",
      "  warnings.warn(\n"
     ]
    },
    {
     "name": "stdout",
     "output_type": "stream",
     "text": [
      "[CV 9/10] END hidden_layer_sizes=80, max_iter=225, solver=sgd; accuracy: (train=0.501, test=0.481) f1_weighted: (train=0.438, test=0.427) prec_macro: (train=0.278, test=0.282) rec_macro: (train=0.262, test=0.262) total time=   0.6s\n",
      "[CV 10/10] END hidden_layer_sizes=80, max_iter=225, solver=sgd; accuracy: (train=0.481, test=0.481) f1_weighted: (train=0.368, test=0.386) prec_macro: (train=0.367, test=0.182) rec_macro: (train=0.225, test=0.232) total time=   0.4s\n",
      "[CV 1/10] END hidden_layer_sizes=80, max_iter=225, solver=adam; accuracy: (train=0.571, test=0.590) f1_weighted: (train=0.530, test=0.525) prec_macro: (train=0.425, test=0.240) rec_macro: (train=0.335, test=0.309) total time=   0.3s\n",
      "[CV 2/10] END hidden_layer_sizes=80, max_iter=225, solver=adam; accuracy: (train=0.579, test=0.538) f1_weighted: (train=0.527, test=0.473) prec_macro: (train=0.442, test=0.258) rec_macro: (train=0.343, test=0.283) total time=   0.3s\n",
      "[CV 3/10] END hidden_layer_sizes=80, max_iter=225, solver=adam; accuracy: (train=0.576, test=0.610) f1_weighted: (train=0.536, test=0.569) prec_macro: (train=0.578, test=0.377) rec_macro: (train=0.350, test=0.359) total time=   0.3s\n",
      "[CV 4/10] END hidden_layer_sizes=80, max_iter=225, solver=adam; accuracy: (train=0.597, test=0.597) f1_weighted: (train=0.554, test=0.557) prec_macro: (train=0.333, test=0.305) rec_macro: (train=0.361, test=0.359) total time=   0.4s\n",
      "[CV 5/10] END hidden_layer_sizes=80, max_iter=225, solver=adam; accuracy: (train=0.580, test=0.545) f1_weighted: (train=0.533, test=0.508) prec_macro: (train=0.319, test=0.280) rec_macro: (train=0.338, test=0.310) total time=   0.2s\n",
      "[CV 6/10] END hidden_layer_sizes=80, max_iter=225, solver=adam; accuracy: (train=0.593, test=0.519) f1_weighted: (train=0.557, test=0.483) prec_macro: (train=0.388, test=0.286) rec_macro: (train=0.370, test=0.282) total time=   0.3s\n",
      "[CV 7/10] END hidden_layer_sizes=80, max_iter=225, solver=adam; accuracy: (train=0.599, test=0.558) f1_weighted: (train=0.567, test=0.518) prec_macro: (train=0.380, test=0.352) rec_macro: (train=0.381, test=0.339) total time=   0.3s\n",
      "[CV 8/10] END hidden_layer_sizes=80, max_iter=225, solver=adam; accuracy: (train=0.588, test=0.519) f1_weighted: (train=0.550, test=0.486) prec_macro: (train=0.457, test=0.273) rec_macro: (train=0.365, test=0.305) total time=   0.4s\n",
      "[CV 9/10] END hidden_layer_sizes=80, max_iter=225, solver=adam; accuracy: (train=0.574, test=0.481) f1_weighted: (train=0.549, test=0.426) prec_macro: (train=0.438, test=0.201) rec_macro: (train=0.364, test=0.238) total time=   0.2s\n",
      "[CV 10/10] END hidden_layer_sizes=80, max_iter=225, solver=adam; accuracy: (train=0.577, test=0.571) f1_weighted: (train=0.541, test=0.529) prec_macro: (train=0.345, test=0.314) rec_macro: (train=0.338, test=0.346) total time=   0.4s\n"
     ]
    },
    {
     "name": "stderr",
     "output_type": "stream",
     "text": [
      "/Library/Frameworks/Python.framework/Versions/3.9/lib/python3.9/site-packages/sklearn/neural_network/_multilayer_perceptron.py:549: ConvergenceWarning: lbfgs failed to converge (status=2):\n",
      "ABNORMAL_TERMINATION_IN_LNSRCH.\n",
      "\n",
      "Increase the number of iterations (max_iter) or scale the data as shown in:\n",
      "    https://scikit-learn.org/stable/modules/preprocessing.html\n",
      "  self.n_iter_ = _check_optimize_result(\"lbfgs\", opt_res, self.max_iter)\n"
     ]
    },
    {
     "name": "stdout",
     "output_type": "stream",
     "text": [
      "[CV 1/10] END hidden_layer_sizes=80, max_iter=250, solver=lbfgs; accuracy: (train=0.484, test=0.500) f1_weighted: (train=0.440, test=0.447) prec_macro: (train=0.319, test=0.379) rec_macro: (train=0.279, test=0.280) total time=   1.0s\n"
     ]
    },
    {
     "name": "stderr",
     "output_type": "stream",
     "text": [
      "/Library/Frameworks/Python.framework/Versions/3.9/lib/python3.9/site-packages/sklearn/neural_network/_multilayer_perceptron.py:549: ConvergenceWarning: lbfgs failed to converge (status=1):\n",
      "STOP: TOTAL NO. of ITERATIONS REACHED LIMIT.\n",
      "\n",
      "Increase the number of iterations (max_iter) or scale the data as shown in:\n",
      "    https://scikit-learn.org/stable/modules/preprocessing.html\n",
      "  self.n_iter_ = _check_optimize_result(\"lbfgs\", opt_res, self.max_iter)\n"
     ]
    },
    {
     "name": "stdout",
     "output_type": "stream",
     "text": [
      "[CV 2/10] END hidden_layer_sizes=80, max_iter=250, solver=lbfgs; accuracy: (train=0.576, test=0.564) f1_weighted: (train=0.531, test=0.510) prec_macro: (train=0.334, test=0.266) rec_macro: (train=0.337, test=0.309) total time=   0.5s\n"
     ]
    },
    {
     "name": "stderr",
     "output_type": "stream",
     "text": [
      "/Library/Frameworks/Python.framework/Versions/3.9/lib/python3.9/site-packages/sklearn/neural_network/_multilayer_perceptron.py:549: ConvergenceWarning: lbfgs failed to converge (status=1):\n",
      "STOP: TOTAL NO. of ITERATIONS REACHED LIMIT.\n",
      "\n",
      "Increase the number of iterations (max_iter) or scale the data as shown in:\n",
      "    https://scikit-learn.org/stable/modules/preprocessing.html\n",
      "  self.n_iter_ = _check_optimize_result(\"lbfgs\", opt_res, self.max_iter)\n"
     ]
    },
    {
     "name": "stdout",
     "output_type": "stream",
     "text": [
      "[CV 3/10] END hidden_layer_sizes=80, max_iter=250, solver=lbfgs; accuracy: (train=0.590, test=0.623) f1_weighted: (train=0.547, test=0.579) prec_macro: (train=0.357, test=0.351) rec_macro: (train=0.338, test=0.377) total time=   0.8s\n"
     ]
    },
    {
     "name": "stderr",
     "output_type": "stream",
     "text": [
      "/Library/Frameworks/Python.framework/Versions/3.9/lib/python3.9/site-packages/sklearn/neural_network/_multilayer_perceptron.py:549: ConvergenceWarning: lbfgs failed to converge (status=1):\n",
      "STOP: TOTAL NO. of ITERATIONS REACHED LIMIT.\n",
      "\n",
      "Increase the number of iterations (max_iter) or scale the data as shown in:\n",
      "    https://scikit-learn.org/stable/modules/preprocessing.html\n",
      "  self.n_iter_ = _check_optimize_result(\"lbfgs\", opt_res, self.max_iter)\n"
     ]
    },
    {
     "name": "stdout",
     "output_type": "stream",
     "text": [
      "[CV 4/10] END hidden_layer_sizes=80, max_iter=250, solver=lbfgs; accuracy: (train=0.578, test=0.597) f1_weighted: (train=0.539, test=0.555) prec_macro: (train=0.357, test=0.374) rec_macro: (train=0.338, test=0.334) total time=   0.9s\n"
     ]
    },
    {
     "name": "stderr",
     "output_type": "stream",
     "text": [
      "/Library/Frameworks/Python.framework/Versions/3.9/lib/python3.9/site-packages/sklearn/neural_network/_multilayer_perceptron.py:549: ConvergenceWarning: lbfgs failed to converge (status=1):\n",
      "STOP: TOTAL NO. of ITERATIONS REACHED LIMIT.\n",
      "\n",
      "Increase the number of iterations (max_iter) or scale the data as shown in:\n",
      "    https://scikit-learn.org/stable/modules/preprocessing.html\n",
      "  self.n_iter_ = _check_optimize_result(\"lbfgs\", opt_res, self.max_iter)\n"
     ]
    },
    {
     "name": "stdout",
     "output_type": "stream",
     "text": [
      "[CV 5/10] END hidden_layer_sizes=80, max_iter=250, solver=lbfgs; accuracy: (train=0.576, test=0.558) f1_weighted: (train=0.532, test=0.516) prec_macro: (train=0.343, test=0.302) rec_macro: (train=0.335, test=0.313) total time=   0.5s\n"
     ]
    },
    {
     "name": "stderr",
     "output_type": "stream",
     "text": [
      "/Library/Frameworks/Python.framework/Versions/3.9/lib/python3.9/site-packages/sklearn/neural_network/_multilayer_perceptron.py:549: ConvergenceWarning: lbfgs failed to converge (status=1):\n",
      "STOP: TOTAL NO. of ITERATIONS REACHED LIMIT.\n",
      "\n",
      "Increase the number of iterations (max_iter) or scale the data as shown in:\n",
      "    https://scikit-learn.org/stable/modules/preprocessing.html\n",
      "  self.n_iter_ = _check_optimize_result(\"lbfgs\", opt_res, self.max_iter)\n"
     ]
    },
    {
     "name": "stdout",
     "output_type": "stream",
     "text": [
      "[CV 6/10] END hidden_layer_sizes=80, max_iter=250, solver=lbfgs; accuracy: (train=0.571, test=0.532) f1_weighted: (train=0.530, test=0.484) prec_macro: (train=0.334, test=0.277) rec_macro: (train=0.333, test=0.283) total time=   0.5s\n"
     ]
    },
    {
     "name": "stderr",
     "output_type": "stream",
     "text": [
      "/Library/Frameworks/Python.framework/Versions/3.9/lib/python3.9/site-packages/sklearn/neural_network/_multilayer_perceptron.py:549: ConvergenceWarning: lbfgs failed to converge (status=1):\n",
      "STOP: TOTAL NO. of ITERATIONS REACHED LIMIT.\n",
      "\n",
      "Increase the number of iterations (max_iter) or scale the data as shown in:\n",
      "    https://scikit-learn.org/stable/modules/preprocessing.html\n",
      "  self.n_iter_ = _check_optimize_result(\"lbfgs\", opt_res, self.max_iter)\n"
     ]
    },
    {
     "name": "stdout",
     "output_type": "stream",
     "text": [
      "[CV 7/10] END hidden_layer_sizes=80, max_iter=250, solver=lbfgs; accuracy: (train=0.594, test=0.519) f1_weighted: (train=0.550, test=0.461) prec_macro: (train=0.355, test=0.266) rec_macro: (train=0.350, test=0.275) total time=   0.5s\n"
     ]
    },
    {
     "name": "stderr",
     "output_type": "stream",
     "text": [
      "/Library/Frameworks/Python.framework/Versions/3.9/lib/python3.9/site-packages/sklearn/neural_network/_multilayer_perceptron.py:549: ConvergenceWarning: lbfgs failed to converge (status=1):\n",
      "STOP: TOTAL NO. of ITERATIONS REACHED LIMIT.\n",
      "\n",
      "Increase the number of iterations (max_iter) or scale the data as shown in:\n",
      "    https://scikit-learn.org/stable/modules/preprocessing.html\n",
      "  self.n_iter_ = _check_optimize_result(\"lbfgs\", opt_res, self.max_iter)\n"
     ]
    },
    {
     "name": "stdout",
     "output_type": "stream",
     "text": [
      "[CV 8/10] END hidden_layer_sizes=80, max_iter=250, solver=lbfgs; accuracy: (train=0.588, test=0.545) f1_weighted: (train=0.532, test=0.501) prec_macro: (train=0.306, test=0.301) rec_macro: (train=0.332, test=0.320) total time=   0.5s\n"
     ]
    },
    {
     "name": "stderr",
     "output_type": "stream",
     "text": [
      "/Library/Frameworks/Python.framework/Versions/3.9/lib/python3.9/site-packages/sklearn/neural_network/_multilayer_perceptron.py:549: ConvergenceWarning: lbfgs failed to converge (status=1):\n",
      "STOP: TOTAL NO. of ITERATIONS REACHED LIMIT.\n",
      "\n",
      "Increase the number of iterations (max_iter) or scale the data as shown in:\n",
      "    https://scikit-learn.org/stable/modules/preprocessing.html\n",
      "  self.n_iter_ = _check_optimize_result(\"lbfgs\", opt_res, self.max_iter)\n"
     ]
    },
    {
     "name": "stdout",
     "output_type": "stream",
     "text": [
      "[CV 9/10] END hidden_layer_sizes=80, max_iter=250, solver=lbfgs; accuracy: (train=0.597, test=0.532) f1_weighted: (train=0.550, test=0.480) prec_macro: (train=0.377, test=0.283) rec_macro: (train=0.352, test=0.301) total time=   0.5s\n"
     ]
    },
    {
     "name": "stderr",
     "output_type": "stream",
     "text": [
      "/Library/Frameworks/Python.framework/Versions/3.9/lib/python3.9/site-packages/sklearn/neural_network/_multilayer_perceptron.py:549: ConvergenceWarning: lbfgs failed to converge (status=1):\n",
      "STOP: TOTAL NO. of ITERATIONS REACHED LIMIT.\n",
      "\n",
      "Increase the number of iterations (max_iter) or scale the data as shown in:\n",
      "    https://scikit-learn.org/stable/modules/preprocessing.html\n",
      "  self.n_iter_ = _check_optimize_result(\"lbfgs\", opt_res, self.max_iter)\n"
     ]
    },
    {
     "name": "stdout",
     "output_type": "stream",
     "text": [
      "[CV 10/10] END hidden_layer_sizes=80, max_iter=250, solver=lbfgs; accuracy: (train=0.587, test=0.597) f1_weighted: (train=0.538, test=0.543) prec_macro: (train=0.374, test=0.310) rec_macro: (train=0.340, test=0.333) total time=   0.6s\n",
      "[CV 1/10] END hidden_layer_sizes=80, max_iter=250, solver=sgd; accuracy: (train=0.494, test=0.513) f1_weighted: (train=0.419, test=0.418) prec_macro: (train=0.250, test=0.184) rec_macro: (train=0.249, test=0.247) total time=   0.2s\n",
      "[CV 2/10] END hidden_layer_sizes=80, max_iter=250, solver=sgd; accuracy: (train=0.500, test=0.577) f1_weighted: (train=0.443, test=0.509) prec_macro: (train=0.294, test=0.424) rec_macro: (train=0.265, test=0.324) total time=   0.6s\n",
      "[CV 3/10] END hidden_layer_sizes=80, max_iter=250, solver=sgd; accuracy: (train=0.512, test=0.455) f1_weighted: (train=0.450, test=0.398) prec_macro: (train=0.499, test=0.178) rec_macro: (train=0.271, test=0.230) total time=   0.4s\n",
      "[CV 4/10] END hidden_layer_sizes=80, max_iter=250, solver=sgd; accuracy: (train=0.479, test=0.532) f1_weighted: (train=0.396, test=0.442) prec_macro: (train=0.373, test=0.200) rec_macro: (train=0.236, test=0.261) total time=   0.4s\n",
      "[CV 5/10] END hidden_layer_sizes=80, max_iter=250, solver=sgd; accuracy: (train=0.502, test=0.494) f1_weighted: (train=0.457, test=0.458) prec_macro: (train=0.294, test=0.278) rec_macro: (train=0.280, test=0.281) total time=   0.3s\n",
      "[CV 6/10] END hidden_layer_sizes=80, max_iter=250, solver=sgd; accuracy: (train=0.488, test=0.455) f1_weighted: (train=0.388, test=0.330) prec_macro: (train=0.374, test=0.139) rec_macro: (train=0.234, test=0.206) total time=   0.2s\n"
     ]
    },
    {
     "name": "stderr",
     "output_type": "stream",
     "text": [
      "/Library/Frameworks/Python.framework/Versions/3.9/lib/python3.9/site-packages/sklearn/neural_network/_multilayer_perceptron.py:692: ConvergenceWarning: Stochastic Optimizer: Maximum iterations (250) reached and the optimization hasn't converged yet.\n",
      "  warnings.warn(\n"
     ]
    },
    {
     "name": "stdout",
     "output_type": "stream",
     "text": [
      "[CV 7/10] END hidden_layer_sizes=80, max_iter=250, solver=sgd; accuracy: (train=0.521, test=0.468) f1_weighted: (train=0.450, test=0.401) prec_macro: (train=0.266, test=0.173) rec_macro: (train=0.268, test=0.233) total time=   0.6s\n",
      "[CV 8/10] END hidden_layer_sizes=80, max_iter=250, solver=sgd; accuracy: (train=0.479, test=0.455) f1_weighted: (train=0.359, test=0.331) prec_macro: (train=0.255, test=0.154) rec_macro: (train=0.240, test=0.207) total time=   0.4s\n",
      "[CV 9/10] END hidden_layer_sizes=80, max_iter=250, solver=sgd; accuracy: (train=0.492, test=0.506) f1_weighted: (train=0.428, test=0.440) prec_macro: (train=0.257, test=0.269) rec_macro: (train=0.265, test=0.280) total time=   0.6s\n",
      "[CV 10/10] END hidden_layer_sizes=80, max_iter=250, solver=sgd; accuracy: (train=0.495, test=0.519) f1_weighted: (train=0.404, test=0.436) prec_macro: (train=0.180, test=0.195) rec_macro: (train=0.240, test=0.262) total time=   0.1s\n",
      "[CV 1/10] END hidden_layer_sizes=80, max_iter=250, solver=adam; accuracy: (train=0.566, test=0.551) f1_weighted: (train=0.514, test=0.488) prec_macro: (train=0.380, test=0.277) rec_macro: (train=0.315, test=0.294) total time=   0.4s\n",
      "[CV 2/10] END hidden_layer_sizes=80, max_iter=250, solver=adam; accuracy: (train=0.565, test=0.577) f1_weighted: (train=0.509, test=0.504) prec_macro: (train=0.383, test=0.231) rec_macro: (train=0.312, test=0.299) total time=   0.3s\n",
      "[CV 3/10] END hidden_layer_sizes=80, max_iter=250, solver=adam; accuracy: (train=0.581, test=0.636) f1_weighted: (train=0.535, test=0.584) prec_macro: (train=0.372, test=0.359) rec_macro: (train=0.335, test=0.372) total time=   0.4s\n",
      "[CV 4/10] END hidden_layer_sizes=80, max_iter=250, solver=adam; accuracy: (train=0.531, test=0.584) f1_weighted: (train=0.464, test=0.513) prec_macro: (train=0.348, test=0.462) rec_macro: (train=0.351, test=0.393) total time=   0.3s\n",
      "[CV 5/10] END hidden_layer_sizes=80, max_iter=250, solver=adam; accuracy: (train=0.596, test=0.571) f1_weighted: (train=0.548, test=0.532) prec_macro: (train=0.477, test=0.340) rec_macro: (train=0.359, test=0.364) total time=   0.4s\n",
      "[CV 6/10] END hidden_layer_sizes=80, max_iter=250, solver=adam; accuracy: (train=0.561, test=0.506) f1_weighted: (train=0.542, test=0.483) prec_macro: (train=0.405, test=0.293) rec_macro: (train=0.376, test=0.302) total time=   0.2s\n",
      "[CV 7/10] END hidden_layer_sizes=80, max_iter=250, solver=adam; accuracy: (train=0.596, test=0.506) f1_weighted: (train=0.561, test=0.457) prec_macro: (train=0.385, test=0.339) rec_macro: (train=0.382, test=0.319) total time=   0.2s\n",
      "[CV 8/10] END hidden_layer_sizes=80, max_iter=250, solver=adam; accuracy: (train=0.574, test=0.506) f1_weighted: (train=0.519, test=0.464) prec_macro: (train=0.292, test=0.275) rec_macro: (train=0.329, test=0.316) total time=   0.2s\n",
      "[CV 9/10] END hidden_layer_sizes=80, max_iter=250, solver=adam; accuracy: (train=0.596, test=0.506) f1_weighted: (train=0.553, test=0.456) prec_macro: (train=0.588, test=0.244) rec_macro: (train=0.368, test=0.280) total time=   0.2s\n",
      "[CV 10/10] END hidden_layer_sizes=80, max_iter=250, solver=adam; accuracy: (train=0.505, test=0.468) f1_weighted: (train=0.400, test=0.396) prec_macro: (train=0.350, test=0.308) rec_macro: (train=0.302, test=0.300) total time=   0.3s\n"
     ]
    },
    {
     "name": "stderr",
     "output_type": "stream",
     "text": [
      "/Library/Frameworks/Python.framework/Versions/3.9/lib/python3.9/site-packages/sklearn/neural_network/_multilayer_perceptron.py:549: ConvergenceWarning: lbfgs failed to converge (status=1):\n",
      "STOP: TOTAL NO. of ITERATIONS REACHED LIMIT.\n",
      "\n",
      "Increase the number of iterations (max_iter) or scale the data as shown in:\n",
      "    https://scikit-learn.org/stable/modules/preprocessing.html\n",
      "  self.n_iter_ = _check_optimize_result(\"lbfgs\", opt_res, self.max_iter)\n"
     ]
    },
    {
     "name": "stdout",
     "output_type": "stream",
     "text": [
      "[CV 1/10] END hidden_layer_sizes=90, max_iter=150, solver=lbfgs; accuracy: (train=0.549, test=0.526) f1_weighted: (train=0.497, test=0.448) prec_macro: (train=0.467, test=0.198) rec_macro: (train=0.322, test=0.263) total time=   0.5s\n"
     ]
    },
    {
     "name": "stderr",
     "output_type": "stream",
     "text": [
      "/Library/Frameworks/Python.framework/Versions/3.9/lib/python3.9/site-packages/sklearn/neural_network/_multilayer_perceptron.py:549: ConvergenceWarning: lbfgs failed to converge (status=1):\n",
      "STOP: TOTAL NO. of ITERATIONS REACHED LIMIT.\n",
      "\n",
      "Increase the number of iterations (max_iter) or scale the data as shown in:\n",
      "    https://scikit-learn.org/stable/modules/preprocessing.html\n",
      "  self.n_iter_ = _check_optimize_result(\"lbfgs\", opt_res, self.max_iter)\n"
     ]
    },
    {
     "name": "stdout",
     "output_type": "stream",
     "text": [
      "[CV 2/10] END hidden_layer_sizes=90, max_iter=150, solver=lbfgs; accuracy: (train=0.582, test=0.603) f1_weighted: (train=0.540, test=0.539) prec_macro: (train=0.494, test=0.297) rec_macro: (train=0.350, test=0.336) total time=   0.4s\n"
     ]
    },
    {
     "name": "stderr",
     "output_type": "stream",
     "text": [
      "/Library/Frameworks/Python.framework/Versions/3.9/lib/python3.9/site-packages/sklearn/neural_network/_multilayer_perceptron.py:549: ConvergenceWarning: lbfgs failed to converge (status=1):\n",
      "STOP: TOTAL NO. of ITERATIONS REACHED LIMIT.\n",
      "\n",
      "Increase the number of iterations (max_iter) or scale the data as shown in:\n",
      "    https://scikit-learn.org/stable/modules/preprocessing.html\n",
      "  self.n_iter_ = _check_optimize_result(\"lbfgs\", opt_res, self.max_iter)\n",
      "/Library/Frameworks/Python.framework/Versions/3.9/lib/python3.9/site-packages/sklearn/neural_network/_multilayer_perceptron.py:549: ConvergenceWarning: lbfgs failed to converge (status=2):\n",
      "ABNORMAL_TERMINATION_IN_LNSRCH.\n",
      "\n",
      "Increase the number of iterations (max_iter) or scale the data as shown in:\n",
      "    https://scikit-learn.org/stable/modules/preprocessing.html\n",
      "  self.n_iter_ = _check_optimize_result(\"lbfgs\", opt_res, self.max_iter)\n"
     ]
    },
    {
     "name": "stdout",
     "output_type": "stream",
     "text": [
      "[CV 3/10] END hidden_layer_sizes=90, max_iter=150, solver=lbfgs; accuracy: (train=0.537, test=0.584) f1_weighted: (train=0.493, test=0.533) prec_macro: (train=0.322, test=0.331) rec_macro: (train=0.302, test=0.337) total time=   0.3s\n",
      "[CV 4/10] END hidden_layer_sizes=90, max_iter=150, solver=lbfgs; accuracy: (train=0.455, test=0.455) f1_weighted: (train=0.284, test=0.284) prec_macro: (train=0.091, test=0.091) rec_macro: (train=0.200, test=0.200) total time=   0.1s\n"
     ]
    },
    {
     "name": "stderr",
     "output_type": "stream",
     "text": [
      "/Library/Frameworks/Python.framework/Versions/3.9/lib/python3.9/site-packages/sklearn/neural_network/_multilayer_perceptron.py:549: ConvergenceWarning: lbfgs failed to converge (status=1):\n",
      "STOP: TOTAL NO. of ITERATIONS REACHED LIMIT.\n",
      "\n",
      "Increase the number of iterations (max_iter) or scale the data as shown in:\n",
      "    https://scikit-learn.org/stable/modules/preprocessing.html\n",
      "  self.n_iter_ = _check_optimize_result(\"lbfgs\", opt_res, self.max_iter)\n"
     ]
    },
    {
     "name": "stdout",
     "output_type": "stream",
     "text": [
      "[CV 5/10] END hidden_layer_sizes=90, max_iter=150, solver=lbfgs; accuracy: (train=0.570, test=0.558) f1_weighted: (train=0.512, test=0.515) prec_macro: (train=0.379, test=0.355) rec_macro: (train=0.314, test=0.329) total time=   0.3s\n"
     ]
    },
    {
     "name": "stderr",
     "output_type": "stream",
     "text": [
      "/Library/Frameworks/Python.framework/Versions/3.9/lib/python3.9/site-packages/sklearn/neural_network/_multilayer_perceptron.py:549: ConvergenceWarning: lbfgs failed to converge (status=1):\n",
      "STOP: TOTAL NO. of ITERATIONS REACHED LIMIT.\n",
      "\n",
      "Increase the number of iterations (max_iter) or scale the data as shown in:\n",
      "    https://scikit-learn.org/stable/modules/preprocessing.html\n",
      "  self.n_iter_ = _check_optimize_result(\"lbfgs\", opt_res, self.max_iter)\n"
     ]
    },
    {
     "name": "stdout",
     "output_type": "stream",
     "text": [
      "[CV 6/10] END hidden_layer_sizes=90, max_iter=150, solver=lbfgs; accuracy: (train=0.571, test=0.545) f1_weighted: (train=0.530, test=0.491) prec_macro: (train=0.356, test=0.265) rec_macro: (train=0.339, test=0.292) total time=   0.4s\n"
     ]
    },
    {
     "name": "stderr",
     "output_type": "stream",
     "text": [
      "/Library/Frameworks/Python.framework/Versions/3.9/lib/python3.9/site-packages/sklearn/neural_network/_multilayer_perceptron.py:549: ConvergenceWarning: lbfgs failed to converge (status=1):\n",
      "STOP: TOTAL NO. of ITERATIONS REACHED LIMIT.\n",
      "\n",
      "Increase the number of iterations (max_iter) or scale the data as shown in:\n",
      "    https://scikit-learn.org/stable/modules/preprocessing.html\n",
      "  self.n_iter_ = _check_optimize_result(\"lbfgs\", opt_res, self.max_iter)\n"
     ]
    },
    {
     "name": "stdout",
     "output_type": "stream",
     "text": [
      "[CV 7/10] END hidden_layer_sizes=90, max_iter=150, solver=lbfgs; accuracy: (train=0.548, test=0.506) f1_weighted: (train=0.504, test=0.434) prec_macro: (train=0.349, test=0.199) rec_macro: (train=0.321, test=0.253) total time=   0.5s\n"
     ]
    },
    {
     "name": "stderr",
     "output_type": "stream",
     "text": [
      "/Library/Frameworks/Python.framework/Versions/3.9/lib/python3.9/site-packages/sklearn/neural_network/_multilayer_perceptron.py:549: ConvergenceWarning: lbfgs failed to converge (status=1):\n",
      "STOP: TOTAL NO. of ITERATIONS REACHED LIMIT.\n",
      "\n",
      "Increase the number of iterations (max_iter) or scale the data as shown in:\n",
      "    https://scikit-learn.org/stable/modules/preprocessing.html\n",
      "  self.n_iter_ = _check_optimize_result(\"lbfgs\", opt_res, self.max_iter)\n",
      "/Library/Frameworks/Python.framework/Versions/3.9/lib/python3.9/site-packages/sklearn/neural_network/_multilayer_perceptron.py:549: ConvergenceWarning: lbfgs failed to converge (status=2):\n",
      "ABNORMAL_TERMINATION_IN_LNSRCH.\n",
      "\n",
      "Increase the number of iterations (max_iter) or scale the data as shown in:\n",
      "    https://scikit-learn.org/stable/modules/preprocessing.html\n",
      "  self.n_iter_ = _check_optimize_result(\"lbfgs\", opt_res, self.max_iter)\n"
     ]
    },
    {
     "name": "stdout",
     "output_type": "stream",
     "text": [
      "[CV 8/10] END hidden_layer_sizes=90, max_iter=150, solver=lbfgs; accuracy: (train=0.571, test=0.506) f1_weighted: (train=0.520, test=0.476) prec_macro: (train=0.340, test=0.462) rec_macro: (train=0.324, test=0.306) total time=   0.5s\n",
      "[CV 9/10] END hidden_layer_sizes=90, max_iter=150, solver=lbfgs; accuracy: (train=0.455, test=0.455) f1_weighted: (train=0.284, test=0.284) prec_macro: (train=0.091, test=0.091) rec_macro: (train=0.200, test=0.200) total time=   0.1s\n"
     ]
    },
    {
     "name": "stderr",
     "output_type": "stream",
     "text": [
      "/Library/Frameworks/Python.framework/Versions/3.9/lib/python3.9/site-packages/sklearn/neural_network/_multilayer_perceptron.py:549: ConvergenceWarning: lbfgs failed to converge (status=1):\n",
      "STOP: TOTAL NO. of ITERATIONS REACHED LIMIT.\n",
      "\n",
      "Increase the number of iterations (max_iter) or scale the data as shown in:\n",
      "    https://scikit-learn.org/stable/modules/preprocessing.html\n",
      "  self.n_iter_ = _check_optimize_result(\"lbfgs\", opt_res, self.max_iter)\n"
     ]
    },
    {
     "name": "stdout",
     "output_type": "stream",
     "text": [
      "[CV 10/10] END hidden_layer_sizes=90, max_iter=150, solver=lbfgs; accuracy: (train=0.561, test=0.558) f1_weighted: (train=0.518, test=0.521) prec_macro: (train=0.379, test=0.312) rec_macro: (train=0.336, test=0.332) total time=   0.4s\n",
      "[CV 1/10] END hidden_layer_sizes=90, max_iter=150, solver=sgd; accuracy: (train=0.506, test=0.513) f1_weighted: (train=0.438, test=0.450) prec_macro: (train=0.273, test=0.387) rec_macro: (train=0.262, test=0.273) total time=   0.2s\n",
      "[CV 2/10] END hidden_layer_sizes=90, max_iter=150, solver=sgd; accuracy: (train=0.503, test=0.603) f1_weighted: (train=0.424, test=0.506) prec_macro: (train=0.186, test=0.232) rec_macro: (train=0.251, test=0.307) total time=   0.3s\n",
      "[CV 3/10] END hidden_layer_sizes=90, max_iter=150, solver=sgd; accuracy: (train=0.501, test=0.468) f1_weighted: (train=0.413, test=0.378) prec_macro: (train=0.489, test=0.178) rec_macro: (train=0.252, test=0.224) total time=   0.2s\n",
      "[CV 4/10] END hidden_layer_sizes=90, max_iter=150, solver=sgd; accuracy: (train=0.504, test=0.532) f1_weighted: (train=0.468, test=0.494) prec_macro: (train=0.272, test=0.266) rec_macro: (train=0.314, test=0.309) total time=   0.2s\n",
      "[CV 5/10] END hidden_layer_sizes=90, max_iter=150, solver=sgd; accuracy: (train=0.496, test=0.519) f1_weighted: (train=0.404, test=0.466) prec_macro: (train=0.263, test=0.297) rec_macro: (train=0.247, test=0.297) total time=   0.4s\n",
      "[CV 6/10] END hidden_layer_sizes=90, max_iter=150, solver=sgd; accuracy: (train=0.506, test=0.494) f1_weighted: (train=0.424, test=0.388) prec_macro: (train=0.387, test=0.173) rec_macro: (train=0.253, test=0.232) total time=   0.4s\n",
      "[CV 7/10] END hidden_layer_sizes=90, max_iter=150, solver=sgd; accuracy: (train=0.521, test=0.442) f1_weighted: (train=0.464, test=0.377) prec_macro: (train=0.320, test=0.161) rec_macro: (train=0.286, test=0.215) total time=   0.3s\n"
     ]
    },
    {
     "name": "stderr",
     "output_type": "stream",
     "text": [
      "/Library/Frameworks/Python.framework/Versions/3.9/lib/python3.9/site-packages/sklearn/neural_network/_multilayer_perceptron.py:692: ConvergenceWarning: Stochastic Optimizer: Maximum iterations (150) reached and the optimization hasn't converged yet.\n",
      "  warnings.warn(\n"
     ]
    },
    {
     "name": "stdout",
     "output_type": "stream",
     "text": [
      "[CV 8/10] END hidden_layer_sizes=90, max_iter=150, solver=sgd; accuracy: (train=0.506, test=0.416) f1_weighted: (train=0.441, test=0.364) prec_macro: (train=0.198, test=0.162) rec_macro: (train=0.263, test=0.213) total time=   0.4s\n",
      "[CV 9/10] END hidden_layer_sizes=90, max_iter=150, solver=sgd; accuracy: (train=0.515, test=0.494) f1_weighted: (train=0.429, test=0.409) prec_macro: (train=0.190, test=0.185) rec_macro: (train=0.254, test=0.244) total time=   0.2s\n",
      "[CV 10/10] END hidden_layer_sizes=90, max_iter=150, solver=sgd; accuracy: (train=0.498, test=0.481) f1_weighted: (train=0.431, test=0.421) prec_macro: (train=0.323, test=0.193) rec_macro: (train=0.258, test=0.255) total time=   0.2s\n",
      "[CV 1/10] END hidden_layer_sizes=90, max_iter=150, solver=adam; accuracy: (train=0.565, test=0.551) f1_weighted: (train=0.524, test=0.521) prec_macro: (train=0.385, test=0.339) rec_macro: (train=0.329, test=0.334) total time=   0.4s\n",
      "[CV 2/10] END hidden_layer_sizes=90, max_iter=150, solver=adam; accuracy: (train=0.595, test=0.564) f1_weighted: (train=0.541, test=0.499) prec_macro: (train=0.513, test=0.277) rec_macro: (train=0.354, test=0.306) total time=   0.4s\n",
      "[CV 3/10] END hidden_layer_sizes=90, max_iter=150, solver=adam; accuracy: (train=0.568, test=0.571) f1_weighted: (train=0.508, test=0.518) prec_macro: (train=0.395, test=0.303) rec_macro: (train=0.341, test=0.342) total time=   0.2s\n",
      "[CV 4/10] END hidden_layer_sizes=90, max_iter=150, solver=adam; accuracy: (train=0.590, test=0.597) f1_weighted: (train=0.559, test=0.565) prec_macro: (train=0.419, test=0.368) rec_macro: (train=0.355, test=0.346) total time=   0.4s\n",
      "[CV 5/10] END hidden_layer_sizes=90, max_iter=150, solver=adam; accuracy: (train=0.567, test=0.494) f1_weighted: (train=0.529, test=0.498) prec_macro: (train=0.379, test=0.334) rec_macro: (train=0.388, test=0.307) total time=   0.4s\n",
      "[CV 6/10] END hidden_layer_sizes=90, max_iter=150, solver=adam; accuracy: (train=0.614, test=0.597) f1_weighted: (train=0.586, test=0.568) prec_macro: (train=0.611, test=0.449) rec_macro: (train=0.394, test=0.387) total time=   0.4s\n",
      "[CV 7/10] END hidden_layer_sizes=90, max_iter=150, solver=adam; accuracy: (train=0.588, test=0.481) f1_weighted: (train=0.553, test=0.416) prec_macro: (train=0.402, test=0.267) rec_macro: (train=0.351, test=0.245) total time=   0.3s\n",
      "[CV 8/10] END hidden_layer_sizes=90, max_iter=150, solver=adam; accuracy: (train=0.596, test=0.519) f1_weighted: (train=0.563, test=0.495) prec_macro: (train=0.367, test=0.294) rec_macro: (train=0.363, test=0.315) total time=   0.3s\n",
      "[CV 9/10] END hidden_layer_sizes=90, max_iter=150, solver=adam; accuracy: (train=0.587, test=0.532) f1_weighted: (train=0.525, test=0.479) prec_macro: (train=0.413, test=0.277) rec_macro: (train=0.320, test=0.291) total time=   0.3s\n",
      "[CV 10/10] END hidden_layer_sizes=90, max_iter=150, solver=adam; accuracy: (train=0.591, test=0.610) f1_weighted: (train=0.561, test=0.588) prec_macro: (train=0.373, test=0.388) rec_macro: (train=0.389, test=0.399) total time=   0.4s\n"
     ]
    },
    {
     "name": "stderr",
     "output_type": "stream",
     "text": [
      "/Library/Frameworks/Python.framework/Versions/3.9/lib/python3.9/site-packages/sklearn/neural_network/_multilayer_perceptron.py:549: ConvergenceWarning: lbfgs failed to converge (status=1):\n",
      "STOP: TOTAL NO. of ITERATIONS REACHED LIMIT.\n",
      "\n",
      "Increase the number of iterations (max_iter) or scale the data as shown in:\n",
      "    https://scikit-learn.org/stable/modules/preprocessing.html\n",
      "  self.n_iter_ = _check_optimize_result(\"lbfgs\", opt_res, self.max_iter)\n"
     ]
    },
    {
     "name": "stdout",
     "output_type": "stream",
     "text": [
      "[CV 1/10] END hidden_layer_sizes=90, max_iter=175, solver=lbfgs; accuracy: (train=0.576, test=0.577) f1_weighted: (train=0.523, test=0.519) prec_macro: (train=0.325, test=0.338) rec_macro: (train=0.325, test=0.347) total time=   0.7s\n"
     ]
    },
    {
     "name": "stderr",
     "output_type": "stream",
     "text": [
      "/Library/Frameworks/Python.framework/Versions/3.9/lib/python3.9/site-packages/sklearn/neural_network/_multilayer_perceptron.py:549: ConvergenceWarning: lbfgs failed to converge (status=1):\n",
      "STOP: TOTAL NO. of ITERATIONS REACHED LIMIT.\n",
      "\n",
      "Increase the number of iterations (max_iter) or scale the data as shown in:\n",
      "    https://scikit-learn.org/stable/modules/preprocessing.html\n",
      "  self.n_iter_ = _check_optimize_result(\"lbfgs\", opt_res, self.max_iter)\n"
     ]
    },
    {
     "name": "stdout",
     "output_type": "stream",
     "text": [
      "[CV 2/10] END hidden_layer_sizes=90, max_iter=175, solver=lbfgs; accuracy: (train=0.576, test=0.551) f1_weighted: (train=0.535, test=0.514) prec_macro: (train=0.370, test=0.340) rec_macro: (train=0.337, test=0.331) total time=   0.4s\n"
     ]
    },
    {
     "name": "stderr",
     "output_type": "stream",
     "text": [
      "/Library/Frameworks/Python.framework/Versions/3.9/lib/python3.9/site-packages/sklearn/neural_network/_multilayer_perceptron.py:549: ConvergenceWarning: lbfgs failed to converge (status=1):\n",
      "STOP: TOTAL NO. of ITERATIONS REACHED LIMIT.\n",
      "\n",
      "Increase the number of iterations (max_iter) or scale the data as shown in:\n",
      "    https://scikit-learn.org/stable/modules/preprocessing.html\n",
      "  self.n_iter_ = _check_optimize_result(\"lbfgs\", opt_res, self.max_iter)\n"
     ]
    },
    {
     "name": "stdout",
     "output_type": "stream",
     "text": [
      "[CV 3/10] END hidden_layer_sizes=90, max_iter=175, solver=lbfgs; accuracy: (train=0.558, test=0.584) f1_weighted: (train=0.521, test=0.536) prec_macro: (train=0.550, test=0.332) rec_macro: (train=0.353, test=0.340) total time=   0.6s\n"
     ]
    },
    {
     "name": "stderr",
     "output_type": "stream",
     "text": [
      "/Library/Frameworks/Python.framework/Versions/3.9/lib/python3.9/site-packages/sklearn/neural_network/_multilayer_perceptron.py:549: ConvergenceWarning: lbfgs failed to converge (status=1):\n",
      "STOP: TOTAL NO. of ITERATIONS REACHED LIMIT.\n",
      "\n",
      "Increase the number of iterations (max_iter) or scale the data as shown in:\n",
      "    https://scikit-learn.org/stable/modules/preprocessing.html\n",
      "  self.n_iter_ = _check_optimize_result(\"lbfgs\", opt_res, self.max_iter)\n"
     ]
    },
    {
     "name": "stdout",
     "output_type": "stream",
     "text": [
      "[CV 4/10] END hidden_layer_sizes=90, max_iter=175, solver=lbfgs; accuracy: (train=0.584, test=0.584) f1_weighted: (train=0.535, test=0.521) prec_macro: (train=0.597, test=0.238) rec_macro: (train=0.348, test=0.302) total time=   0.7s\n"
     ]
    },
    {
     "name": "stderr",
     "output_type": "stream",
     "text": [
      "/Library/Frameworks/Python.framework/Versions/3.9/lib/python3.9/site-packages/sklearn/neural_network/_multilayer_perceptron.py:549: ConvergenceWarning: lbfgs failed to converge (status=1):\n",
      "STOP: TOTAL NO. of ITERATIONS REACHED LIMIT.\n",
      "\n",
      "Increase the number of iterations (max_iter) or scale the data as shown in:\n",
      "    https://scikit-learn.org/stable/modules/preprocessing.html\n",
      "  self.n_iter_ = _check_optimize_result(\"lbfgs\", opt_res, self.max_iter)\n"
     ]
    },
    {
     "name": "stdout",
     "output_type": "stream",
     "text": [
      "[CV 5/10] END hidden_layer_sizes=90, max_iter=175, solver=lbfgs; accuracy: (train=0.563, test=0.571) f1_weighted: (train=0.514, test=0.535) prec_macro: (train=0.370, test=0.318) rec_macro: (train=0.332, test=0.335) total time=   0.4s\n"
     ]
    },
    {
     "name": "stderr",
     "output_type": "stream",
     "text": [
      "/Library/Frameworks/Python.framework/Versions/3.9/lib/python3.9/site-packages/sklearn/neural_network/_multilayer_perceptron.py:549: ConvergenceWarning: lbfgs failed to converge (status=1):\n",
      "STOP: TOTAL NO. of ITERATIONS REACHED LIMIT.\n",
      "\n",
      "Increase the number of iterations (max_iter) or scale the data as shown in:\n",
      "    https://scikit-learn.org/stable/modules/preprocessing.html\n",
      "  self.n_iter_ = _check_optimize_result(\"lbfgs\", opt_res, self.max_iter)\n"
     ]
    },
    {
     "name": "stdout",
     "output_type": "stream",
     "text": [
      "[CV 6/10] END hidden_layer_sizes=90, max_iter=175, solver=lbfgs; accuracy: (train=0.577, test=0.519) f1_weighted: (train=0.534, test=0.465) prec_macro: (train=0.397, test=0.297) rec_macro: (train=0.340, test=0.275) total time=   0.5s\n"
     ]
    },
    {
     "name": "stderr",
     "output_type": "stream",
     "text": [
      "/Library/Frameworks/Python.framework/Versions/3.9/lib/python3.9/site-packages/sklearn/neural_network/_multilayer_perceptron.py:549: ConvergenceWarning: lbfgs failed to converge (status=1):\n",
      "STOP: TOTAL NO. of ITERATIONS REACHED LIMIT.\n",
      "\n",
      "Increase the number of iterations (max_iter) or scale the data as shown in:\n",
      "    https://scikit-learn.org/stable/modules/preprocessing.html\n",
      "  self.n_iter_ = _check_optimize_result(\"lbfgs\", opt_res, self.max_iter)\n"
     ]
    },
    {
     "name": "stdout",
     "output_type": "stream",
     "text": [
      "[CV 7/10] END hidden_layer_sizes=90, max_iter=175, solver=lbfgs; accuracy: (train=0.555, test=0.519) f1_weighted: (train=0.519, test=0.455) prec_macro: (train=0.359, test=0.206) rec_macro: (train=0.325, test=0.269) total time=   0.5s\n"
     ]
    },
    {
     "name": "stderr",
     "output_type": "stream",
     "text": [
      "/Library/Frameworks/Python.framework/Versions/3.9/lib/python3.9/site-packages/sklearn/neural_network/_multilayer_perceptron.py:549: ConvergenceWarning: lbfgs failed to converge (status=1):\n",
      "STOP: TOTAL NO. of ITERATIONS REACHED LIMIT.\n",
      "\n",
      "Increase the number of iterations (max_iter) or scale the data as shown in:\n",
      "    https://scikit-learn.org/stable/modules/preprocessing.html\n",
      "  self.n_iter_ = _check_optimize_result(\"lbfgs\", opt_res, self.max_iter)\n"
     ]
    },
    {
     "name": "stdout",
     "output_type": "stream",
     "text": [
      "[CV 8/10] END hidden_layer_sizes=90, max_iter=175, solver=lbfgs; accuracy: (train=0.570, test=0.481) f1_weighted: (train=0.525, test=0.455) prec_macro: (train=0.549, test=0.280) rec_macro: (train=0.336, test=0.295) total time=   0.5s\n"
     ]
    },
    {
     "name": "stderr",
     "output_type": "stream",
     "text": [
      "/Library/Frameworks/Python.framework/Versions/3.9/lib/python3.9/site-packages/sklearn/neural_network/_multilayer_perceptron.py:549: ConvergenceWarning: lbfgs failed to converge (status=1):\n",
      "STOP: TOTAL NO. of ITERATIONS REACHED LIMIT.\n",
      "\n",
      "Increase the number of iterations (max_iter) or scale the data as shown in:\n",
      "    https://scikit-learn.org/stable/modules/preprocessing.html\n",
      "  self.n_iter_ = _check_optimize_result(\"lbfgs\", opt_res, self.max_iter)\n"
     ]
    },
    {
     "name": "stdout",
     "output_type": "stream",
     "text": [
      "[CV 9/10] END hidden_layer_sizes=90, max_iter=175, solver=lbfgs; accuracy: (train=0.567, test=0.532) f1_weighted: (train=0.512, test=0.470) prec_macro: (train=0.331, test=0.402) rec_macro: (train=0.308, test=0.285) total time=   0.6s\n"
     ]
    },
    {
     "name": "stderr",
     "output_type": "stream",
     "text": [
      "/Library/Frameworks/Python.framework/Versions/3.9/lib/python3.9/site-packages/sklearn/neural_network/_multilayer_perceptron.py:549: ConvergenceWarning: lbfgs failed to converge (status=1):\n",
      "STOP: TOTAL NO. of ITERATIONS REACHED LIMIT.\n",
      "\n",
      "Increase the number of iterations (max_iter) or scale the data as shown in:\n",
      "    https://scikit-learn.org/stable/modules/preprocessing.html\n",
      "  self.n_iter_ = _check_optimize_result(\"lbfgs\", opt_res, self.max_iter)\n"
     ]
    },
    {
     "name": "stdout",
     "output_type": "stream",
     "text": [
      "[CV 10/10] END hidden_layer_sizes=90, max_iter=175, solver=lbfgs; accuracy: (train=0.577, test=0.558) f1_weighted: (train=0.532, test=0.515) prec_macro: (train=0.422, test=0.276) rec_macro: (train=0.333, test=0.312) total time=   0.8s\n"
     ]
    },
    {
     "name": "stderr",
     "output_type": "stream",
     "text": [
      "/Library/Frameworks/Python.framework/Versions/3.9/lib/python3.9/site-packages/sklearn/neural_network/_multilayer_perceptron.py:692: ConvergenceWarning: Stochastic Optimizer: Maximum iterations (175) reached and the optimization hasn't converged yet.\n",
      "  warnings.warn(\n"
     ]
    },
    {
     "name": "stdout",
     "output_type": "stream",
     "text": [
      "[CV 1/10] END hidden_layer_sizes=90, max_iter=175, solver=sgd; accuracy: (train=0.503, test=0.487) f1_weighted: (train=0.416, test=0.398) prec_macro: (train=0.186, test=0.169) rec_macro: (train=0.248, test=0.232) total time=   0.6s\n",
      "[CV 2/10] END hidden_layer_sizes=90, max_iter=175, solver=sgd; accuracy: (train=0.506, test=0.551) f1_weighted: (train=0.432, test=0.467) prec_macro: (train=0.390, test=0.213) rec_macro: (train=0.257, test=0.284) total time=   0.4s\n",
      "[CV 3/10] END hidden_layer_sizes=90, max_iter=175, solver=sgd; accuracy: (train=0.498, test=0.532) f1_weighted: (train=0.424, test=0.463) prec_macro: (train=0.279, test=0.312) rec_macro: (train=0.260, test=0.283) total time=   0.2s\n",
      "[CV 4/10] END hidden_layer_sizes=90, max_iter=175, solver=sgd; accuracy: (train=0.501, test=0.558) f1_weighted: (train=0.444, test=0.498) prec_macro: (train=0.254, test=0.230) rec_macro: (train=0.267, test=0.293) total time=   0.4s\n",
      "[CV 5/10] END hidden_layer_sizes=90, max_iter=175, solver=sgd; accuracy: (train=0.468, test=0.455) f1_weighted: (train=0.363, test=0.377) prec_macro: (train=0.206, test=0.214) rec_macro: (train=0.225, test=0.242) total time=   0.1s\n"
     ]
    },
    {
     "name": "stderr",
     "output_type": "stream",
     "text": [
      "/Library/Frameworks/Python.framework/Versions/3.9/lib/python3.9/site-packages/sklearn/neural_network/_multilayer_perceptron.py:692: ConvergenceWarning: Stochastic Optimizer: Maximum iterations (175) reached and the optimization hasn't converged yet.\n",
      "  warnings.warn(\n"
     ]
    },
    {
     "name": "stdout",
     "output_type": "stream",
     "text": [
      "[CV 6/10] END hidden_layer_sizes=90, max_iter=175, solver=sgd; accuracy: (train=0.514, test=0.519) f1_weighted: (train=0.440, test=0.420) prec_macro: (train=0.281, test=0.192) rec_macro: (train=0.265, test=0.249) total time=   0.5s\n",
      "[CV 7/10] END hidden_layer_sizes=90, max_iter=175, solver=sgd; accuracy: (train=0.505, test=0.481) f1_weighted: (train=0.429, test=0.382) prec_macro: (train=0.262, test=0.163) rec_macro: (train=0.256, test=0.228) total time=   0.4s\n",
      "[CV 8/10] END hidden_layer_sizes=90, max_iter=175, solver=sgd; accuracy: (train=0.494, test=0.429) f1_weighted: (train=0.396, test=0.341) prec_macro: (train=0.180, test=0.142) rec_macro: (train=0.237, test=0.202) total time=   0.6s\n",
      "[CV 9/10] END hidden_layer_sizes=90, max_iter=175, solver=sgd; accuracy: (train=0.504, test=0.494) f1_weighted: (train=0.442, test=0.428) prec_macro: (train=0.267, test=0.383) rec_macro: (train=0.269, test=0.264) total time=   0.6s\n",
      "[CV 10/10] END hidden_layer_sizes=90, max_iter=175, solver=sgd; accuracy: (train=0.486, test=0.532) f1_weighted: (train=0.378, test=0.433) prec_macro: (train=0.371, test=0.204) rec_macro: (train=0.230, test=0.261) total time=   0.4s\n",
      "[CV 1/10] END hidden_layer_sizes=90, max_iter=175, solver=adam; accuracy: (train=0.594, test=0.577) f1_weighted: (train=0.557, test=0.519) prec_macro: (train=0.400, test=0.296) rec_macro: (train=0.364, test=0.328) total time=   0.4s\n",
      "[CV 2/10] END hidden_layer_sizes=90, max_iter=175, solver=adam; accuracy: (train=0.578, test=0.500) f1_weighted: (train=0.547, test=0.464) prec_macro: (train=0.509, test=0.255) rec_macro: (train=0.382, test=0.260) total time=   0.4s\n",
      "[CV 3/10] END hidden_layer_sizes=90, max_iter=175, solver=adam; accuracy: (train=0.581, test=0.597) f1_weighted: (train=0.541, test=0.565) prec_macro: (train=0.382, test=0.499) rec_macro: (train=0.338, test=0.360) total time=   0.3s\n",
      "[CV 4/10] END hidden_layer_sizes=90, max_iter=175, solver=adam; accuracy: (train=0.603, test=0.610) f1_weighted: (train=0.566, test=0.567) prec_macro: (train=0.412, test=0.368) rec_macro: (train=0.369, test=0.370) total time=   0.3s\n",
      "[CV 5/10] END hidden_layer_sizes=90, max_iter=175, solver=adam; accuracy: (train=0.588, test=0.571) f1_weighted: (train=0.562, test=0.550) prec_macro: (train=0.372, test=0.406) rec_macro: (train=0.376, test=0.378) total time=   0.5s\n",
      "[CV 6/10] END hidden_layer_sizes=90, max_iter=175, solver=adam; accuracy: (train=0.581, test=0.558) f1_weighted: (train=0.528, test=0.491) prec_macro: (train=0.362, test=0.221) rec_macro: (train=0.331, test=0.284) total time=   0.3s\n",
      "[CV 7/10] END hidden_layer_sizes=90, max_iter=175, solver=adam; accuracy: (train=0.571, test=0.429) f1_weighted: (train=0.542, test=0.408) prec_macro: (train=0.380, test=0.235) rec_macro: (train=0.356, test=0.246) total time=   0.4s\n",
      "[CV 8/10] END hidden_layer_sizes=90, max_iter=175, solver=adam; accuracy: (train=0.564, test=0.519) f1_weighted: (train=0.556, test=0.516) prec_macro: (train=0.386, test=0.376) rec_macro: (train=0.387, test=0.401) total time=   0.3s\n",
      "[CV 9/10] END hidden_layer_sizes=90, max_iter=175, solver=adam; accuracy: (train=0.578, test=0.506) f1_weighted: (train=0.537, test=0.463) prec_macro: (train=0.372, test=0.403) rec_macro: (train=0.333, test=0.280) total time=   0.3s\n",
      "[CV 10/10] END hidden_layer_sizes=90, max_iter=175, solver=adam; accuracy: (train=0.590, test=0.558) f1_weighted: (train=0.550, test=0.524) prec_macro: (train=0.383, test=0.335) rec_macro: (train=0.345, test=0.306) total time=   0.4s\n"
     ]
    },
    {
     "name": "stderr",
     "output_type": "stream",
     "text": [
      "/Library/Frameworks/Python.framework/Versions/3.9/lib/python3.9/site-packages/sklearn/neural_network/_multilayer_perceptron.py:549: ConvergenceWarning: lbfgs failed to converge (status=1):\n",
      "STOP: TOTAL NO. of ITERATIONS REACHED LIMIT.\n",
      "\n",
      "Increase the number of iterations (max_iter) or scale the data as shown in:\n",
      "    https://scikit-learn.org/stable/modules/preprocessing.html\n",
      "  self.n_iter_ = _check_optimize_result(\"lbfgs\", opt_res, self.max_iter)\n"
     ]
    },
    {
     "name": "stdout",
     "output_type": "stream",
     "text": [
      "[CV 1/10] END hidden_layer_sizes=90, max_iter=200, solver=lbfgs; accuracy: (train=0.592, test=0.603) f1_weighted: (train=0.542, test=0.546) prec_macro: (train=0.342, test=0.337) rec_macro: (train=0.342, test=0.353) total time=   0.7s\n"
     ]
    },
    {
     "name": "stderr",
     "output_type": "stream",
     "text": [
      "/Library/Frameworks/Python.framework/Versions/3.9/lib/python3.9/site-packages/sklearn/neural_network/_multilayer_perceptron.py:549: ConvergenceWarning: lbfgs failed to converge (status=1):\n",
      "STOP: TOTAL NO. of ITERATIONS REACHED LIMIT.\n",
      "\n",
      "Increase the number of iterations (max_iter) or scale the data as shown in:\n",
      "    https://scikit-learn.org/stable/modules/preprocessing.html\n",
      "  self.n_iter_ = _check_optimize_result(\"lbfgs\", opt_res, self.max_iter)\n"
     ]
    },
    {
     "name": "stdout",
     "output_type": "stream",
     "text": [
      "[CV 2/10] END hidden_layer_sizes=90, max_iter=200, solver=lbfgs; accuracy: (train=0.581, test=0.564) f1_weighted: (train=0.540, test=0.528) prec_macro: (train=0.566, test=0.296) rec_macro: (train=0.354, test=0.326) total time=   0.5s\n"
     ]
    },
    {
     "name": "stderr",
     "output_type": "stream",
     "text": [
      "/Library/Frameworks/Python.framework/Versions/3.9/lib/python3.9/site-packages/sklearn/neural_network/_multilayer_perceptron.py:549: ConvergenceWarning: lbfgs failed to converge (status=1):\n",
      "STOP: TOTAL NO. of ITERATIONS REACHED LIMIT.\n",
      "\n",
      "Increase the number of iterations (max_iter) or scale the data as shown in:\n",
      "    https://scikit-learn.org/stable/modules/preprocessing.html\n",
      "  self.n_iter_ = _check_optimize_result(\"lbfgs\", opt_res, self.max_iter)\n"
     ]
    },
    {
     "name": "stdout",
     "output_type": "stream",
     "text": [
      "[CV 3/10] END hidden_layer_sizes=90, max_iter=200, solver=lbfgs; accuracy: (train=0.550, test=0.571) f1_weighted: (train=0.507, test=0.517) prec_macro: (train=0.327, test=0.293) rec_macro: (train=0.310, test=0.309) total time=   0.5s\n"
     ]
    },
    {
     "name": "stderr",
     "output_type": "stream",
     "text": [
      "/Library/Frameworks/Python.framework/Versions/3.9/lib/python3.9/site-packages/sklearn/neural_network/_multilayer_perceptron.py:549: ConvergenceWarning: lbfgs failed to converge (status=1):\n",
      "STOP: TOTAL NO. of ITERATIONS REACHED LIMIT.\n",
      "\n",
      "Increase the number of iterations (max_iter) or scale the data as shown in:\n",
      "    https://scikit-learn.org/stable/modules/preprocessing.html\n",
      "  self.n_iter_ = _check_optimize_result(\"lbfgs\", opt_res, self.max_iter)\n"
     ]
    },
    {
     "name": "stdout",
     "output_type": "stream",
     "text": [
      "[CV 4/10] END hidden_layer_sizes=90, max_iter=200, solver=lbfgs; accuracy: (train=0.583, test=0.623) f1_weighted: (train=0.536, test=0.578) prec_macro: (train=0.371, test=0.325) rec_macro: (train=0.336, test=0.358) total time=   0.5s\n"
     ]
    },
    {
     "name": "stderr",
     "output_type": "stream",
     "text": [
      "/Library/Frameworks/Python.framework/Versions/3.9/lib/python3.9/site-packages/sklearn/neural_network/_multilayer_perceptron.py:549: ConvergenceWarning: lbfgs failed to converge (status=1):\n",
      "STOP: TOTAL NO. of ITERATIONS REACHED LIMIT.\n",
      "\n",
      "Increase the number of iterations (max_iter) or scale the data as shown in:\n",
      "    https://scikit-learn.org/stable/modules/preprocessing.html\n",
      "  self.n_iter_ = _check_optimize_result(\"lbfgs\", opt_res, self.max_iter)\n"
     ]
    },
    {
     "name": "stdout",
     "output_type": "stream",
     "text": [
      "[CV 5/10] END hidden_layer_sizes=90, max_iter=200, solver=lbfgs; accuracy: (train=0.583, test=0.571) f1_weighted: (train=0.528, test=0.529) prec_macro: (train=0.375, test=0.333) rec_macro: (train=0.328, test=0.338) total time=   0.5s\n"
     ]
    },
    {
     "name": "stderr",
     "output_type": "stream",
     "text": [
      "/Library/Frameworks/Python.framework/Versions/3.9/lib/python3.9/site-packages/sklearn/neural_network/_multilayer_perceptron.py:549: ConvergenceWarning: lbfgs failed to converge (status=1):\n",
      "STOP: TOTAL NO. of ITERATIONS REACHED LIMIT.\n",
      "\n",
      "Increase the number of iterations (max_iter) or scale the data as shown in:\n",
      "    https://scikit-learn.org/stable/modules/preprocessing.html\n",
      "  self.n_iter_ = _check_optimize_result(\"lbfgs\", opt_res, self.max_iter)\n"
     ]
    },
    {
     "name": "stdout",
     "output_type": "stream",
     "text": [
      "[CV 6/10] END hidden_layer_sizes=90, max_iter=200, solver=lbfgs; accuracy: (train=0.584, test=0.584) f1_weighted: (train=0.537, test=0.518) prec_macro: (train=0.383, test=0.235) rec_macro: (train=0.331, test=0.299) total time=   0.4s\n"
     ]
    },
    {
     "name": "stderr",
     "output_type": "stream",
     "text": [
      "/Library/Frameworks/Python.framework/Versions/3.9/lib/python3.9/site-packages/sklearn/neural_network/_multilayer_perceptron.py:549: ConvergenceWarning: lbfgs failed to converge (status=1):\n",
      "STOP: TOTAL NO. of ITERATIONS REACHED LIMIT.\n",
      "\n",
      "Increase the number of iterations (max_iter) or scale the data as shown in:\n",
      "    https://scikit-learn.org/stable/modules/preprocessing.html\n",
      "  self.n_iter_ = _check_optimize_result(\"lbfgs\", opt_res, self.max_iter)\n"
     ]
    },
    {
     "name": "stdout",
     "output_type": "stream",
     "text": [
      "[CV 7/10] END hidden_layer_sizes=90, max_iter=200, solver=lbfgs; accuracy: (train=0.591, test=0.506) f1_weighted: (train=0.542, test=0.439) prec_macro: (train=0.351, test=0.196) rec_macro: (train=0.340, test=0.257) total time=   0.7s\n"
     ]
    },
    {
     "name": "stderr",
     "output_type": "stream",
     "text": [
      "/Library/Frameworks/Python.framework/Versions/3.9/lib/python3.9/site-packages/sklearn/neural_network/_multilayer_perceptron.py:549: ConvergenceWarning: lbfgs failed to converge (status=1):\n",
      "STOP: TOTAL NO. of ITERATIONS REACHED LIMIT.\n",
      "\n",
      "Increase the number of iterations (max_iter) or scale the data as shown in:\n",
      "    https://scikit-learn.org/stable/modules/preprocessing.html\n",
      "  self.n_iter_ = _check_optimize_result(\"lbfgs\", opt_res, self.max_iter)\n"
     ]
    },
    {
     "name": "stdout",
     "output_type": "stream",
     "text": [
      "[CV 8/10] END hidden_layer_sizes=90, max_iter=200, solver=lbfgs; accuracy: (train=0.590, test=0.532) f1_weighted: (train=0.539, test=0.497) prec_macro: (train=0.330, test=0.302) rec_macro: (train=0.339, test=0.328) total time=   1.0s\n"
     ]
    },
    {
     "name": "stderr",
     "output_type": "stream",
     "text": [
      "/Library/Frameworks/Python.framework/Versions/3.9/lib/python3.9/site-packages/sklearn/neural_network/_multilayer_perceptron.py:549: ConvergenceWarning: lbfgs failed to converge (status=1):\n",
      "STOP: TOTAL NO. of ITERATIONS REACHED LIMIT.\n",
      "\n",
      "Increase the number of iterations (max_iter) or scale the data as shown in:\n",
      "    https://scikit-learn.org/stable/modules/preprocessing.html\n",
      "  self.n_iter_ = _check_optimize_result(\"lbfgs\", opt_res, self.max_iter)\n"
     ]
    },
    {
     "name": "stdout",
     "output_type": "stream",
     "text": [
      "[CV 9/10] END hidden_layer_sizes=90, max_iter=200, solver=lbfgs; accuracy: (train=0.567, test=0.558) f1_weighted: (train=0.527, test=0.504) prec_macro: (train=0.371, test=0.324) rec_macro: (train=0.329, test=0.309) total time=   0.7s\n"
     ]
    },
    {
     "name": "stderr",
     "output_type": "stream",
     "text": [
      "/Library/Frameworks/Python.framework/Versions/3.9/lib/python3.9/site-packages/sklearn/neural_network/_multilayer_perceptron.py:549: ConvergenceWarning: lbfgs failed to converge (status=1):\n",
      "STOP: TOTAL NO. of ITERATIONS REACHED LIMIT.\n",
      "\n",
      "Increase the number of iterations (max_iter) or scale the data as shown in:\n",
      "    https://scikit-learn.org/stable/modules/preprocessing.html\n",
      "  self.n_iter_ = _check_optimize_result(\"lbfgs\", opt_res, self.max_iter)\n"
     ]
    },
    {
     "name": "stdout",
     "output_type": "stream",
     "text": [
      "[CV 10/10] END hidden_layer_sizes=90, max_iter=200, solver=lbfgs; accuracy: (train=0.583, test=0.584) f1_weighted: (train=0.544, test=0.551) prec_macro: (train=0.378, test=0.337) rec_macro: (train=0.346, test=0.340) total time=   0.7s\n",
      "[CV 1/10] END hidden_layer_sizes=90, max_iter=200, solver=sgd; accuracy: (train=0.491, test=0.487) f1_weighted: (train=0.402, test=0.389) prec_macro: (train=0.178, test=0.164) rec_macro: (train=0.239, test=0.229) total time=   0.5s\n"
     ]
    },
    {
     "name": "stderr",
     "output_type": "stream",
     "text": [
      "/Library/Frameworks/Python.framework/Versions/3.9/lib/python3.9/site-packages/sklearn/neural_network/_multilayer_perceptron.py:692: ConvergenceWarning: Stochastic Optimizer: Maximum iterations (200) reached and the optimization hasn't converged yet.\n",
      "  warnings.warn(\n"
     ]
    },
    {
     "name": "stdout",
     "output_type": "stream",
     "text": [
      "[CV 2/10] END hidden_layer_sizes=90, max_iter=200, solver=sgd; accuracy: (train=0.493, test=0.513) f1_weighted: (train=0.413, test=0.412) prec_macro: (train=0.480, test=0.188) rec_macro: (train=0.246, test=0.249) total time=   0.6s\n",
      "[CV 3/10] END hidden_layer_sizes=90, max_iter=200, solver=sgd; accuracy: (train=0.499, test=0.494) f1_weighted: (train=0.458, test=0.454) prec_macro: (train=0.258, test=0.272) rec_macro: (train=0.309, test=0.305) total time=   0.2s\n",
      "[CV 4/10] END hidden_layer_sizes=90, max_iter=200, solver=sgd; accuracy: (train=0.496, test=0.532) f1_weighted: (train=0.410, test=0.428) prec_macro: (train=0.315, test=0.214) rec_macro: (train=0.251, test=0.255) total time=   0.4s\n",
      "[CV 5/10] END hidden_layer_sizes=90, max_iter=200, solver=sgd; accuracy: (train=0.508, test=0.545) f1_weighted: (train=0.447, test=0.501) prec_macro: (train=0.283, test=0.314) rec_macro: (train=0.279, test=0.317) total time=   0.3s\n"
     ]
    },
    {
     "name": "stderr",
     "output_type": "stream",
     "text": [
      "/Library/Frameworks/Python.framework/Versions/3.9/lib/python3.9/site-packages/sklearn/neural_network/_multilayer_perceptron.py:692: ConvergenceWarning: Stochastic Optimizer: Maximum iterations (200) reached and the optimization hasn't converged yet.\n",
      "  warnings.warn(\n"
     ]
    },
    {
     "name": "stdout",
     "output_type": "stream",
     "text": [
      "[CV 6/10] END hidden_layer_sizes=90, max_iter=200, solver=sgd; accuracy: (train=0.511, test=0.506) f1_weighted: (train=0.450, test=0.416) prec_macro: (train=0.265, test=0.257) rec_macro: (train=0.288, test=0.273) total time=   0.6s\n",
      "[CV 7/10] END hidden_layer_sizes=90, max_iter=200, solver=sgd; accuracy: (train=0.511, test=0.468) f1_weighted: (train=0.448, test=0.397) prec_macro: (train=0.276, test=0.357) rec_macro: (train=0.276, test=0.239) total time=   0.3s\n",
      "[CV 8/10] END hidden_layer_sizes=90, max_iter=200, solver=sgd; accuracy: (train=0.515, test=0.429) f1_weighted: (train=0.446, test=0.369) prec_macro: (train=0.201, test=0.161) rec_macro: (train=0.268, test=0.216) total time=   0.3s\n",
      "[CV 9/10] END hidden_layer_sizes=90, max_iter=200, solver=sgd; accuracy: (train=0.515, test=0.494) f1_weighted: (train=0.444, test=0.416) prec_macro: (train=0.296, test=0.186) rec_macro: (train=0.264, test=0.251) total time=   0.4s\n"
     ]
    },
    {
     "name": "stderr",
     "output_type": "stream",
     "text": [
      "/Library/Frameworks/Python.framework/Versions/3.9/lib/python3.9/site-packages/sklearn/neural_network/_multilayer_perceptron.py:692: ConvergenceWarning: Stochastic Optimizer: Maximum iterations (200) reached and the optimization hasn't converged yet.\n",
      "  warnings.warn(\n"
     ]
    },
    {
     "name": "stdout",
     "output_type": "stream",
     "text": [
      "[CV 10/10] END hidden_layer_sizes=90, max_iter=200, solver=sgd; accuracy: (train=0.456, test=0.468) f1_weighted: (train=0.290, test=0.311) prec_macro: (train=0.391, test=0.292) rec_macro: (train=0.203, test=0.209) total time=   0.6s\n",
      "[CV 1/10] END hidden_layer_sizes=90, max_iter=200, solver=adam; accuracy: (train=0.586, test=0.577) f1_weighted: (train=0.526, test=0.491) prec_macro: (train=0.366, test=0.220) rec_macro: (train=0.331, test=0.296) total time=   0.4s\n",
      "[CV 2/10] END hidden_layer_sizes=90, max_iter=200, solver=adam; accuracy: (train=0.599, test=0.615) f1_weighted: (train=0.560, test=0.571) prec_macro: (train=0.418, test=0.330) rec_macro: (train=0.374, test=0.377) total time=   0.5s\n",
      "[CV 3/10] END hidden_layer_sizes=90, max_iter=200, solver=adam; accuracy: (train=0.578, test=0.623) f1_weighted: (train=0.528, test=0.573) prec_macro: (train=0.403, test=0.358) rec_macro: (train=0.326, test=0.344) total time=   0.5s\n",
      "[CV 4/10] END hidden_layer_sizes=90, max_iter=200, solver=adam; accuracy: (train=0.564, test=0.597) f1_weighted: (train=0.496, test=0.530) prec_macro: (train=0.295, test=0.308) rec_macro: (train=0.337, test=0.345) total time=   0.3s\n",
      "[CV 5/10] END hidden_layer_sizes=90, max_iter=200, solver=adam; accuracy: (train=0.512, test=0.519) f1_weighted: (train=0.467, test=0.470) prec_macro: (train=0.384, test=0.245) rec_macro: (train=0.298, test=0.288) total time=   0.3s\n",
      "[CV 6/10] END hidden_layer_sizes=90, max_iter=200, solver=adam; accuracy: (train=0.600, test=0.532) f1_weighted: (train=0.570, test=0.488) prec_macro: (train=0.377, test=0.259) rec_macro: (train=0.357, test=0.287) total time=   0.5s\n",
      "[CV 7/10] END hidden_layer_sizes=90, max_iter=200, solver=adam; accuracy: (train=0.548, test=0.481) f1_weighted: (train=0.476, test=0.374) prec_macro: (train=0.361, test=0.176) rec_macro: (train=0.329, test=0.222) total time=   0.3s\n",
      "[CV 8/10] END hidden_layer_sizes=90, max_iter=200, solver=adam; accuracy: (train=0.588, test=0.519) f1_weighted: (train=0.554, test=0.484) prec_macro: (train=0.351, test=0.270) rec_macro: (train=0.353, test=0.299) total time=   0.4s\n",
      "[CV 9/10] END hidden_layer_sizes=90, max_iter=200, solver=adam; accuracy: (train=0.564, test=0.519) f1_weighted: (train=0.526, test=0.483) prec_macro: (train=0.371, test=0.285) rec_macro: (train=0.323, test=0.289) total time=   0.3s\n",
      "[CV 10/10] END hidden_layer_sizes=90, max_iter=200, solver=adam; accuracy: (train=0.578, test=0.571) f1_weighted: (train=0.528, test=0.515) prec_macro: (train=0.337, test=0.247) rec_macro: (train=0.326, test=0.309) total time=   0.3s\n"
     ]
    },
    {
     "name": "stderr",
     "output_type": "stream",
     "text": [
      "/Library/Frameworks/Python.framework/Versions/3.9/lib/python3.9/site-packages/sklearn/neural_network/_multilayer_perceptron.py:549: ConvergenceWarning: lbfgs failed to converge (status=1):\n",
      "STOP: TOTAL NO. of ITERATIONS REACHED LIMIT.\n",
      "\n",
      "Increase the number of iterations (max_iter) or scale the data as shown in:\n",
      "    https://scikit-learn.org/stable/modules/preprocessing.html\n",
      "  self.n_iter_ = _check_optimize_result(\"lbfgs\", opt_res, self.max_iter)\n"
     ]
    },
    {
     "name": "stdout",
     "output_type": "stream",
     "text": [
      "[CV 1/10] END hidden_layer_sizes=90, max_iter=225, solver=lbfgs; accuracy: (train=0.561, test=0.538) f1_weighted: (train=0.510, test=0.482) prec_macro: (train=0.327, test=0.307) rec_macro: (train=0.309, test=0.292) total time=   1.3s\n"
     ]
    },
    {
     "name": "stderr",
     "output_type": "stream",
     "text": [
      "/Library/Frameworks/Python.framework/Versions/3.9/lib/python3.9/site-packages/sklearn/neural_network/_multilayer_perceptron.py:549: ConvergenceWarning: lbfgs failed to converge (status=1):\n",
      "STOP: TOTAL NO. of ITERATIONS REACHED LIMIT.\n",
      "\n",
      "Increase the number of iterations (max_iter) or scale the data as shown in:\n",
      "    https://scikit-learn.org/stable/modules/preprocessing.html\n",
      "  self.n_iter_ = _check_optimize_result(\"lbfgs\", opt_res, self.max_iter)\n"
     ]
    },
    {
     "name": "stdout",
     "output_type": "stream",
     "text": [
      "[CV 2/10] END hidden_layer_sizes=90, max_iter=225, solver=lbfgs; accuracy: (train=0.566, test=0.551) f1_weighted: (train=0.529, test=0.525) prec_macro: (train=0.444, test=0.343) rec_macro: (train=0.333, test=0.331) total time=   0.5s\n"
     ]
    },
    {
     "name": "stderr",
     "output_type": "stream",
     "text": [
      "/Library/Frameworks/Python.framework/Versions/3.9/lib/python3.9/site-packages/sklearn/neural_network/_multilayer_perceptron.py:549: ConvergenceWarning: lbfgs failed to converge (status=1):\n",
      "STOP: TOTAL NO. of ITERATIONS REACHED LIMIT.\n",
      "\n",
      "Increase the number of iterations (max_iter) or scale the data as shown in:\n",
      "    https://scikit-learn.org/stable/modules/preprocessing.html\n",
      "  self.n_iter_ = _check_optimize_result(\"lbfgs\", opt_res, self.max_iter)\n"
     ]
    },
    {
     "name": "stdout",
     "output_type": "stream",
     "text": [
      "[CV 3/10] END hidden_layer_sizes=90, max_iter=225, solver=lbfgs; accuracy: (train=0.593, test=0.610) f1_weighted: (train=0.549, test=0.564) prec_macro: (train=0.394, test=0.360) rec_macro: (train=0.350, test=0.371) total time=   0.8s\n"
     ]
    },
    {
     "name": "stderr",
     "output_type": "stream",
     "text": [
      "/Library/Frameworks/Python.framework/Versions/3.9/lib/python3.9/site-packages/sklearn/neural_network/_multilayer_perceptron.py:549: ConvergenceWarning: lbfgs failed to converge (status=1):\n",
      "STOP: TOTAL NO. of ITERATIONS REACHED LIMIT.\n",
      "\n",
      "Increase the number of iterations (max_iter) or scale the data as shown in:\n",
      "    https://scikit-learn.org/stable/modules/preprocessing.html\n",
      "  self.n_iter_ = _check_optimize_result(\"lbfgs\", opt_res, self.max_iter)\n"
     ]
    },
    {
     "name": "stdout",
     "output_type": "stream",
     "text": [
      "[CV 4/10] END hidden_layer_sizes=90, max_iter=225, solver=lbfgs; accuracy: (train=0.586, test=0.571) f1_weighted: (train=0.538, test=0.513) prec_macro: (train=0.353, test=0.234) rec_macro: (train=0.340, test=0.290) total time=   0.6s\n"
     ]
    },
    {
     "name": "stderr",
     "output_type": "stream",
     "text": [
      "/Library/Frameworks/Python.framework/Versions/3.9/lib/python3.9/site-packages/sklearn/neural_network/_multilayer_perceptron.py:549: ConvergenceWarning: lbfgs failed to converge (status=1):\n",
      "STOP: TOTAL NO. of ITERATIONS REACHED LIMIT.\n",
      "\n",
      "Increase the number of iterations (max_iter) or scale the data as shown in:\n",
      "    https://scikit-learn.org/stable/modules/preprocessing.html\n",
      "  self.n_iter_ = _check_optimize_result(\"lbfgs\", opt_res, self.max_iter)\n"
     ]
    },
    {
     "name": "stdout",
     "output_type": "stream",
     "text": [
      "[CV 5/10] END hidden_layer_sizes=90, max_iter=225, solver=lbfgs; accuracy: (train=0.596, test=0.584) f1_weighted: (train=0.547, test=0.540) prec_macro: (train=0.427, test=0.336) rec_macro: (train=0.352, test=0.343) total time=   0.5s\n"
     ]
    },
    {
     "name": "stderr",
     "output_type": "stream",
     "text": [
      "/Library/Frameworks/Python.framework/Versions/3.9/lib/python3.9/site-packages/sklearn/neural_network/_multilayer_perceptron.py:549: ConvergenceWarning: lbfgs failed to converge (status=1):\n",
      "STOP: TOTAL NO. of ITERATIONS REACHED LIMIT.\n",
      "\n",
      "Increase the number of iterations (max_iter) or scale the data as shown in:\n",
      "    https://scikit-learn.org/stable/modules/preprocessing.html\n",
      "  self.n_iter_ = _check_optimize_result(\"lbfgs\", opt_res, self.max_iter)\n"
     ]
    },
    {
     "name": "stdout",
     "output_type": "stream",
     "text": [
      "[CV 6/10] END hidden_layer_sizes=90, max_iter=225, solver=lbfgs; accuracy: (train=0.586, test=0.584) f1_weighted: (train=0.540, test=0.542) prec_macro: (train=0.458, test=0.429) rec_macro: (train=0.343, test=0.337) total time=   0.8s\n"
     ]
    },
    {
     "name": "stderr",
     "output_type": "stream",
     "text": [
      "/Library/Frameworks/Python.framework/Versions/3.9/lib/python3.9/site-packages/sklearn/neural_network/_multilayer_perceptron.py:549: ConvergenceWarning: lbfgs failed to converge (status=1):\n",
      "STOP: TOTAL NO. of ITERATIONS REACHED LIMIT.\n",
      "\n",
      "Increase the number of iterations (max_iter) or scale the data as shown in:\n",
      "    https://scikit-learn.org/stable/modules/preprocessing.html\n",
      "  self.n_iter_ = _check_optimize_result(\"lbfgs\", opt_res, self.max_iter)\n"
     ]
    },
    {
     "name": "stdout",
     "output_type": "stream",
     "text": [
      "[CV 7/10] END hidden_layer_sizes=90, max_iter=225, solver=lbfgs; accuracy: (train=0.580, test=0.519) f1_weighted: (train=0.537, test=0.449) prec_macro: (train=0.371, test=0.202) rec_macro: (train=0.339, test=0.262) total time=   0.5s\n"
     ]
    },
    {
     "name": "stderr",
     "output_type": "stream",
     "text": [
      "/Library/Frameworks/Python.framework/Versions/3.9/lib/python3.9/site-packages/sklearn/neural_network/_multilayer_perceptron.py:549: ConvergenceWarning: lbfgs failed to converge (status=1):\n",
      "STOP: TOTAL NO. of ITERATIONS REACHED LIMIT.\n",
      "\n",
      "Increase the number of iterations (max_iter) or scale the data as shown in:\n",
      "    https://scikit-learn.org/stable/modules/preprocessing.html\n",
      "  self.n_iter_ = _check_optimize_result(\"lbfgs\", opt_res, self.max_iter)\n"
     ]
    },
    {
     "name": "stdout",
     "output_type": "stream",
     "text": [
      "[CV 8/10] END hidden_layer_sizes=90, max_iter=225, solver=lbfgs; accuracy: (train=0.583, test=0.532) f1_weighted: (train=0.527, test=0.491) prec_macro: (train=0.307, test=0.314) rec_macro: (train=0.327, test=0.311) total time=   0.6s\n"
     ]
    },
    {
     "name": "stderr",
     "output_type": "stream",
     "text": [
      "/Library/Frameworks/Python.framework/Versions/3.9/lib/python3.9/site-packages/sklearn/neural_network/_multilayer_perceptron.py:549: ConvergenceWarning: lbfgs failed to converge (status=1):\n",
      "STOP: TOTAL NO. of ITERATIONS REACHED LIMIT.\n",
      "\n",
      "Increase the number of iterations (max_iter) or scale the data as shown in:\n",
      "    https://scikit-learn.org/stable/modules/preprocessing.html\n",
      "  self.n_iter_ = _check_optimize_result(\"lbfgs\", opt_res, self.max_iter)\n"
     ]
    },
    {
     "name": "stdout",
     "output_type": "stream",
     "text": [
      "[CV 9/10] END hidden_layer_sizes=90, max_iter=225, solver=lbfgs; accuracy: (train=0.577, test=0.519) f1_weighted: (train=0.535, test=0.469) prec_macro: (train=0.326, test=0.249) rec_macro: (train=0.343, test=0.286) total time=   0.6s\n"
     ]
    },
    {
     "name": "stderr",
     "output_type": "stream",
     "text": [
      "/Library/Frameworks/Python.framework/Versions/3.9/lib/python3.9/site-packages/sklearn/neural_network/_multilayer_perceptron.py:549: ConvergenceWarning: lbfgs failed to converge (status=1):\n",
      "STOP: TOTAL NO. of ITERATIONS REACHED LIMIT.\n",
      "\n",
      "Increase the number of iterations (max_iter) or scale the data as shown in:\n",
      "    https://scikit-learn.org/stable/modules/preprocessing.html\n",
      "  self.n_iter_ = _check_optimize_result(\"lbfgs\", opt_res, self.max_iter)\n"
     ]
    },
    {
     "name": "stdout",
     "output_type": "stream",
     "text": [
      "[CV 10/10] END hidden_layer_sizes=90, max_iter=225, solver=lbfgs; accuracy: (train=0.571, test=0.558) f1_weighted: (train=0.531, test=0.517) prec_macro: (train=0.373, test=0.309) rec_macro: (train=0.340, test=0.344) total time=   0.6s\n",
      "[CV 1/10] END hidden_layer_sizes=90, max_iter=225, solver=sgd; accuracy: (train=0.500, test=0.538) f1_weighted: (train=0.433, test=0.471) prec_macro: (train=0.392, test=0.398) rec_macro: (train=0.258, test=0.288) total time=   0.3s\n"
     ]
    },
    {
     "name": "stderr",
     "output_type": "stream",
     "text": [
      "/Library/Frameworks/Python.framework/Versions/3.9/lib/python3.9/site-packages/sklearn/neural_network/_multilayer_perceptron.py:692: ConvergenceWarning: Stochastic Optimizer: Maximum iterations (225) reached and the optimization hasn't converged yet.\n",
      "  warnings.warn(\n"
     ]
    },
    {
     "name": "stdout",
     "output_type": "stream",
     "text": [
      "[CV 2/10] END hidden_layer_sizes=90, max_iter=225, solver=sgd; accuracy: (train=0.499, test=0.577) f1_weighted: (train=0.432, test=0.506) prec_macro: (train=0.346, test=0.422) rec_macro: (train=0.258, test=0.318) total time=   0.7s\n",
      "[CV 3/10] END hidden_layer_sizes=90, max_iter=225, solver=sgd; accuracy: (train=0.505, test=0.494) f1_weighted: (train=0.439, test=0.430) prec_macro: (train=0.277, test=0.287) rec_macro: (train=0.269, test=0.263) total time=   0.3s\n",
      "[CV 4/10] END hidden_layer_sizes=90, max_iter=225, solver=sgd; accuracy: (train=0.501, test=0.494) f1_weighted: (train=0.412, test=0.394) prec_macro: (train=0.299, test=0.183) rec_macro: (train=0.256, test=0.235) total time=   0.3s\n",
      "[CV 5/10] END hidden_layer_sizes=90, max_iter=225, solver=sgd; accuracy: (train=0.479, test=0.519) f1_weighted: (train=0.365, test=0.427) prec_macro: (train=0.170, test=0.192) rec_macro: (train=0.223, test=0.252) total time=   0.6s\n"
     ]
    },
    {
     "name": "stderr",
     "output_type": "stream",
     "text": [
      "/Library/Frameworks/Python.framework/Versions/3.9/lib/python3.9/site-packages/sklearn/neural_network/_multilayer_perceptron.py:692: ConvergenceWarning: Stochastic Optimizer: Maximum iterations (225) reached and the optimization hasn't converged yet.\n",
      "  warnings.warn(\n"
     ]
    },
    {
     "name": "stdout",
     "output_type": "stream",
     "text": [
      "[CV 6/10] END hidden_layer_sizes=90, max_iter=225, solver=sgd; accuracy: (train=0.496, test=0.455) f1_weighted: (train=0.409, test=0.330) prec_macro: (train=0.266, test=0.139) rec_macro: (train=0.249, test=0.206) total time=   0.6s\n",
      "[CV 7/10] END hidden_layer_sizes=90, max_iter=225, solver=sgd; accuracy: (train=0.496, test=0.468) f1_weighted: (train=0.405, test=0.350) prec_macro: (train=0.346, test=0.152) rec_macro: (train=0.247, test=0.216) total time=   0.3s\n",
      "[CV 8/10] END hidden_layer_sizes=90, max_iter=225, solver=sgd; accuracy: (train=0.511, test=0.429) f1_weighted: (train=0.426, test=0.366) prec_macro: (train=0.255, test=0.345) rec_macro: (train=0.254, test=0.222) total time=   0.5s\n",
      "[CV 9/10] END hidden_layer_sizes=90, max_iter=225, solver=sgd; accuracy: (train=0.486, test=0.468) f1_weighted: (train=0.465, test=0.438) prec_macro: (train=0.278, test=0.246) rec_macro: (train=0.321, test=0.276) total time=   0.6s\n",
      "[CV 10/10] END hidden_layer_sizes=90, max_iter=225, solver=sgd; accuracy: (train=0.521, test=0.506) f1_weighted: (train=0.461, test=0.441) prec_macro: (train=0.291, test=0.201) rec_macro: (train=0.283, test=0.267) total time=   0.2s\n",
      "[CV 1/10] END hidden_layer_sizes=90, max_iter=225, solver=adam; accuracy: (train=0.533, test=0.513) f1_weighted: (train=0.438, test=0.420) prec_macro: (train=0.401, test=0.366) rec_macro: (train=0.329, test=0.307) total time=   0.3s\n",
      "[CV 2/10] END hidden_layer_sizes=90, max_iter=225, solver=adam; accuracy: (train=0.566, test=0.513) f1_weighted: (train=0.502, test=0.412) prec_macro: (train=0.406, test=0.268) rec_macro: (train=0.369, test=0.312) total time=   0.5s\n",
      "[CV 3/10] END hidden_layer_sizes=90, max_iter=225, solver=adam; accuracy: (train=0.560, test=0.558) f1_weighted: (train=0.524, test=0.514) prec_macro: (train=0.315, test=0.304) rec_macro: (train=0.331, test=0.316) total time=   0.4s\n",
      "[CV 4/10] END hidden_layer_sizes=90, max_iter=225, solver=adam; accuracy: (train=0.570, test=0.584) f1_weighted: (train=0.521, test=0.528) prec_macro: (train=0.361, test=0.241) rec_macro: (train=0.322, test=0.299) total time=   0.3s\n",
      "[CV 5/10] END hidden_layer_sizes=90, max_iter=225, solver=adam; accuracy: (train=0.574, test=0.610) f1_weighted: (train=0.543, test=0.595) prec_macro: (train=0.373, test=0.440) rec_macro: (train=0.335, test=0.391) total time=   0.3s\n",
      "[CV 6/10] END hidden_layer_sizes=90, max_iter=225, solver=adam; accuracy: (train=0.586, test=0.519) f1_weighted: (train=0.535, test=0.468) prec_macro: (train=0.514, test=0.254) rec_macro: (train=0.350, test=0.291) total time=   0.3s\n",
      "[CV 7/10] END hidden_layer_sizes=90, max_iter=225, solver=adam; accuracy: (train=0.573, test=0.506) f1_weighted: (train=0.496, test=0.400) prec_macro: (train=0.363, test=0.187) rec_macro: (train=0.339, test=0.240) total time=   0.4s\n",
      "[CV 8/10] END hidden_layer_sizes=90, max_iter=225, solver=adam; accuracy: (train=0.609, test=0.494) f1_weighted: (train=0.576, test=0.465) prec_macro: (train=0.542, test=0.266) rec_macro: (train=0.417, test=0.310) total time=   0.6s\n",
      "[CV 9/10] END hidden_layer_sizes=90, max_iter=225, solver=adam; accuracy: (train=0.594, test=0.558) f1_weighted: (train=0.554, test=0.505) prec_macro: (train=0.481, test=0.307) rec_macro: (train=0.386, test=0.312) total time=   0.7s\n",
      "[CV 10/10] END hidden_layer_sizes=90, max_iter=225, solver=adam; accuracy: (train=0.584, test=0.610) f1_weighted: (train=0.548, test=0.585) prec_macro: (train=0.388, test=0.399) rec_macro: (train=0.347, test=0.381) total time=   0.6s\n"
     ]
    },
    {
     "name": "stderr",
     "output_type": "stream",
     "text": [
      "/Library/Frameworks/Python.framework/Versions/3.9/lib/python3.9/site-packages/sklearn/neural_network/_multilayer_perceptron.py:549: ConvergenceWarning: lbfgs failed to converge (status=1):\n",
      "STOP: TOTAL NO. of ITERATIONS REACHED LIMIT.\n",
      "\n",
      "Increase the number of iterations (max_iter) or scale the data as shown in:\n",
      "    https://scikit-learn.org/stable/modules/preprocessing.html\n",
      "  self.n_iter_ = _check_optimize_result(\"lbfgs\", opt_res, self.max_iter)\n",
      "/Library/Frameworks/Python.framework/Versions/3.9/lib/python3.9/site-packages/sklearn/neural_network/_multilayer_perceptron.py:549: ConvergenceWarning: lbfgs failed to converge (status=2):\n",
      "ABNORMAL_TERMINATION_IN_LNSRCH.\n",
      "\n",
      "Increase the number of iterations (max_iter) or scale the data as shown in:\n",
      "    https://scikit-learn.org/stable/modules/preprocessing.html\n",
      "  self.n_iter_ = _check_optimize_result(\"lbfgs\", opt_res, self.max_iter)\n"
     ]
    },
    {
     "name": "stdout",
     "output_type": "stream",
     "text": [
      "[CV 1/10] END hidden_layer_sizes=90, max_iter=250, solver=lbfgs; accuracy: (train=0.597, test=0.577) f1_weighted: (train=0.550, test=0.536) prec_macro: (train=0.467, test=0.330) rec_macro: (train=0.353, test=0.331) total time=   1.1s\n",
      "[CV 2/10] END hidden_layer_sizes=90, max_iter=250, solver=lbfgs; accuracy: (train=0.455, test=0.449) f1_weighted: (train=0.285, test=0.278) prec_macro: (train=0.091, test=0.090) rec_macro: (train=0.200, test=0.200) total time=   0.2s\n"
     ]
    },
    {
     "name": "stderr",
     "output_type": "stream",
     "text": [
      "/Library/Frameworks/Python.framework/Versions/3.9/lib/python3.9/site-packages/sklearn/neural_network/_multilayer_perceptron.py:549: ConvergenceWarning: lbfgs failed to converge (status=1):\n",
      "STOP: TOTAL NO. of ITERATIONS REACHED LIMIT.\n",
      "\n",
      "Increase the number of iterations (max_iter) or scale the data as shown in:\n",
      "    https://scikit-learn.org/stable/modules/preprocessing.html\n",
      "  self.n_iter_ = _check_optimize_result(\"lbfgs\", opt_res, self.max_iter)\n"
     ]
    },
    {
     "name": "stdout",
     "output_type": "stream",
     "text": [
      "[CV 3/10] END hidden_layer_sizes=90, max_iter=250, solver=lbfgs; accuracy: (train=0.597, test=0.610) f1_weighted: (train=0.547, test=0.561) prec_macro: (train=0.371, test=0.340) rec_macro: (train=0.346, test=0.368) total time=   0.8s\n"
     ]
    },
    {
     "name": "stderr",
     "output_type": "stream",
     "text": [
      "/Library/Frameworks/Python.framework/Versions/3.9/lib/python3.9/site-packages/sklearn/neural_network/_multilayer_perceptron.py:549: ConvergenceWarning: lbfgs failed to converge (status=1):\n",
      "STOP: TOTAL NO. of ITERATIONS REACHED LIMIT.\n",
      "\n",
      "Increase the number of iterations (max_iter) or scale the data as shown in:\n",
      "    https://scikit-learn.org/stable/modules/preprocessing.html\n",
      "  self.n_iter_ = _check_optimize_result(\"lbfgs\", opt_res, self.max_iter)\n"
     ]
    },
    {
     "name": "stdout",
     "output_type": "stream",
     "text": [
      "[CV 4/10] END hidden_layer_sizes=90, max_iter=250, solver=lbfgs; accuracy: (train=0.584, test=0.610) f1_weighted: (train=0.551, test=0.580) prec_macro: (train=0.389, test=0.362) rec_macro: (train=0.366, test=0.362) total time=   1.1s\n"
     ]
    },
    {
     "name": "stderr",
     "output_type": "stream",
     "text": [
      "/Library/Frameworks/Python.framework/Versions/3.9/lib/python3.9/site-packages/sklearn/neural_network/_multilayer_perceptron.py:549: ConvergenceWarning: lbfgs failed to converge (status=1):\n",
      "STOP: TOTAL NO. of ITERATIONS REACHED LIMIT.\n",
      "\n",
      "Increase the number of iterations (max_iter) or scale the data as shown in:\n",
      "    https://scikit-learn.org/stable/modules/preprocessing.html\n",
      "  self.n_iter_ = _check_optimize_result(\"lbfgs\", opt_res, self.max_iter)\n"
     ]
    },
    {
     "name": "stdout",
     "output_type": "stream",
     "text": [
      "[CV 5/10] END hidden_layer_sizes=90, max_iter=250, solver=lbfgs; accuracy: (train=0.588, test=0.545) f1_weighted: (train=0.533, test=0.499) prec_macro: (train=0.379, test=0.290) rec_macro: (train=0.330, test=0.304) total time=   1.0s\n"
     ]
    },
    {
     "name": "stderr",
     "output_type": "stream",
     "text": [
      "/Library/Frameworks/Python.framework/Versions/3.9/lib/python3.9/site-packages/sklearn/neural_network/_multilayer_perceptron.py:549: ConvergenceWarning: lbfgs failed to converge (status=1):\n",
      "STOP: TOTAL NO. of ITERATIONS REACHED LIMIT.\n",
      "\n",
      "Increase the number of iterations (max_iter) or scale the data as shown in:\n",
      "    https://scikit-learn.org/stable/modules/preprocessing.html\n",
      "  self.n_iter_ = _check_optimize_result(\"lbfgs\", opt_res, self.max_iter)\n"
     ]
    },
    {
     "name": "stdout",
     "output_type": "stream",
     "text": [
      "[CV 6/10] END hidden_layer_sizes=90, max_iter=250, solver=lbfgs; accuracy: (train=0.597, test=0.584) f1_weighted: (train=0.546, test=0.528) prec_macro: (train=0.426, test=0.329) rec_macro: (train=0.341, test=0.315) total time=   1.2s\n"
     ]
    },
    {
     "name": "stderr",
     "output_type": "stream",
     "text": [
      "/Library/Frameworks/Python.framework/Versions/3.9/lib/python3.9/site-packages/sklearn/neural_network/_multilayer_perceptron.py:549: ConvergenceWarning: lbfgs failed to converge (status=1):\n",
      "STOP: TOTAL NO. of ITERATIONS REACHED LIMIT.\n",
      "\n",
      "Increase the number of iterations (max_iter) or scale the data as shown in:\n",
      "    https://scikit-learn.org/stable/modules/preprocessing.html\n",
      "  self.n_iter_ = _check_optimize_result(\"lbfgs\", opt_res, self.max_iter)\n"
     ]
    },
    {
     "name": "stdout",
     "output_type": "stream",
     "text": [
      "[CV 7/10] END hidden_layer_sizes=90, max_iter=250, solver=lbfgs; accuracy: (train=0.587, test=0.519) f1_weighted: (train=0.546, test=0.451) prec_macro: (train=0.371, test=0.203) rec_macro: (train=0.347, test=0.269) total time=   1.0s\n"
     ]
    },
    {
     "name": "stderr",
     "output_type": "stream",
     "text": [
      "/Library/Frameworks/Python.framework/Versions/3.9/lib/python3.9/site-packages/sklearn/neural_network/_multilayer_perceptron.py:549: ConvergenceWarning: lbfgs failed to converge (status=1):\n",
      "STOP: TOTAL NO. of ITERATIONS REACHED LIMIT.\n",
      "\n",
      "Increase the number of iterations (max_iter) or scale the data as shown in:\n",
      "    https://scikit-learn.org/stable/modules/preprocessing.html\n",
      "  self.n_iter_ = _check_optimize_result(\"lbfgs\", opt_res, self.max_iter)\n"
     ]
    },
    {
     "name": "stdout",
     "output_type": "stream",
     "text": [
      "[CV 8/10] END hidden_layer_sizes=90, max_iter=250, solver=lbfgs; accuracy: (train=0.594, test=0.506) f1_weighted: (train=0.552, test=0.480) prec_macro: (train=0.387, test=0.280) rec_macro: (train=0.354, test=0.310) total time=   0.6s\n"
     ]
    },
    {
     "ename": "KeyboardInterrupt",
     "evalue": "",
     "output_type": "error",
     "traceback": [
      "\u001b[0;31m---------------------------------------------------------------------------\u001b[0m",
      "\u001b[0;31mKeyboardInterrupt\u001b[0m                         Traceback (most recent call last)",
      "\u001b[0;32m/var/folders/86/q86963ps4530z0kcsrjnxbzw0000gn/T/ipykernel_69859/3155223155.py\u001b[0m in \u001b[0;36m<module>\u001b[0;34m\u001b[0m\n\u001b[1;32m     15\u001b[0m \u001b[0;31m# Fitting data\u001b[0m\u001b[0;34m\u001b[0m\u001b[0;34m\u001b[0m\u001b[0;34m\u001b[0m\u001b[0m\n\u001b[1;32m     16\u001b[0m \u001b[0mtime_train_start\u001b[0m \u001b[0;34m=\u001b[0m \u001b[0mtime\u001b[0m\u001b[0;34m(\u001b[0m\u001b[0;34m)\u001b[0m\u001b[0;34m\u001b[0m\u001b[0;34m\u001b[0m\u001b[0m\n\u001b[0;32m---> 17\u001b[0;31m \u001b[0mgridsearch_net\u001b[0m\u001b[0;34m.\u001b[0m\u001b[0mfit\u001b[0m\u001b[0;34m(\u001b[0m\u001b[0mX_full_train\u001b[0m\u001b[0;34m.\u001b[0m\u001b[0mvalues\u001b[0m\u001b[0;34m,\u001b[0m \u001b[0my_full_train\u001b[0m\u001b[0;34m)\u001b[0m\u001b[0;34m\u001b[0m\u001b[0;34m\u001b[0m\u001b[0m\n\u001b[0m\u001b[1;32m     18\u001b[0m \u001b[0mtime_train_end\u001b[0m \u001b[0;34m=\u001b[0m \u001b[0mtime\u001b[0m\u001b[0;34m(\u001b[0m\u001b[0;34m)\u001b[0m\u001b[0;34m\u001b[0m\u001b[0;34m\u001b[0m\u001b[0m\n",
      "\u001b[0;32m/Library/Frameworks/Python.framework/Versions/3.9/lib/python3.9/site-packages/sklearn/model_selection/_search.py\u001b[0m in \u001b[0;36mfit\u001b[0;34m(self, X, y, groups, **fit_params)\u001b[0m\n\u001b[1;32m    889\u001b[0m                 \u001b[0;32mreturn\u001b[0m \u001b[0mresults\u001b[0m\u001b[0;34m\u001b[0m\u001b[0;34m\u001b[0m\u001b[0m\n\u001b[1;32m    890\u001b[0m \u001b[0;34m\u001b[0m\u001b[0m\n\u001b[0;32m--> 891\u001b[0;31m             \u001b[0mself\u001b[0m\u001b[0;34m.\u001b[0m\u001b[0m_run_search\u001b[0m\u001b[0;34m(\u001b[0m\u001b[0mevaluate_candidates\u001b[0m\u001b[0;34m)\u001b[0m\u001b[0;34m\u001b[0m\u001b[0;34m\u001b[0m\u001b[0m\n\u001b[0m\u001b[1;32m    892\u001b[0m \u001b[0;34m\u001b[0m\u001b[0m\n\u001b[1;32m    893\u001b[0m             \u001b[0;31m# multimetric is determined here because in the case of a callable\u001b[0m\u001b[0;34m\u001b[0m\u001b[0;34m\u001b[0m\u001b[0;34m\u001b[0m\u001b[0m\n",
      "\u001b[0;32m/Library/Frameworks/Python.framework/Versions/3.9/lib/python3.9/site-packages/sklearn/model_selection/_search.py\u001b[0m in \u001b[0;36m_run_search\u001b[0;34m(self, evaluate_candidates)\u001b[0m\n\u001b[1;32m   1390\u001b[0m     \u001b[0;32mdef\u001b[0m \u001b[0m_run_search\u001b[0m\u001b[0;34m(\u001b[0m\u001b[0mself\u001b[0m\u001b[0;34m,\u001b[0m \u001b[0mevaluate_candidates\u001b[0m\u001b[0;34m)\u001b[0m\u001b[0;34m:\u001b[0m\u001b[0;34m\u001b[0m\u001b[0;34m\u001b[0m\u001b[0m\n\u001b[1;32m   1391\u001b[0m         \u001b[0;34m\"\"\"Search all candidates in param_grid\"\"\"\u001b[0m\u001b[0;34m\u001b[0m\u001b[0;34m\u001b[0m\u001b[0m\n\u001b[0;32m-> 1392\u001b[0;31m         \u001b[0mevaluate_candidates\u001b[0m\u001b[0;34m(\u001b[0m\u001b[0mParameterGrid\u001b[0m\u001b[0;34m(\u001b[0m\u001b[0mself\u001b[0m\u001b[0;34m.\u001b[0m\u001b[0mparam_grid\u001b[0m\u001b[0;34m)\u001b[0m\u001b[0;34m)\u001b[0m\u001b[0;34m\u001b[0m\u001b[0;34m\u001b[0m\u001b[0m\n\u001b[0m\u001b[1;32m   1393\u001b[0m \u001b[0;34m\u001b[0m\u001b[0m\n\u001b[1;32m   1394\u001b[0m \u001b[0;34m\u001b[0m\u001b[0m\n",
      "\u001b[0;32m/Library/Frameworks/Python.framework/Versions/3.9/lib/python3.9/site-packages/sklearn/model_selection/_search.py\u001b[0m in \u001b[0;36mevaluate_candidates\u001b[0;34m(candidate_params, cv, more_results)\u001b[0m\n\u001b[1;32m    836\u001b[0m                     )\n\u001b[1;32m    837\u001b[0m \u001b[0;34m\u001b[0m\u001b[0m\n\u001b[0;32m--> 838\u001b[0;31m                 out = parallel(\n\u001b[0m\u001b[1;32m    839\u001b[0m                     delayed(_fit_and_score)(\n\u001b[1;32m    840\u001b[0m                         \u001b[0mclone\u001b[0m\u001b[0;34m(\u001b[0m\u001b[0mbase_estimator\u001b[0m\u001b[0;34m)\u001b[0m\u001b[0;34m,\u001b[0m\u001b[0;34m\u001b[0m\u001b[0;34m\u001b[0m\u001b[0m\n",
      "\u001b[0;32m/Library/Frameworks/Python.framework/Versions/3.9/lib/python3.9/site-packages/joblib/parallel.py\u001b[0m in \u001b[0;36m__call__\u001b[0;34m(self, iterable)\u001b[0m\n\u001b[1;32m   1042\u001b[0m                 \u001b[0mself\u001b[0m\u001b[0;34m.\u001b[0m\u001b[0m_iterating\u001b[0m \u001b[0;34m=\u001b[0m \u001b[0mself\u001b[0m\u001b[0;34m.\u001b[0m\u001b[0m_original_iterator\u001b[0m \u001b[0;32mis\u001b[0m \u001b[0;32mnot\u001b[0m \u001b[0;32mNone\u001b[0m\u001b[0;34m\u001b[0m\u001b[0;34m\u001b[0m\u001b[0m\n\u001b[1;32m   1043\u001b[0m \u001b[0;34m\u001b[0m\u001b[0m\n\u001b[0;32m-> 1044\u001b[0;31m             \u001b[0;32mwhile\u001b[0m \u001b[0mself\u001b[0m\u001b[0;34m.\u001b[0m\u001b[0mdispatch_one_batch\u001b[0m\u001b[0;34m(\u001b[0m\u001b[0miterator\u001b[0m\u001b[0;34m)\u001b[0m\u001b[0;34m:\u001b[0m\u001b[0;34m\u001b[0m\u001b[0;34m\u001b[0m\u001b[0m\n\u001b[0m\u001b[1;32m   1045\u001b[0m                 \u001b[0;32mpass\u001b[0m\u001b[0;34m\u001b[0m\u001b[0;34m\u001b[0m\u001b[0m\n\u001b[1;32m   1046\u001b[0m \u001b[0;34m\u001b[0m\u001b[0m\n",
      "\u001b[0;32m/Library/Frameworks/Python.framework/Versions/3.9/lib/python3.9/site-packages/joblib/parallel.py\u001b[0m in \u001b[0;36mdispatch_one_batch\u001b[0;34m(self, iterator)\u001b[0m\n\u001b[1;32m    857\u001b[0m                 \u001b[0;32mreturn\u001b[0m \u001b[0;32mFalse\u001b[0m\u001b[0;34m\u001b[0m\u001b[0;34m\u001b[0m\u001b[0m\n\u001b[1;32m    858\u001b[0m             \u001b[0;32melse\u001b[0m\u001b[0;34m:\u001b[0m\u001b[0;34m\u001b[0m\u001b[0;34m\u001b[0m\u001b[0m\n\u001b[0;32m--> 859\u001b[0;31m                 \u001b[0mself\u001b[0m\u001b[0;34m.\u001b[0m\u001b[0m_dispatch\u001b[0m\u001b[0;34m(\u001b[0m\u001b[0mtasks\u001b[0m\u001b[0;34m)\u001b[0m\u001b[0;34m\u001b[0m\u001b[0;34m\u001b[0m\u001b[0m\n\u001b[0m\u001b[1;32m    860\u001b[0m                 \u001b[0;32mreturn\u001b[0m \u001b[0;32mTrue\u001b[0m\u001b[0;34m\u001b[0m\u001b[0;34m\u001b[0m\u001b[0m\n\u001b[1;32m    861\u001b[0m \u001b[0;34m\u001b[0m\u001b[0m\n",
      "\u001b[0;32m/Library/Frameworks/Python.framework/Versions/3.9/lib/python3.9/site-packages/joblib/parallel.py\u001b[0m in \u001b[0;36m_dispatch\u001b[0;34m(self, batch)\u001b[0m\n\u001b[1;32m    775\u001b[0m         \u001b[0;32mwith\u001b[0m \u001b[0mself\u001b[0m\u001b[0;34m.\u001b[0m\u001b[0m_lock\u001b[0m\u001b[0;34m:\u001b[0m\u001b[0;34m\u001b[0m\u001b[0;34m\u001b[0m\u001b[0m\n\u001b[1;32m    776\u001b[0m             \u001b[0mjob_idx\u001b[0m \u001b[0;34m=\u001b[0m \u001b[0mlen\u001b[0m\u001b[0;34m(\u001b[0m\u001b[0mself\u001b[0m\u001b[0;34m.\u001b[0m\u001b[0m_jobs\u001b[0m\u001b[0;34m)\u001b[0m\u001b[0;34m\u001b[0m\u001b[0;34m\u001b[0m\u001b[0m\n\u001b[0;32m--> 777\u001b[0;31m             \u001b[0mjob\u001b[0m \u001b[0;34m=\u001b[0m \u001b[0mself\u001b[0m\u001b[0;34m.\u001b[0m\u001b[0m_backend\u001b[0m\u001b[0;34m.\u001b[0m\u001b[0mapply_async\u001b[0m\u001b[0;34m(\u001b[0m\u001b[0mbatch\u001b[0m\u001b[0;34m,\u001b[0m \u001b[0mcallback\u001b[0m\u001b[0;34m=\u001b[0m\u001b[0mcb\u001b[0m\u001b[0;34m)\u001b[0m\u001b[0;34m\u001b[0m\u001b[0;34m\u001b[0m\u001b[0m\n\u001b[0m\u001b[1;32m    778\u001b[0m             \u001b[0;31m# A job can complete so quickly than its callback is\u001b[0m\u001b[0;34m\u001b[0m\u001b[0;34m\u001b[0m\u001b[0;34m\u001b[0m\u001b[0m\n\u001b[1;32m    779\u001b[0m             \u001b[0;31m# called before we get here, causing self._jobs to\u001b[0m\u001b[0;34m\u001b[0m\u001b[0;34m\u001b[0m\u001b[0;34m\u001b[0m\u001b[0m\n",
      "\u001b[0;32m/Library/Frameworks/Python.framework/Versions/3.9/lib/python3.9/site-packages/joblib/_parallel_backends.py\u001b[0m in \u001b[0;36mapply_async\u001b[0;34m(self, func, callback)\u001b[0m\n\u001b[1;32m    206\u001b[0m     \u001b[0;32mdef\u001b[0m \u001b[0mapply_async\u001b[0m\u001b[0;34m(\u001b[0m\u001b[0mself\u001b[0m\u001b[0;34m,\u001b[0m \u001b[0mfunc\u001b[0m\u001b[0;34m,\u001b[0m \u001b[0mcallback\u001b[0m\u001b[0;34m=\u001b[0m\u001b[0;32mNone\u001b[0m\u001b[0;34m)\u001b[0m\u001b[0;34m:\u001b[0m\u001b[0;34m\u001b[0m\u001b[0;34m\u001b[0m\u001b[0m\n\u001b[1;32m    207\u001b[0m         \u001b[0;34m\"\"\"Schedule a func to be run\"\"\"\u001b[0m\u001b[0;34m\u001b[0m\u001b[0;34m\u001b[0m\u001b[0m\n\u001b[0;32m--> 208\u001b[0;31m         \u001b[0mresult\u001b[0m \u001b[0;34m=\u001b[0m \u001b[0mImmediateResult\u001b[0m\u001b[0;34m(\u001b[0m\u001b[0mfunc\u001b[0m\u001b[0;34m)\u001b[0m\u001b[0;34m\u001b[0m\u001b[0;34m\u001b[0m\u001b[0m\n\u001b[0m\u001b[1;32m    209\u001b[0m         \u001b[0;32mif\u001b[0m \u001b[0mcallback\u001b[0m\u001b[0;34m:\u001b[0m\u001b[0;34m\u001b[0m\u001b[0;34m\u001b[0m\u001b[0m\n\u001b[1;32m    210\u001b[0m             \u001b[0mcallback\u001b[0m\u001b[0;34m(\u001b[0m\u001b[0mresult\u001b[0m\u001b[0;34m)\u001b[0m\u001b[0;34m\u001b[0m\u001b[0;34m\u001b[0m\u001b[0m\n",
      "\u001b[0;32m/Library/Frameworks/Python.framework/Versions/3.9/lib/python3.9/site-packages/joblib/_parallel_backends.py\u001b[0m in \u001b[0;36m__init__\u001b[0;34m(self, batch)\u001b[0m\n\u001b[1;32m    570\u001b[0m         \u001b[0;31m# Don't delay the application, to avoid keeping the input\u001b[0m\u001b[0;34m\u001b[0m\u001b[0;34m\u001b[0m\u001b[0;34m\u001b[0m\u001b[0m\n\u001b[1;32m    571\u001b[0m         \u001b[0;31m# arguments in memory\u001b[0m\u001b[0;34m\u001b[0m\u001b[0;34m\u001b[0m\u001b[0;34m\u001b[0m\u001b[0m\n\u001b[0;32m--> 572\u001b[0;31m         \u001b[0mself\u001b[0m\u001b[0;34m.\u001b[0m\u001b[0mresults\u001b[0m \u001b[0;34m=\u001b[0m \u001b[0mbatch\u001b[0m\u001b[0;34m(\u001b[0m\u001b[0;34m)\u001b[0m\u001b[0;34m\u001b[0m\u001b[0;34m\u001b[0m\u001b[0m\n\u001b[0m\u001b[1;32m    573\u001b[0m \u001b[0;34m\u001b[0m\u001b[0m\n\u001b[1;32m    574\u001b[0m     \u001b[0;32mdef\u001b[0m \u001b[0mget\u001b[0m\u001b[0;34m(\u001b[0m\u001b[0mself\u001b[0m\u001b[0;34m)\u001b[0m\u001b[0;34m:\u001b[0m\u001b[0;34m\u001b[0m\u001b[0;34m\u001b[0m\u001b[0m\n",
      "\u001b[0;32m/Library/Frameworks/Python.framework/Versions/3.9/lib/python3.9/site-packages/joblib/parallel.py\u001b[0m in \u001b[0;36m__call__\u001b[0;34m(self)\u001b[0m\n\u001b[1;32m    260\u001b[0m         \u001b[0;31m# change the default number of processes to -1\u001b[0m\u001b[0;34m\u001b[0m\u001b[0;34m\u001b[0m\u001b[0;34m\u001b[0m\u001b[0m\n\u001b[1;32m    261\u001b[0m         \u001b[0;32mwith\u001b[0m \u001b[0mparallel_backend\u001b[0m\u001b[0;34m(\u001b[0m\u001b[0mself\u001b[0m\u001b[0;34m.\u001b[0m\u001b[0m_backend\u001b[0m\u001b[0;34m,\u001b[0m \u001b[0mn_jobs\u001b[0m\u001b[0;34m=\u001b[0m\u001b[0mself\u001b[0m\u001b[0;34m.\u001b[0m\u001b[0m_n_jobs\u001b[0m\u001b[0;34m)\u001b[0m\u001b[0;34m:\u001b[0m\u001b[0;34m\u001b[0m\u001b[0;34m\u001b[0m\u001b[0m\n\u001b[0;32m--> 262\u001b[0;31m             return [func(*args, **kwargs)\n\u001b[0m\u001b[1;32m    263\u001b[0m                     for func, args, kwargs in self.items]\n\u001b[1;32m    264\u001b[0m \u001b[0;34m\u001b[0m\u001b[0m\n",
      "\u001b[0;32m/Library/Frameworks/Python.framework/Versions/3.9/lib/python3.9/site-packages/joblib/parallel.py\u001b[0m in \u001b[0;36m<listcomp>\u001b[0;34m(.0)\u001b[0m\n\u001b[1;32m    260\u001b[0m         \u001b[0;31m# change the default number of processes to -1\u001b[0m\u001b[0;34m\u001b[0m\u001b[0;34m\u001b[0m\u001b[0;34m\u001b[0m\u001b[0m\n\u001b[1;32m    261\u001b[0m         \u001b[0;32mwith\u001b[0m \u001b[0mparallel_backend\u001b[0m\u001b[0;34m(\u001b[0m\u001b[0mself\u001b[0m\u001b[0;34m.\u001b[0m\u001b[0m_backend\u001b[0m\u001b[0;34m,\u001b[0m \u001b[0mn_jobs\u001b[0m\u001b[0;34m=\u001b[0m\u001b[0mself\u001b[0m\u001b[0;34m.\u001b[0m\u001b[0m_n_jobs\u001b[0m\u001b[0;34m)\u001b[0m\u001b[0;34m:\u001b[0m\u001b[0;34m\u001b[0m\u001b[0;34m\u001b[0m\u001b[0m\n\u001b[0;32m--> 262\u001b[0;31m             return [func(*args, **kwargs)\n\u001b[0m\u001b[1;32m    263\u001b[0m                     for func, args, kwargs in self.items]\n\u001b[1;32m    264\u001b[0m \u001b[0;34m\u001b[0m\u001b[0m\n",
      "\u001b[0;32m/Library/Frameworks/Python.framework/Versions/3.9/lib/python3.9/site-packages/sklearn/utils/fixes.py\u001b[0m in \u001b[0;36m__call__\u001b[0;34m(self, *args, **kwargs)\u001b[0m\n\u001b[1;32m    207\u001b[0m     \u001b[0;32mdef\u001b[0m \u001b[0m__call__\u001b[0m\u001b[0;34m(\u001b[0m\u001b[0mself\u001b[0m\u001b[0;34m,\u001b[0m \u001b[0;34m*\u001b[0m\u001b[0margs\u001b[0m\u001b[0;34m,\u001b[0m \u001b[0;34m**\u001b[0m\u001b[0mkwargs\u001b[0m\u001b[0;34m)\u001b[0m\u001b[0;34m:\u001b[0m\u001b[0;34m\u001b[0m\u001b[0;34m\u001b[0m\u001b[0m\n\u001b[1;32m    208\u001b[0m         \u001b[0;32mwith\u001b[0m \u001b[0mconfig_context\u001b[0m\u001b[0;34m(\u001b[0m\u001b[0;34m**\u001b[0m\u001b[0mself\u001b[0m\u001b[0;34m.\u001b[0m\u001b[0mconfig\u001b[0m\u001b[0;34m)\u001b[0m\u001b[0;34m:\u001b[0m\u001b[0;34m\u001b[0m\u001b[0;34m\u001b[0m\u001b[0m\n\u001b[0;32m--> 209\u001b[0;31m             \u001b[0;32mreturn\u001b[0m \u001b[0mself\u001b[0m\u001b[0;34m.\u001b[0m\u001b[0mfunction\u001b[0m\u001b[0;34m(\u001b[0m\u001b[0;34m*\u001b[0m\u001b[0margs\u001b[0m\u001b[0;34m,\u001b[0m \u001b[0;34m**\u001b[0m\u001b[0mkwargs\u001b[0m\u001b[0;34m)\u001b[0m\u001b[0;34m\u001b[0m\u001b[0;34m\u001b[0m\u001b[0m\n\u001b[0m\u001b[1;32m    210\u001b[0m \u001b[0;34m\u001b[0m\u001b[0m\n\u001b[1;32m    211\u001b[0m \u001b[0;34m\u001b[0m\u001b[0m\n",
      "\u001b[0;32m/Library/Frameworks/Python.framework/Versions/3.9/lib/python3.9/site-packages/sklearn/model_selection/_validation.py\u001b[0m in \u001b[0;36m_fit_and_score\u001b[0;34m(estimator, X, y, scorer, train, test, verbose, parameters, fit_params, return_train_score, return_parameters, return_n_test_samples, return_times, return_estimator, split_progress, candidate_progress, error_score)\u001b[0m\n\u001b[1;32m    679\u001b[0m             \u001b[0mestimator\u001b[0m\u001b[0;34m.\u001b[0m\u001b[0mfit\u001b[0m\u001b[0;34m(\u001b[0m\u001b[0mX_train\u001b[0m\u001b[0;34m,\u001b[0m \u001b[0;34m**\u001b[0m\u001b[0mfit_params\u001b[0m\u001b[0;34m)\u001b[0m\u001b[0;34m\u001b[0m\u001b[0;34m\u001b[0m\u001b[0m\n\u001b[1;32m    680\u001b[0m         \u001b[0;32melse\u001b[0m\u001b[0;34m:\u001b[0m\u001b[0;34m\u001b[0m\u001b[0;34m\u001b[0m\u001b[0m\n\u001b[0;32m--> 681\u001b[0;31m             \u001b[0mestimator\u001b[0m\u001b[0;34m.\u001b[0m\u001b[0mfit\u001b[0m\u001b[0;34m(\u001b[0m\u001b[0mX_train\u001b[0m\u001b[0;34m,\u001b[0m \u001b[0my_train\u001b[0m\u001b[0;34m,\u001b[0m \u001b[0;34m**\u001b[0m\u001b[0mfit_params\u001b[0m\u001b[0;34m)\u001b[0m\u001b[0;34m\u001b[0m\u001b[0;34m\u001b[0m\u001b[0m\n\u001b[0m\u001b[1;32m    682\u001b[0m \u001b[0;34m\u001b[0m\u001b[0m\n\u001b[1;32m    683\u001b[0m     \u001b[0;32mexcept\u001b[0m \u001b[0mException\u001b[0m\u001b[0;34m:\u001b[0m\u001b[0;34m\u001b[0m\u001b[0;34m\u001b[0m\u001b[0m\n",
      "\u001b[0;32m/Library/Frameworks/Python.framework/Versions/3.9/lib/python3.9/site-packages/sklearn/neural_network/_multilayer_perceptron.py\u001b[0m in \u001b[0;36mfit\u001b[0;34m(self, X, y)\u001b[0m\n\u001b[1;32m    750\u001b[0m             \u001b[0mReturns\u001b[0m \u001b[0ma\u001b[0m \u001b[0mtrained\u001b[0m \u001b[0mMLP\u001b[0m \u001b[0mmodel\u001b[0m\u001b[0;34m.\u001b[0m\u001b[0;34m\u001b[0m\u001b[0;34m\u001b[0m\u001b[0m\n\u001b[1;32m    751\u001b[0m         \"\"\"\n\u001b[0;32m--> 752\u001b[0;31m         \u001b[0;32mreturn\u001b[0m \u001b[0mself\u001b[0m\u001b[0;34m.\u001b[0m\u001b[0m_fit\u001b[0m\u001b[0;34m(\u001b[0m\u001b[0mX\u001b[0m\u001b[0;34m,\u001b[0m \u001b[0my\u001b[0m\u001b[0;34m,\u001b[0m \u001b[0mincremental\u001b[0m\u001b[0;34m=\u001b[0m\u001b[0;32mFalse\u001b[0m\u001b[0;34m)\u001b[0m\u001b[0;34m\u001b[0m\u001b[0;34m\u001b[0m\u001b[0m\n\u001b[0m\u001b[1;32m    753\u001b[0m \u001b[0;34m\u001b[0m\u001b[0m\n\u001b[1;32m    754\u001b[0m     \u001b[0;32mdef\u001b[0m \u001b[0m_check_solver\u001b[0m\u001b[0;34m(\u001b[0m\u001b[0mself\u001b[0m\u001b[0;34m)\u001b[0m\u001b[0;34m:\u001b[0m\u001b[0;34m\u001b[0m\u001b[0;34m\u001b[0m\u001b[0m\n",
      "\u001b[0;32m/Library/Frameworks/Python.framework/Versions/3.9/lib/python3.9/site-packages/sklearn/neural_network/_multilayer_perceptron.py\u001b[0m in \u001b[0;36m_fit\u001b[0;34m(self, X, y, incremental)\u001b[0m\n\u001b[1;32m    438\u001b[0m         \u001b[0;31m# Run the LBFGS solver\u001b[0m\u001b[0;34m\u001b[0m\u001b[0;34m\u001b[0m\u001b[0;34m\u001b[0m\u001b[0m\n\u001b[1;32m    439\u001b[0m         \u001b[0;32melif\u001b[0m \u001b[0mself\u001b[0m\u001b[0;34m.\u001b[0m\u001b[0msolver\u001b[0m \u001b[0;34m==\u001b[0m \u001b[0;34m\"lbfgs\"\u001b[0m\u001b[0;34m:\u001b[0m\u001b[0;34m\u001b[0m\u001b[0;34m\u001b[0m\u001b[0m\n\u001b[0;32m--> 440\u001b[0;31m             self._fit_lbfgs(\n\u001b[0m\u001b[1;32m    441\u001b[0m                 \u001b[0mX\u001b[0m\u001b[0;34m,\u001b[0m \u001b[0my\u001b[0m\u001b[0;34m,\u001b[0m \u001b[0mactivations\u001b[0m\u001b[0;34m,\u001b[0m \u001b[0mdeltas\u001b[0m\u001b[0;34m,\u001b[0m \u001b[0mcoef_grads\u001b[0m\u001b[0;34m,\u001b[0m \u001b[0mintercept_grads\u001b[0m\u001b[0;34m,\u001b[0m \u001b[0mlayer_units\u001b[0m\u001b[0;34m\u001b[0m\u001b[0;34m\u001b[0m\u001b[0m\n\u001b[1;32m    442\u001b[0m             )\n",
      "\u001b[0;32m/Library/Frameworks/Python.framework/Versions/3.9/lib/python3.9/site-packages/sklearn/neural_network/_multilayer_perceptron.py\u001b[0m in \u001b[0;36m_fit_lbfgs\u001b[0;34m(self, X, y, activations, deltas, coef_grads, intercept_grads, layer_units)\u001b[0m\n\u001b[1;32m    534\u001b[0m             \u001b[0miprint\u001b[0m \u001b[0;34m=\u001b[0m \u001b[0;34m-\u001b[0m\u001b[0;36m1\u001b[0m\u001b[0;34m\u001b[0m\u001b[0;34m\u001b[0m\u001b[0m\n\u001b[1;32m    535\u001b[0m \u001b[0;34m\u001b[0m\u001b[0m\n\u001b[0;32m--> 536\u001b[0;31m         opt_res = scipy.optimize.minimize(\n\u001b[0m\u001b[1;32m    537\u001b[0m             \u001b[0mself\u001b[0m\u001b[0;34m.\u001b[0m\u001b[0m_loss_grad_lbfgs\u001b[0m\u001b[0;34m,\u001b[0m\u001b[0;34m\u001b[0m\u001b[0;34m\u001b[0m\u001b[0m\n\u001b[1;32m    538\u001b[0m             \u001b[0mpacked_coef_inter\u001b[0m\u001b[0;34m,\u001b[0m\u001b[0;34m\u001b[0m\u001b[0;34m\u001b[0m\u001b[0m\n",
      "\u001b[0;32m/Library/Frameworks/Python.framework/Versions/3.9/lib/python3.9/site-packages/scipy/optimize/_minimize.py\u001b[0m in \u001b[0;36mminimize\u001b[0;34m(fun, x0, args, method, jac, hess, hessp, bounds, constraints, tol, callback, options)\u001b[0m\n\u001b[1;32m    621\u001b[0m                                   **options)\n\u001b[1;32m    622\u001b[0m     \u001b[0;32melif\u001b[0m \u001b[0mmeth\u001b[0m \u001b[0;34m==\u001b[0m \u001b[0;34m'l-bfgs-b'\u001b[0m\u001b[0;34m:\u001b[0m\u001b[0;34m\u001b[0m\u001b[0;34m\u001b[0m\u001b[0m\n\u001b[0;32m--> 623\u001b[0;31m         return _minimize_lbfgsb(fun, x0, args, jac, bounds,\n\u001b[0m\u001b[1;32m    624\u001b[0m                                 callback=callback, **options)\n\u001b[1;32m    625\u001b[0m     \u001b[0;32melif\u001b[0m \u001b[0mmeth\u001b[0m \u001b[0;34m==\u001b[0m \u001b[0;34m'tnc'\u001b[0m\u001b[0;34m:\u001b[0m\u001b[0;34m\u001b[0m\u001b[0;34m\u001b[0m\u001b[0m\n",
      "\u001b[0;32m/Library/Frameworks/Python.framework/Versions/3.9/lib/python3.9/site-packages/scipy/optimize/lbfgsb.py\u001b[0m in \u001b[0;36m_minimize_lbfgsb\u001b[0;34m(fun, x0, args, jac, bounds, disp, maxcor, ftol, gtol, eps, maxfun, maxiter, iprint, callback, maxls, finite_diff_rel_step, **unknown_options)\u001b[0m\n\u001b[1;32m    358\u001b[0m             \u001b[0;31m# until the completion of the current minimization iteration.\u001b[0m\u001b[0;34m\u001b[0m\u001b[0;34m\u001b[0m\u001b[0;34m\u001b[0m\u001b[0m\n\u001b[1;32m    359\u001b[0m             \u001b[0;31m# Overwrite f and g:\u001b[0m\u001b[0;34m\u001b[0m\u001b[0;34m\u001b[0m\u001b[0;34m\u001b[0m\u001b[0m\n\u001b[0;32m--> 360\u001b[0;31m             \u001b[0mf\u001b[0m\u001b[0;34m,\u001b[0m \u001b[0mg\u001b[0m \u001b[0;34m=\u001b[0m \u001b[0mfunc_and_grad\u001b[0m\u001b[0;34m(\u001b[0m\u001b[0mx\u001b[0m\u001b[0;34m)\u001b[0m\u001b[0;34m\u001b[0m\u001b[0;34m\u001b[0m\u001b[0m\n\u001b[0m\u001b[1;32m    361\u001b[0m         \u001b[0;32melif\u001b[0m \u001b[0mtask_str\u001b[0m\u001b[0;34m.\u001b[0m\u001b[0mstartswith\u001b[0m\u001b[0;34m(\u001b[0m\u001b[0;34mb'NEW_X'\u001b[0m\u001b[0;34m)\u001b[0m\u001b[0;34m:\u001b[0m\u001b[0;34m\u001b[0m\u001b[0;34m\u001b[0m\u001b[0m\n\u001b[1;32m    362\u001b[0m             \u001b[0;31m# new iteration\u001b[0m\u001b[0;34m\u001b[0m\u001b[0;34m\u001b[0m\u001b[0;34m\u001b[0m\u001b[0m\n",
      "\u001b[0;32m/Library/Frameworks/Python.framework/Versions/3.9/lib/python3.9/site-packages/scipy/optimize/_differentiable_functions.py\u001b[0m in \u001b[0;36mfun_and_grad\u001b[0;34m(self, x)\u001b[0m\n\u001b[1;32m    265\u001b[0m         \u001b[0;32mif\u001b[0m \u001b[0;32mnot\u001b[0m \u001b[0mnp\u001b[0m\u001b[0;34m.\u001b[0m\u001b[0marray_equal\u001b[0m\u001b[0;34m(\u001b[0m\u001b[0mx\u001b[0m\u001b[0;34m,\u001b[0m \u001b[0mself\u001b[0m\u001b[0;34m.\u001b[0m\u001b[0mx\u001b[0m\u001b[0;34m)\u001b[0m\u001b[0;34m:\u001b[0m\u001b[0;34m\u001b[0m\u001b[0;34m\u001b[0m\u001b[0m\n\u001b[1;32m    266\u001b[0m             \u001b[0mself\u001b[0m\u001b[0;34m.\u001b[0m\u001b[0m_update_x_impl\u001b[0m\u001b[0;34m(\u001b[0m\u001b[0mx\u001b[0m\u001b[0;34m)\u001b[0m\u001b[0;34m\u001b[0m\u001b[0;34m\u001b[0m\u001b[0m\n\u001b[0;32m--> 267\u001b[0;31m         \u001b[0mself\u001b[0m\u001b[0;34m.\u001b[0m\u001b[0m_update_fun\u001b[0m\u001b[0;34m(\u001b[0m\u001b[0;34m)\u001b[0m\u001b[0;34m\u001b[0m\u001b[0;34m\u001b[0m\u001b[0m\n\u001b[0m\u001b[1;32m    268\u001b[0m         \u001b[0mself\u001b[0m\u001b[0;34m.\u001b[0m\u001b[0m_update_grad\u001b[0m\u001b[0;34m(\u001b[0m\u001b[0;34m)\u001b[0m\u001b[0;34m\u001b[0m\u001b[0;34m\u001b[0m\u001b[0m\n\u001b[1;32m    269\u001b[0m         \u001b[0;32mreturn\u001b[0m \u001b[0mself\u001b[0m\u001b[0;34m.\u001b[0m\u001b[0mf\u001b[0m\u001b[0;34m,\u001b[0m \u001b[0mself\u001b[0m\u001b[0;34m.\u001b[0m\u001b[0mg\u001b[0m\u001b[0;34m\u001b[0m\u001b[0;34m\u001b[0m\u001b[0m\n",
      "\u001b[0;32m/Library/Frameworks/Python.framework/Versions/3.9/lib/python3.9/site-packages/scipy/optimize/_differentiable_functions.py\u001b[0m in \u001b[0;36m_update_fun\u001b[0;34m(self)\u001b[0m\n\u001b[1;32m    231\u001b[0m     \u001b[0;32mdef\u001b[0m \u001b[0m_update_fun\u001b[0m\u001b[0;34m(\u001b[0m\u001b[0mself\u001b[0m\u001b[0;34m)\u001b[0m\u001b[0;34m:\u001b[0m\u001b[0;34m\u001b[0m\u001b[0;34m\u001b[0m\u001b[0m\n\u001b[1;32m    232\u001b[0m         \u001b[0;32mif\u001b[0m \u001b[0;32mnot\u001b[0m \u001b[0mself\u001b[0m\u001b[0;34m.\u001b[0m\u001b[0mf_updated\u001b[0m\u001b[0;34m:\u001b[0m\u001b[0;34m\u001b[0m\u001b[0;34m\u001b[0m\u001b[0m\n\u001b[0;32m--> 233\u001b[0;31m             \u001b[0mself\u001b[0m\u001b[0;34m.\u001b[0m\u001b[0m_update_fun_impl\u001b[0m\u001b[0;34m(\u001b[0m\u001b[0;34m)\u001b[0m\u001b[0;34m\u001b[0m\u001b[0;34m\u001b[0m\u001b[0m\n\u001b[0m\u001b[1;32m    234\u001b[0m             \u001b[0mself\u001b[0m\u001b[0;34m.\u001b[0m\u001b[0mf_updated\u001b[0m \u001b[0;34m=\u001b[0m \u001b[0;32mTrue\u001b[0m\u001b[0;34m\u001b[0m\u001b[0;34m\u001b[0m\u001b[0m\n\u001b[1;32m    235\u001b[0m \u001b[0;34m\u001b[0m\u001b[0m\n",
      "\u001b[0;32m/Library/Frameworks/Python.framework/Versions/3.9/lib/python3.9/site-packages/scipy/optimize/_differentiable_functions.py\u001b[0m in \u001b[0;36mupdate_fun\u001b[0;34m()\u001b[0m\n\u001b[1;32m    135\u001b[0m \u001b[0;34m\u001b[0m\u001b[0m\n\u001b[1;32m    136\u001b[0m         \u001b[0;32mdef\u001b[0m \u001b[0mupdate_fun\u001b[0m\u001b[0;34m(\u001b[0m\u001b[0;34m)\u001b[0m\u001b[0;34m:\u001b[0m\u001b[0;34m\u001b[0m\u001b[0;34m\u001b[0m\u001b[0m\n\u001b[0;32m--> 137\u001b[0;31m             \u001b[0mself\u001b[0m\u001b[0;34m.\u001b[0m\u001b[0mf\u001b[0m \u001b[0;34m=\u001b[0m \u001b[0mfun_wrapped\u001b[0m\u001b[0;34m(\u001b[0m\u001b[0mself\u001b[0m\u001b[0;34m.\u001b[0m\u001b[0mx\u001b[0m\u001b[0;34m)\u001b[0m\u001b[0;34m\u001b[0m\u001b[0;34m\u001b[0m\u001b[0m\n\u001b[0m\u001b[1;32m    138\u001b[0m \u001b[0;34m\u001b[0m\u001b[0m\n\u001b[1;32m    139\u001b[0m         \u001b[0mself\u001b[0m\u001b[0;34m.\u001b[0m\u001b[0m_update_fun_impl\u001b[0m \u001b[0;34m=\u001b[0m \u001b[0mupdate_fun\u001b[0m\u001b[0;34m\u001b[0m\u001b[0;34m\u001b[0m\u001b[0m\n",
      "\u001b[0;32m/Library/Frameworks/Python.framework/Versions/3.9/lib/python3.9/site-packages/scipy/optimize/_differentiable_functions.py\u001b[0m in \u001b[0;36mfun_wrapped\u001b[0;34m(x)\u001b[0m\n\u001b[1;32m    132\u001b[0m             \u001b[0;31m# Overwriting results in undefined behaviour because\u001b[0m\u001b[0;34m\u001b[0m\u001b[0;34m\u001b[0m\u001b[0;34m\u001b[0m\u001b[0m\n\u001b[1;32m    133\u001b[0m             \u001b[0;31m# fun(self.x) will change self.x, with the two no longer linked.\u001b[0m\u001b[0;34m\u001b[0m\u001b[0;34m\u001b[0m\u001b[0;34m\u001b[0m\u001b[0m\n\u001b[0;32m--> 134\u001b[0;31m             \u001b[0;32mreturn\u001b[0m \u001b[0mfun\u001b[0m\u001b[0;34m(\u001b[0m\u001b[0mnp\u001b[0m\u001b[0;34m.\u001b[0m\u001b[0mcopy\u001b[0m\u001b[0;34m(\u001b[0m\u001b[0mx\u001b[0m\u001b[0;34m)\u001b[0m\u001b[0;34m,\u001b[0m \u001b[0;34m*\u001b[0m\u001b[0margs\u001b[0m\u001b[0;34m)\u001b[0m\u001b[0;34m\u001b[0m\u001b[0;34m\u001b[0m\u001b[0m\n\u001b[0m\u001b[1;32m    135\u001b[0m \u001b[0;34m\u001b[0m\u001b[0m\n\u001b[1;32m    136\u001b[0m         \u001b[0;32mdef\u001b[0m \u001b[0mupdate_fun\u001b[0m\u001b[0;34m(\u001b[0m\u001b[0;34m)\u001b[0m\u001b[0;34m:\u001b[0m\u001b[0;34m\u001b[0m\u001b[0;34m\u001b[0m\u001b[0m\n",
      "\u001b[0;32m/Library/Frameworks/Python.framework/Versions/3.9/lib/python3.9/site-packages/scipy/optimize/optimize.py\u001b[0m in \u001b[0;36m__call__\u001b[0;34m(self, x, *args)\u001b[0m\n\u001b[1;32m     72\u001b[0m     \u001b[0;32mdef\u001b[0m \u001b[0m__call__\u001b[0m\u001b[0;34m(\u001b[0m\u001b[0mself\u001b[0m\u001b[0;34m,\u001b[0m \u001b[0mx\u001b[0m\u001b[0;34m,\u001b[0m \u001b[0;34m*\u001b[0m\u001b[0margs\u001b[0m\u001b[0;34m)\u001b[0m\u001b[0;34m:\u001b[0m\u001b[0;34m\u001b[0m\u001b[0;34m\u001b[0m\u001b[0m\n\u001b[1;32m     73\u001b[0m         \u001b[0;34m\"\"\" returns the the function value \"\"\"\u001b[0m\u001b[0;34m\u001b[0m\u001b[0;34m\u001b[0m\u001b[0m\n\u001b[0;32m---> 74\u001b[0;31m         \u001b[0mself\u001b[0m\u001b[0;34m.\u001b[0m\u001b[0m_compute_if_needed\u001b[0m\u001b[0;34m(\u001b[0m\u001b[0mx\u001b[0m\u001b[0;34m,\u001b[0m \u001b[0;34m*\u001b[0m\u001b[0margs\u001b[0m\u001b[0;34m)\u001b[0m\u001b[0;34m\u001b[0m\u001b[0;34m\u001b[0m\u001b[0m\n\u001b[0m\u001b[1;32m     75\u001b[0m         \u001b[0;32mreturn\u001b[0m \u001b[0mself\u001b[0m\u001b[0;34m.\u001b[0m\u001b[0m_value\u001b[0m\u001b[0;34m\u001b[0m\u001b[0;34m\u001b[0m\u001b[0m\n\u001b[1;32m     76\u001b[0m \u001b[0;34m\u001b[0m\u001b[0m\n",
      "\u001b[0;32m/Library/Frameworks/Python.framework/Versions/3.9/lib/python3.9/site-packages/scipy/optimize/optimize.py\u001b[0m in \u001b[0;36m_compute_if_needed\u001b[0;34m(self, x, *args)\u001b[0m\n\u001b[1;32m     66\u001b[0m         \u001b[0;32mif\u001b[0m \u001b[0;32mnot\u001b[0m \u001b[0mnp\u001b[0m\u001b[0;34m.\u001b[0m\u001b[0mall\u001b[0m\u001b[0;34m(\u001b[0m\u001b[0mx\u001b[0m \u001b[0;34m==\u001b[0m \u001b[0mself\u001b[0m\u001b[0;34m.\u001b[0m\u001b[0mx\u001b[0m\u001b[0;34m)\u001b[0m \u001b[0;32mor\u001b[0m \u001b[0mself\u001b[0m\u001b[0;34m.\u001b[0m\u001b[0m_value\u001b[0m \u001b[0;32mis\u001b[0m \u001b[0;32mNone\u001b[0m \u001b[0;32mor\u001b[0m \u001b[0mself\u001b[0m\u001b[0;34m.\u001b[0m\u001b[0mjac\u001b[0m \u001b[0;32mis\u001b[0m \u001b[0;32mNone\u001b[0m\u001b[0;34m:\u001b[0m\u001b[0;34m\u001b[0m\u001b[0;34m\u001b[0m\u001b[0m\n\u001b[1;32m     67\u001b[0m             \u001b[0mself\u001b[0m\u001b[0;34m.\u001b[0m\u001b[0mx\u001b[0m \u001b[0;34m=\u001b[0m \u001b[0mnp\u001b[0m\u001b[0;34m.\u001b[0m\u001b[0masarray\u001b[0m\u001b[0;34m(\u001b[0m\u001b[0mx\u001b[0m\u001b[0;34m)\u001b[0m\u001b[0;34m.\u001b[0m\u001b[0mcopy\u001b[0m\u001b[0;34m(\u001b[0m\u001b[0;34m)\u001b[0m\u001b[0;34m\u001b[0m\u001b[0;34m\u001b[0m\u001b[0m\n\u001b[0;32m---> 68\u001b[0;31m             \u001b[0mfg\u001b[0m \u001b[0;34m=\u001b[0m \u001b[0mself\u001b[0m\u001b[0;34m.\u001b[0m\u001b[0mfun\u001b[0m\u001b[0;34m(\u001b[0m\u001b[0mx\u001b[0m\u001b[0;34m,\u001b[0m \u001b[0;34m*\u001b[0m\u001b[0margs\u001b[0m\u001b[0;34m)\u001b[0m\u001b[0;34m\u001b[0m\u001b[0;34m\u001b[0m\u001b[0m\n\u001b[0m\u001b[1;32m     69\u001b[0m             \u001b[0mself\u001b[0m\u001b[0;34m.\u001b[0m\u001b[0mjac\u001b[0m \u001b[0;34m=\u001b[0m \u001b[0mfg\u001b[0m\u001b[0;34m[\u001b[0m\u001b[0;36m1\u001b[0m\u001b[0;34m]\u001b[0m\u001b[0;34m\u001b[0m\u001b[0;34m\u001b[0m\u001b[0m\n\u001b[1;32m     70\u001b[0m             \u001b[0mself\u001b[0m\u001b[0;34m.\u001b[0m\u001b[0m_value\u001b[0m \u001b[0;34m=\u001b[0m \u001b[0mfg\u001b[0m\u001b[0;34m[\u001b[0m\u001b[0;36m0\u001b[0m\u001b[0;34m]\u001b[0m\u001b[0;34m\u001b[0m\u001b[0;34m\u001b[0m\u001b[0m\n",
      "\u001b[0;32m/Library/Frameworks/Python.framework/Versions/3.9/lib/python3.9/site-packages/sklearn/neural_network/_multilayer_perceptron.py\u001b[0m in \u001b[0;36m_loss_grad_lbfgs\u001b[0;34m(self, packed_coef_inter, X, y, activations, deltas, coef_grads, intercept_grads)\u001b[0m\n\u001b[1;32m    232\u001b[0m         \"\"\"\n\u001b[1;32m    233\u001b[0m         \u001b[0mself\u001b[0m\u001b[0;34m.\u001b[0m\u001b[0m_unpack\u001b[0m\u001b[0;34m(\u001b[0m\u001b[0mpacked_coef_inter\u001b[0m\u001b[0;34m)\u001b[0m\u001b[0;34m\u001b[0m\u001b[0;34m\u001b[0m\u001b[0m\n\u001b[0;32m--> 234\u001b[0;31m         loss, coef_grads, intercept_grads = self._backprop(\n\u001b[0m\u001b[1;32m    235\u001b[0m             \u001b[0mX\u001b[0m\u001b[0;34m,\u001b[0m \u001b[0my\u001b[0m\u001b[0;34m,\u001b[0m \u001b[0mactivations\u001b[0m\u001b[0;34m,\u001b[0m \u001b[0mdeltas\u001b[0m\u001b[0;34m,\u001b[0m \u001b[0mcoef_grads\u001b[0m\u001b[0;34m,\u001b[0m \u001b[0mintercept_grads\u001b[0m\u001b[0;34m\u001b[0m\u001b[0;34m\u001b[0m\u001b[0m\n\u001b[1;32m    236\u001b[0m         )\n",
      "\u001b[0;32m/Library/Frameworks/Python.framework/Versions/3.9/lib/python3.9/site-packages/sklearn/neural_network/_multilayer_perceptron.py\u001b[0m in \u001b[0;36m_backprop\u001b[0;34m(self, X, y, activations, deltas, coef_grads, intercept_grads)\u001b[0m\n\u001b[1;32m    277\u001b[0m \u001b[0;34m\u001b[0m\u001b[0m\n\u001b[1;32m    278\u001b[0m         \u001b[0;31m# Forward propagate\u001b[0m\u001b[0;34m\u001b[0m\u001b[0;34m\u001b[0m\u001b[0;34m\u001b[0m\u001b[0m\n\u001b[0;32m--> 279\u001b[0;31m         \u001b[0mactivations\u001b[0m \u001b[0;34m=\u001b[0m \u001b[0mself\u001b[0m\u001b[0;34m.\u001b[0m\u001b[0m_forward_pass\u001b[0m\u001b[0;34m(\u001b[0m\u001b[0mactivations\u001b[0m\u001b[0;34m)\u001b[0m\u001b[0;34m\u001b[0m\u001b[0;34m\u001b[0m\u001b[0m\n\u001b[0m\u001b[1;32m    280\u001b[0m \u001b[0;34m\u001b[0m\u001b[0m\n\u001b[1;32m    281\u001b[0m         \u001b[0;31m# Get loss\u001b[0m\u001b[0;34m\u001b[0m\u001b[0;34m\u001b[0m\u001b[0;34m\u001b[0m\u001b[0m\n",
      "\u001b[0;32m/Library/Frameworks/Python.framework/Versions/3.9/lib/python3.9/site-packages/sklearn/neural_network/_multilayer_perceptron.py\u001b[0m in \u001b[0;36m_forward_pass\u001b[0;34m(self, activations)\u001b[0m\n\u001b[1;32m    129\u001b[0m         \u001b[0;32mfor\u001b[0m \u001b[0mi\u001b[0m \u001b[0;32min\u001b[0m \u001b[0mrange\u001b[0m\u001b[0;34m(\u001b[0m\u001b[0mself\u001b[0m\u001b[0;34m.\u001b[0m\u001b[0mn_layers_\u001b[0m \u001b[0;34m-\u001b[0m \u001b[0;36m1\u001b[0m\u001b[0;34m)\u001b[0m\u001b[0;34m:\u001b[0m\u001b[0;34m\u001b[0m\u001b[0;34m\u001b[0m\u001b[0m\n\u001b[1;32m    130\u001b[0m             \u001b[0mactivations\u001b[0m\u001b[0;34m[\u001b[0m\u001b[0mi\u001b[0m \u001b[0;34m+\u001b[0m \u001b[0;36m1\u001b[0m\u001b[0;34m]\u001b[0m \u001b[0;34m=\u001b[0m \u001b[0msafe_sparse_dot\u001b[0m\u001b[0;34m(\u001b[0m\u001b[0mactivations\u001b[0m\u001b[0;34m[\u001b[0m\u001b[0mi\u001b[0m\u001b[0;34m]\u001b[0m\u001b[0;34m,\u001b[0m \u001b[0mself\u001b[0m\u001b[0;34m.\u001b[0m\u001b[0mcoefs_\u001b[0m\u001b[0;34m[\u001b[0m\u001b[0mi\u001b[0m\u001b[0;34m]\u001b[0m\u001b[0;34m)\u001b[0m\u001b[0;34m\u001b[0m\u001b[0;34m\u001b[0m\u001b[0m\n\u001b[0;32m--> 131\u001b[0;31m             \u001b[0mactivations\u001b[0m\u001b[0;34m[\u001b[0m\u001b[0mi\u001b[0m \u001b[0;34m+\u001b[0m \u001b[0;36m1\u001b[0m\u001b[0;34m]\u001b[0m \u001b[0;34m+=\u001b[0m \u001b[0mself\u001b[0m\u001b[0;34m.\u001b[0m\u001b[0mintercepts_\u001b[0m\u001b[0;34m[\u001b[0m\u001b[0mi\u001b[0m\u001b[0;34m]\u001b[0m\u001b[0;34m\u001b[0m\u001b[0;34m\u001b[0m\u001b[0m\n\u001b[0m\u001b[1;32m    132\u001b[0m \u001b[0;34m\u001b[0m\u001b[0m\n\u001b[1;32m    133\u001b[0m             \u001b[0;31m# For the hidden layers\u001b[0m\u001b[0;34m\u001b[0m\u001b[0;34m\u001b[0m\u001b[0;34m\u001b[0m\u001b[0m\n",
      "\u001b[0;31mKeyboardInterrupt\u001b[0m: "
     ]
    }
   ],
   "source": [
    "# Parameters for Neural Network\n",
    "net_params = {'hidden_layer_sizes': [1, 2, 3, 4],\n",
    "             'activation': ['identity', 'logistic', 'tanh', 'relu'],\n",
    "             'solver': ['lbfgs', 'sgd', 'adam'],\n",
    "             'learning_rate': ['constant', 'invscaling', 'adaptive'],\n",
    "             'learning_rate_init': [0.001, 0.005, 0.01, 0.015]\n",
    "             'max_iter': [150, 175, 200, 225, 250]\n",
    "             }\n",
    "\n",
    "# Instantiating model\n",
    "model = MLPClassifier()\n",
    "\n",
    "# Defining a grid search for Neural Network\n",
    "gridsearch_net = GridSearchCV(estimator=model, param_grid=net_params, cv=cv_method, verbose=3, scoring=scoring, refit='accuracy', return_train_score=True)\n",
    "\n",
    "# Fitting data\n",
    "time_train_start = time()\n",
    "gridsearch_net.fit(X_full_train.values, y_full_train)\n",
    "time_train_end = time()"
   ]
  },
  {
   "cell_type": "code",
   "execution_count": 22,
   "id": "27b68f86",
   "metadata": {},
   "outputs": [
    {
     "name": "stdout",
     "output_type": "stream",
     "text": [
      "Simulation time: 142.73 seconds\n",
      "----------------------------------\n",
      "Best parameters: {'hidden_layer_sizes': 80, 'max_iter': 175}\n",
      "Best score: 56.08 %\n",
      "\n",
      "Models ranked according to accuracy\n",
      "Model with rank: 1\n",
      "Mean validation score: 0.56 (+/- 0.10)\n",
      "Params: {'hidden_layer_sizes': 80, 'max_iter': 175}\n",
      "\n",
      "Model with rank: 2\n",
      "Mean validation score: 0.56 (+/- 0.10)\n",
      "Params: {'hidden_layer_sizes': 90, 'max_iter': 175}\n",
      "\n",
      "Model with rank: 3\n",
      "Mean validation score: 0.56 (+/- 0.12)\n",
      "Params: {'hidden_layer_sizes': 80, 'max_iter': 250}\n",
      "\n"
     ]
    }
   ],
   "source": [
    "time_train = time_train_end - time_train_start\n",
    "print(\"Simulation time:\", '%.2f' % time_train, 'seconds')\n",
    "\n",
    "print(\"----------------------------------\")\n",
    "\n",
    "print(\"Best parameters:\", gridsearch_net.best_params_)\n",
    "print(\"Best score:\", '%.2f' % (gridsearch_net.best_score_ * 100), \"%\")\n",
    "\n",
    "report(gridsearch_net.cv_results_, 'accuracy', n_top=3)"
   ]
  },
  {
   "cell_type": "markdown",
   "id": "f6b47a1e",
   "metadata": {},
   "source": [
    "## Validation"
   ]
  },
  {
   "cell_type": "code",
   "execution_count": 26,
   "id": "ecfa2f57",
   "metadata": {},
   "outputs": [],
   "source": [
    "# Validation repeating and metric function\n",
    "#def validate_classifier:"
   ]
  },
  {
   "cell_type": "markdown",
   "id": "c263b7c1",
   "metadata": {},
   "source": [
    "### Decision Tree (CART)"
   ]
  },
  {
   "cell_type": "code",
   "execution_count": 73,
   "id": "d458fde9",
   "metadata": {},
   "outputs": [
    {
     "name": "stdout",
     "output_type": "stream",
     "text": [
      "Training time: 0.00 seconds\n",
      "Testing time: 0.00 seconds\n",
      "----------------------------------\n",
      "Accuracy: 58.14 %\n",
      "Precision: 52.18 %\n",
      "Recall: 58.14 %\n",
      "F1 Score: 54.45 %\n"
     ]
    },
    {
     "name": "stderr",
     "output_type": "stream",
     "text": [
      "/Library/Frameworks/Python.framework/Versions/3.9/lib/python3.9/site-packages/sklearn/metrics/_classification.py:1308: UndefinedMetricWarning: Precision is ill-defined and being set to 0.0 in labels with no predicted samples. Use `zero_division` parameter to control this behavior.\n",
      "  _warn_prf(average, modifier, msg_start, len(result))\n"
     ]
    },
    {
     "data": {
      "text/plain": [
       "<sklearn.metrics._plot.confusion_matrix.ConfusionMatrixDisplay at 0x7ff24112d5e0>"
      ]
     },
     "execution_count": 73,
     "metadata": {},
     "output_type": "execute_result"
    },
    {
     "data": {
      "image/png": "[encoded data removed]",
      "text/plain": [
       "<Figure size 432x288 with 2 Axes>"
      ]
     },
     "metadata": {
      "needs_background": "light"
     },
     "output_type": "display_data"
    }
   ],
   "source": [
    "# Instantiating model\n",
    "DT = DecisionTreeClassifier(criterion='gini', max_depth=6, min_samples_split=3, splitter='random')\n",
    "\n",
    "# Training model\n",
    "time_train_start = time()\n",
    "DT.fit(X_full_train, y_full_train)\n",
    "time_train_end = time()\n",
    "\n",
    "# Testing model\n",
    "time_test_start = time()\n",
    "y_full_pred= DT.predict(X_full_test)\n",
    "time_test_end = time()\n",
    "\n",
    "# Calculating time metrics\n",
    "time_train = time_train_end - time_train_start\n",
    "time_test = time_test_end - time_test_start\n",
    "print(\"Training time:\", '%.2f' % time_train, 'seconds')\n",
    "print(\"Testing time:\", '%.2f' % time_test, 'seconds')\n",
    "\n",
    "print(\"----------------------------------\")\n",
    "\n",
    "# Displaying scoring metrics\n",
    "print(\"Accuracy:\", '%.2f' % (accuracy_score(y_full_test, y_full_pred) * 100), '%')\n",
    "print(\"Precision:\", '%.2f' % (precision_score(y_full_test, y_full_pred, average='weighted') * 100), '%')\n",
    "print(\"Recall:\", '%.2f' % (recall_score(y_full_test, y_full_pred, average='weighted') * 100), '%')\n",
    "print(\"F1 Score:\", '%.2f' % (f1_score(y_full_test, y_full_pred, average='weighted') * 100), '%')\n",
    "\n",
    "# Displaying confusion matrix\n",
    "ConfusionMatrixDisplay.from_predictions(y_full_test, y_full_pred)"
   ]
  },
  {
   "cell_type": "markdown",
   "id": "00dbc9f7",
   "metadata": {},
   "source": [
    "### Random Forest"
   ]
  },
  {
   "cell_type": "code",
   "execution_count": 27,
   "id": "baa5fdb8",
   "metadata": {},
   "outputs": [
    {
     "name": "stdout",
     "output_type": "stream",
     "text": [
      "Training time: 0.42 seconds\n",
      "Testing time: 0.02 seconds\n",
      "----------------------------------\n",
      "Accuracy: 60.47 %\n",
      "Precision: 53.80 %\n",
      "Recall: 60.47 %\n",
      "F1 Score: 56.57 %\n"
     ]
    },
    {
     "name": "stderr",
     "output_type": "stream",
     "text": [
      "/Library/Frameworks/Python.framework/Versions/3.9/lib/python3.9/site-packages/sklearn/metrics/_classification.py:1308: UndefinedMetricWarning: Precision is ill-defined and being set to 0.0 in labels with no predicted samples. Use `zero_division` parameter to control this behavior.\n",
      "  _warn_prf(average, modifier, msg_start, len(result))\n"
     ]
    },
    {
     "data": {
      "text/plain": [
       "<sklearn.metrics._plot.confusion_matrix.ConfusionMatrixDisplay at 0x7ff23bd7fe50>"
      ]
     },
     "execution_count": 27,
     "metadata": {},
     "output_type": "execute_result"
    },
    {
     "data": {
      "image/png": "[encoded data removed]",
      "text/plain": [
       "<Figure size 432x288 with 2 Axes>"
      ]
     },
     "metadata": {
      "needs_background": "light"
     },
     "output_type": "display_data"
    }
   ],
   "source": [
    "# Instantiating model\n",
    "RF = RandomForestClassifier(criterion='entropy',\n",
    "                            max_depth=9,\n",
    "                            min_samples_split=2,\n",
    "                            n_estimators=150)\n",
    "\n",
    "# Training model\n",
    "time_train_start = time()\n",
    "RF.fit(X_full_train, y_full_train)\n",
    "time_train_end = time()\n",
    "\n",
    "# Testing model\n",
    "time_test_start = time()\n",
    "y_full_pred= RF.predict(X_full_test)\n",
    "time_test_end = time()\n",
    "\n",
    "# Calculating time metrics\n",
    "time_train = time_train_end - time_train_start\n",
    "time_test = time_test_end - time_test_start\n",
    "print(\"Training time:\", '%.2f' % time_train, 'seconds')\n",
    "print(\"Testing time:\", '%.2f' % time_test, 'seconds')\n",
    "\n",
    "print(\"----------------------------------\")\n",
    "\n",
    "# Displaying scoring metrics\n",
    "print(\"Accuracy:\", '%.2f' % (accuracy_score(y_full_test, y_full_pred) * 100), '%')\n",
    "print(\"Precision:\", '%.2f' % (precision_score(y_full_test, y_full_pred, average='weighted') * 100), '%')\n",
    "print(\"Recall:\", '%.2f' % (recall_score(y_full_test, y_full_pred, average='weighted') * 100), '%')\n",
    "print(\"F1 Score:\", '%.2f' % (f1_score(y_full_test, y_full_pred, average='weighted') * 100), '%')\n",
    "\n",
    "# Displaying confusion matrix\n",
    "ConfusionMatrixDisplay.from_predictions(y_full_test, y_full_pred)"
   ]
  },
  {
   "cell_type": "markdown",
   "id": "637b8dbd",
   "metadata": {},
   "source": [
    "### K-Nearest Neighbor"
   ]
  },
  {
   "cell_type": "code",
   "execution_count": 28,
   "id": "5c81f1e1",
   "metadata": {},
   "outputs": [
    {
     "name": "stdout",
     "output_type": "stream",
     "text": [
      "Training time: 0.00 seconds\n",
      "Testing time: 0.01 seconds\n",
      "----------------------------------\n",
      "Accuracy: 48.84 %\n",
      "Precision: 39.98 %\n",
      "Recall: 48.84 %\n",
      "F1 Score: 43.27 %\n"
     ]
    },
    {
     "name": "stderr",
     "output_type": "stream",
     "text": [
      "/Library/Frameworks/Python.framework/Versions/3.9/lib/python3.9/site-packages/sklearn/base.py:441: UserWarning: X does not have valid feature names, but KNeighborsClassifier was fitted with feature names\n",
      "  warnings.warn(\n",
      "/Library/Frameworks/Python.framework/Versions/3.9/lib/python3.9/site-packages/sklearn/metrics/_classification.py:1308: UndefinedMetricWarning: Precision is ill-defined and being set to 0.0 in labels with no predicted samples. Use `zero_division` parameter to control this behavior.\n",
      "  _warn_prf(average, modifier, msg_start, len(result))\n"
     ]
    },
    {
     "data": {
      "text/plain": [
       "<sklearn.metrics._plot.confusion_matrix.ConfusionMatrixDisplay at 0x7ff252802520>"
      ]
     },
     "execution_count": 28,
     "metadata": {},
     "output_type": "execute_result"
    },
    {
     "data": {
      "image/png": "[encoded data removed]",
      "text/plain": [
       "<Figure size 432x288 with 2 Axes>"
      ]
     },
     "metadata": {
      "needs_background": "light"
     },
     "output_type": "display_data"
    }
   ],
   "source": [
    "# Instantiating model\n",
    "KNN = KNeighborsClassifier(algorithm='brute',\n",
    "                           n_jobs=4,\n",
    "                           n_neighbors=12,\n",
    "                           p=1,\n",
    "                           weights='uniform')\n",
    "\n",
    "# Training model\n",
    "time_train_start = time()\n",
    "KNN.fit(X_full_train, y_full_train)\n",
    "time_train_end = time()\n",
    "\n",
    "# Testing model\n",
    "time_test_start = time()\n",
    "y_full_pred= KNN.predict(X_full_test)\n",
    "time_test_end = time()\n",
    "\n",
    "# Calculating time metrics\n",
    "time_train = time_train_end - time_train_start\n",
    "time_test = time_test_end - time_test_start\n",
    "print(\"Training time:\", '%.2f' % time_train, 'seconds')\n",
    "print(\"Testing time:\", '%.2f' % time_test, 'seconds')\n",
    "\n",
    "print(\"----------------------------------\")\n",
    "\n",
    "# Displaying scoring metrics\n",
    "print(\"Accuracy:\", '%.2f' % (accuracy_score(y_full_test, y_full_pred) * 100), '%')\n",
    "print(\"Precision:\", '%.2f' % (precision_score(y_full_test, y_full_pred, average='weighted') * 100), '%')\n",
    "print(\"Recall:\", '%.2f' % (recall_score(y_full_test, y_full_pred, average='weighted') * 100), '%')\n",
    "print(\"F1 Score:\", '%.2f' % (f1_score(y_full_test, y_full_pred, average='weighted') * 100), '%')\n",
    "\n",
    "# Displaying confusion matrix\n",
    "ConfusionMatrixDisplay.from_predictions(y_full_test, y_full_pred)"
   ]
  },
  {
   "cell_type": "markdown",
   "id": "0a80b52f",
   "metadata": {},
   "source": [
    "### Neural Network (MLP)"
   ]
  },
  {
   "cell_type": "code",
   "execution_count": 78,
   "id": "b5c1d542",
   "metadata": {},
   "outputs": [
    {
     "name": "stdout",
     "output_type": "stream",
     "text": [
      "Training time: 0.43 seconds\n",
      "Testing time: 0.00 seconds\n",
      "----------------------------------\n",
      "Accuracy: 58.14 %\n",
      "Precision: 51.15 %\n",
      "Recall: 58.14 %\n",
      "F1 Score: 52.42 %\n"
     ]
    },
    {
     "name": "stderr",
     "output_type": "stream",
     "text": [
      "/Library/Frameworks/Python.framework/Versions/3.9/lib/python3.9/site-packages/sklearn/metrics/_classification.py:1308: UndefinedMetricWarning: Precision is ill-defined and being set to 0.0 in labels with no predicted samples. Use `zero_division` parameter to control this behavior.\n",
      "  _warn_prf(average, modifier, msg_start, len(result))\n"
     ]
    },
    {
     "data": {
      "text/plain": [
       "<sklearn.metrics._plot.confusion_matrix.ConfusionMatrixDisplay at 0x7ff242086b20>"
      ]
     },
     "execution_count": 78,
     "metadata": {},
     "output_type": "execute_result"
    },
    {
     "data": {
      "image/png": "[encoded data removed]",
      "text/plain": [
       "<Figure size 432x288 with 2 Axes>"
      ]
     },
     "metadata": {
      "needs_background": "light"
     },
     "output_type": "display_data"
    }
   ],
   "source": [
    "# Instantiating model\n",
    "NET = MLPClassifier(max_iter=300)\n",
    "\n",
    "# Training model\n",
    "time_train_start = time()\n",
    "NET.fit(X_full_train, y_full_train)\n",
    "time_train_end = time()\n",
    "\n",
    "# Testing model\n",
    "time_test_start = time()\n",
    "y_full_pred= NET.predict(X_full_test)\n",
    "time_test_end = time()\n",
    "\n",
    "# Calculating time metrics\n",
    "time_train = time_train_end - time_train_start\n",
    "time_test = time_test_end - time_test_start\n",
    "print(\"Training time:\", '%.2f' % time_train, 'seconds')\n",
    "print(\"Testing time:\", '%.2f' % time_test, 'seconds')\n",
    "\n",
    "print(\"----------------------------------\")\n",
    "\n",
    "# Displaying scoring metrics\n",
    "print(\"Accuracy:\", '%.2f' % (accuracy_score(y_full_test, y_full_pred) * 100), '%')\n",
    "print(\"Precision:\", '%.2f' % (precision_score(y_full_test, y_full_pred, average='weighted') * 100), '%')\n",
    "print(\"Recall:\", '%.2f' % (recall_score(y_full_test, y_full_pred, average='weighted') * 100), '%')\n",
    "print(\"F1 Score:\", '%.2f' % (f1_score(y_full_test, y_full_pred, average='weighted') * 100), '%')\n",
    "\n",
    "# Displaying confusion matrix\n",
    "ConfusionMatrixDisplay.from_predictions(y_full_test, y_full_pred)"
   ]
  }
 ],
 "metadata": {
  "kernelspec": {
   "display_name": "Python 3 (ipykernel)",
   "language": "python",
   "name": "python3"
  },
  "language_info": {
   "codemirror_mode": {
    "name": "ipython",
    "version": 3
   },
   "file_extension": ".py",
   "mimetype": "text/x-python",
   "name": "python",
   "nbconvert_exporter": "python",
   "pygments_lexer": "ipython3",
   "version": "3.9.1"
  },
  "toc": {
   "base_numbering": 1,
   "nav_menu": {},
   "number_sections": true,
   "sideBar": true,
   "skip_h1_title": true,
   "title_cell": "Table of Contents",
   "title_sidebar": "Contents",
   "toc_cell": false,
   "toc_position": {
    "height": "calc(100% - 180px)",
    "left": "10px",
    "top": "150px",
    "width": "313px"
   },
   "toc_section_display": true,
   "toc_window_display": true
  }
 },
 "nbformat": 4,
 "nbformat_minor": 5
}
